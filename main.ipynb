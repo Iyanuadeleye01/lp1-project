{
 "cells": [
  {
   "cell_type": "markdown",
   "metadata": {},
   "source": []
  },
  {
   "cell_type": "markdown",
   "metadata": {},
   "source": [
    "BUSINESS OBJECTIVE OF THE ANALYSIS\n",
    "\n",
    "TO investigate the Indian Start-ups ecosystem and propose the best course of action by analyzing funding received from 2018 to 2021."
   ]
  },
  {
   "cell_type": "code",
   "execution_count": 272,
   "metadata": {},
   "outputs": [],
   "source": [
    "# Import all the necessary packages\n",
    "\n",
    "import pandas as pd\n",
    "import pyodbc\n",
    "import numpy as np\n",
    "import matplotlib.pyplot as plt\n",
    "import re\n",
    "import seaborn as sns\n",
    "from dotenv import dotenv_values\n",
    "from sklearn.impute import SimpleImputer\n",
    "from sklearn.preprocessing import LabelEncoder\n",
    "from scipy.stats import pearsonr\n",
    "import warnings\n",
    "warnings.filterwarnings('ignore')\n",
    "\n",
    "\n",
    "\n"
   ]
  },
  {
   "cell_type": "markdown",
   "metadata": {},
   "source": [
    "DATA COLLECTION"
   ]
  },
  {
   "cell_type": "code",
   "execution_count": 273,
   "metadata": {},
   "outputs": [],
   "source": [
    "# Create dotenv variable and connection variable using pyodbc\n",
    "\n",
    "environment_variable = dotenv_values('.env')\n",
    "\n",
    "server_name = environment_variable.get('server')\n",
    "username = environment_variable.get('login')\n",
    "password = environment_variable.get('password')\n",
    "database_name = environment_variable.get('database')\n",
    "\n",
    "\n",
    "connection_string = f'DRIVER={{SQL Server}};SERVER={server_name};PWD={password};DATABASE={database_name};UID={username}'\n",
    "\n",
    "connection = pyodbc.connect(connection_string)"
   ]
  },
  {
   "cell_type": "code",
   "execution_count": 274,
   "metadata": {},
   "outputs": [
    {
     "data": {
      "text/html": [
       "<div>\n",
       "<style scoped>\n",
       "    .dataframe tbody tr th:only-of-type {\n",
       "        vertical-align: middle;\n",
       "    }\n",
       "\n",
       "    .dataframe tbody tr th {\n",
       "        vertical-align: top;\n",
       "    }\n",
       "\n",
       "    .dataframe thead th {\n",
       "        text-align: right;\n",
       "    }\n",
       "</style>\n",
       "<table border=\"1\" class=\"dataframe\">\n",
       "  <thead>\n",
       "    <tr style=\"text-align: right;\">\n",
       "      <th></th>\n",
       "      <th>Company_Brand</th>\n",
       "      <th>Founded</th>\n",
       "      <th>HeadQuarter</th>\n",
       "      <th>Sector</th>\n",
       "      <th>What_it_does</th>\n",
       "      <th>Founders</th>\n",
       "      <th>Investor</th>\n",
       "      <th>Amount</th>\n",
       "      <th>Stage</th>\n",
       "      <th>column10</th>\n",
       "    </tr>\n",
       "  </thead>\n",
       "  <tbody>\n",
       "    <tr>\n",
       "      <th>0</th>\n",
       "      <td>Aqgromalin</td>\n",
       "      <td>2019.0</td>\n",
       "      <td>Chennai</td>\n",
       "      <td>AgriTech</td>\n",
       "      <td>Cultivating Ideas for Profit</td>\n",
       "      <td>Prasanna Manogaran, Bharani C L</td>\n",
       "      <td>Angel investors</td>\n",
       "      <td>200000.0</td>\n",
       "      <td>None</td>\n",
       "      <td>None</td>\n",
       "    </tr>\n",
       "    <tr>\n",
       "      <th>1</th>\n",
       "      <td>Krayonnz</td>\n",
       "      <td>2019.0</td>\n",
       "      <td>Bangalore</td>\n",
       "      <td>EdTech</td>\n",
       "      <td>An academy-guardian-scholar centric ecosystem ...</td>\n",
       "      <td>Saurabh Dixit, Gurudutt Upadhyay</td>\n",
       "      <td>GSF Accelerator</td>\n",
       "      <td>100000.0</td>\n",
       "      <td>Pre-seed</td>\n",
       "      <td>None</td>\n",
       "    </tr>\n",
       "    <tr>\n",
       "      <th>2</th>\n",
       "      <td>PadCare Labs</td>\n",
       "      <td>2018.0</td>\n",
       "      <td>Pune</td>\n",
       "      <td>Hygiene management</td>\n",
       "      <td>Converting bio-hazardous waste to harmless waste</td>\n",
       "      <td>Ajinkya Dhariya</td>\n",
       "      <td>Venture Center</td>\n",
       "      <td>NaN</td>\n",
       "      <td>Pre-seed</td>\n",
       "      <td>None</td>\n",
       "    </tr>\n",
       "    <tr>\n",
       "      <th>3</th>\n",
       "      <td>NCOME</td>\n",
       "      <td>2020.0</td>\n",
       "      <td>New Delhi</td>\n",
       "      <td>Escrow</td>\n",
       "      <td>Escrow-as-a-service platform</td>\n",
       "      <td>Ritesh Tiwari</td>\n",
       "      <td>Venture Catalysts, PointOne Capital</td>\n",
       "      <td>400000.0</td>\n",
       "      <td>None</td>\n",
       "      <td>None</td>\n",
       "    </tr>\n",
       "    <tr>\n",
       "      <th>4</th>\n",
       "      <td>Gramophone</td>\n",
       "      <td>2016.0</td>\n",
       "      <td>Indore</td>\n",
       "      <td>AgriTech</td>\n",
       "      <td>Gramophone is an AgTech platform enabling acce...</td>\n",
       "      <td>Ashish Rajan Singh, Harshit Gupta, Nishant Mah...</td>\n",
       "      <td>Siana Capital Management, Info Edge</td>\n",
       "      <td>340000.0</td>\n",
       "      <td>None</td>\n",
       "      <td>None</td>\n",
       "    </tr>\n",
       "  </tbody>\n",
       "</table>\n",
       "</div>"
      ],
      "text/plain": [
       "  Company_Brand  Founded HeadQuarter              Sector  \\\n",
       "0    Aqgromalin   2019.0     Chennai            AgriTech   \n",
       "1      Krayonnz   2019.0   Bangalore              EdTech   \n",
       "2  PadCare Labs   2018.0        Pune  Hygiene management   \n",
       "3         NCOME   2020.0   New Delhi              Escrow   \n",
       "4    Gramophone   2016.0      Indore            AgriTech   \n",
       "\n",
       "                                        What_it_does  \\\n",
       "0                       Cultivating Ideas for Profit   \n",
       "1  An academy-guardian-scholar centric ecosystem ...   \n",
       "2   Converting bio-hazardous waste to harmless waste   \n",
       "3                       Escrow-as-a-service platform   \n",
       "4  Gramophone is an AgTech platform enabling acce...   \n",
       "\n",
       "                                            Founders  \\\n",
       "0                    Prasanna Manogaran, Bharani C L   \n",
       "1                   Saurabh Dixit, Gurudutt Upadhyay   \n",
       "2                                    Ajinkya Dhariya   \n",
       "3                                      Ritesh Tiwari   \n",
       "4  Ashish Rajan Singh, Harshit Gupta, Nishant Mah...   \n",
       "\n",
       "                              Investor    Amount     Stage column10  \n",
       "0                      Angel investors  200000.0      None     None  \n",
       "1                      GSF Accelerator  100000.0  Pre-seed     None  \n",
       "2                       Venture Center       NaN  Pre-seed     None  \n",
       "3  Venture Catalysts, PointOne Capital  400000.0      None     None  \n",
       "4  Siana Capital Management, Info Edge  340000.0      None     None  "
      ]
     },
     "execution_count": 274,
     "metadata": {},
     "output_type": "execute_result"
    }
   ],
   "source": [
    "# Load data set(2020) from the SQL database \n",
    "\n",
    "query = 'SELECT * FROM dbo.LP1_startup_funding2020'\n",
    "\n",
    "data_2020 = pd.read_sql_query(query,connection)\n",
    "data_2020.head()\n"
   ]
  },
  {
   "cell_type": "code",
   "execution_count": 275,
   "metadata": {},
   "outputs": [
    {
     "data": {
      "text/plain": [
       "(1055, 10)"
      ]
     },
     "execution_count": 275,
     "metadata": {},
     "output_type": "execute_result"
    }
   ],
   "source": [
    "data_2020.shape"
   ]
  },
  {
   "cell_type": "code",
   "execution_count": 276,
   "metadata": {},
   "outputs": [
    {
     "name": "stdout",
     "output_type": "stream",
     "text": [
      "<class 'pandas.core.frame.DataFrame'>\n",
      "RangeIndex: 1055 entries, 0 to 1054\n",
      "Data columns (total 10 columns):\n",
      " #   Column         Non-Null Count  Dtype  \n",
      "---  ------         --------------  -----  \n",
      " 0   Company_Brand  1055 non-null   object \n",
      " 1   Founded        842 non-null    float64\n",
      " 2   HeadQuarter    961 non-null    object \n",
      " 3   Sector         1042 non-null   object \n",
      " 4   What_it_does   1055 non-null   object \n",
      " 5   Founders       1043 non-null   object \n",
      " 6   Investor       1017 non-null   object \n",
      " 7   Amount         801 non-null    float64\n",
      " 8   Stage          591 non-null    object \n",
      " 9   column10       2 non-null      object \n",
      "dtypes: float64(2), object(8)\n",
      "memory usage: 82.6+ KB\n"
     ]
    }
   ],
   "source": [
    "data_2020.info()"
   ]
  },
  {
   "cell_type": "code",
   "execution_count": 277,
   "metadata": {},
   "outputs": [
    {
     "data": {
      "text/html": [
       "<div>\n",
       "<style scoped>\n",
       "    .dataframe tbody tr th:only-of-type {\n",
       "        vertical-align: middle;\n",
       "    }\n",
       "\n",
       "    .dataframe tbody tr th {\n",
       "        vertical-align: top;\n",
       "    }\n",
       "\n",
       "    .dataframe thead th {\n",
       "        text-align: right;\n",
       "    }\n",
       "</style>\n",
       "<table border=\"1\" class=\"dataframe\">\n",
       "  <thead>\n",
       "    <tr style=\"text-align: right;\">\n",
       "      <th></th>\n",
       "      <th>Company_Brand</th>\n",
       "      <th>Founded</th>\n",
       "      <th>HeadQuarter</th>\n",
       "      <th>Sector</th>\n",
       "      <th>What_it_does</th>\n",
       "      <th>Founders</th>\n",
       "      <th>Investor</th>\n",
       "      <th>Amount</th>\n",
       "      <th>Stage</th>\n",
       "    </tr>\n",
       "  </thead>\n",
       "  <tbody>\n",
       "    <tr>\n",
       "      <th>0</th>\n",
       "      <td>Unbox Robotics</td>\n",
       "      <td>2019.0</td>\n",
       "      <td>Bangalore</td>\n",
       "      <td>AI startup</td>\n",
       "      <td>Unbox Robotics builds on-demand AI-driven ware...</td>\n",
       "      <td>Pramod Ghadge, Shahid Memon</td>\n",
       "      <td>BEENEXT, Entrepreneur First</td>\n",
       "      <td>$1,200,000</td>\n",
       "      <td>Pre-series A</td>\n",
       "    </tr>\n",
       "    <tr>\n",
       "      <th>1</th>\n",
       "      <td>upGrad</td>\n",
       "      <td>2015.0</td>\n",
       "      <td>Mumbai</td>\n",
       "      <td>EdTech</td>\n",
       "      <td>UpGrad is an online higher education platform.</td>\n",
       "      <td>Mayank Kumar, Phalgun Kompalli, Ravijot Chugh,...</td>\n",
       "      <td>Unilazer Ventures, IIFL Asset Management</td>\n",
       "      <td>$120,000,000</td>\n",
       "      <td>None</td>\n",
       "    </tr>\n",
       "    <tr>\n",
       "      <th>2</th>\n",
       "      <td>Lead School</td>\n",
       "      <td>2012.0</td>\n",
       "      <td>Mumbai</td>\n",
       "      <td>EdTech</td>\n",
       "      <td>LEAD School offers technology based school tra...</td>\n",
       "      <td>Smita Deorah, Sumeet Mehta</td>\n",
       "      <td>GSV Ventures, Westbridge Capital</td>\n",
       "      <td>$30,000,000</td>\n",
       "      <td>Series D</td>\n",
       "    </tr>\n",
       "    <tr>\n",
       "      <th>3</th>\n",
       "      <td>Bizongo</td>\n",
       "      <td>2015.0</td>\n",
       "      <td>Mumbai</td>\n",
       "      <td>B2B E-commerce</td>\n",
       "      <td>Bizongo is a business-to-business online marke...</td>\n",
       "      <td>Aniket Deb, Ankit Tomar, Sachin Agrawal</td>\n",
       "      <td>CDC Group, IDG Capital</td>\n",
       "      <td>$51,000,000</td>\n",
       "      <td>Series C</td>\n",
       "    </tr>\n",
       "    <tr>\n",
       "      <th>4</th>\n",
       "      <td>FypMoney</td>\n",
       "      <td>2021.0</td>\n",
       "      <td>Gurugram</td>\n",
       "      <td>FinTech</td>\n",
       "      <td>FypMoney is Digital NEO Bank for Teenagers, em...</td>\n",
       "      <td>Kapil Banwari</td>\n",
       "      <td>Liberatha Kallat, Mukesh Yadav, Dinesh Nagpal</td>\n",
       "      <td>$2,000,000</td>\n",
       "      <td>Seed</td>\n",
       "    </tr>\n",
       "  </tbody>\n",
       "</table>\n",
       "</div>"
      ],
      "text/plain": [
       "    Company_Brand  Founded HeadQuarter          Sector  \\\n",
       "0  Unbox Robotics   2019.0   Bangalore      AI startup   \n",
       "1          upGrad   2015.0      Mumbai          EdTech   \n",
       "2     Lead School   2012.0      Mumbai          EdTech   \n",
       "3         Bizongo   2015.0      Mumbai  B2B E-commerce   \n",
       "4        FypMoney   2021.0    Gurugram         FinTech   \n",
       "\n",
       "                                        What_it_does  \\\n",
       "0  Unbox Robotics builds on-demand AI-driven ware...   \n",
       "1     UpGrad is an online higher education platform.   \n",
       "2  LEAD School offers technology based school tra...   \n",
       "3  Bizongo is a business-to-business online marke...   \n",
       "4  FypMoney is Digital NEO Bank for Teenagers, em...   \n",
       "\n",
       "                                            Founders  \\\n",
       "0                        Pramod Ghadge, Shahid Memon   \n",
       "1  Mayank Kumar, Phalgun Kompalli, Ravijot Chugh,...   \n",
       "2                         Smita Deorah, Sumeet Mehta   \n",
       "3            Aniket Deb, Ankit Tomar, Sachin Agrawal   \n",
       "4                                      Kapil Banwari   \n",
       "\n",
       "                                        Investor        Amount         Stage  \n",
       "0                    BEENEXT, Entrepreneur First    $1,200,000  Pre-series A  \n",
       "1       Unilazer Ventures, IIFL Asset Management  $120,000,000          None  \n",
       "2               GSV Ventures, Westbridge Capital   $30,000,000      Series D  \n",
       "3                         CDC Group, IDG Capital   $51,000,000      Series C  \n",
       "4  Liberatha Kallat, Mukesh Yadav, Dinesh Nagpal    $2,000,000          Seed  "
      ]
     },
     "execution_count": 277,
     "metadata": {},
     "output_type": "execute_result"
    }
   ],
   "source": [
    "# Load the second data set(2021) from the SQL database connected\n",
    "\n",
    "query1 = 'SELECT * FROM dbo.LP1_startup_funding2021'\n",
    "data_2021 = pd.read_sql_query(query1,connection)\n",
    "data_2021.head()"
   ]
  },
  {
   "cell_type": "code",
   "execution_count": 278,
   "metadata": {},
   "outputs": [
    {
     "data": {
      "text/plain": [
       "(1209, 9)"
      ]
     },
     "execution_count": 278,
     "metadata": {},
     "output_type": "execute_result"
    }
   ],
   "source": [
    "data_2021.shape"
   ]
  },
  {
   "cell_type": "code",
   "execution_count": 279,
   "metadata": {},
   "outputs": [
    {
     "name": "stdout",
     "output_type": "stream",
     "text": [
      "<class 'pandas.core.frame.DataFrame'>\n",
      "RangeIndex: 1209 entries, 0 to 1208\n",
      "Data columns (total 9 columns):\n",
      " #   Column         Non-Null Count  Dtype  \n",
      "---  ------         --------------  -----  \n",
      " 0   Company_Brand  1209 non-null   object \n",
      " 1   Founded        1208 non-null   float64\n",
      " 2   HeadQuarter    1208 non-null   object \n",
      " 3   Sector         1209 non-null   object \n",
      " 4   What_it_does   1209 non-null   object \n",
      " 5   Founders       1205 non-null   object \n",
      " 6   Investor       1147 non-null   object \n",
      " 7   Amount         1206 non-null   object \n",
      " 8   Stage          781 non-null    object \n",
      "dtypes: float64(1), object(8)\n",
      "memory usage: 85.1+ KB\n"
     ]
    }
   ],
   "source": [
    "data_2021.info()"
   ]
  },
  {
   "cell_type": "code",
   "execution_count": 280,
   "metadata": {},
   "outputs": [
    {
     "data": {
      "text/html": [
       "<div>\n",
       "<style scoped>\n",
       "    .dataframe tbody tr th:only-of-type {\n",
       "        vertical-align: middle;\n",
       "    }\n",
       "\n",
       "    .dataframe tbody tr th {\n",
       "        vertical-align: top;\n",
       "    }\n",
       "\n",
       "    .dataframe thead th {\n",
       "        text-align: right;\n",
       "    }\n",
       "</style>\n",
       "<table border=\"1\" class=\"dataframe\">\n",
       "  <thead>\n",
       "    <tr style=\"text-align: right;\">\n",
       "      <th></th>\n",
       "      <th>Company Name</th>\n",
       "      <th>Industry</th>\n",
       "      <th>Round/Series</th>\n",
       "      <th>Amount</th>\n",
       "      <th>Location</th>\n",
       "      <th>About Company</th>\n",
       "    </tr>\n",
       "  </thead>\n",
       "  <tbody>\n",
       "    <tr>\n",
       "      <th>0</th>\n",
       "      <td>TheCollegeFever</td>\n",
       "      <td>Brand Marketing, Event Promotion, Marketing, S...</td>\n",
       "      <td>Seed</td>\n",
       "      <td>250000</td>\n",
       "      <td>Bangalore, Karnataka, India</td>\n",
       "      <td>TheCollegeFever is a hub for fun, fiesta and f...</td>\n",
       "    </tr>\n",
       "    <tr>\n",
       "      <th>1</th>\n",
       "      <td>Happy Cow Dairy</td>\n",
       "      <td>Agriculture, Farming</td>\n",
       "      <td>Seed</td>\n",
       "      <td>₹40,000,000</td>\n",
       "      <td>Mumbai, Maharashtra, India</td>\n",
       "      <td>A startup which aggregates milk from dairy far...</td>\n",
       "    </tr>\n",
       "    <tr>\n",
       "      <th>2</th>\n",
       "      <td>MyLoanCare</td>\n",
       "      <td>Credit, Financial Services, Lending, Marketplace</td>\n",
       "      <td>Series A</td>\n",
       "      <td>₹65,000,000</td>\n",
       "      <td>Gurgaon, Haryana, India</td>\n",
       "      <td>Leading Online Loans Marketplace in India</td>\n",
       "    </tr>\n",
       "    <tr>\n",
       "      <th>3</th>\n",
       "      <td>PayMe India</td>\n",
       "      <td>Financial Services, FinTech</td>\n",
       "      <td>Angel</td>\n",
       "      <td>2000000</td>\n",
       "      <td>Noida, Uttar Pradesh, India</td>\n",
       "      <td>PayMe India is an innovative FinTech organizat...</td>\n",
       "    </tr>\n",
       "    <tr>\n",
       "      <th>4</th>\n",
       "      <td>Eunimart</td>\n",
       "      <td>E-Commerce Platforms, Retail, SaaS</td>\n",
       "      <td>Seed</td>\n",
       "      <td>—</td>\n",
       "      <td>Hyderabad, Andhra Pradesh, India</td>\n",
       "      <td>Eunimart is a one stop solution for merchants ...</td>\n",
       "    </tr>\n",
       "  </tbody>\n",
       "</table>\n",
       "</div>"
      ],
      "text/plain": [
       "      Company Name                                           Industry  \\\n",
       "0  TheCollegeFever  Brand Marketing, Event Promotion, Marketing, S...   \n",
       "1  Happy Cow Dairy                               Agriculture, Farming   \n",
       "2       MyLoanCare   Credit, Financial Services, Lending, Marketplace   \n",
       "3      PayMe India                        Financial Services, FinTech   \n",
       "4         Eunimart                 E-Commerce Platforms, Retail, SaaS   \n",
       "\n",
       "  Round/Series       Amount                          Location  \\\n",
       "0         Seed       250000       Bangalore, Karnataka, India   \n",
       "1         Seed  ₹40,000,000        Mumbai, Maharashtra, India   \n",
       "2     Series A  ₹65,000,000           Gurgaon, Haryana, India   \n",
       "3        Angel      2000000       Noida, Uttar Pradesh, India   \n",
       "4         Seed            —  Hyderabad, Andhra Pradesh, India   \n",
       "\n",
       "                                       About Company  \n",
       "0  TheCollegeFever is a hub for fun, fiesta and f...  \n",
       "1  A startup which aggregates milk from dairy far...  \n",
       "2          Leading Online Loans Marketplace in India  \n",
       "3  PayMe India is an innovative FinTech organizat...  \n",
       "4  Eunimart is a one stop solution for merchants ...  "
      ]
     },
     "execution_count": 280,
     "metadata": {},
     "output_type": "execute_result"
    }
   ],
   "source": [
    "# Load the third data set(2018) directly from a csv file\n",
    "data_2018 = pd.read_csv('startup_funding2018.csv')\n",
    "data_2018.head()"
   ]
  },
  {
   "cell_type": "code",
   "execution_count": 281,
   "metadata": {},
   "outputs": [
    {
     "data": {
      "text/plain": [
       "(526, 6)"
      ]
     },
     "execution_count": 281,
     "metadata": {},
     "output_type": "execute_result"
    }
   ],
   "source": [
    "data_2018.shape"
   ]
  },
  {
   "cell_type": "code",
   "execution_count": 282,
   "metadata": {},
   "outputs": [
    {
     "name": "stdout",
     "output_type": "stream",
     "text": [
      "<class 'pandas.core.frame.DataFrame'>\n",
      "RangeIndex: 526 entries, 0 to 525\n",
      "Data columns (total 6 columns):\n",
      " #   Column         Non-Null Count  Dtype \n",
      "---  ------         --------------  ----- \n",
      " 0   Company Name   526 non-null    object\n",
      " 1   Industry       526 non-null    object\n",
      " 2   Round/Series   526 non-null    object\n",
      " 3   Amount         526 non-null    object\n",
      " 4   Location       526 non-null    object\n",
      " 5   About Company  526 non-null    object\n",
      "dtypes: object(6)\n",
      "memory usage: 24.8+ KB\n"
     ]
    }
   ],
   "source": [
    "data_2018.info()"
   ]
  },
  {
   "cell_type": "code",
   "execution_count": 283,
   "metadata": {},
   "outputs": [
    {
     "data": {
      "text/html": [
       "<div>\n",
       "<style scoped>\n",
       "    .dataframe tbody tr th:only-of-type {\n",
       "        vertical-align: middle;\n",
       "    }\n",
       "\n",
       "    .dataframe tbody tr th {\n",
       "        vertical-align: top;\n",
       "    }\n",
       "\n",
       "    .dataframe thead th {\n",
       "        text-align: right;\n",
       "    }\n",
       "</style>\n",
       "<table border=\"1\" class=\"dataframe\">\n",
       "  <thead>\n",
       "    <tr style=\"text-align: right;\">\n",
       "      <th></th>\n",
       "      <th>Company/Brand</th>\n",
       "      <th>Founded</th>\n",
       "      <th>HeadQuarter</th>\n",
       "      <th>Sector</th>\n",
       "      <th>What it does</th>\n",
       "      <th>Founders</th>\n",
       "      <th>Investor</th>\n",
       "      <th>Amount($)</th>\n",
       "      <th>Stage</th>\n",
       "    </tr>\n",
       "  </thead>\n",
       "  <tbody>\n",
       "    <tr>\n",
       "      <th>0</th>\n",
       "      <td>Bombay Shaving</td>\n",
       "      <td>NaN</td>\n",
       "      <td>NaN</td>\n",
       "      <td>Ecommerce</td>\n",
       "      <td>Provides a range of male grooming products</td>\n",
       "      <td>Shantanu Deshpande</td>\n",
       "      <td>Sixth Sense Ventures</td>\n",
       "      <td>$6,300,000</td>\n",
       "      <td>NaN</td>\n",
       "    </tr>\n",
       "    <tr>\n",
       "      <th>1</th>\n",
       "      <td>Ruangguru</td>\n",
       "      <td>2014.0</td>\n",
       "      <td>Mumbai</td>\n",
       "      <td>Edtech</td>\n",
       "      <td>A learning platform that provides topic-based ...</td>\n",
       "      <td>Adamas Belva Syah Devara, Iman Usman.</td>\n",
       "      <td>General Atlantic</td>\n",
       "      <td>$150,000,000</td>\n",
       "      <td>Series C</td>\n",
       "    </tr>\n",
       "    <tr>\n",
       "      <th>2</th>\n",
       "      <td>Eduisfun</td>\n",
       "      <td>NaN</td>\n",
       "      <td>Mumbai</td>\n",
       "      <td>Edtech</td>\n",
       "      <td>It aims to make learning fun via games.</td>\n",
       "      <td>Jatin Solanki</td>\n",
       "      <td>Deepak Parekh, Amitabh Bachchan, Piyush Pandey</td>\n",
       "      <td>$28,000,000</td>\n",
       "      <td>Fresh funding</td>\n",
       "    </tr>\n",
       "    <tr>\n",
       "      <th>3</th>\n",
       "      <td>HomeLane</td>\n",
       "      <td>2014.0</td>\n",
       "      <td>Chennai</td>\n",
       "      <td>Interior design</td>\n",
       "      <td>Provides interior designing solutions</td>\n",
       "      <td>Srikanth Iyer, Rama Harinath</td>\n",
       "      <td>Evolvence India Fund (EIF), Pidilite Group, FJ...</td>\n",
       "      <td>$30,000,000</td>\n",
       "      <td>Series D</td>\n",
       "    </tr>\n",
       "    <tr>\n",
       "      <th>4</th>\n",
       "      <td>Nu Genes</td>\n",
       "      <td>2004.0</td>\n",
       "      <td>Telangana</td>\n",
       "      <td>AgriTech</td>\n",
       "      <td>It is a seed company engaged in production, pr...</td>\n",
       "      <td>Narayana Reddy Punyala</td>\n",
       "      <td>Innovation in Food and Agriculture (IFA)</td>\n",
       "      <td>$6,000,000</td>\n",
       "      <td>NaN</td>\n",
       "    </tr>\n",
       "  </tbody>\n",
       "</table>\n",
       "</div>"
      ],
      "text/plain": [
       "    Company/Brand  Founded HeadQuarter           Sector  \\\n",
       "0  Bombay Shaving      NaN         NaN        Ecommerce   \n",
       "1       Ruangguru   2014.0      Mumbai           Edtech   \n",
       "2        Eduisfun      NaN      Mumbai           Edtech   \n",
       "3        HomeLane   2014.0     Chennai  Interior design   \n",
       "4        Nu Genes   2004.0   Telangana         AgriTech   \n",
       "\n",
       "                                        What it does  \\\n",
       "0         Provides a range of male grooming products   \n",
       "1  A learning platform that provides topic-based ...   \n",
       "2            It aims to make learning fun via games.   \n",
       "3              Provides interior designing solutions   \n",
       "4  It is a seed company engaged in production, pr...   \n",
       "\n",
       "                                Founders  \\\n",
       "0                     Shantanu Deshpande   \n",
       "1  Adamas Belva Syah Devara, Iman Usman.   \n",
       "2                          Jatin Solanki   \n",
       "3           Srikanth Iyer, Rama Harinath   \n",
       "4                 Narayana Reddy Punyala   \n",
       "\n",
       "                                            Investor     Amount($)  \\\n",
       "0                               Sixth Sense Ventures    $6,300,000   \n",
       "1                                   General Atlantic  $150,000,000   \n",
       "2     Deepak Parekh, Amitabh Bachchan, Piyush Pandey   $28,000,000   \n",
       "3  Evolvence India Fund (EIF), Pidilite Group, FJ...   $30,000,000   \n",
       "4           Innovation in Food and Agriculture (IFA)    $6,000,000   \n",
       "\n",
       "           Stage  \n",
       "0            NaN  \n",
       "1       Series C  \n",
       "2  Fresh funding  \n",
       "3       Series D  \n",
       "4            NaN  "
      ]
     },
     "execution_count": 283,
     "metadata": {},
     "output_type": "execute_result"
    }
   ],
   "source": [
    "# Load the fouth data set(2019) from csv file\n",
    "\n",
    "data_2019 = pd.read_csv('startup_funding2019.csv')\n",
    "data_2019.head()"
   ]
  },
  {
   "cell_type": "code",
   "execution_count": 284,
   "metadata": {},
   "outputs": [
    {
     "data": {
      "text/plain": [
       "(89, 9)"
      ]
     },
     "execution_count": 284,
     "metadata": {},
     "output_type": "execute_result"
    }
   ],
   "source": [
    "data_2019.shape"
   ]
  },
  {
   "cell_type": "code",
   "execution_count": 285,
   "metadata": {},
   "outputs": [
    {
     "name": "stdout",
     "output_type": "stream",
     "text": [
      "<class 'pandas.core.frame.DataFrame'>\n",
      "RangeIndex: 89 entries, 0 to 88\n",
      "Data columns (total 9 columns):\n",
      " #   Column         Non-Null Count  Dtype  \n",
      "---  ------         --------------  -----  \n",
      " 0   Company/Brand  89 non-null     object \n",
      " 1   Founded        60 non-null     float64\n",
      " 2   HeadQuarter    70 non-null     object \n",
      " 3   Sector         84 non-null     object \n",
      " 4   What it does   89 non-null     object \n",
      " 5   Founders       86 non-null     object \n",
      " 6   Investor       89 non-null     object \n",
      " 7   Amount($)      89 non-null     object \n",
      " 8   Stage          43 non-null     object \n",
      "dtypes: float64(1), object(8)\n",
      "memory usage: 6.4+ KB\n"
     ]
    }
   ],
   "source": [
    "data_2019.info()"
   ]
  },
  {
   "cell_type": "markdown",
   "metadata": {},
   "source": [
    "ANALYSIS QUESTIONS\n",
    "1. How many company brands received funding between 2018 and 2021?\n",
    "2. What is the total amount raised by startups from 2018 to 2021?\n",
    "3. How many startups are located in various headquarters?\n",
    "4. Which sector group received the highest funding?\n"
   ]
  },
  {
   "cell_type": "markdown",
   "metadata": {},
   "source": [
    "HYPOTHESIS\n",
    "Null hypothesis: There is no significant relationship between funding amount and headquarter/location.\n",
    "\n",
    "Alternate hypothesis: There is a significant relationship between funding amount and headquarter/location."
   ]
  },
  {
   "cell_type": "markdown",
   "metadata": {},
   "source": [
    "DATA CLEANING AND PREPROCESSING"
   ]
  },
  {
   "cell_type": "markdown",
   "metadata": {},
   "source": [
    "Checking for inconsistencies in data_2020"
   ]
  },
  {
   "cell_type": "code",
   "execution_count": 286,
   "metadata": {},
   "outputs": [
    {
     "data": {
      "text/plain": [
       "array(['Aqgromalin', 'Krayonnz', 'PadCare Labs', 'NCOME', 'Gramophone',\n",
       "       'qZense', 'MyClassboard', 'Metvy', 'Rupeek', 'Gig India',\n",
       "       'Slurrp Farm', 'Medfin', 'MasterG', 'Brila 91', 'FoodyBuddy',\n",
       "       'Zomato', 'OurEye.ai', 'Shiprocket', 'Pine Labs',\n",
       "       'Moneyboxx Finance', 'EWar', 'SucSEED Indovation', 'TaxBuddy.com',\n",
       "       'Awign Enterprises', 'Circle of Angels', 'CoinDCX', 'Glance',\n",
       "       'VerSe Innovation', 'Voosh', 'Delhivery', 'Arya', 'Pickrr',\n",
       "       'PhonePe', 'Countingwell', 'Callify.ai', 'Hudle', 'Cover it Up',\n",
       "       'BiteSpeed', 'WakeFit', 'Sreyas Holistic Remedies', 'Fleeca India',\n",
       "       'M1xchange', 'Exotel', 'PagarBook', 'PointOne Capital', 'Ayana',\n",
       "       'Fisdom', 'Tinker Coders', 'Infinite Uptime', 'HappyLocate',\n",
       "       'Loop Health', 'NeoDocs', 'The ePlane', 'TagMango', 'The New Shop',\n",
       "       'MobiKwik', 'DebugsBunny', 'BHIVE Investech', 'Rivigo', 'ZipLoan',\n",
       "       'Swipez', 'Humus', 'Artivatic.ai', 'Prescinto', 'Toppeq',\n",
       "       'Bolo Indya', 'Bombay Play', 'FreshToHome', 'KIKO TV',\n",
       "       'Atomberg Technologies', 'DealShare', 'Smallcase', 'CueMath',\n",
       "       'Gamerji', '5C Network', 'Ethereum Push Notification Service',\n",
       "       'Mihup', 'RuralBasket', 'WayCool Foods', 'Infra.Market',\n",
       "       'Info Edge Venture', 'Clovia', 'Codingal', 'CRED',\n",
       "       'Vistaar Finance', \"Let's Dive\", 'Habitat', 'SAWO Labs', 'Signzy',\n",
       "       'KopyKitab', 'Kyt', 'Raskik', 'GetWork',\n",
       "       'Mobile Premier League (MPL)', 'Pravasirojgar', 'Omatra Hotels',\n",
       "       'Awign', 'NewsReach', 'Cashfree', 'Credgenics', 'GeoIQ',\n",
       "       'Country Delight', 'Quintype', 'CARS24', 'Astrogate Labs',\n",
       "       'Power Gummies', 'Cityflo', 'AlgoBulls', 'Inntot', 'Ensuredit',\n",
       "       'Shipsy', 'ERPNext', 'LightSpeedAI', 'Grip Invest', 'Unacademy',\n",
       "       'Yellow Classes', 'Plum', 'STAGE', 'Nykaa', 'Kaagaz Scanner',\n",
       "       'NIRA', 'Prolixr', \"Byju's\", 'DaMENSCH', 'SignalX', 'Lancify',\n",
       "       'Krimanshi', 'Instoried', 'PlayerzPot', 'Instamojo', 'Turtlemint',\n",
       "       'Arata', 'MPL', 'True Balance', 'Thrive', 'Kitchens Centre',\n",
       "       'Prescribe', 'Nepra', 'inFeedo', 'Shilpa Sciences', 'Arzooo',\n",
       "       'MindTickle', 'Slice', 'Rapawalk', \"Oga Fit's\", 'LAVAL',\n",
       "       'Stride Ventures', 'BlackSoil', 'Biocon', 'Clientjoy',\n",
       "       'Xpressbees', 'GalaxyCard', 'Wellness Forever', 'MoooFarm',\n",
       "       'BitClass', 'Gonuts', 'Uolo', 'Kirana King', 'Jade Forest',\n",
       "       'iKure', 'FrontRow', 'Reliance Retail', 'TUBBR', 'Ather Energy',\n",
       "       'Routematic', 'LivFin', 'Universal Sportsbiz Pvt Ltd',\n",
       "       'Lattu Kids', 'Eggoz', 'Steradian Semiconductors', 'CHARGE+ZONE',\n",
       "       'Stones2milestones', 'Udacity', 'AjnaLens', 'Gully Network',\n",
       "       'TurboHire', 'Traya', 'Charcoal Eats', 'Mitron TV', 'Svami',\n",
       "       'Dhurnia', 'Expertrons', 'Leena AI', 'Bizlog', 'Tamasha.live',\n",
       "       'Fedo', 'FabHotels', 'Freshokartz', 'FlexiLoans', 'Agrix',\n",
       "       'BharatAgri', 'FreshtoHome', 'Credable', 'Railofy',\n",
       "       'Finova Capital', 'Teachmint', 'Peel-Works', 'Janani',\n",
       "       'Finelistings', 'Wellversed', 'Jumbotail', 'Winzo', 'mCaffeine',\n",
       "       'Pocket FM', 'Snackible', 'TagZ Foods', 'Genius Teacher',\n",
       "       'Krimanshi Feeds', 'Origo', 'GetVantage', 'Betterplace', 'Biddano',\n",
       "       'InVideo', 'Hubilo', 'BASIC Home Loan', 'Ketos', 'SUGAR cosmetics',\n",
       "       'Ahaguru', 'Tekion', 'Brighteye Ventures', 'EzeRx', 'VitalTech',\n",
       "       'Ultraviolette Automotive', 'Tring', 'Rare Planet', 'GoodGamer',\n",
       "       'InnAccel', 'Tiliter', 'Slintel', 'SoOLEGAL', 'HobSpace',\n",
       "       'Supplynote', 'Hire Me Car', 'ShopUp', 'Harmonizer India',\n",
       "       'Dukaan', 'CredR', 'Satyukt', 'RACEnergy', 'TREAD', 'Anveshan',\n",
       "       'TeaMonk', 'Fleetx', 'ReNEWate', 'Tango Eye', 'Avataa Me',\n",
       "       'Arrival', 'Cover Genius', 'Phononic Vibes', 'MikeLegal', 'Clair',\n",
       "       'Gourmet Garden', 'Miko', 'Razorpay', 'Ninjacart', 'Wow! Momo',\n",
       "       'Pepper Content', 'LIVSPACE', 'Acculi Labs', 'Your MD', 'Antaios',\n",
       "       'Unnati', 'Disprz', 'Uni', 'Credit Wise Capital', 'Chargebee',\n",
       "       'Reliance Retail Ventures Ltd', 'Winuall', 'Genrobotics', 'Livve',\n",
       "       'Ergos', 'Krishitantra', 'PakkaProfile', 'Monet Networks',\n",
       "       'Unocoin', 'Pesto', 'NirogStreet', 'Bambrew', 'Omnify',\n",
       "       'Fanball XI', 'Treebo Hotels', 'GPS Renewables', 'Public',\n",
       "       'Legal Salah', 'FanPlay', 'ECOSTP', 'Coralogix', 'Equiwatt',\n",
       "       'Reliance Retail Ventures', 'Zhangmen', 'AgroWave',\n",
       "       'Sapio Analytics', 'Taimei', 'Avanse Financial Services',\n",
       "       'Industry Buying', 'Hopscotch', 'Pristyn Care', 'WoodenStreet',\n",
       "       'ACKO', 'Farmers Fresh Zone', 'Invento', 'Infurnia',\n",
       "       \"AnalytIQSports's SuperCric\", 'Snowflake', 'GenieTalk',\n",
       "       'Classplus', 'Mobile Premier League', 'Fourth Partner Energy',\n",
       "       'Flipkart', 'Vivriti Capital', 'InsuranceDekho', 'BestDoc',\n",
       "       'Byju’s', 'Melorra', 'Reliance', 'Inflexor Ventures', 'Pandorum',\n",
       "       'SpeakIn', 'LetsUp', 'Newsreach', 'Dream11', 'JetSynthesys',\n",
       "       'Vesta Space Technology', 'Dozee', 'Rebel Foods', 'Ketto',\n",
       "       'Suryoday', 'SucSEED', 'Strata', '3one4 Capital', 'WE-Hub',\n",
       "       'Vicara', 'Gaana', 'EM3 Agri', 'Odwen', 'Fasal', 'Trukky',\n",
       "       'BankBazaar', 'Specsmakers', 'Grinntech', 'CreditMantri',\n",
       "       'Chai Waale', 'Deepsync', 'ConnectedH', 'QShala', 'Pitstop',\n",
       "       'Customfit ai', 'Nirmata', 'Oga Fit', 'ShipsKart', 'SquadStack',\n",
       "       'Financepeer', 'Cashify', 'Etrio', 'Codeyoung', 'StayQrious',\n",
       "       'Sunstone Eduversity', 'Infilect', 'MobiGarage', 'Samunnati',\n",
       "       'WeInnovate Biosolutions', 'Yummy Corp', 'Clairvolex', 'Assiduus',\n",
       "       'Brinton', 'AFK Gaming', 'Infarm', 'Zuper', 'Origa',\n",
       "       'GullyBuy Software', 'Recordent', 'Penny', 'Onsitego', 'Precily',\n",
       "       'SmartClean', 'ClanConnect', 'Servify', 'ShareChat', 'Rephrase.ai',\n",
       "       'EkAnek', 'Cub McPaws', 'Zimyo', 'PumPumPum', 'Burgerama',\n",
       "       'Moms Co', 'DillyHub', 'FPL Technologies', 'FITTR', 'Illumnus',\n",
       "       'CashKaro', 'Newton School', 'Airmeet', 'Observe ai', 'InCred',\n",
       "       'Toppr', 'CarTrade', 'LEAD School', 'Lido Learning', 'Apna.co',\n",
       "       'Quintype Technologies', 'Dunzo', 'Entropik', 'Livspace', 'WinZO',\n",
       "       'SenseHawk', 'Eloelo', 'Aibono', 'BuildPan', 'Homelane', 'MyGlamm',\n",
       "       'Aviom', 'Flinto', 'WayCool', 'YAP', 'Big Bang Boom Solutions',\n",
       "       'GUVI', 'BluSmart', 'Cell Propulsion', 'Spoonshot', 'Pulse',\n",
       "       'Groww', 'i3 Systems', 'SOAL', 'OckyPocky', 'Hippo Video',\n",
       "       'Hasura', 'Qapita', 'Sunday', 'Gamezop', 'Phool.co',\n",
       "       'Chiratae Ventures', 'MedLife', 'IDfy', 'Bira91', 'Max wholesale',\n",
       "       'Craftsvilla', 'MechMocha', 'Mindhouse', 'DeepSync', 'Eruditus',\n",
       "       'Gradeup', 'Tracxn', 'Purple Style Labs', 'ProPhysio',\n",
       "       'Flickstree', 'Settl', 'Fanspole', 'Sarva', 'Univ.ai', 'PurohitJi',\n",
       "       'CredoLab', 'Brick&Bolt', '6Degree', 'Exprs', 'Bikayi',\n",
       "       'Virtual Forest', 'The Health company', 'TrulyMadly Matchmakers',\n",
       "       'TrueFan', 'Avail Finance', 'The Money Club', 'Virohan', 'OneCode',\n",
       "       'Verloop.io', 'Otipy', 'Evage', 'Trell', 'Captain Fresh', 'Pixxel',\n",
       "       'Habbit Health', 'SmarterBiz', 'Able Jobs', 'Vieroots',\n",
       "       'Stack Finance', 'Masai School', 'Mitron', 'Daalchini',\n",
       "       'Suno India', 'LendingKart', 'Text Mercato', 'Eden Smart Homes',\n",
       "       'GrayQuest', 'BigHaat', 'CityCash', 'HomeLane', 'HungerBox',\n",
       "       'DaveAI', 'Eduvanz', 'DocSumo', 'CUSMAT', 'Chingari',\n",
       "       'Data Sutram', 'Wobot Intelligence', 'DrinkPrime', 'Infeedo',\n",
       "       'Probus Smart Things', 'CrowdPouch', 'Hevo', 'BigSpoon Foods',\n",
       "       'DatStop', 'IPHM Services', 'Wellcure', 'VilCart', 'Firescore',\n",
       "       'BulBul', 'Pickright Technologies', 'Muse Wearables',\n",
       "       'SATYA Microcapital', 'WYN Studio', 'Entri', 'Snack Amor',\n",
       "       'MPowered', 'Leap Club', 'Gigforce', 'Vegrow', 'Finn', 'Bijnis',\n",
       "       'iNurture', 'StyleDotMe', 'Ripsey', 'ThriveFNC', 'Vedantu',\n",
       "       'Magicpin', 'Procol', 'Yumlane', 'Crio', 'Openapp',\n",
       "       'uFony Services Pvt ltd', 'Protinus Fashion Networking Pvt Ltd',\n",
       "       'Uable', 'ParkSmart', 'IncNut Digital', 'GigIndia', 'Specsmaker',\n",
       "       'Piggy Ride', 'NOTO', 'Cuemath', 'Cars24', 'Earth Energy EV',\n",
       "       'Green Cure', 'Blue Sky Analytics', 'Edhusk', 'Decentro',\n",
       "       'Zolostays', 'Frontier Markets', 'Brainwired', 'Aye Finance',\n",
       "       'Paper Boat', 'Ken42', 'Forbidden Foods', 'Universal Sportsbiz',\n",
       "       'Gobbly', 'Aerostrovilos', 'Bulk MRO', 'Inspektlabs', 'Zetwerk',\n",
       "       'ChitMonks', 'Walrus', 'Arth Designbuild', 'goDutch', 'Rusk Media',\n",
       "       'Bold Care', 'Samosa Party', 'High Street Essentials', 'Fullife',\n",
       "       'Oziva', 'Aether Biomedical', '91springboard', 'Yulu',\n",
       "       'Milkbasket', 'MergerDomo', 'GoMechanic', 'Milk Mantra', 'Myglamm',\n",
       "       'Drishti Technologies', 'Instasolv', 'GoldenPi', 'Peppermint',\n",
       "       'Jai Kisan', 'Agro2o', 'LetsTransport', 'GabbarDeals',\n",
       "       'Crimson Healthcare', 'Biomoneta', 'Edvizo', 'Drum Food',\n",
       "       'Innoviti', 'Jiffy ai', 'Postman', 'F5', 'Waycool',\n",
       "       'Myelin Foundry', 'Ameliorate Biotech', 'Hapramp', 'MyKaam',\n",
       "       'HealthPlix', 'YoloBus', 'iNurture Education', 'Pocket52',\n",
       "       'QuaQua', 'Crofarm', 'Timios', 'Wooden Street', 'Rentmojo',\n",
       "       'Credgencies', 'Knorish', 'Vahak', 'Nutrova', 'Cube Wealth',\n",
       "       'IVF Access', 'Hoi Foods', 'Ola Financial Services', 'Awifs',\n",
       "       'Swiflearn', 'Remedo', 'Blowhorn', 'Toch', 'Gram Cover',\n",
       "       'Coin DCX', 'HomeCapital', 'Euler Motors', 'Riskcovry',\n",
       "       'NWNT (No Worry No Tension Healthcare)', 'Voicezen',\n",
       "       'Credit Mantri', 'Xtracap', 'Vakilsearch', 'Khatabook',\n",
       "       'Indian School Finance Company', 'Juicy Chemistry', 'DeepTek',\n",
       "       'Stepathlon Lifestyle', 'Sindhuja Microcredit',\n",
       "       'Tesco Charge Zone', 'Intello Labs', 'SirionLabs', 'GroCurv',\n",
       "       'Refrens', 'Spyne', 'Docsapp', 'Phable', 'Generic Aadhaar', 'Nium',\n",
       "       'Mintoak', 'VestSpace', 'Blackbuck', 'Vernacular ai', 'Clover',\n",
       "       'Varthana', 'Codeninja', 'MetaMerphoSys', 'Rooter', 'Aker Foods',\n",
       "       'Sascan Meditech pvt ltd', 'DailyHunt', 'Pratilipi',\n",
       "       'Biryani By Kilo', 'Consure Medical', 'Tessol', 'News Reach',\n",
       "       'RoomSoom', 'Pedagogy', 'Medlife', 'Qin1', 'MYSUN', 'ShopX',\n",
       "       'NewsBytes', 'Wagonfly', 'Convosight', 'Fittr', 'AsknBid',\n",
       "       'Finaureus Technologies', 'Daily Ninja',\n",
       "       'Guvi Geek Network Pvt Ltd', 'LoadShare', 'Indusface', 'DMI Group',\n",
       "       'Spintly', 'Credr', 'Bijak', 'Bugworks', 'Yap', 'UzhavarBumi',\n",
       "       'Tattva', 'Pariksha', 'NoBroker', 'Box8', 'Capital Float',\n",
       "       'ITILITE', 'Morning Context', 'Aavenir', 'Savvy Co op', 'BLive',\n",
       "       'Yellow Messenger', 'Ewar', 'Setu', 'Wellthy Therapeutics',\n",
       "       'Locale ai', 'FarEye', 'Porter', 'SugarBox', 'Big Basket', 'Amica',\n",
       "       'Fingerlix', 'Plop', 'Zupee', 'DeHaat', 'Swiggy', 'Akna Medical',\n",
       "       'RaRa Delivery', 'JusPay', 'Obviously AI', 'Fingpay', 'Recko',\n",
       "       'Furlenco', 'Mera Cashier', 'Camp K12', 'MedGenome', 'Samadhan',\n",
       "       'SaScan', 'CureFit', 'Nimesa', 'Design X', 'Driftly Electric',\n",
       "       'Imstrong', 'Rupifi', 'SnackAmor', 'Zealthy', 'NuNu TV', 'QTalk',\n",
       "       'Shadez', 'Excess2Sell', 'Stanplus', 'Univariety', 'Peel Works',\n",
       "       'CoreStack', 'Agnikul', 'Fintso', 'Smart Coin', 'ZunRoof',\n",
       "       'Shop101', 'OM Bhakti', 'Lal10', 'Anaxee Digital Runner',\n",
       "       'CollegeKhabri', 'Ola Electric', 'Multi Living', 'FamPay',\n",
       "       'UnboxRobotics Labs', 'Karbon Card', 'Innerchef', 'Epigamia',\n",
       "       'StyleNook', 'Callido Learning', 'Soxytoes', 'Salesken',\n",
       "       'Leap Finance', 'Sleepy Owl', 'Tricog', 'GogoBus',\n",
       "       'Spaciya Consultants', 'Bounce', 'Neeman', 'Chqbook', 'SMEcorner',\n",
       "       'Oda Class', 'Spinny', 'goStops', 'Umeed Housing', 'Vogo',\n",
       "       'Flick Stree', 'Qure ai', 'MinionLabs', 'Josh Talks',\n",
       "       'PhoneParLoan', 'RailYatri', 'Pepper', 'iMerit', 'BharatPe',\n",
       "       'Invideo', 'AvalonMeta', 'Near Store', 'ElecTorq',\n",
       "       'Prayaan Capital', 'Sanfe', 'Go Desi', 'Whatfix', 'Zvesta',\n",
       "       'Digit Insurance', 'Yolo', 'SmartVizX', 'MaxWholesale',\n",
       "       'Carbon Clean', 'Genius Corner', 'PlanetSpark', 'CamCom', 'Simsim',\n",
       "       'Shuttl', 'HooLiv', 'ClassMonitor', 'Friyey', 'Oga', 'CYFIRMA',\n",
       "       'Paytm money', 'Nova Credit', 'CodingNinjas', 'HempStreet',\n",
       "       'MoEngage', 'Chaayos', 'PetPooja', 'Altor', 'Pepperfry',\n",
       "       'FirstCry', 'Byju', 'WorkIndia', 'Qyuki', 'Leap India', 'Picxy',\n",
       "       'NEETprep', 'Dot Pvt. Ltd', 'Kuku FM', 'SuperMoney', 'AlphaVector',\n",
       "       'Fox Capital', 'Tribe Theory', 'Embibe', 'Oye! Rickshaw',\n",
       "       'Seal Professional', 'Sprinng Foods', '1MG', 'Aagey', 'Doubtnut',\n",
       "       'AdonMo', 'Kisan Network', 'Unotech', 'CureSkin', 'WizKlub',\n",
       "       'Interviewbit', 'MoneyTap', 'Uniplatform Tech', 'INdwealth',\n",
       "       'Bizongo', 'AppsFlyer', 'Konfinity', 'Nupay', 'LogiNext',\n",
       "       'Samosa Singh', 'Crysta', 'Eupheus Learning', 'Park+', 'Goodmylk',\n",
       "       'SmartKarrot', 'Skylo', 'Tea Trunk', 'Zoomcar', 'Samya AI',\n",
       "       'Kristal AI', 'Invento Robotics', 'Sabse Sasta Dukaan',\n",
       "       'Fitphilia', 'Medicus', 'Monech', 'Teach Us', 'Dealberg',\n",
       "       'Phenom People', 'Extra Edge', 'Capital Quotient', 'Karfa',\n",
       "       'Zinier', 'ProEves', 'Toddle', 'Aesthetic Nutrition',\n",
       "       'TechnifyBiz', 'Wysh', 'Keito', 'Klub', 'Aadhar', 'IncubateHub',\n",
       "       'Rage Coffee', 'Skilancer', 'Harappa Education', 'Rheo',\n",
       "       'Axio Biosolutions', 'Techbooze', 'PayMart', 'Testbook',\n",
       "       'FabAlley', 'HaikuJAM', 'Mamaearth', 'Rentomojo', 'Generico',\n",
       "       'HighRadius', 'Chai Kings', 'Shiksha', 'Super Surfaces', 'Quicko',\n",
       "       'Satin Creditcare', 'XpressBees', 'FarmERP', 'Wealth Bucket',\n",
       "       'Fashor', 'Leverage Edu', 'EpiFi', 'Purplle', 'Pando'],\n",
       "      dtype=object)"
      ]
     },
     "execution_count": 286,
     "metadata": {},
     "output_type": "execute_result"
    }
   ],
   "source": [
    "# Checking for the unique values in Company_Brand\n",
    "data_2020['Company_Brand'].unique()"
   ]
  },
  {
   "cell_type": "code",
   "execution_count": 287,
   "metadata": {},
   "outputs": [
    {
     "data": {
      "text/plain": [
       "905"
      ]
     },
     "execution_count": 287,
     "metadata": {},
     "output_type": "execute_result"
    }
   ],
   "source": [
    "# Check for the number of unique values \n",
    "data_2020['Company_Brand'].nunique()"
   ]
  },
  {
   "cell_type": "code",
   "execution_count": 288,
   "metadata": {},
   "outputs": [
    {
     "data": {
      "text/plain": [
       "Company_Brand\n",
       "Nykaa          6\n",
       "Zomato         6\n",
       "Rebel Foods    4\n",
       "Servify        4\n",
       "Vedantu        4\n",
       "              ..\n",
       "Odwen          1\n",
       "Fasal          1\n",
       "Trukky         1\n",
       "Specsmakers    1\n",
       "Pando          1\n",
       "Name: count, Length: 905, dtype: int64"
      ]
     },
     "execution_count": 288,
     "metadata": {},
     "output_type": "execute_result"
    }
   ],
   "source": [
    "# Check for the counts of unique values\n",
    "data_2020['Company_Brand'].value_counts()"
   ]
  },
  {
   "cell_type": "code",
   "execution_count": 289,
   "metadata": {},
   "outputs": [
    {
     "data": {
      "text/plain": [
       "count      1055\n",
       "unique      905\n",
       "top       Nykaa\n",
       "freq          6\n",
       "Name: Company_Brand, dtype: object"
      ]
     },
     "execution_count": 289,
     "metadata": {},
     "output_type": "execute_result"
    }
   ],
   "source": [
    "# Show the summary statistics\n",
    "data_2020['Company_Brand'].describe()"
   ]
  },
  {
   "cell_type": "code",
   "execution_count": 290,
   "metadata": {},
   "outputs": [
    {
     "data": {
      "text/plain": [
       "0"
      ]
     },
     "execution_count": 290,
     "metadata": {},
     "output_type": "execute_result"
    }
   ],
   "source": [
    "# Check for the null values in Company_Brand\n",
    "data_2020['Company_Brand'].isnull().sum()"
   ]
  },
  {
   "cell_type": "code",
   "execution_count": 291,
   "metadata": {},
   "outputs": [
    {
     "data": {
      "text/plain": [
       "array([2019., 2018., 2020., 2016., 2008., 2015., 2017., 2014., 1998.,\n",
       "       2007., 2011., 1982., 2013., 2009., 2012., 1995., 2010., 2006.,\n",
       "       1978.,   nan, 1999., 1994., 2005., 1973., 2002., 2004., 2001.])"
      ]
     },
     "execution_count": 291,
     "metadata": {},
     "output_type": "execute_result"
    }
   ],
   "source": [
    "# Check for the inconsistensies in Founded column\n",
    "\n",
    "# check for the unique values in Founded column\n",
    "data_2020['Founded'].unique()"
   ]
  },
  {
   "cell_type": "code",
   "execution_count": 292,
   "metadata": {},
   "outputs": [
    {
     "data": {
      "text/plain": [
       "Founded\n",
       "2015.0    136\n",
       "2018.0    123\n",
       "2019.0    104\n",
       "2016.0    103\n",
       "2017.0     92\n",
       "2014.0     72\n",
       "2020.0     42\n",
       "2012.0     40\n",
       "2013.0     36\n",
       "2011.0     31\n",
       "2008.0     18\n",
       "2010.0     16\n",
       "2009.0      7\n",
       "2006.0      6\n",
       "2007.0      4\n",
       "1995.0      2\n",
       "1982.0      1\n",
       "1998.0      1\n",
       "1978.0      1\n",
       "1999.0      1\n",
       "1994.0      1\n",
       "2005.0      1\n",
       "1973.0      1\n",
       "2002.0      1\n",
       "2004.0      1\n",
       "2001.0      1\n",
       "Name: count, dtype: int64"
      ]
     },
     "execution_count": 292,
     "metadata": {},
     "output_type": "execute_result"
    }
   ],
   "source": [
    "data_2020['Founded'].value_counts()"
   ]
  },
  {
   "cell_type": "code",
   "execution_count": 293,
   "metadata": {},
   "outputs": [
    {
     "data": {
      "text/plain": [
       "count     842.000000\n",
       "mean     2015.363420\n",
       "std         4.097909\n",
       "min      1973.000000\n",
       "25%      2014.000000\n",
       "50%      2016.000000\n",
       "75%      2018.000000\n",
       "max      2020.000000\n",
       "Name: Founded, dtype: float64"
      ]
     },
     "execution_count": 293,
     "metadata": {},
     "output_type": "execute_result"
    }
   ],
   "source": [
    "# Show the summary statistics for the Founded column\n",
    "data_2020['Founded'].describe()"
   ]
  },
  {
   "cell_type": "code",
   "execution_count": 294,
   "metadata": {},
   "outputs": [
    {
     "data": {
      "text/plain": [
       "213"
      ]
     },
     "execution_count": 294,
     "metadata": {},
     "output_type": "execute_result"
    }
   ],
   "source": [
    "# Check for the missing values in the Founded column\n",
    "\n",
    "data_2020['Founded'].isnull().sum()"
   ]
  },
  {
   "cell_type": "code",
   "execution_count": 295,
   "metadata": {},
   "outputs": [],
   "source": [
    "# Fill the null values with the mean value\n",
    "\n",
    "data_2020['Founded'].fillna(data_2020['Founded'].mean(), inplace=True)\n"
   ]
  },
  {
   "cell_type": "code",
   "execution_count": 296,
   "metadata": {},
   "outputs": [
    {
     "data": {
      "text/plain": [
       "0"
      ]
     },
     "execution_count": 296,
     "metadata": {},
     "output_type": "execute_result"
    }
   ],
   "source": [
    "# Check for the null values again\n",
    "\n",
    "data_2020['Founded'].isna().sum()"
   ]
  },
  {
   "cell_type": "code",
   "execution_count": 297,
   "metadata": {},
   "outputs": [],
   "source": [
    "# Drop Founders column because it's inconsequential to the business objectives of the analysis\n",
    "data_2020.drop('Founders', axis=1, inplace=True)\n"
   ]
  },
  {
   "cell_type": "markdown",
   "metadata": {},
   "source": [
    "Checking the inconsistencies in the Headquater column"
   ]
  },
  {
   "cell_type": "code",
   "execution_count": 298,
   "metadata": {},
   "outputs": [
    {
     "data": {
      "text/plain": [
       "array(['Chennai', 'Bangalore', 'Pune', 'New Delhi', 'Indore', 'Hyderabad',\n",
       "       'Gurgaon', 'Belgaum', 'Noida', 'Mumbai', 'Andheri', 'Jaipur',\n",
       "       'Ahmedabad', 'Kolkata', 'Tirunelveli, Tamilnadu', 'Thane', None,\n",
       "       'Singapore', 'Gurugram', 'Gujarat', 'Haryana', 'Kerala', 'Jodhpur',\n",
       "       'Jaipur, Rajastan', 'Delhi', 'Frisco, Texas, United States',\n",
       "       'California', 'Dhingsara, Haryana', 'New York, United States',\n",
       "       'Patna', 'San Francisco, California, United States',\n",
       "       'San Francisco, United States', 'San Ramon, California',\n",
       "       'Paris, Ile-de-France, France', 'Plano, Texas, United States',\n",
       "       'Sydney', 'San Francisco Bay Area, Silicon Valley, West Coast',\n",
       "       'Bangaldesh', 'London, England, United Kingdom',\n",
       "       'Sydney, New South Wales, Australia', 'Milano, Lombardia, Italy',\n",
       "       'Palmwoods, Queensland, Australia', 'France',\n",
       "       'San Francisco Bay Area, West Coast, Western US',\n",
       "       'Trivandrum, Kerala, India', 'Cochin', 'Samastipur, Bihar',\n",
       "       'Irvine, California, United States', 'Tumkur, Karnataka',\n",
       "       'Newcastle Upon Tyne, Newcastle upon Tyne, United Kingdom',\n",
       "       'Shanghai, China', 'Jiaxing, Zhejiang, China', 'Rajastan', 'Kochi',\n",
       "       'Ludhiana', 'Dehradun', 'San Franciscao', 'San Francisco',\n",
       "       'Tangerang, Jawa Barat, Indonesia', 'Berlin', 'Seattle', 'Riyadh',\n",
       "       'Seoul', 'New York', 'Bangkok', 'Kanpur', 'Chandigarh', 'Warangal',\n",
       "       'Hyderebad', 'Odisha', 'Bihar', 'Goa', 'Tamil Nadu',\n",
       "       'Uttar Pradesh', 'Bhopal', 'Banglore', 'Coimbatore', 'Bengaluru'],\n",
       "      dtype=object)"
      ]
     },
     "execution_count": 298,
     "metadata": {},
     "output_type": "execute_result"
    }
   ],
   "source": [
    "\n",
    "\n",
    "data_2020['HeadQuarter'].unique()"
   ]
  },
  {
   "cell_type": "code",
   "execution_count": 299,
   "metadata": {},
   "outputs": [],
   "source": [
    "\n",
    "indian_cities = ['Chennai', 'Bangalore', 'Pune', 'New Delhi', 'Indore', 'Hyderabad',\n",
    "                 'Gurgaon', 'Noida', 'Mumbai', 'Jaipur', 'Ahmedabad', 'Kolkata',\n",
    "                 'Thane', 'Gurugram', 'Gujarat', 'Haryana', 'Kerala', 'Jodhpur', 'Delhi',\n",
    "                 'Dhingsara', 'Patna', 'Trivandrum', 'Cochin', 'Samastipur', 'Tumkur',\n",
    "                 'Kanpur', 'Chandigarh', 'Warangal', 'Hyderebad', 'Odisha', 'Bihar', 'Goa',\n",
    "                 'Tamil Nadu', 'Uttar Pradesh', 'Bhopal', 'Banglore', 'Coimbatore', 'Bengaluru']\n",
    "# Check  for the rows with the indian cities in Headquarter column\n",
    "indian_cities_rows = data_2020['HeadQuarter'].isin(indian_cities)\n",
    "\n",
    "# Filter out rows without index positions\n",
    "\n",
    "data_2020 = data_2020.loc[indian_cities_rows]\n"
   ]
  },
  {
   "cell_type": "code",
   "execution_count": 300,
   "metadata": {},
   "outputs": [
    {
     "data": {
      "text/plain": [
       "count           898\n",
       "unique           34\n",
       "top       Bangalore\n",
       "freq            317\n",
       "Name: HeadQuarter, dtype: object"
      ]
     },
     "execution_count": 300,
     "metadata": {},
     "output_type": "execute_result"
    }
   ],
   "source": [
    "# Check for the summary statistics\n",
    "data_2020['HeadQuarter'].describe()"
   ]
  },
  {
   "cell_type": "code",
   "execution_count": 301,
   "metadata": {},
   "outputs": [
    {
     "data": {
      "text/plain": [
       "0"
      ]
     },
     "execution_count": 301,
     "metadata": {},
     "output_type": "execute_result"
    }
   ],
   "source": [
    "data_2020['HeadQuarter'].isna().sum()"
   ]
  },
  {
   "cell_type": "code",
   "execution_count": 302,
   "metadata": {},
   "outputs": [
    {
     "data": {
      "text/plain": [
       "array(['Chennai', 'Bangalore', 'Pune', 'New Delhi', 'Indore', 'Hyderabad',\n",
       "       'Gurgaon', 'Noida', 'Mumbai', 'Jaipur', 'Ahmedabad', 'Kolkata',\n",
       "       'Thane', 'Gurugram', 'Gujarat', 'Haryana', 'Kerala', 'Jodhpur',\n",
       "       'Delhi', 'Patna', 'Cochin', 'Kanpur', 'Chandigarh', 'Warangal',\n",
       "       'Hyderebad', 'Odisha', 'Bihar', 'Goa', 'Tamil Nadu',\n",
       "       'Uttar Pradesh', 'Bhopal', 'Banglore', 'Coimbatore', 'Bengaluru'],\n",
       "      dtype=object)"
      ]
     },
     "execution_count": 302,
     "metadata": {},
     "output_type": "execute_result"
    }
   ],
   "source": [
    "# Show the cleaned Headquater data values\n",
    "data_2020['HeadQuarter'].unique()"
   ]
  },
  {
   "cell_type": "markdown",
   "metadata": {},
   "source": [
    "From the preview, not all indian cities from the raw dataset have index positions in the Headquater column. Thus, I filtered them out to ensure consistency in the dataset and to improve its quality towards testing the analysis hypotesis which is location-centric and the over all business objectives."
   ]
  },
  {
   "cell_type": "markdown",
   "metadata": {},
   "source": [
    "Checking for the inconsistencies and cleaning the Sector column"
   ]
  },
  {
   "cell_type": "code",
   "execution_count": 303,
   "metadata": {},
   "outputs": [
    {
     "data": {
      "text/plain": [
       "array(['AgriTech', 'EdTech', 'Hygiene management', 'Escrow',\n",
       "       'Networking platform', 'FinTech', 'Crowdsourcing',\n",
       "       'Food & Bevarages', 'HealthTech', 'Fashion startup',\n",
       "       'Food Delivery', 'Virtual auditing startup', 'E-commerce',\n",
       "       'Gaming', 'Work fulfillment', 'AI startup', 'Telecommunication',\n",
       "       'Food Industry', 'Logistics', 'Tech Startup', 'Sports', 'Retail',\n",
       "       'Medtech', 'Tyre management', 'Cloud company', 'Software company',\n",
       "       'Venture capitalist', 'Renewable player', 'IoT startup',\n",
       "       'SaaS startup', 'Aero company', 'Marketing company',\n",
       "       'Retail startup', 'Co-working Startup', 'Finance company',\n",
       "       'Tech company', 'Solar Monitoring Company',\n",
       "       'Video sharing platform', 'Gaming startup',\n",
       "       'Video streaming platform', 'Consumer appliances',\n",
       "       'Blockchain startup', 'Conversational AI platform', 'Real Estate',\n",
       "       'SaaS platform', 'AI platform', 'HR Tech', 'Hospitality',\n",
       "       'Job portal', 'Digital Media', 'Dairy startup',\n",
       "       'Content management', 'Spacetech', 'Transportation',\n",
       "       'Trading platform', 'AI Company', 'Photonics startup',\n",
       "       'Entertainment', 'Cosmetics', 'Skincare startup',\n",
       "       'Food and Beverages', 'Biotechnology company', 'FoodTech',\n",
       "       'Proptech', 'CleanTech', 'Fitness startup', 'Healthcare',\n",
       "       'PaaS startup', 'Beverages', 'Automobiles', 'Deeptech',\n",
       "       'EV startup', 'AR/VR startup', 'Recruitment startup',\n",
       "       'QSR startup', 'Video platform', 'Edtech', 'Fertility tech',\n",
       "       'Luxury car startup', 'FM', 'Food', 'Nutrition sector',\n",
       "       'Tech platform', 'Video', 'Retail Tech', 'Social Media',\n",
       "       'LegalTech', 'Car Service', 'Bike marketplace', 'Agri tech',\n",
       "       'Reatil startup', 'AR platform', 'Content marketplace',\n",
       "       'Interior Design', 'Rental space', 'Soil-Tech', 'Ayurveda tech',\n",
       "       'Packaging solution startup', 'Cleantech', 'Sanitation solutions',\n",
       "       'HealthCare', 'InsureTech', 'AI Startup', 'Solar solution',\n",
       "       'Jewellery startup', 'Multinational conglomerate company',\n",
       "       'Deeptech startup', 'Social Network', 'Publication', 'Tech',\n",
       "       'Fashion', 'Finance', 'Venture capital', 'Entreprenurship',\n",
       "       'Food devlivery', 'Warehouse', 'Online financial service',\n",
       "       'Eyeglasses', 'Online credit management startup', 'Beverage',\n",
       "       'TravelTech', 'Agriculture', 'Startup laboratory',\n",
       "       'Personal care startup', 'Customer service company',\n",
       "       'Marketing startup', 'Service industry', 'Social media', 'AI',\n",
       "       'Jewellery', 'AR startup', 'HR Tech startup', 'Automotive Startup',\n",
       "       'Food Startup', 'EdTech Startup', 'Car Trade', 'EdtTech',\n",
       "       'Manufacturing', 'AI Platform', 'Home Design', 'Automation',\n",
       "       'Solar SaaS', 'WL & RAC protection', 'Social commerce',\n",
       "       'Home interior services', 'Agritech startup', 'API platform',\n",
       "       'Deep Tech', 'Electricity', 'Automotive company', 'FMCG',\n",
       "       'Insurance Tech', 'Biomaterial startup', 'Health', 'IT',\n",
       "       'Craft Beer', 'Healthtech', 'Education', 'Investment',\n",
       "       'Linguistic Spiritual', 'Construction', 'Battery manufacturer',\n",
       "       'AI health', 'Dating app', 'Media', 'Fintech', 'Healthcare/Edtech',\n",
       "       'Social Commerce', 'Mobility tech', 'Social e-commerce',\n",
       "       'Food & Logistics', 'SpaceTech', 'Nutrition Tech', 'HR', None,\n",
       "       'Agritech', 'Interior design', 'Foodtech', 'AR/VR', 'Appliance',\n",
       "       'HR tech', 'IoT', 'Food tech', 'Mental Health', 'Ecommerce',\n",
       "       'Solar Solution', 'SaaS', 'Automobile', 'Fashion Tech',\n",
       "       'Nutrition tech', 'Health & Wellness', 'Cloud Kitchen',\n",
       "       'IoT/Automobile', 'Eye Wear', 'Digital tech', 'Data Intelligence',\n",
       "       'Co-living', 'Food & Beverages', 'Automotive', 'B2B',\n",
       "       'Defense tech', 'Marketplace', 'Construction tech', 'Coworking',\n",
       "       'Auto-tech', 'Beauty', 'Yoga & wellness', 'Logitech', 'Med Tech',\n",
       "       'Life sciences', 'Biotech', 'Blockchain', 'HrTech',\n",
       "       'Mobility/Transport', 'Travel', 'Rental', 'SaaS/Edtech',\n",
       "       'Nutrition', 'Co-working', 'Insurtech', 'Cryptocurrency',\n",
       "       'Automotive tech', 'Legal', 'Fitness', 'EV',\n",
       "       'Supply chain, Agritech', 'Insurance technology',\n",
       "       'Foodtech & Logistics', 'Housing', 'Pharmaceutical',\n",
       "       'Data Analytics', 'Investment Tech', 'Financial Services',\n",
       "       'Biopharma', 'Dairy', 'Beauty & wellness', 'Travel & SaaS',\n",
       "       'Location Analytics', 'E store', 'Insurance', 'Health and Fitness',\n",
       "       'Technology', 'Interior & decor', 'eMobility', 'Automation tech',\n",
       "       'Media & Networking', 'E-market', 'AI & Data science',\n",
       "       'Travel tech', 'Automotive and Rentals', 'E-tail', 'Accomodation',\n",
       "       'AI & Media', 'Machine Learning', 'Content Marktplace', 'Hygiene',\n",
       "       'Transport', 'AI & Deep learning', 'Housing & Rentals', 'Estore',\n",
       "       'Marketing', 'E tailor', 'Ad-tech', 'Neo-banking',\n",
       "       'Transport & Rentals', 'B2B marketplace', 'Preschool Daycare',\n",
       "       'B2B Agritech', 'E-connect', 'Tech hub', 'Pharmacy', 'Deisgning',\n",
       "       'Taxation', 'Automobile Technology'], dtype=object)"
      ]
     },
     "execution_count": 303,
     "metadata": {},
     "output_type": "execute_result"
    }
   ],
   "source": [
    "# Check for the unique values\n",
    "data_2020['Sector'].unique()"
   ]
  },
  {
   "cell_type": "code",
   "execution_count": 304,
   "metadata": {},
   "outputs": [
    {
     "data": {
      "text/plain": [
       "Sector\n",
       "Fintech                  68\n",
       "Edtech                   53\n",
       "FinTech                  42\n",
       "EdTech                   36\n",
       "E-commerce               31\n",
       "                         ..\n",
       "Marketing startup         1\n",
       "Service industry          1\n",
       "Social media              1\n",
       "Jewellery                 1\n",
       "Automobile Technology     1\n",
       "Name: count, Length: 273, dtype: int64"
      ]
     },
     "execution_count": 304,
     "metadata": {},
     "output_type": "execute_result"
    }
   ],
   "source": [
    "# Check for the value counts\n",
    "data_2020['Sector'].value_counts()"
   ]
  },
  {
   "cell_type": "code",
   "execution_count": 305,
   "metadata": {},
   "outputs": [
    {
     "data": {
      "text/plain": [
       "count         887\n",
       "unique        273\n",
       "top       Fintech\n",
       "freq           68\n",
       "Name: Sector, dtype: object"
      ]
     },
     "execution_count": 305,
     "metadata": {},
     "output_type": "execute_result"
    }
   ],
   "source": [
    "# Check for the summary statistics\n",
    "data_2020['Sector'].describe()"
   ]
  },
  {
   "cell_type": "code",
   "execution_count": 306,
   "metadata": {},
   "outputs": [
    {
     "data": {
      "text/plain": [
       "11"
      ]
     },
     "execution_count": 306,
     "metadata": {},
     "output_type": "execute_result"
    }
   ],
   "source": [
    "# check for the null values\n",
    "data_2020['Sector'].isna().sum()"
   ]
  },
  {
   "cell_type": "code",
   "execution_count": 307,
   "metadata": {},
   "outputs": [
    {
     "data": {
      "text/plain": [
       "dtype('O')"
      ]
     },
     "execution_count": 307,
     "metadata": {},
     "output_type": "execute_result"
    }
   ],
   "source": [
    "data_2020['Sector'].dtype"
   ]
  },
  {
   "cell_type": "code",
   "execution_count": 308,
   "metadata": {},
   "outputs": [],
   "source": [
    "# Fill null values using SimpleImputer\n",
    "\n",
    "most_frequent_value = data_2020['Sector'].mode()[0]\n",
    "\n",
    "\n",
    "data_2020['Sector'] = data_2020['Sector'].fillna(value=most_frequent_value)\n",
    "\n"
   ]
  },
  {
   "cell_type": "code",
   "execution_count": 309,
   "metadata": {},
   "outputs": [
    {
     "data": {
      "text/plain": [
       "0"
      ]
     },
     "execution_count": 309,
     "metadata": {},
     "output_type": "execute_result"
    }
   ],
   "source": [
    "data_2020['Sector'].isna().sum()"
   ]
  },
  {
   "cell_type": "markdown",
   "metadata": {},
   "source": [
    "Checking for the inconsistencies and cleaning column What_it_does"
   ]
  },
  {
   "cell_type": "code",
   "execution_count": 310,
   "metadata": {},
   "outputs": [
    {
     "data": {
      "text/plain": [
       "array(['Cultivating Ideas for Profit',\n",
       "       'An academy-guardian-scholar centric ecosystem which provides state of the art technological solutions.',\n",
       "       'Converting bio-hazardous waste to harmless waste',\n",
       "       'Escrow-as-a-service platform',\n",
       "       'Gramophone is an AgTech platform enabling access to agri inputs and powering efficient farm management.',\n",
       "       'qZense Labs is building the next-generation IoT solution for fresh food quality assessment and management.',\n",
       "       'MyClassboard is a full-fledged School / College Management Software.',\n",
       "       'AI driven networking platform for individuals and organisations which aims to provided a seamless end to end networking experience.',\n",
       "       'Rupeek is an online lending platform that specializes in credit risk, gold loans, and personal loans.',\n",
       "       'GigIndia is a marketplace that provides on-demand work completion for companies through a gig workforce of jobseekers.',\n",
       "       'Slurrp Farm is a children health food brand.',\n",
       "       'Medfin is a Discovery platform for medical procedures and financing.',\n",
       "       'MasterG is a design and skill development organisation.',\n",
       "       'Bira 91 is a craft beer company.',\n",
       "       'Zomato is a food delivery and restaurant discovery site that provides information and reviews about restaurants',\n",
       "       'Video intelligence solution for Enterprise Standard Operating Procedures Monitoring and Quality Control, leveraging CCTV infrastructure.',\n",
       "       'Shiprocket helps online retailers simplify their shipping by providing a delightful post purchase experience to their consumers.',\n",
       "       'A merchant platform company that provides financing and last-mile retail transaction technology to merchants.',\n",
       "       'MONEYBOXX FINANCE LTD is committed to providing easy access to financing to the deserving micro enterprises in the tier 2 and tier 3 cities of India',\n",
       "       'EWar Games is a e-sports and real-time gaming start-up.',\n",
       "       'SucSEED INDOVATION FACILITATES ACCESS TO CAPITAL FOR DEEP TECH STARTUPS TO INNOVATE, SCALE & GROW',\n",
       "       'TaxBuddy for any tax related issues.',\n",
       "       'Operations and manpower outsourcing startup',\n",
       "       'Circles of Angels aims to solve this issue through the creation of a funding network that makes impact funding accessible to everyone.',\n",
       "       'CoinDCX is a company that specializes in crypto-enabled financial services.',\n",
       "       'Glance is a screen zero platform that consumers use across connected devices to experience the Internet.',\n",
       "       'Owner of Dailyhunt App and I-Pay',\n",
       "       \"Building India's largest digital food service brand\",\n",
       "       'Delhivery is a supply chain services company that provides products and services to build trust and improve the lives of consumers.',\n",
       "       '\"Simplifying Agribusiness\" Throughout Agri-Supply chain, FPO Market Linkages, Market Research, Implementation',\n",
       "       'Pickrr is an on-demand first mile logistics company',\n",
       "       'An interactive Maths app, Countingwell breaks Maths concepts into short, simple modules that get kids learning with the least amount of screen time.',\n",
       "       'Callify.ai is a Voice-Based Candidate Screening & Engagement platform for Talent Acquisition teams.',\n",
       "       'Hudle is a sports & fitness discovery & booking platform with 300+ sports venues and sports events/tournaments available for booking.',\n",
       "       'Online portal that churns out high quality products',\n",
       "       'Chat-based commerce for E-commerce brands',\n",
       "       'Wakefitkart is a mattress manufacturing company',\n",
       "       'Sreyas Holistic Remedies operates a chain of dermatologist clinics under the brand name of Oliva',\n",
       "       'FLEECA is a Tyre Care Provider company.',\n",
       "       'M1 an online exchange for TReDS set up under the approval RBI to facilitate discounting of invoices on a PAN India basis.',\n",
       "       'Exotel provides cloud telephony services such as virtual phone numbers and telephony applications for small and medium enterprises in India.',\n",
       "       \"Staff's Salary, Work & Attendance Management Application\",\n",
       "       'Pre-seed/Seed focussed VC investor',\n",
       "       'Ayana Renewable Power is an Indian renewable energy platform',\n",
       "       'Fisdom is a fintech company that offers investment advisory services through an application.',\n",
       "       'Tinker Coder is a LIVE Online Platform through which kids will learn the art of coding',\n",
       "       'The industrial Internet platform that harnesses the power of big data & predictive analytics for data-driven decision making.',\n",
       "       \"HappyLocate is India's first One Stop Relocation Platform, transforming the way Employee Relocations are managed\",\n",
       "       'PhonePe is a mobile payments application that allows the user to transfer money instantly.',\n",
       "       'Loop Health is bringing ease and choice to patients seeking major medical treatments.',\n",
       "       'Neodocs analyses medical reports and provides personalised health recommendations remotely.',\n",
       "       'Transforming the mobility landscape using aerial transport.',\n",
       "       'TagMango is a marketing and advertising app that helps influencer, and brands to partner with individuals.',\n",
       "       'The New Shop is a chain of high speed retail stores',\n",
       "       'MobiKwik is India’s leading fintech platform, operating businesses in consumer payments, payment gateway, and financial services.',\n",
       "       'DebugsBunny is the best Kids Coding Platform where kids are taught to code online by our expert teachers.',\n",
       "       \"BHIVE is Bangalore's (India) largest Coworking space that allows entrepreneurs to take their ideas to the next level.\",\n",
       "       'Rivigo is a technology-enabled logistics platform provider that offers transport services.',\n",
       "       'ZipLoan is a online lending platform',\n",
       "       'Swipez is a payment collection platform.',\n",
       "       'Farmgate to Retail outlet Agri-Fresh produce supply chain',\n",
       "       \"Artivatic's patent pending technology solves complex problems in Insurance for On-boarding, Fraud, Risk Profiling, Underwriting & claims.\",\n",
       "       'Prescinto provides solutions for solar monitoring and analytics solutions.',\n",
       "       'SaaS-based equity management platform',\n",
       "       'Bolo Indya is a short video & commerce platform. It allows users to create, watch and share videos & discover and avail services.',\n",
       "       'Bombay Play is a Card and Toy Company Making games for India.',\n",
       "       'Freshtohome is an e-commerce platform for fresh and chemical-free seafood.',\n",
       "       'KIKO TV is an AI-based short live video e-commerce platform.',\n",
       "       'Atomberg Technology aspires to be the \"Tesla\" of the world of household appliances',\n",
       "       'DealShare is a Social Commerce Startup',\n",
       "       'Changing how India invests in equities',\n",
       "       'Cuemath is an engaging ‘learning-by-doing’ methodology for students with face-to-face sessions from highly-trained Cuemath teachers.',\n",
       "       'Gamerji is an online esports gaming platform where tournaments are created for different games such as PUBG, COD, Free Fire etc.',\n",
       "       \"5C is India's first Diagnostics Network, making Radiodiagnosis more Accessible, Affordable and Accurate\",\n",
       "       'EPNS is a decentralized notification protocol',\n",
       "       'Intelligence-based personal mobile assistant app',\n",
       "       'WayCool has adopted a tech-enabled supply chain approach to produce staples like rice, dairy, and value added products.',\n",
       "       'Hella Infra Market develops an online procurement marketplace intended to serve the real estate and construction materials industry.',\n",
       "       'Info Edge provides online recruitment, matrimonial and real estate classifieds, and related services.',\n",
       "       'Clovia is the online lingerie retailer',\n",
       "       'Coding education platform for K-12 students',\n",
       "       'CRED is a members-only app that rewards the user with exclusive rewards for paying credit card bills.',\n",
       "       'The preferred full range Financial Services provider to the Small Business segment focused on rural and semi urban markets.',\n",
       "       'A platform for remote employee engagement and building team culture',\n",
       "       'Providing Secure Authentication solutions to Apps and Websites. Eliminating Passwords and OTPs for a seamless User Experience.',\n",
       "       \"Signzy are creating 'building blocks for a Digital Trust system.\",\n",
       "       'Kopykitab is an India-based digital library that provides eBooks, and digital content in school and higher education.',\n",
       "       'GetWork is a campus recruiting platform to post your jobs and hire across dozens of colleges at once.',\n",
       "       'Mobile Premier League is a skill-based eSports platform used to offer cash prizes while playing games.',\n",
       "       'Omatra is very new hotel management firm recently registered as Omatra Hospitality Services Private Limited.',\n",
       "       'NewsReach India offers partner publications a digital footprint and monetisation of their content via advertisements.',\n",
       "       'Cashfree is a payments and banking technology company that enables businesses in India to collect payments online and make payouts.',\n",
       "       'Credgenics is a tech-enabled platform backed by Titan Capital, helping fintech lenders and Banks in their critical NPA reduction',\n",
       "       'Map-based intelligent platform with single-click access to street-level location data - demographics, competitions, movements - for retail.',\n",
       "       'Country Delight produces and distributes milk intended to provide good quality and unadulterated milk at doorstep.',\n",
       "       'A technology company that focus on building a suite of digital publishing solutions to simplify content creation, distribution, audience engagement',\n",
       "       'CARS24 is an India-based platform for selling used cars.',\n",
       "       'Astrogate Labs provides high-quality products related to space infrastructure.',\n",
       "       'Power Gummies are a team of passionate givers who are dedicated to catering nutritional supplements',\n",
       "       'Cityflo is an urban transportation app that provides comfortable and economical buses for daily commute.',\n",
       "       'Algobulls is a state-of-the-art Trading Platform where customers are provided with Fully Automated Algorithmic Trading',\n",
       "       'Inntot Technologies, is a technology driven company.',\n",
       "       'ENSUREDIT enables and empowers end customers and Insurance Intermediaries with AI-based product platforms for transformational customer experience.',\n",
       "       \"Shipsy's platform enables data driven decision making enhancing visibility and operational efficiency for Supply Chain industry\",\n",
       "       'ERPNext is an Open Source, Online ERP solution which includes Accounting, CRM, Inventory, Purchasing, HR, Support and a lot more.',\n",
       "       'Developer of an optoelectronic processor designed to accelerate AI computations.',\n",
       "       'Grip is an investment platform that allows retail investors to make small ticket investments in physical assets that earn lease income.',\n",
       "       'Unacademy is an online learning platform providing educational content such as video lectures and examinations.',\n",
       "       'New-age fun-learning platform for kids.',\n",
       "       'High quality health insurance and health benefits',\n",
       "       'STAGE is an Indian language content platform for artist-led entertainment.',\n",
       "       'Nykaa is an online marketplace for different beauty and wellness products.',\n",
       "       'NIRA promotes financial inclusion by creating simple, transparent products that empower individuals to live a life of choice and freedom.',\n",
       "       'A premium skincare brand committed towards building innovative skin care wellness.',\n",
       "       \"BYJU'S is an educational technology company that develops personalized learning programs for K-12 students.\",\n",
       "       \"DaMENSCH is a designer and seller of men's apparel.\",\n",
       "       'SignalX offers an artificial intelligence-powered SaaS platform',\n",
       "       \"Lancify is building the world's strongest young workforce\",\n",
       "       'Krimanshi aims to increase rural income by improving the productivity of Indian cattle with better quality feed.',\n",
       "       'Instoried is an augmented writing platform which improves customer interest and engagement.',\n",
       "       'Favorite fantasy cricket, football & kabaddi leagues online to win daily cash and prizes',\n",
       "       'Instamojo is an on-demand payments platform that enables entrepreneurs to build, manage, and grow their business online.',\n",
       "       'Turtlemint has built Indian personalized insurance platform',\n",
       "       'Arata is an e-commerce site for beauty products and cosmetics.',\n",
       "       'True Balance is a digital wallet that enables users to access utility bill payment and other financial products.',\n",
       "       'Thrive is all-in-one restaurant ordering suite for table ordering, pickup, and delivery with marketing in-built.',\n",
       "       'Kitchens Centre offers turnkey solutions to cloud kitchens.',\n",
       "       'Provide online services to patients by leveraging WhatsApp.',\n",
       "       'NEPRA Resource Management provides waste management solutions in India.',\n",
       "       'inFeedo is a predictive people analytics company helping 300,000+ employees in 100+ companies make their voice feel heard and valued.',\n",
       "       'Shilps Sciences is a healthtech platform that claims to have solved gene editing by accelerating single gene cell applications.',\n",
       "       'B2B retail tech platform transforming 300,000+ SMEs in electronics space with its flagship \"Go Store\" product',\n",
       "       \"MindTickle offers the industry's most comprehensive sales readiness solution for closing knowledge and skill gaps in customer-facing teams.\",\n",
       "       'Slice is a card for first-time credit card users. They are inventing the future of finance for young Indians',\n",
       "       'Rapawalk is an online brand that offers a personalized service of creating your own shoes.',\n",
       "       'The new-age home workout app that gives you an unmatched boutique digital fitness studio experience.',\n",
       "       'Laval Cosmetics, affordable makeup for all ages',\n",
       "       'Stride Ventures is a venture capital firm in India which aims to invest in innovative startups across the country.',\n",
       "       'Blacksoil Advisory is an independent boutique advisory firm.',\n",
       "       'Biocon is a healthcare and technology, company focused on biotechnology.',\n",
       "       'Client Management Software For Modern Agencies.',\n",
       "       'Xpressbees is an e-commerce logistics company that provides reliable logistics solutions to its partners.',\n",
       "       'Mobile based Instant credit card. | Easiest way to get a credit card. Get one in 3 minutes',\n",
       "       'Wellness Forever is the one-stop destination for wellness',\n",
       "       'MoooFarm is an information technology company that bridges the technology gap to help marginalized dairy farmers.',\n",
       "       'BitClass is a PaaS solution which helps teachers set up their independent live classes',\n",
       "       'Personalised Video shoutouts from favourite celebrity.',\n",
       "       'Uolo Technology is founded by paranoid parents who want to make a difference to preschool experience.',\n",
       "       'NATURALLY THE BEST From zero artificial ingredients in our drinks to the way they make you feel, we bring you a bespoke range of natural mixers.',\n",
       "       'iKure is a social enterprise that delivers primary healthcare and wellness & prevention services to communities in India',\n",
       "       'Comprehensive courses, taught by idols.',\n",
       "       'Reliance Retail Ventures Limited is a subsidiary company of Reliance Industries Limited.',\n",
       "       'Ather Energy is a manufacturer of electric scooters.',\n",
       "       'Vision is to enable a safer and more comfortable commute to work for employees of India Inc.',\n",
       "       'LivFin is a non-banking financial company registered with the Reserve Bank of India (RBI)',\n",
       "       'A fashion startup based in Bengaluru.',\n",
       "       'Lattu kids is an edutainment platform for preschool kids.',\n",
       "       'Eggoz is a brand of fresh and chemical-free eggs, produced in tech-enabled & nutrition-engineered deep integration partnership with farmers.',\n",
       "       'Semiconductor company focused on CMOS millimeter wave products for Radar.',\n",
       "       'Charge+Zone provides services in renewable energy solutions, product development, and software engineering company.',\n",
       "       'Stones2milestones is India (Delhi) Based EdTech Company',\n",
       "       'AjnaLens develops AR/VR wearables primarily for the Defence, Education and enterprise customers.',\n",
       "       'Gully Network is a tech-enabled network of mid-sized grocery stores.',\n",
       "       'Talent Intelligence Platform for enterprises that helps recruiters discover the right candidates for a job using a Human-like AI',\n",
       "       'work with our customers closely to get their hair health sorted for long-term effective results',\n",
       "       'In the last five years, have served over 1.5 million orders and enjoy high customer satisfaction.',\n",
       "       'Mitron is a free short videoplatform for next generation',\n",
       "       'Svami is the result of three seasoned drinkers extending their love for libations to the larger world of drinks.',\n",
       "       'Expertrons is an AI video bot platform created to help students and professionals prepare for interviews.',\n",
       "       'Bizlog Value Chain enables re-commerce and circular economy through unique REVERSE LOGISTICS engine.',\n",
       "       'Tamasha offers a platform for influencers to host live, video based, real money contests and games.',\n",
       "       'Artificial Intelligence based Credit Score for Health',\n",
       "       'Fabhotels is the online aggregator for hotel rooms. It aims to provide standardized services at economical budgets.',\n",
       "       'an online lending platform started with an endeavour to solve the problem that SMEs face in accessing Quick, Flexible and Adequate funds for growing their Businesses.',\n",
       "       'Farming-as-a-service (covering farm machinery and agri input services) and provides market linkages, especially for fragmented farm owners.',\n",
       "       'A Smart Farming Technology Platform for Indian Farmers',\n",
       "       'CredAble provides working capital & supply chain finance programs for large enterprises and their suppliers and distributors.',\n",
       "       'Railofy is a WL & RAC protection that enables waitlisted passengers to reach their destination at the lowest possible price.',\n",
       "       'Teachmint is an easy to use platform for tutors to conduct unlimited live classes and manage their classrooms',\n",
       "       'Peel-Works is a tech and data analytics company specializing in e-commerce for corner stores.',\n",
       "       'Janani aims to make the process of infertility treatment and assisted fertilisation easier',\n",
       "       'A Used Luxury Car Marketplace',\n",
       "       'Wellversed Health enables production of customised clinical food products specific to health requirements of a demography or an individual.',\n",
       "       'Jumbotail is solving an important problem of organising food and grocery ecosystem in India through technology, data science and design.',\n",
       "       'WinZO is a mobile e-sports social gaming platform that offers monetary benefits and prizes to players.',\n",
       "       'MCaffeine is a personal care brand that offers caffein-infused face, body, and hair care products.',\n",
       "       'Pocket FM is an audiobook & podcast app that brings you over 10K+ popular audiobooks.',\n",
       "       'Snackible operates a health-food production company designed to sell healthy snack food via online and offline channels.',\n",
       "       'Jumbotail is solving an important problem of organising food and grocery ecosystem in India',\n",
       "       'TagZ Foods is a supplier of snacks and food products.',\n",
       "       'Genius Teacher creates engaging educational content, delivers fun learning experience to the students',\n",
       "       'Provider of marketing and warehousing services for agricultural commodities.',\n",
       "       \"GetVantage is India and Southeast Asia's first fintech enabled Revenue-based financing platform.\",\n",
       "       'Developer of a digital verification platform designed to manage the semi-formal workforce.',\n",
       "       \"India's 1st tech-enabled healthcare logistics platform.\",\n",
       "       'InVideo enables you to transform your content into great videos.',\n",
       "       'Retail tech platform empowering 300,000+ small retailers in electronics space to compete with big organised players and increase sales',\n",
       "       'A platform for automating home loans for middle and low-income households in India,',\n",
       "       'It is a cruelty-free makeup brand providing cosmetics that is high on style and higher on performance.',\n",
       "       \"It is creating 'building blocks for a Digital Trust system.\",\n",
       "       'It is conducting IIT JEE Coach for Physics, Math and Chemistry easily.',\n",
       "       'Developer and manufacturer of medical devices',\n",
       "       'Ultraviolette Automotive is a technology startup working on electric two-wheelers and energy infrastructure.',\n",
       "       'Tring is a celebrity engagement platform, for all occasions including birthday, anniversaries, get well soon messages.',\n",
       "       'Rare Planet sells handicrafts made by local artisans.',\n",
       "       \"GoodGamer is India's first Daily Fantasy Sports and true Esports gaming platform.\",\n",
       "       'A building a portfolio of novel medical devices designed, engineered, and priced for global Emerging Markets.',\n",
       "       'SoOLEGAL is a global integrated directory of lawyers, legal aid organizations, and Law firms.',\n",
       "       \"India's Activity Hub for Kids\",\n",
       "       \"Supplynote is India's leading procurement platform with a unique stack of SAAS and E-commerce to solve the procurement problem\",\n",
       "       \"India's largest cloud based digital discovery and services provisioning platform for the taxi rental\",\n",
       "       'Energy-efficient solutions based on the Artificial Intelligence, Machine Learning and Internet of Things technology,',\n",
       "       'Zomato is a food delivery and restaurant discovery site that provides information and reviews about restaurants.',\n",
       "       'Developer of an android application designed for businesses to sell online.',\n",
       "       'India’s Only 100% Inspected and Certified Used Bikes Marketplace.',\n",
       "       'An agritech company that provides business to business (B2B) agricultural data',\n",
       "       'RACEnergy builds and deploys battery swapping infrastructure for use in various segments of vehicles.',\n",
       "       \"A homegrown fitness startup that aims to advance the 'Fit India' initiative by offering holistic and affordable workouts.\",\n",
       "       'Provide quality and healthy food products',\n",
       "       \"India's Finest Specialty Tea company.\",\n",
       "       'Fleetx is an intelligent data platform which uses AI, machine learning, sensors and predictive analytics to help fleet owners.',\n",
       "       'Tech platform helping millions of renovation contractors, property improvement professionals and businesses manage their business digitally.',\n",
       "       'Retail Video Analytics SaaS product',\n",
       "       'AVATAAR.ME is a deep-tech 3D AR platform which delivers personalized fashion discovery experience to users on mobile devices.',\n",
       "       'MikeLegal is an AI powered legal associate that aims to build an ecosystem of legal tools',\n",
       "       'Miko is an advanced robotics startup founded by three IIT Bombay post-graduates on the pillars of robotics, AI & IoT.',\n",
       "       'Razorpay is a platform that enables businesses to accept, process, and disburse payments.',\n",
       "       'Ninjacart is a business-to-business fresh produce supply chain that connects farmers, manufactures, and brands to retailers directly.',\n",
       "       'Wow! Momo is a chain of fast-food restaurants that specializes in momos.',\n",
       "       'Pepper Content is a Content-Mediation Platform that connects talented writers to organisations that require content.',\n",
       "       'Livspace is an interior design startup that offers a platform that connects people to designers, services, and products.',\n",
       "       'Acculi Labs is a clinical grade smartphone based diagnostic tool',\n",
       "       'A helping hand to the farming community through Artificial Intelligence',\n",
       "       'Disprz is a one-of-its-kind “knowledge-tech” start-up that strives to make people knowledgeable, productive and smarter at what they do.',\n",
       "       'The team aims to bridge the gap for credit cards and make them more accessible for people across different regions.',\n",
       "       'CreditWise Capital is a consumer finance company.',\n",
       "       'Reliance Retail offers online shopping and a chain of neighborhood stores, supermarkets, and wholesale/specialty stores.',\n",
       "       'Winuall specializes in the fields of E-learning, online quizzes, and tests, study material for competitive exams.',\n",
       "       'An online platform where both owners and tenants find help in making sure their rental transaction are safe and secure.',\n",
       "       'Krishi-Tantra is an Agri-IoT startup building farm automation for controlled agricultural environment.',\n",
       "       'PakkaProfile bridges the gap between companies and the workforce by making better, unbiased decisions with the help of psychometric games',\n",
       "       'Pesto is a career accelerator for software engineers with the mission to take opportunities to places where talent exists.',\n",
       "       'NirogStreet is an Ayurvedic doctor discovery and appointment booking platform where patients can easily find doctors and fix consultation.',\n",
       "       'Bambrew is an online shop for reusable bamboo straws.',\n",
       "       'The gaming company mostly focused on fantasy football games',\n",
       "       \"Treebo is India's tech-enabled, asset-light affordable accommodation brand.\",\n",
       "       'To solve the urban waste problem by utilising local technologies and business models.',\n",
       "       'Video-led social app Public provides users with a platform to share and view important hyperlocal videos',\n",
       "       'Legal Salah is bringing the provision of imparting value based legal and consultancy services to the user.',\n",
       "       'FanPlay Technologies operates as a real-money gaming startup.',\n",
       "       'Eco friendly zero power zero maintenance sewage treatment plant in India.',\n",
       "       'Agrowave engages in transforming agriculture supply chain by connecting farms to businesses.',\n",
       "       'Sapio Analytics provides AI-powered policymaking solutions for government institutions.',\n",
       "       'Avanse, regulated by the Reserve Bank of India, is an education finance company that operates as a non-banking finance company (NBFC).',\n",
       "       \"India's largest industrial ecommerce platform\",\n",
       "       'Hopscotch provides an insider access to international brands for babies, kids, and moms.',\n",
       "       'Pristyn Care is Health Care Startup that is disrupting Day Care Procedures.',\n",
       "       'Acko General Insurance is a private sector general insurance company in India.',\n",
       "       'Invento Robotics specializes in developing service robots intended for customer interactions.',\n",
       "       'Infurnia Technologies is an eponymous cloud-based architecture design software platform.',\n",
       "       \"SuperCric is India's first strategy Cricket Manager simulation game\",\n",
       "       'GenieTalk as a virtual assistant uses AI to bring conversation commerce with a personalised experience on the app.',\n",
       "       'Classplus offers a mobile-first SaaS platform for 3000+ tutors to offer their curriculum and operations completely online.',\n",
       "       'Mobile Premier League(MPL) is a skill based E-Sports platform where you can play your favourite mobile games',\n",
       "       'Fourth Partner Energy provides turnkey rooftop solar energy solutions for customers in India.',\n",
       "       'Flipkart is an e-commerce marketplace that offers over 30 million products cross 70+ categories.',\n",
       "       'Vivriti Capital is a marketplace for small enterprises and individuals that lack efficient access to financial services.',\n",
       "       'An Indian educational technology and online tutoring firm',\n",
       "       'Melorra is an operator of an online jewelry store that is used to offer contemporary jewelry.',\n",
       "       'Reliance owns businesses across India engaged in energy, petrochemicals, textiles, natural resources',\n",
       "       'Experienced Venture Capital-General Partner focused on Technology investments.',\n",
       "       'A Bangalore based biotechnology company with focus on tissue engineering and regenerative medicine.',\n",
       "       'AI-enabled network of speakers and thought leaders, aka. experts',\n",
       "       'Provides News, Jobs, Information & Entertainment on WhatsApp, Absolutely free',\n",
       "       'NewsReach India offers partner publications a digital footprint',\n",
       "       'Dream11 is India’s Biggest Sports Game with 30 million+ users playing Fantasy Cricket',\n",
       "       'An AI-powered SaaS platform for corporate risk and due diligence for a comprehensive financial, legal, regulatory, and reputational risk analysis',\n",
       "       'Gaming and entertainment startup',\n",
       "       'VestaSpace Technology specialises in making small satellite platforms for commercial and scientific applications.',\n",
       "       'Dozee offers health and wellness monitoring products.',\n",
       "       'Known for its larger brands – Faasos, Behrouz Biryani, Oven story and Mandarin',\n",
       "       'Cosmetics & beauty products online',\n",
       "       'Crowdfunding, Charity, E-commerce',\n",
       "       'Banks that extends two distinct fixed deposit schemes',\n",
       "       'Venture Partners',\n",
       "       'Unacademy is an Indian online education technology company',\n",
       "       'Commercial Real Estate, Commercial Property Investment, Best Long Term Investments',\n",
       "       'Use transformative capital and a deep involvement strategy to help Indian entrepreneurs',\n",
       "       'WE HUB is the first-of-its-kind and only State-run platform for Women Entrepreneurs.',\n",
       "       'Get online food delivery from restaurants near you',\n",
       "       'A deep tech startup pioneering in motion-based interfaces and insights.',\n",
       "       'Gaana is a commercial music streaming service providing free and licensed music.',\n",
       "       'A pioneering organization in the farming-as-a service (FaaS) space',\n",
       "       'Shampoos, Conditioner & Hair Mask For Healthy, Happy Hair',\n",
       "       \"India's first do-it-yourself warehouse management system.\",\n",
       "       'Captures real-time data on crop growth conditions using on-farm sensors and delivers advisories to farmers in Indian languages',\n",
       "       'Transportation, logistics services & cargo services.',\n",
       "       'Check your latest Credit Score and get your Credit Report online in India for Free',\n",
       "       'A leader in crafting stylish, high-quality, eyewear at affordable prices.',\n",
       "       'CreditMantri is a provider of comprehensive Credit Analysis and Credit Improvement programs.',\n",
       "       'Given the rising trend in the number of tea stalls in the city',\n",
       "       'Deepsync is a revolutionary way to record your content, without you really speaking.',\n",
       "       'The company’s vision is simple – Connected Healthcare.',\n",
       "       'Retailer delivering superior value to its customers, suppliers and shareholders.',\n",
       "       'A platform that helps kids learn about life skills',\n",
       "       'Pitstop owns and operates a network of garages that provides car repair, detailing',\n",
       "       'Operates on a SaaS model by providing a hyper-personalised website to users.',\n",
       "       'HireMeCar.com offers customers the fastest and easiest way to plan road travel.',\n",
       "       'ShipsKart platform that streamlines the way marine stores are ordered, approved and received on board with the help of technology.',\n",
       "       'Financepeer is an AI based peer to peer lending platform.',\n",
       "       'Cashify.in is an e-commerce platform for reselling used electronic gadgets.',\n",
       "       'Etrio is an electric vehicle company in India with tata ace electric, Electric Tata ace HT',\n",
       "       'Codeyoung provides live online coding classes for kids between the age of 5 - 17.',\n",
       "       'Live online coding courses with social learning. Build coding skills, confident communication and leadership skills with your very own coach.',\n",
       "       \"India's Only Business School That Offers MBA & PGDM Programs With 100% Placement Assurance.\",\n",
       "       'Infilect Technologies specialises in visual content intelligence by parsing large-scale visual content such as photos and videos',\n",
       "       'An ecommerce platform for refurbished electronics.',\n",
       "       'Samunnati is a financial service provider focused on agri value chains.',\n",
       "       'Startup working dedicatedly in the area of healthcare-therapeutic solutions.',\n",
       "       \"Smallcases are portfolios of stocks or ETFs created by India's top financial experts.\",\n",
       "       'Assiduus leverages its eCommerce experience to help build, grow and scale your brand on various eCommerce platforms',\n",
       "       'AFK Gaming is a media and entertainment and gaming company located in Mumbai.',\n",
       "       'To deliver a solution that will provide shopping convenience to every consumer in India',\n",
       "       'A technology-enabled platform that helps MSMEs to increase their business efficiency through collection of dues',\n",
       "       'Mobile Premier League is the mobile e-Sports platform based in India.',\n",
       "       'Onsitego is a customer service company for device and appliance repairs.',\n",
       "       'AI-driven influencer marketing platform ClanConnect.ai, which helps brands make their campaigns more data and result-oriented',\n",
       "       'Servify is a self-learning platform that provides device management services and warranty solutions.',\n",
       "       'ShareChat is a social networking and regional content platform.',\n",
       "       'Rephrase.ai helps in creating high-quality videos and animations through an AI-powered visual dubbing tool.',\n",
       "       'Buy Latest Gold, Diamond & Gemstone Jewellery Designs Online Rings, Earrings, Necklace',\n",
       "       'FabHotels is a network of 3 star budget hotels in India',\n",
       "       'EkAnek Networks is a new startup that is focused on building the ecosystem for new age brands in lifestyle categories',\n",
       "       'Cub McPaws is a kids clothing brand.',\n",
       "       'Employee experience platform that empowers organizations to manage and retain great talent!',\n",
       "       'Pumpumpum is a car rental company',\n",
       "       'Burgerama is a unit of Junket Foods Private Limited',\n",
       "       'The Moms Co. creates a safe and natural formulated products for babies that are certified toxin-free',\n",
       "       'FPL is on a mission to re-imagine credit and payments from first principles and is building a mobile-first credit card',\n",
       "       'Fitness Social Network & Consultation Platform that helps you achieve your Health & Fitness goals.',\n",
       "       'An innovative EdTech startup from IITB & BITS alumni, offering B2B SaaS-based collaborative LMS for Schools and Universities',\n",
       "       'Cashkaro is a coupons and cashback site rewarding customers for visiting online retailers through their site.',\n",
       "       'Newton School is a platform to learn and develop skills',\n",
       "       'Airmeet is an all-in-one events platform for virtual summits, meetups, and workshops that includes virtual social lounge',\n",
       "       'Provide loans for all your needs like personal loan for wedding, education loan, business loan',\n",
       "       'Toppr is an Indian educational technology and online tutoring firm',\n",
       "       'Buy and Sell Used Cars',\n",
       "       'Offers a high-end digital classroom system focused on enhancing the learning experience',\n",
       "       'Enables top OEMs & ODMs in device distribution, sales, warranty',\n",
       "       'Online classes for Std 4-9 in Math, Science, Coding, English & Leadership with top 1% tutors ?',\n",
       "       'Can find all types of jobs from entry level to experienced people in over 60+ categories.',\n",
       "       'Building a suite of digital publishing solutions to simplify content creation, distribution',\n",
       "       'Order online and get free delivery from your nearby restaurants',\n",
       "       'Gain insights into human emotions with AI-powered platform affect lab.',\n",
       "       'Interior design marketplace that connects interior designers',\n",
       "       'Industries Automotive Electric Vehicle Energy Energy Storage',\n",
       "       'WinZO is a mobile e-Sports gaming platform in India. It is available in 10 regional languages of India.',\n",
       "       'SenseHawk is a SaaS platform that helps improve processes and saves cost in the development',\n",
       "       'Enables waitlisted passengers to reach their destination at the lowest possible price if their ticket is not',\n",
       "       'Social Commerce Venture for Wellness. View company info, jobs, team members, culture, funding and more.',\n",
       "       'A next dimension food & farming platform that unites two ends of the food chain from growing to consuming',\n",
       "       'Buildpan helps you with continuous build, development and user feedback for iOS and Android development.',\n",
       "       \"Explore 1000's of fully customizable home interior designs.\",\n",
       "       'Buy Makeup kit & Cosmetics Products from international makeup brand',\n",
       "       'A social impact focused housing finance company catering to housing needs of customers in semi urban areas',\n",
       "       'Flintobox is an India-based company that produces educational activity boxes for children',\n",
       "       \"WayCool is a social enterprise positively impacting the lives of India's farmers\",\n",
       "       'Create your own stream of Neo-banking and Deposit products using our bank-grade APIs',\n",
       "       'It aims to co-create intellectual property that can reside within the borders of the country.',\n",
       "       'Operates vernacular-language based education tech startup',\n",
       "       'BluSmart, an all-electric ride-hailing platform',\n",
       "       'Designs and develops electric power drives and autonomous electric mobility solutions',\n",
       "       'Mobile Premier League (also known as MPL) is the mobile e-Sports platform',\n",
       "       'A food science company using AI to predict consumer taste and food trends',\n",
       "       'Helps people navigate through and profit off financial markets',\n",
       "       'Leading Investment and Trading Platform',\n",
       "       \"Transforming India's health insurance industry with its digital solutions and AI products for automation\",\n",
       "       'A skill-tank nurturing students into disruptive, tech-empowered creators and future leaders',\n",
       "       'Ockypocky helps kids in learning spoken english',\n",
       "       'A multi-game platform',\n",
       "       \"They use flowers from temples across India's and create useful products such as rose incense cone\",\n",
       "       'A leading tech venture capital fund focused on enabling entrepreneurs in India.',\n",
       "       'An India online platform, which provides pharmacy, diagnostics, and e-consultation in India.',\n",
       "       'IDfy provides risk and fraud solutions',\n",
       "       'Earn money by meeting financial needs of your friends and neighbors.',\n",
       "       'A craft beer brand manufactured by B9 Beverages Pvt. Ltd.',\n",
       "       'MaxWholesale is an online distributor that provides authentic FMCG goods',\n",
       "       'Sells ethnic apparel, footwear, fashion accessories, beauty products, handcrafted home accessories',\n",
       "       \"India's first vernacular social gaming platform\",\n",
       "       'A gym to train your mind offering workouts and programmes',\n",
       "       'A revolutionary way to record your content, without you really speaking',\n",
       "       'Bring world-class business and professional education to a global audience',\n",
       "       \"India's largest exam preparation destination,\",\n",
       "       'Tracxn is the research partner for Venture Capitalist',\n",
       "       'Shopping experience and foster the growth of Indian brands and designers.',\n",
       "       'The largest provider of physiotherapy and rehabilitation services',\n",
       "       \"World's largest video publisher\",\n",
       "       'Get affordable AC bus-rides everyday',\n",
       "       \"India's only social fantasy gaming platform\",\n",
       "       'A wellness ecosystem built on the authentic foundations of Yoga',\n",
       "       'A distributed, global educational powerhouse that draws on technology',\n",
       "       'App for Hindu Puja Products & Services',\n",
       "       'A construction company doing house construction, building construction, commercial construction',\n",
       "       'Leading on all fronts of battery design',\n",
       "       \"India's leading fashion business platform\",\n",
       "       'Provides free whatsapp integrated E-Commerce Store',\n",
       "       'Tracking seasonal change in virtual forest',\n",
       "       'Organic superfoods & free personal health coaching that actually work.',\n",
       "       'One of the best dating Apps in India connecting singles across the country.',\n",
       "       'Enables users to play quizzes around celebrities and winners get a personalised video message from stars.',\n",
       "       'A free app that users can use to create contests and play',\n",
       "       'Provides online learning classes', 'Instant online loan app',\n",
       "       'AI based chit fund cashier app', 'Healthcare training company',\n",
       "       'Connects new-age digital first brands with relevant sellers',\n",
       "       'Develop emissions-free electric commercial vehicles',\n",
       "       'Offers an integrated system for schools by helping them digitize the entire curriculum',\n",
       "       'Allows users to share their travel experiences',\n",
       "       'Sea food Supply chain',\n",
       "       'Empowers tutors with tools to deliver effective learning outcomes for students and parents',\n",
       "       'Indian Earth observation startup',\n",
       "       'Applies modern science for healthier life through proprietary foods & digital ecosystem',\n",
       "       'An end-to-end CX platform enabled with the gig workforce',\n",
       "       'Provides end to end hiring support to companies',\n",
       "       'It automates invesments, expenses, borrowing under a single platform',\n",
       "       'OneScore app is built by FPL - Free credit scoring and monitoring',\n",
       "       'It trains tech aspirants in full stack wed and android development',\n",
       "       'Short Video and Social Platform',\n",
       "       'Provides working capital loans and business loans to MSMEs',\n",
       "       'Cataloguing startup that serves ecommerce platforms',\n",
       "       'Enables parents to pay their annual education fees in up to 12 monthly installments',\n",
       "       'Agri-inputs ecommerce player',\n",
       "       'Focusses on creating a transit led micro-payments ecosystem',\n",
       "       'Provides interior designing solutions',\n",
       "       'Offers B2B tech platform to corporates, aimed at improving the operations of their cafeterias',\n",
       "       'Sales augmentation platform with a vision to democratise AI for enterprises',\n",
       "       'Digital finance NBFC that provides affordable education loans',\n",
       "       'Provides loans to MSMEs',\n",
       "       'Platform helps to automate and analyse financial data',\n",
       "       'It builds high immersion training systems for enterprises',\n",
       "       'Short video platform', 'User-generated content platform',\n",
       "       'Platform gathers intel from external data to provide location-based data intelligence.',\n",
       "       'AI backed video analytics platform',\n",
       "       'Subscription-based Water purifier startup',\n",
       "       'An employee engagement HR analytics platform',\n",
       "       'Platform for monitoring distribution sub-station performance and operations',\n",
       "       'A reward-based fundraising and preselling platform',\n",
       "       'Cloud kitchen platform', 'Data pipeline startup',\n",
       "       'Cloud kitchen startup', 'Homegrown short video platform',\n",
       "       'Indian social network platform', 'It offers urban social space',\n",
       "       'It helps design programs and workshops for the psychological well-being of individuals',\n",
       "       'It caters to all health and wellness needs',\n",
       "       'Retail industry in rural India through technology, supply chain, and logistics facilities.',\n",
       "       'Game development studio',\n",
       "       'A video and livestream led commerce platform that makes online shopping engaging',\n",
       "       'It provides AI-based after school learning app for K12',\n",
       "       'Marketplace for stock market investors and advisors',\n",
       "       'It sells the world’s first payment-enabled hybrid smartwatches',\n",
       "       'Microfinance company that offers collateral-free credit to micro enterprises',\n",
       "       'It creates video content and podcasts',\n",
       "       'Largest startup in the distributed solar sector',\n",
       "       'Healthy snack startup', 'Asset Management Solutions',\n",
       "       'Community led professional network for women',\n",
       "       'Electric scooter manufacturer',\n",
       "       'Provides staffing solutions for businesses',\n",
       "       'It is building an asset-light farm by partnering with small farms on a profit-sharing model',\n",
       "       'Neobanking startup that digitises all banking transactions',\n",
       "       'It provides a conducive and healthy teaching, learning environment',\n",
       "       'mirrAR, helps jewellers sell jewellery with no physical inventory',\n",
       "       'It plans meals in consultation from fitness experts and nutritionists and prepares them in-house',\n",
       "       'Focusses on reversing chronic lifestyle disorders through functional nutrition.',\n",
       "       'Onine learning platform',\n",
       "       'It is a local discovery, rewards, and commerce platform',\n",
       "       'Commodity procurement platform',\n",
       "       'Online retailer that offers a range of on-the-go hot snacking and meals',\n",
       "       'A learning platform for developers', 'Security solutions startup',\n",
       "       'Offers leased car services',\n",
       "       'School Diary, a platform that brings education to smartphones',\n",
       "       'Owns and operates fashion commerce and retail management platform 6Degree',\n",
       "       'Online life skills development platform for children',\n",
       "       'Parking spot reservation platform',\n",
       "       'Provides health benefits to corporates',\n",
       "       'Owns and Operates two women-centric digital media platforms -- Stylecraze.com and Momjunction.com',\n",
       "       'Marketplace that provides on-demand work completion for companies through workforce of jobseekers',\n",
       "       'Online optical chain for eye wears',\n",
       "       'Offers parents and kids, a platform to browse and book extracurricular interest-based activities',\n",
       "       'Tea Brand', 'A brand that makes healthy icecream',\n",
       "       'It helps students to learn math online',\n",
       "       'Online platform for selling used cars',\n",
       "       'Digital entertainment and technology company',\n",
       "       'Electric vehicles startup', 'It sells herbal OTC products',\n",
       "       'It is building AI-powered infrastructure to analyse air quality, pollution etc',\n",
       "       'Provieds personalised learning to students by leveraging technology-driven models',\n",
       "       'Automated API-based platform that enables financial integrations.',\n",
       "       'It offers affordable housing apartments to young professionals and students',\n",
       "       'Women entreprenuers sells products and services to rural India',\n",
       "       'India’s first livestock health monitoring company',\n",
       "       'A finance lender to SMEs',\n",
       "       'Ecommerce platform for beverages and snacks',\n",
       "       'A platform that caters to evolving needs of institutions',\n",
       "       'Packaged snacks company',\n",
       "       'Indian fashion industry with on-trend products',\n",
       "       'A contactless retail store filled with fruits and veggies',\n",
       "       'Manufactures micro gas turbines for power-based application',\n",
       "       'A full stack B2B platform for industrial supplies',\n",
       "       'Focuses on building computer vision products for physical asset inspections',\n",
       "       'It developed integrated intellectual properties for defense',\n",
       "       'It is an educational subscription-box focussed at activity-based learning for the ages 2-12',\n",
       "       'B2B marketplace that connects manufacturing companies for industrial equipements',\n",
       "       'Offers enterprise private platform for chit fund firms',\n",
       "       'It provides banking solutions for teens and young adults',\n",
       "       'Construction technology and solutions provider',\n",
       "       'Group Payments platform', 'It creates video content',\n",
       "       'Digital platform that offers sexologist consultations for\\xa0\\xa0men',\n",
       "       'Provides quality Indian Snacks',\n",
       "       \"The parent company of women's fashion brands FabAlley and Indya\",\n",
       "       'A financial platform for youngsters',\n",
       "       'It designs and creates online multiplayer games',\n",
       "       'It sells sports nutrition supplements through a brand called Fast&Up',\n",
       "       'Medical robotics startup, focussed on developing rehabilitation devices',\n",
       "       'It offers collaborative workspace with varied amenities',\n",
       "       'Hyperlocal delivery service startup',\n",
       "       'Global online corporate deal sourcing and consulting marketplace',\n",
       "       'Find automobile repair and maintenance service providers',\n",
       "       'Produces Dairy Products', 'On-demand beauty services provider',\n",
       "       'AI-based video analytics, data, and insights bring benefits to manufacturers',\n",
       "       'It is a doubt-solving app for students from Class 6 to 12',\n",
       "       'An online aggregator of bonds and debentures available in the secondary market',\n",
       "       'It drives a cultural change in making yoga-based wellness a part of modern lifestyle',\n",
       "       'A platform that caters the need of customers in rural areas',\n",
       "       'It develops products focused on making hydroponics-based farming',\n",
       "       'Offers techno logistics solutions',\n",
       "       'Online-to-Offline platforms for mobile phones & accessories',\n",
       "       'It innovates cutting edge solutions for various problems in the healthcare system',\n",
       "       'It develops germicidal technologies',\n",
       "       'Online marketplace to search, compare and enrol in the best institutes for competitive exam preparation',\n",
       "       'Operates device management and support platform',\n",
       "       'It runs yoghurt brand Epigamia',\n",
       "       'Digital payments solutions company',\n",
       "       'Food development and distribution services',\n",
       "       'Their products address the needs in Early Stage Diagnostics, Bio-Similars and Nutraceuticals.',\n",
       "       'Startup working on technologies like blockchain and social media',\n",
       "       'Online job searching and recruiting platform',\n",
       "       'It provides clinical software for doctors',\n",
       "       'Intercity bus service startup',\n",
       "       'An online poker playing platform',\n",
       "       'Virtual travel guide platform',\n",
       "       'Supply chain that supports farmers and provides businesses with freshest produce',\n",
       "       'Provides healthy snacks for kids',\n",
       "       'It enables to order custom furniture online',\n",
       "       'Online marketplace that gives customers instant customised offers on loans and credit cards',\n",
       "       'Rental platform for furniture, appliances & electronics',\n",
       "       'All-in-one knowledge commerce SaaS platform',\n",
       "       'Nutraceutical company developing evidence-based nutrition and nutraceutical products,',\n",
       "       'A digital wealth management services',\n",
       "       'It provdes IVF treatments', 'Quality food solution',\n",
       "       'It operates Ola Money', 'Provides office space solutions',\n",
       "       'India-based hyperlocal delivery startup',\n",
       "       'Learning platform for K-10 students looking for personalised learning',\n",
       "       'The platform connects doctors with patients',\n",
       "       'Tech platform that connects logistics service seekers with mini-truck drivers',\n",
       "       'Helps online video creators, media companies, advertisers, and OTT platforms optimise their videos',\n",
       "       'It provides insurance products in rural areas',\n",
       "       'Hybrid crypto exchange platform',\n",
       "       'Home Down Payment Assistance Program',\n",
       "       'Startup focusses on electric vehicles',\n",
       "       'Offers various insurance products', 'Mental healthtech startup',\n",
       "       'Conversational AI startup',\n",
       "       'Offers free credit score and a detailed credit analysis report',\n",
       "       'Offers online payment solution,schemes, order management, insurance etc.,',\n",
       "       'Celebrity engagement platform',\n",
       "       'Online platform for legal, tax and compliance services',\n",
       "       'It helps SMEs to maintain their accounts and ledger online.',\n",
       "       'Provides technology backed, deep integration services to egg farmers',\n",
       "       'It helps coaching institutes in digitization',\n",
       "       'NBFC that provides funding to education system',\n",
       "       'AI enabled radiology platform',\n",
       "       'It organises corporate wellness programs',\n",
       "       'It provides financial services to self employed women entrepreneurs',\n",
       "       'Operates electric vehicle charging zone',\n",
       "       'Standardisation and Quality control of fruits & vegetables',\n",
       "       'Provides procurement, outsourcing services & contract management software',\n",
       "       'It offers a wide range of business related services like Branding, marketing, sales etc.,',\n",
       "       'Offers a free invoicing, payments and expense management system',\n",
       "       'Helps online businesses with visual content',\n",
       "       'Deals in cosmetic and wellness products',\n",
       "       'Online doctor consultation app',\n",
       "       'Merchant payment solutions startup',\n",
       "       'It builds small satellite paltforms',\n",
       "       'Provides trucking services', 'It offers Multiligual AI platform',\n",
       "       'Provides agricultural solution to farmers working in the greenhouse production of vegetables and fruits',\n",
       "       'Offers secured and unsecured loans',\n",
       "       \"AI-powered 'no-code' platform which can generate application development code\",\n",
       "       'Digital insurance platform for businesses',\n",
       "       'Live sports engagement platform',\n",
       "       'Ai driven supply chain platform',\n",
       "       'They are developing technology that can detect early cancerous cells',\n",
       "       'A digital platform that connects readers and writers in various languages',\n",
       "       'Online paltform to order biryani',\n",
       "       'Novel platform technologies to manage, diagnose, and treat various GI disorders',\n",
       "       'It is a technology company which serves as a platform for brands to offer end-to-end solutions to their users',\n",
       "       'It provides end to end cold chain logistics solutions',\n",
       "       'It helps doctors engage with patients, improve patient experience',\n",
       "       'It is a platform that digitalises local newspaper publishers, reporters, stringers by aggregating their content',\n",
       "       'It provides co-living and student rooms',\n",
       "       'It provides mobile-first software for coaching institutes, tuition centres and private tutors',\n",
       "       'It solves inadequacies in the healthcare delivery system through technology',\n",
       "       'It is alearning platform for kids in the age group 5 to 14 yrs',\n",
       "       'Platform for rooftop solar energy solutions',\n",
       "       'B2B retail operating system',\n",
       "       'AI video bot platform for career hacks', 'News portal',\n",
       "       'Contactless shopping and delivery experience by using radio frequency to tag retail items',\n",
       "       'It helps business gain insights from its community on Facebook groups',\n",
       "       'Fitness Social Network & Consultation Platform',\n",
       "       'It builds algorithmic investing-based tech products',\n",
       "       'Craft beer maker', 'Provides investment management solutions',\n",
       "       'Online Milk Delivery startup',\n",
       "       'Operates vernacular-language based education',\n",
       "       'Provides technology based solutions to SMEs in logistics',\n",
       "       'Pan-India Credit providing platform',\n",
       "       'It is a wireless cloud-based access control system',\n",
       "       'A marketplace to buy and sell used bikes and scooters',\n",
       "       'It is a platform that gives agricultural commodity at better prices, increased working capital, and optimised logistics',\n",
       "       'A drug discovery company that aims to discover novel treatment options for resistant bacterial infections',\n",
       "       'Water purifier subscription service',\n",
       "       'Banking and payment products-focused API platform',\n",
       "       'Provides fresh dairy products',\n",
       "       'Sells its organic and beauty products via marketplace',\n",
       "       'Platform for vernacular test-preparation',\n",
       "       'Online real estate rental startup',\n",
       "       'Enables to order food online',\n",
       "       'Online platform that provides working capital finance to SMEs',\n",
       "       'Platform for business travel', 'Source-to-Pay Software',\n",
       "       'It offers conversational chatbots',\n",
       "       'E-sports and real-time gaming startup',\n",
       "       'It offers a digital therapeutics service',\n",
       "       'Offers health supplements related gummies',\n",
       "       'It helps companies with moving assets  increase revenues and demand using real time location data and analytics',\n",
       "       'It enables businesses to execute, track, predict and oprimize the movements of goods',\n",
       "       'Logistics and fleet management',\n",
       "       'Hyperlocal data distribution platform', 'Online grocery store',\n",
       "       'It Provides an interactive fiction entertainment platform to entertain & educate Gen Z & Millennials in a language they understand',\n",
       "       'Online teaching service',\n",
       "       'Platform to order food online from restaurants and getting it delievered',\n",
       "       'Online food delivery and restaurant discovery platform',\n",
       "       'Online payment solutions', 'Provides payment solutions',\n",
       "       'The platform enables AI-powered reconciliation of digital transactions',\n",
       "       'Furniture rental startup',\n",
       "       'App meant for small and micro businessmen to manage their transactions digitally',\n",
       "       'Offers solutions to cloud kitchens by providing commercial space and kitchen infrastructure to assisting with branding and other services',\n",
       "       'It connects students with tutors online',\n",
       "       'Genetic diagnostic testing company',\n",
       "       'It enables farmers to digitise their foodgrain and also provide access to supply chain solutions',\n",
       "       'They help find solutions to insurance related issues',\n",
       "       'Cancer diagnostics startup',\n",
       "       'Integrated platform for food, fitness and meditation.',\n",
       "       'Cloud data managemnt solutions enterprise',\n",
       "       'Builds IoT based products', 'Electric vehicle startup',\n",
       "       'It is an online and live video-streaming platform that allows trainers and fitness enthusiasts to connect and engage in interactive online classes.',\n",
       "       'Online marketplace for ethnic wear',\n",
       "       'Offers financial products for SMEs',\n",
       "       'It offers various healthy snacks',\n",
       "       'It connects women to healthproviders for specialities like infertility, maternity etc.,',\n",
       "       'Smart Phone Dialer', 'Paint Company',\n",
       "       'B2B Marketplace for Overstock & Surplus Inventory',\n",
       "       'Ambulance service', 'Doorstep car service',\n",
       "       'Online marketplace that provides career counselling and college guidance',\n",
       "       'E-commerce for corner/retail stores.',\n",
       "       'Enterprise cloud governance technology startup',\n",
       "       'Digital lending startup',\n",
       "       'It designs, fabricates, tests and launch orbital class launch vehicles',\n",
       "       'It specialises in solar rooftop design, installation, and management using technology',\n",
       "       'A puja cotton-wicks manufacturing startup',\n",
       "       'It helps Indian artisans and SMEs reach out to global retailers',\n",
       "       'A tech-enabled ID verification and data collection startup',\n",
       "       'Platform is an end-to-end college and career counselling platform for students',\n",
       "       'Electric vehicle',\n",
       "       'It curates apartments from the homeowners, performs the quality check and offers the homes with built-in services to the potential tenants',\n",
       "       'It allows parents to send money to their kids below the age of 18, which they can spend securely under parent supervision.',\n",
       "       'Automated flexible parcel sorting solutions for logistics providers',\n",
       "       'Specialisde corporate cards for startups',\n",
       "       'A platform to host, discover, and attend fully remote events like conferences and professional meet-ups',\n",
       "       'Flavoured and greek yoghurt brand',\n",
       "       'Marketplace for fashionable apparel',\n",
       "       'Provides a structured educational approach to critical thinking and problem solving skills',\n",
       "       'Online store to buy various types of socks including funky and colorful socks',\n",
       "       'Retail Aggregator', 'Real estate investment platform',\n",
       "       'Provides sales professionals with intelligence on various aspects of the sales pitch',\n",
       "       'Provides post-harvest services across the agricultural value chain',\n",
       "       'Provides education loans to students based on the student’s future income',\n",
       "       'It sells ready to drink cold brew coffees, brew boxes and packs.',\n",
       "       'Provides virtual cardiology services through its AI-powered healthcare platforms',\n",
       "       'Inter-City Mobility Startup', 'Real estate consultancy firms',\n",
       "       'Offers a variety of bikes and scooters that can be rented on a subscription basis',\n",
       "       'Marketplace for small business owners, offering them products around lending, credit cards etc',\n",
       "       'Financial lending firm to SMEs',\n",
       "       'It offers content and material via video, adopting a dual-teacher model with IIT and NIT alumni',\n",
       "       'Used car retailing platform',\n",
       "       'A premium chain of youth hostels catering to the millennials',\n",
       "       'Housing finance company',\n",
       "       'A scooter-sharing platform allowing users to rent a two-wheeler from specific designated pick up points',\n",
       "       'Artificial intelligence-based video publishing network',\n",
       "       'Provides interpretations of radiology scans',\n",
       "       'It leverages a Machine Learning-based approach to generate a comprehensive report on predictive analytics',\n",
       "       'Community of young individuals providing a platform to showcase their stories',\n",
       "       'Provides easy loans', 'A complete Indian railways app',\n",
       "       'It leverages technologies such as AR, VR & AI to offer hardware in areas such as education and defence',\n",
       "       'End to end content creation platform',\n",
       "       'An asset backed online lending platform',\n",
       "       'Turns information into data that is usable for machine learning processes',\n",
       "       'Digital payments platform',\n",
       "       'Enables a shop to create an online presence',\n",
       "       'NBFC that lends to micro, small, and medium-sized enterprises (MSMEs)',\n",
       "       'Women health care and wellness product',\n",
       "       'Provides traditional delicacies',\n",
       "       'Digital adoption platform that helps companies provide intuitive onboarding, training and support',\n",
       "       'Platform that offers online education in India',\n",
       "       'An online platform where users can search and buy properties listed by developers and brokers',\n",
       "       'General Insurance Company', 'Intercity transportation',\n",
       "       'B2B ecommerce platform for kirana stores',\n",
       "       'Framework to enable personalised learning using artificial intelligence (AI) and machine learning (ML).',\n",
       "       \"Provides neighbourhood learning zones where children learn and develop 'new-age' skills under one roof\",\n",
       "       'AI automation platform for enterprise quality control',\n",
       "       'It enables community opinion influencers to sell products to thousands of micro-communities in India',\n",
       "       'App based bus aggregator serice', 'Student Co-living startup',\n",
       "       'The learning platform that blends curriculum-based activities for children',\n",
       "       'Co working space startup',\n",
       "       'Provides interactive fitness experience to people across the world',\n",
       "       'Offer cybersecurity services', 'Wealth Management',\n",
       "       'Online learning platform',\n",
       "       'Operates in the residential construction space',\n",
       "       'Customer analytics and cross-channel engagement platform',\n",
       "       'Restaurant management software provider',\n",
       "       'Online home furniture marketplace', 'Baby products marketplace',\n",
       "       'Multi-channel broadcast network',\n",
       "       'Agricultural warehousing and logistics company',\n",
       "       'Stock photo industry',\n",
       "       'Sustainable system to feed animals by valorizing food residues and surplus into highly nutritious feeds',\n",
       "       'Provides crash course for NEET preparation',\n",
       "       'It provides digital transformation and commerce solutions to brick and mortar outlets',\n",
       "       'A podcast platform',\n",
       "       'Provides financial tools for effective business making',\n",
       "       'It sells modern age bicycles named FROG',\n",
       "       'An entrepreneur-focused hostel chain present in multiple locations across the world.',\n",
       "       'It provides AI-based data analytics to personalise learning outcomes',\n",
       "       'Trains students in managemnt and leadership skills and also helps in placement',\n",
       "       'Provides Gluten-free food', 'Online pharmacy',\n",
       "       'Provides financial assistance to MSMEs',\n",
       "       'Multi-lingual digital solutions platform for students',\n",
       "       'It is an online and outdoor advertising company',\n",
       "       'Integrated supply chain for farmers to sell their produce directly to buyers',\n",
       "       'Intercity transportation startup',\n",
       "       'It develops fully-customisable open source software',\n",
       "       'Provides a treatment solution for skincare and hair fall issues with an artificial intelligence-enabled solution',\n",
       "       'Helps students solve problems at complex level',\n",
       "       'Platform that provides coding and interview preparation course by industry professionals from tech companies',\n",
       "       'Runs real estate SaaS platform MultiplyMyLeads.com.',\n",
       "       'An Artificial Intelligence and Machine learning based wealth management platform',\n",
       "       'A B2B marketplace for packaging materials',\n",
       "       'Mobile marketing analytics and attribution platform',\n",
       "       'It offers end-to-end home design experience for homeowners and home designers',\n",
       "       'Revenue based finance provider', 'Provides online coding courses',\n",
       "       'Retail payment and hardware company',\n",
       "       'Augmented writing platform which improves customer interest and engagement.',\n",
       "       'Integrated platform for Receivables and Payables automation, Electronic Invoicing, Reconciliations and Bank payouts',\n",
       "       'Offers hygienic Indian Snacks',\n",
       "       'Offers diagnostic and screening services with regular counselling and clinical data management',\n",
       "       'Provides technology-led, subscription-based learning solutions to schools',\n",
       "       'Provides Vegan dairy products', 'Global premium tea brand',\n",
       "       'A car rental service platform',\n",
       "       'Automates everyday HR processes with integrated solutions',\n",
       "       'Online pharmacy dealing in medicines',\n",
       "       'Provides IoT-enabled treadmill',\n",
       "       'AI-based platform that explains and interprets blood tests and medical reports',\n",
       "       'Automated platform which will help users to take their financial decisions',\n",
       "       'Deals in office supplies',\n",
       "       'Admission Marketing Automation software for the education industry',\n",
       "       'Investment advisor', 'It sells products crafted by artisans',\n",
       "       'Provides intelligent field service automation',\n",
       "       'Provides tech-enabled, end-to-end childcare support solutions for corporate and retail consumers',\n",
       "       'Collaboration and productivity platform for teachers across the world',\n",
       "       'Digital lending', 'Online grocery delivery platform',\n",
       "       'Celebrity engagement and wishing platform',\n",
       "       'Enterprise productivity startup',\n",
       "       'Ayurveda wellness and lifestyle consumer brand',\n",
       "       'Provides platform for Corporates to connect establish brand presence among innovation community',\n",
       "       'Provides effective Instant Coffee Infused with Natural Brain Vitamins & Plant Based Cognitive Enhancers',\n",
       "       'Solar module cleaning system [MCS] providers',\n",
       "       'Provides online courses on foundational skills',\n",
       "       'Medical device manufacturer',\n",
       "       'Provides cardless cash withdrawals through small merchants shops',\n",
       "       'Online fashion store', 'Generic medicine focussed retail chain',\n",
       "       'An AI-based platform, to automate accounts receivables and treasury processes.',\n",
       "       'It offers a range of tea in various flavour',\n",
       "       'It offers delivery services across India to retail, e-commerce, pharmaceutical, automobile and FMCG companies',\n",
       "       'It helps developers to test, integrate and deploy apps',\n",
       "       'A design solution based company',\n",
       "       'Online tax planning and filing platform',\n",
       "       'A micro finance company',\n",
       "       'Smart agriculture management ERP software platform',\n",
       "       'Women’s fashion and apparel',\n",
       "       'AI enabled marketplace that provides career guidance',\n",
       "       'Online makeup and beauty products retailer',\n",
       "       'Networked logistics management software'], dtype=object)"
      ]
     },
     "execution_count": 310,
     "metadata": {},
     "output_type": "execute_result"
    }
   ],
   "source": [
    "# Show the unique values\n",
    "data_2020['What_it_does'].unique()"
   ]
  },
  {
   "cell_type": "code",
   "execution_count": 311,
   "metadata": {},
   "outputs": [
    {
     "data": {
      "text/plain": [
       "What_it_does\n",
       "Onine learning platform                                                                                                             4\n",
       "Nykaa is an online marketplace for different beauty and wellness products.                                                          3\n",
       "Credgenics is a tech-enabled platform backed by Titan Capital, helping fintech lenders and Banks in their critical NPA reduction    3\n",
       "A finance lender to SMEs                                                                                                            3\n",
       "Offers techno logistics solutions                                                                                                   3\n",
       "                                                                                                                                   ..\n",
       "Gaana is a commercial music streaming service providing free and licensed music.                                                    1\n",
       "A pioneering organization in the farming-as-a service (FaaS) space                                                                  1\n",
       "Shampoos, Conditioner & Hair Mask For Healthy, Happy Hair                                                                           1\n",
       "India's first do-it-yourself warehouse management system.                                                                           1\n",
       "Networked logistics management software                                                                                             1\n",
       "Name: count, Length: 840, dtype: int64"
      ]
     },
     "execution_count": 311,
     "metadata": {},
     "output_type": "execute_result"
    }
   ],
   "source": [
    "# Check for the value counts\n",
    "\n",
    "data_2020['What_it_does'].value_counts()"
   ]
  },
  {
   "cell_type": "code",
   "execution_count": 312,
   "metadata": {},
   "outputs": [
    {
     "data": {
      "text/plain": [
       "dtype('O')"
      ]
     },
     "execution_count": 312,
     "metadata": {},
     "output_type": "execute_result"
    }
   ],
   "source": [
    "# Check for the data type\n",
    "data_2020['What_it_does'].dtype"
   ]
  },
  {
   "cell_type": "code",
   "execution_count": 313,
   "metadata": {},
   "outputs": [
    {
     "data": {
      "text/plain": [
       "0"
      ]
     },
     "execution_count": 313,
     "metadata": {},
     "output_type": "execute_result"
    }
   ],
   "source": [
    "# Find the null values\n",
    "data_2020['What_it_does'].isna().sum()"
   ]
  },
  {
   "cell_type": "markdown",
   "metadata": {},
   "source": [
    "Checking for the inconsistencies and cleaning column Amount"
   ]
  },
  {
   "cell_type": "code",
   "execution_count": 314,
   "metadata": {},
   "outputs": [
    {
     "data": {
      "text/plain": [
       "array([2.0000000e+05, 1.0000000e+05,           nan, 4.0000000e+05,\n",
       "       3.4000000e+05, 6.0000000e+05, 4.5000000e+07, 1.0000000e+06,\n",
       "       2.0000000e+06, 1.2000000e+06, 6.6000000e+08, 1.2000000e+05,\n",
       "       7.5000000e+06, 5.0000000e+06, 5.0000000e+05, 3.0000000e+06,\n",
       "       1.0000000e+07, 1.4500000e+08, 1.0000000e+08, 2.1000000e+07,\n",
       "       4.0000000e+06, 5.6000000e+05, 2.7500000e+05, 2.0000000e+07,\n",
       "       4.5000000e+06, 1.5000000e+07, 3.9000000e+08, 7.0000000e+06,\n",
       "       5.1000000e+06, 7.0000000e+08, 2.3000000e+06, 7.0000000e+05,\n",
       "       1.9000000e+07, 9.0000000e+06, 4.0000000e+07, 7.5000000e+05,\n",
       "       1.5000000e+06, 7.8000000e+06, 5.0000000e+07, 8.0000000e+07,\n",
       "       3.0000000e+07, 1.7000000e+06, 4.0000000e+04, 3.5000000e+07,\n",
       "       3.0000000e+05, 2.5000000e+07, 3.5000000e+06, 2.0000000e+08,\n",
       "       6.0000000e+06, 1.3000000e+06, 4.1000000e+06, 8.0000000e+05,\n",
       "       2.8000000e+07, 1.8000000e+07, 3.2000000e+06, 2.5000000e+05,\n",
       "       4.7000000e+06, 1.2100000e+08, 3.3000000e+06, 1.1000000e+07,\n",
       "       1.6000000e+07, 5.4000000e+06, 2.5000000e+06, 5.2000000e+07,\n",
       "       1.1000000e+06, 9.0000000e+05, 4.2000000e+06, 1.6000000e+06,\n",
       "       1.8500000e+07, 7.0000000e+10, 8.0000000e+08, 1.5000000e+05,\n",
       "       6.0000000e+07, 2.4000000e+05, 7.4000000e+07, 6.2000000e+07,\n",
       "       5.0000000e+08, 1.2500000e+07, 2.2000000e+09, 5.0600000e+06,\n",
       "       2.2500000e+08, 2.4700000e+07, 7.7000000e+06, 1.5000000e+08,\n",
       "       1.9067328e+07, 5.1000000e+07, 1.1500000e+05, 5.4000000e+04,\n",
       "       2.0000000e+04, 8.0314600e+05, 2.3800000e+05, 1.0220000e+07,\n",
       "       1.0200000e+06, 1.3400000e+07, 2.9000000e+06, 5.4300000e+05,\n",
       "       9.0000000e+07, 2.3000000e+07, 8.0900000e+06, 1.0300000e+06,\n",
       "       5.0400000e+06, 3.6000000e+05, 8.0000000e+06, 6.5000000e+05,\n",
       "       1.2000000e+07, 4.2500000e+07, 1.1370000e+07, 3.2500000e+05,\n",
       "       4.1000000e+05, 4.5000000e+05, 6.8200000e+05, 4.0500000e+06,\n",
       "       1.0500000e+06, 4.3000000e+06, 1.4000000e+06, 6.8000000e+06,\n",
       "       2.1100000e+06, 7.6400000e+05, 6.0300000e+05, 4.0900000e+05,\n",
       "       2.9200000e+05, 2.8600000e+05, 1.3600000e+05, 5.4600000e+05,\n",
       "       8.8700000e+05, 4.3000000e+04, 4.0900000e+04, 2.2000000e+06,\n",
       "       3.5000000e+05, 1.1000000e+05, 1.2200000e+08, 1.1635000e+07,\n",
       "       2.8000000e+06, 1.0650000e+06, 1.6076000e+07, 6.4960000e+05,\n",
       "       6.7000000e+06, 2.2000000e+05, 2.6650000e+05, 2.8790000e+06,\n",
       "       2.6500000e+07, 3.5100000e+05, 4.6761000e+07, 1.7500000e+05,\n",
       "       1.1241000e+07, 8.0400000e+05, 1.3400000e+06, 4.6700000e+05,\n",
       "       1.3300000e+05, 3.8230000e+06, 9.3400000e+05, 2.9300000e+05,\n",
       "       1.9800000e+05, 9.2700000e+05, 9.7100000e+05, 3.0600000e+06,\n",
       "       1.8620000e+06, 2.3200000e+05, 2.8880000e+06, 1.3280000e+06,\n",
       "       1.5500000e+07, 5.6000000e+07, 2.2500000e+06, 1.6753000e+07,\n",
       "       3.7000000e+06, 1.4700000e+06, 5.3000000e+05, 2.6700000e+05,\n",
       "       3.3440000e+06, 7.2000000e+06, 2.7430000e+06, 6.0820000e+06,\n",
       "       6.6090000e+06, 2.7700000e+07, 5.9400000e+06, 5.5000000e+06,\n",
       "       1.9700000e+05, 4.3270000e+06, 4.5900000e+05, 3.9370000e+06,\n",
       "       1.3135000e+06, 2.2980000e+05, 5.3050000e+06, 2.6400000e+05,\n",
       "       1.7500000e+06, 5.9670000e+06, 2.9800000e+06, 3.2300000e+05,\n",
       "       1.3260000e+06, 2.7000000e+07, 5.2000000e+06, 5.5000000e+07,\n",
       "       2.5300000e+06, 7.9200000e+05, 1.1363000e+07, 1.7150000e+06,\n",
       "       3.2900000e+05, 5.2710000e+06, 8.7000000e+06, 3.2260000e+06,\n",
       "       5.9000000e+06, 4.4000000e+07, 3.8790000e+06, 8.8000000e+06,\n",
       "       9.5000000e+06, 9.2000000e+05, 9.4000000e+06, 7.9000000e+05,\n",
       "       4.8000000e+05, 1.6000000e+05, 8.2000000e+06, 4.2570000e+06,\n",
       "       1.4100000e+06, 3.4980000e+05, 7.8600000e+05, 2.0040000e+06,\n",
       "       1.2300000e+08, 2.4800000e+05, 1.3000000e+07, 2.4500000e+07,\n",
       "       3.8000000e+06, 1.8370000e+07, 6.8525000e+07, 4.8000000e+06,\n",
       "       2.3850000e+07, 4.3000000e+07, 2.1600000e+07, 4.5980000e+06,\n",
       "       1.3137000e+07, 1.1500000e+08, 3.9000000e+06, 8.5000000e+06,\n",
       "       3.1480000e+06, 4.0495000e+06, 1.0500000e+07, 6.5000000e+06,\n",
       "       4.3700000e+07, 1.3800000e+07, 3.0690000e+05, 7.5000000e+07,\n",
       "       6.2730000e+05, 1.1300000e+08, 3.2000000e+07, 1.1000000e+08,\n",
       "       4.4850000e+05, 7.9757000e+06, 3.3000000e+05, 5.6000000e+06,\n",
       "       2.4000000e+07, 1.4020000e+06, 2.9600000e+08, 1.2618300e+07,\n",
       "       9.9000000e+06, 9.8253000e+05, 2.1000000e+08, 8.4000000e+07,\n",
       "       2.7000000e+06, 1.4034000e+06, 1.0500000e+08, 1.2700000e+04,\n",
       "       2.5000000e+04, 9.7500000e+07, 5.0700000e+05, 1.2500000e+08,\n",
       "       3.4000000e+06, 2.8000000e+05, 1.4700000e+07, 8.0430000e+06])"
      ]
     },
     "execution_count": 314,
     "metadata": {},
     "output_type": "execute_result"
    }
   ],
   "source": [
    "# Display the unique values\n",
    "data_2020['Amount'].unique()"
   ]
  },
  {
   "cell_type": "code",
   "execution_count": 315,
   "metadata": {},
   "outputs": [
    {
     "data": {
      "text/plain": [
       "dtype('float64')"
      ]
     },
     "execution_count": 315,
     "metadata": {},
     "output_type": "execute_result"
    }
   ],
   "source": [
    "# Check the data type\n",
    "data_2020['Amount'].dtype"
   ]
  },
  {
   "cell_type": "code",
   "execution_count": 316,
   "metadata": {},
   "outputs": [
    {
     "data": {
      "text/plain": [
       "230"
      ]
     },
     "execution_count": 316,
     "metadata": {},
     "output_type": "execute_result"
    }
   ],
   "source": [
    "# Check for the NAN values\n",
    "data_2020['Amount'].isna().sum()"
   ]
  },
  {
   "cell_type": "code",
   "execution_count": 317,
   "metadata": {},
   "outputs": [
    {
     "data": {
      "text/plain": [
       "count    6.680000e+02\n",
       "mean     1.265499e+08\n",
       "std      2.709604e+09\n",
       "min      1.270000e+04\n",
       "25%      9.796475e+05\n",
       "50%      3.000000e+06\n",
       "75%      1.000000e+07\n",
       "max      7.000000e+10\n",
       "Name: Amount, dtype: float64"
      ]
     },
     "execution_count": 317,
     "metadata": {},
     "output_type": "execute_result"
    }
   ],
   "source": [
    "# Show the summary statistics\n",
    "data_2020['Amount'].describe()"
   ]
  },
  {
   "cell_type": "code",
   "execution_count": 318,
   "metadata": {},
   "outputs": [],
   "source": [
    "# Fill the null values with 0\n",
    "# data_2020['Amount'] = pd.to_numeric(data_2020['Amount'], errors='coerce')\n",
    "\n",
    "\n",
    "# data_2020.fillna(0, inplace=True)\n",
    "data_2020.dropna(subset='Amount', inplace=True)\n"
   ]
  },
  {
   "cell_type": "code",
   "execution_count": 319,
   "metadata": {},
   "outputs": [
    {
     "data": {
      "text/plain": [
       "0"
      ]
     },
     "execution_count": 319,
     "metadata": {},
     "output_type": "execute_result"
    }
   ],
   "source": [
    "data_2020['Amount'].isna().sum()"
   ]
  },
  {
   "cell_type": "markdown",
   "metadata": {},
   "source": [
    "Checking for the inconsistencies and cleaning column Stage"
   ]
  },
  {
   "cell_type": "code",
   "execution_count": 320,
   "metadata": {},
   "outputs": [
    {
     "data": {
      "text/plain": [
       "array([None, 'Pre-seed', 'Seed', 'Pre-series A', 'Series C', 'Series A',\n",
       "       'Series B', 'Debt', 'Pre-series C', 'Series E', 'Series D',\n",
       "       'Bridge', 'Series B2', 'Pre-series B', 'Edge', 'Series H',\n",
       "       'Pre-Series B', 'Seed A', 'Series A-1', 'Seed round',\n",
       "       'Seed Round & Series A', 'Pre Series A', 'Pre series A1',\n",
       "       'Series E2', 'Pre series A', 'Seed Round', 'Pre series B',\n",
       "       'Pre series C', 'Angel Round', 'Series D1', 'Mid series',\n",
       "       'Pre seed round', 'Series F', 'Seed funding', 'Seed Funding'],\n",
       "      dtype=object)"
      ]
     },
     "execution_count": 320,
     "metadata": {},
     "output_type": "execute_result"
    }
   ],
   "source": [
    "# Display the unique values\n",
    "data_2020['Stage'].unique()"
   ]
  },
  {
   "cell_type": "code",
   "execution_count": 321,
   "metadata": {},
   "outputs": [
    {
     "data": {
      "text/plain": [
       "Stage\n",
       "Series A                 72\n",
       "Seed                     52\n",
       "Series B                 46\n",
       "Series C                 41\n",
       "Seed Round               36\n",
       "Pre-series A             34\n",
       "Pre series A             31\n",
       "Series D                 22\n",
       "Debt                     14\n",
       "Pre Series A              9\n",
       "Seed round                6\n",
       "Pre-seed                  6\n",
       "Series E                  6\n",
       "Series F                  3\n",
       "Bridge                    3\n",
       "Pre-series B              3\n",
       "Pre series B              2\n",
       "Seed funding              2\n",
       "Series B2                 2\n",
       "Pre-series C              2\n",
       "Pre seed round            1\n",
       "Mid series                1\n",
       "Series D1                 1\n",
       "Angel Round               1\n",
       "Pre series C              1\n",
       "Series A-1                1\n",
       "Series E2                 1\n",
       "Pre series A1             1\n",
       "Seed Round & Series A     1\n",
       "Seed A                    1\n",
       "Pre-Series B              1\n",
       "Series H                  1\n",
       "Edge                      1\n",
       "Seed Funding              1\n",
       "Name: count, dtype: int64"
      ]
     },
     "execution_count": 321,
     "metadata": {},
     "output_type": "execute_result"
    }
   ],
   "source": [
    "# Show the value counts\n",
    "data_2020['Stage'].value_counts()"
   ]
  },
  {
   "cell_type": "code",
   "execution_count": 322,
   "metadata": {},
   "outputs": [
    {
     "data": {
      "text/plain": [
       "262"
      ]
     },
     "execution_count": 322,
     "metadata": {},
     "output_type": "execute_result"
    }
   ],
   "source": [
    "# Check for the null values\n",
    "data_2020['Stage'].isna().sum()"
   ]
  },
  {
   "cell_type": "code",
   "execution_count": 323,
   "metadata": {},
   "outputs": [
    {
     "data": {
      "text/plain": [
       "dtype('O')"
      ]
     },
     "execution_count": 323,
     "metadata": {},
     "output_type": "execute_result"
    }
   ],
   "source": [
    "# Check for  the data type\n",
    "data_2020['Stage'].dtype"
   ]
  },
  {
   "cell_type": "code",
   "execution_count": 324,
   "metadata": {},
   "outputs": [],
   "source": [
    "# fill the null value using filna with Undisclosed\n",
    "data_2020['Stage'].fillna(value='Undisclosed', inplace=True)"
   ]
  },
  {
   "cell_type": "code",
   "execution_count": 325,
   "metadata": {},
   "outputs": [
    {
     "data": {
      "text/plain": [
       "0"
      ]
     },
     "execution_count": 325,
     "metadata": {},
     "output_type": "execute_result"
    }
   ],
   "source": [
    "# Check if the null values were filled\n",
    "data_2020['Stage'].isna().sum()"
   ]
  },
  {
   "cell_type": "markdown",
   "metadata": {},
   "source": [
    "Sart-ups funding in Indian is grouped into 7 stages;\n",
    "1. Pre-seed\n",
    "2. Seed\n",
    "3. Series A\n",
    "4. Series B\n",
    "5. Series C\n",
    "6. Series D\n",
    "7. Series E\n",
    "However, Series B,C,D and E can be grouped together because these stages share almost the same characteristics, Start-ups at this stages are considered stable and have started generating revenue to further grow their businesses.\n",
    "In this project I will group the four stages together."
   ]
  },
  {
   "cell_type": "code",
   "execution_count": 326,
   "metadata": {},
   "outputs": [
    {
     "data": {
      "text/plain": [
       "array(['Undisclosed', 'Pre-seed', 'Seed', 'Pre-series A', 'Series C',\n",
       "       'Series A', 'Series B', 'Debt', 'Pre-series C', 'Series E',\n",
       "       'Series D', 'Bridge', 'Series B2', 'Pre-series B', 'Edge',\n",
       "       'Series H', 'Pre-Series B', 'Seed A', 'Series A-1', 'Seed round',\n",
       "       'Seed Round & Series A', 'Pre Series A', 'Pre series A1',\n",
       "       'Series E2', 'Pre series A', 'Seed Round', 'Pre series B',\n",
       "       'Pre series C', 'Angel Round', 'Series D1', 'Mid series',\n",
       "       'Pre seed round', 'Series F', 'Seed funding', 'Seed Funding'],\n",
       "      dtype=object)"
      ]
     },
     "execution_count": 326,
     "metadata": {},
     "output_type": "execute_result"
    }
   ],
   "source": [
    "data_2020['Stage'].unique()"
   ]
  },
  {
   "cell_type": "markdown",
   "metadata": {},
   "source": [
    "Create a Stage_category column from the Stage column"
   ]
  },
  {
   "cell_type": "code",
   "execution_count": 327,
   "metadata": {},
   "outputs": [],
   "source": [
    "# Remove numeric characters from the 'categorical_column'\n",
    "data_2020['Stage'] = data_2020['Stage'].str.replace('\\d', '')"
   ]
  },
  {
   "cell_type": "code",
   "execution_count": 328,
   "metadata": {},
   "outputs": [
    {
     "data": {
      "text/plain": [
       "0"
      ]
     },
     "execution_count": 328,
     "metadata": {},
     "output_type": "execute_result"
    }
   ],
   "source": [
    "# Check for the nan values\n",
    "data_2020['Stage'].isna().sum()"
   ]
  },
  {
   "cell_type": "code",
   "execution_count": 329,
   "metadata": {},
   "outputs": [],
   "source": [
    "# Fill the nan values using simple imputer\n",
    "imputer = SimpleImputer(strategy='most_frequent')\n",
    "\n",
    "# Reshape the array\n",
    "stage_array = data_2020['Stage'].values.reshape(-1, 1)\n",
    "\n",
    "# Create a new DataFrame with the imputed values\n",
    "imputed_stage = pd.DataFrame(imputer.fit_transform(stage_array), columns=['Stage'])\n",
    "\n",
    "# Update the original DataFrame\n",
    "data_2020['Stage'] = imputed_stage['Stage']\n",
    "\n"
   ]
  },
  {
   "cell_type": "code",
   "execution_count": 330,
   "metadata": {},
   "outputs": [
    {
     "data": {
      "text/plain": [
       "array(['Undisclosed', 'Pre-seed', 'Seed', 'Pre-series A', 'Series C',\n",
       "       'Series A', 'Series B', 'Pre-series C', 'Series E', 'Debt',\n",
       "       'Bridge', 'Pre-series B', 'Series D', 'Series H', 'Pre-Series B',\n",
       "       'Series A-1', 'Seed round', 'Pre Series A', 'Pre series A1',\n",
       "       'Series E2', 'Pre series A', 'Seed Round', 'Pre series B',\n",
       "       'Angel Round', 'Series D1', 'Mid series', 'Pre seed round',\n",
       "       'Series F', 'Seed funding', nan], dtype=object)"
      ]
     },
     "execution_count": 330,
     "metadata": {},
     "output_type": "execute_result"
    }
   ],
   "source": [
    "data_2020['Stage'].unique()"
   ]
  },
  {
   "cell_type": "code",
   "execution_count": 331,
   "metadata": {},
   "outputs": [
    {
     "name": "stdout",
     "output_type": "stream",
     "text": [
      "             Stage Stage_category\n",
      "0      Undisclosed         Others\n",
      "1         Pre-seed       Pre-seed\n",
      "3      Undisclosed         Others\n",
      "4             Seed           Seed\n",
      "5     Pre-series A       Pre-seed\n",
      "...            ...            ...\n",
      "1049           NaN           None\n",
      "1050           NaN           None\n",
      "1052           NaN           None\n",
      "1053           NaN           None\n",
      "1054           NaN           None\n",
      "\n",
      "[668 rows x 2 columns]\n"
     ]
    }
   ],
   "source": [
    "# Using map function to create the stage_category column\n",
    "stage_mapping = {\n",
    "     'Pre-seed':['Pre-seed','Pre-series A', 'Pre-series','Pre-series C',\n",
    "               'Pre-series B','Pre-Series B', 'Pre-Seed','Pre-seed Round','Pre Series A', 'Pre seed Round',\n",
    "               'Pre series A1','Pre series A','Pre seed round', 'Pre series B','Pre series C',],\n",
    "     'Seed':['Seed','Seed A','Seed Funding','Seed round','Seed Round & Series A',\n",
    "               'Seed Round','Seed Investment','Seed funding'],\n",
    "     'Series A':['Series A', 'Series A-1',],\n",
    "    'Series B,C,D&E':['Series C','Series B','Series E','Series D','Series E2','Series D1',\n",
    "                                 'Series C, D',],\n",
    "    'Others':['Mid series','Bridge Round','Angel Round','Edge', 'Series H', 'Bridge','Undisclosed',]\n",
    "}\n",
    "\n",
    "data_2020['Stage_category'] = data_2020['Stage'].map(lambda x: next((k for k, v in stage_mapping.items() if x in v), None))\n",
    "\n",
    "# Display the updated DataFrame\n",
    "print(data_2020[['Stage','Stage_category']])"
   ]
  },
  {
   "cell_type": "markdown",
   "metadata": {},
   "source": [
    "Create a founding year column for data_2020"
   ]
  },
  {
   "cell_type": "code",
   "execution_count": 332,
   "metadata": {},
   "outputs": [],
   "source": [
    "data_2020['Funding_year'] = '2020'"
   ]
  },
  {
   "cell_type": "markdown",
   "metadata": {},
   "source": [
    "The Investor and Column 10 variables are going to be dropped because they are considered not significant to the analysis questions, hypothesis testing, and the overall business objectives of this project."
   ]
  },
  {
   "cell_type": "code",
   "execution_count": 333,
   "metadata": {},
   "outputs": [],
   "source": [
    "# Drop the Investor and column10 columns\n",
    "data_2020.drop(['Investor','column10'], axis=1, inplace=True)"
   ]
  },
  {
   "cell_type": "code",
   "execution_count": 334,
   "metadata": {},
   "outputs": [
    {
     "data": {
      "text/plain": [
       "2"
      ]
     },
     "execution_count": 334,
     "metadata": {},
     "output_type": "execute_result"
    }
   ],
   "source": [
    "# Check for the duplicates\n",
    "data_2020.duplicated().sum()"
   ]
  },
  {
   "cell_type": "code",
   "execution_count": 335,
   "metadata": {},
   "outputs": [],
   "source": [
    "# Drop the duplicates\n",
    "data_2020 = data_2020.drop_duplicates()"
   ]
  },
  {
   "cell_type": "code",
   "execution_count": 336,
   "metadata": {},
   "outputs": [],
   "source": [
    "# Drop Founded column\n",
    "data_2020.drop(columns=['Founded'],inplace=True)"
   ]
  },
  {
   "cell_type": "code",
   "execution_count": 337,
   "metadata": {},
   "outputs": [
    {
     "data": {
      "text/html": [
       "<div>\n",
       "<style scoped>\n",
       "    .dataframe tbody tr th:only-of-type {\n",
       "        vertical-align: middle;\n",
       "    }\n",
       "\n",
       "    .dataframe tbody tr th {\n",
       "        vertical-align: top;\n",
       "    }\n",
       "\n",
       "    .dataframe thead th {\n",
       "        text-align: right;\n",
       "    }\n",
       "</style>\n",
       "<table border=\"1\" class=\"dataframe\">\n",
       "  <thead>\n",
       "    <tr style=\"text-align: right;\">\n",
       "      <th></th>\n",
       "      <th>Company_Brand</th>\n",
       "      <th>HeadQuarter</th>\n",
       "      <th>Sector</th>\n",
       "      <th>What_it_does</th>\n",
       "      <th>Amount</th>\n",
       "      <th>Stage</th>\n",
       "      <th>Stage_category</th>\n",
       "      <th>Funding_year</th>\n",
       "    </tr>\n",
       "  </thead>\n",
       "  <tbody>\n",
       "    <tr>\n",
       "      <th>0</th>\n",
       "      <td>Aqgromalin</td>\n",
       "      <td>Chennai</td>\n",
       "      <td>AgriTech</td>\n",
       "      <td>Cultivating Ideas for Profit</td>\n",
       "      <td>200000.0</td>\n",
       "      <td>Undisclosed</td>\n",
       "      <td>Others</td>\n",
       "      <td>2020</td>\n",
       "    </tr>\n",
       "    <tr>\n",
       "      <th>1</th>\n",
       "      <td>Krayonnz</td>\n",
       "      <td>Bangalore</td>\n",
       "      <td>EdTech</td>\n",
       "      <td>An academy-guardian-scholar centric ecosystem ...</td>\n",
       "      <td>100000.0</td>\n",
       "      <td>Pre-seed</td>\n",
       "      <td>Pre-seed</td>\n",
       "      <td>2020</td>\n",
       "    </tr>\n",
       "    <tr>\n",
       "      <th>3</th>\n",
       "      <td>NCOME</td>\n",
       "      <td>New Delhi</td>\n",
       "      <td>Escrow</td>\n",
       "      <td>Escrow-as-a-service platform</td>\n",
       "      <td>400000.0</td>\n",
       "      <td>Undisclosed</td>\n",
       "      <td>Others</td>\n",
       "      <td>2020</td>\n",
       "    </tr>\n",
       "    <tr>\n",
       "      <th>4</th>\n",
       "      <td>Gramophone</td>\n",
       "      <td>Indore</td>\n",
       "      <td>AgriTech</td>\n",
       "      <td>Gramophone is an AgTech platform enabling acce...</td>\n",
       "      <td>340000.0</td>\n",
       "      <td>Seed</td>\n",
       "      <td>Seed</td>\n",
       "      <td>2020</td>\n",
       "    </tr>\n",
       "    <tr>\n",
       "      <th>5</th>\n",
       "      <td>qZense</td>\n",
       "      <td>Bangalore</td>\n",
       "      <td>AgriTech</td>\n",
       "      <td>qZense Labs is building the next-generation Io...</td>\n",
       "      <td>600000.0</td>\n",
       "      <td>Pre-series A</td>\n",
       "      <td>Pre-seed</td>\n",
       "      <td>2020</td>\n",
       "    </tr>\n",
       "  </tbody>\n",
       "</table>\n",
       "</div>"
      ],
      "text/plain": [
       "  Company_Brand HeadQuarter    Sector  \\\n",
       "0    Aqgromalin     Chennai  AgriTech   \n",
       "1      Krayonnz   Bangalore    EdTech   \n",
       "3         NCOME   New Delhi    Escrow   \n",
       "4    Gramophone      Indore  AgriTech   \n",
       "5        qZense   Bangalore  AgriTech   \n",
       "\n",
       "                                        What_it_does    Amount         Stage  \\\n",
       "0                       Cultivating Ideas for Profit  200000.0   Undisclosed   \n",
       "1  An academy-guardian-scholar centric ecosystem ...  100000.0      Pre-seed   \n",
       "3                       Escrow-as-a-service platform  400000.0   Undisclosed   \n",
       "4  Gramophone is an AgTech platform enabling acce...  340000.0          Seed   \n",
       "5  qZense Labs is building the next-generation Io...  600000.0  Pre-series A   \n",
       "\n",
       "  Stage_category Funding_year  \n",
       "0         Others         2020  \n",
       "1       Pre-seed         2020  \n",
       "3         Others         2020  \n",
       "4           Seed         2020  \n",
       "5       Pre-seed         2020  "
      ]
     },
     "execution_count": 337,
     "metadata": {},
     "output_type": "execute_result"
    }
   ],
   "source": [
    "# Display the cleaned and updated data_2020 dataset\n",
    "data_2020.head()"
   ]
  },
  {
   "cell_type": "markdown",
   "metadata": {},
   "source": [
    "CLEANING DATA_2021 AND CHECKING FOR THE INCONSISTENCIES"
   ]
  },
  {
   "cell_type": "code",
   "execution_count": 338,
   "metadata": {},
   "outputs": [
    {
     "data": {
      "text/html": [
       "<div>\n",
       "<style scoped>\n",
       "    .dataframe tbody tr th:only-of-type {\n",
       "        vertical-align: middle;\n",
       "    }\n",
       "\n",
       "    .dataframe tbody tr th {\n",
       "        vertical-align: top;\n",
       "    }\n",
       "\n",
       "    .dataframe thead th {\n",
       "        text-align: right;\n",
       "    }\n",
       "</style>\n",
       "<table border=\"1\" class=\"dataframe\">\n",
       "  <thead>\n",
       "    <tr style=\"text-align: right;\">\n",
       "      <th></th>\n",
       "      <th>Company_Brand</th>\n",
       "      <th>Founded</th>\n",
       "      <th>HeadQuarter</th>\n",
       "      <th>Sector</th>\n",
       "      <th>What_it_does</th>\n",
       "      <th>Founders</th>\n",
       "      <th>Investor</th>\n",
       "      <th>Amount</th>\n",
       "      <th>Stage</th>\n",
       "    </tr>\n",
       "  </thead>\n",
       "  <tbody>\n",
       "    <tr>\n",
       "      <th>0</th>\n",
       "      <td>Unbox Robotics</td>\n",
       "      <td>2019.0</td>\n",
       "      <td>Bangalore</td>\n",
       "      <td>AI startup</td>\n",
       "      <td>Unbox Robotics builds on-demand AI-driven ware...</td>\n",
       "      <td>Pramod Ghadge, Shahid Memon</td>\n",
       "      <td>BEENEXT, Entrepreneur First</td>\n",
       "      <td>$1,200,000</td>\n",
       "      <td>Pre-series A</td>\n",
       "    </tr>\n",
       "    <tr>\n",
       "      <th>1</th>\n",
       "      <td>upGrad</td>\n",
       "      <td>2015.0</td>\n",
       "      <td>Mumbai</td>\n",
       "      <td>EdTech</td>\n",
       "      <td>UpGrad is an online higher education platform.</td>\n",
       "      <td>Mayank Kumar, Phalgun Kompalli, Ravijot Chugh,...</td>\n",
       "      <td>Unilazer Ventures, IIFL Asset Management</td>\n",
       "      <td>$120,000,000</td>\n",
       "      <td>None</td>\n",
       "    </tr>\n",
       "    <tr>\n",
       "      <th>2</th>\n",
       "      <td>Lead School</td>\n",
       "      <td>2012.0</td>\n",
       "      <td>Mumbai</td>\n",
       "      <td>EdTech</td>\n",
       "      <td>LEAD School offers technology based school tra...</td>\n",
       "      <td>Smita Deorah, Sumeet Mehta</td>\n",
       "      <td>GSV Ventures, Westbridge Capital</td>\n",
       "      <td>$30,000,000</td>\n",
       "      <td>Series D</td>\n",
       "    </tr>\n",
       "    <tr>\n",
       "      <th>3</th>\n",
       "      <td>Bizongo</td>\n",
       "      <td>2015.0</td>\n",
       "      <td>Mumbai</td>\n",
       "      <td>B2B E-commerce</td>\n",
       "      <td>Bizongo is a business-to-business online marke...</td>\n",
       "      <td>Aniket Deb, Ankit Tomar, Sachin Agrawal</td>\n",
       "      <td>CDC Group, IDG Capital</td>\n",
       "      <td>$51,000,000</td>\n",
       "      <td>Series C</td>\n",
       "    </tr>\n",
       "    <tr>\n",
       "      <th>4</th>\n",
       "      <td>FypMoney</td>\n",
       "      <td>2021.0</td>\n",
       "      <td>Gurugram</td>\n",
       "      <td>FinTech</td>\n",
       "      <td>FypMoney is Digital NEO Bank for Teenagers, em...</td>\n",
       "      <td>Kapil Banwari</td>\n",
       "      <td>Liberatha Kallat, Mukesh Yadav, Dinesh Nagpal</td>\n",
       "      <td>$2,000,000</td>\n",
       "      <td>Seed</td>\n",
       "    </tr>\n",
       "  </tbody>\n",
       "</table>\n",
       "</div>"
      ],
      "text/plain": [
       "    Company_Brand  Founded HeadQuarter          Sector  \\\n",
       "0  Unbox Robotics   2019.0   Bangalore      AI startup   \n",
       "1          upGrad   2015.0      Mumbai          EdTech   \n",
       "2     Lead School   2012.0      Mumbai          EdTech   \n",
       "3         Bizongo   2015.0      Mumbai  B2B E-commerce   \n",
       "4        FypMoney   2021.0    Gurugram         FinTech   \n",
       "\n",
       "                                        What_it_does  \\\n",
       "0  Unbox Robotics builds on-demand AI-driven ware...   \n",
       "1     UpGrad is an online higher education platform.   \n",
       "2  LEAD School offers technology based school tra...   \n",
       "3  Bizongo is a business-to-business online marke...   \n",
       "4  FypMoney is Digital NEO Bank for Teenagers, em...   \n",
       "\n",
       "                                            Founders  \\\n",
       "0                        Pramod Ghadge, Shahid Memon   \n",
       "1  Mayank Kumar, Phalgun Kompalli, Ravijot Chugh,...   \n",
       "2                         Smita Deorah, Sumeet Mehta   \n",
       "3            Aniket Deb, Ankit Tomar, Sachin Agrawal   \n",
       "4                                      Kapil Banwari   \n",
       "\n",
       "                                        Investor        Amount         Stage  \n",
       "0                    BEENEXT, Entrepreneur First    $1,200,000  Pre-series A  \n",
       "1       Unilazer Ventures, IIFL Asset Management  $120,000,000          None  \n",
       "2               GSV Ventures, Westbridge Capital   $30,000,000      Series D  \n",
       "3                         CDC Group, IDG Capital   $51,000,000      Series C  \n",
       "4  Liberatha Kallat, Mukesh Yadav, Dinesh Nagpal    $2,000,000          Seed  "
      ]
     },
     "execution_count": 338,
     "metadata": {},
     "output_type": "execute_result"
    }
   ],
   "source": [
    "data_2021.head()"
   ]
  },
  {
   "cell_type": "markdown",
   "metadata": {},
   "source": [
    "Cleaning Companany_Brand column and checking for the inconsistencies"
   ]
  },
  {
   "cell_type": "code",
   "execution_count": 339,
   "metadata": {},
   "outputs": [
    {
     "data": {
      "text/plain": [
       "array(['Unbox Robotics', 'upGrad', 'Lead School', ..., 'Gigforce',\n",
       "       'Vahdam', 'WeRize'], dtype=object)"
      ]
     },
     "execution_count": 339,
     "metadata": {},
     "output_type": "execute_result"
    }
   ],
   "source": [
    "# Check for the unique values\n",
    "data_2021['Company_Brand'].unique()\n"
   ]
  },
  {
   "cell_type": "code",
   "execution_count": 340,
   "metadata": {},
   "outputs": [
    {
     "data": {
      "text/plain": [
       "Company_Brand\n",
       "BharatPe            8\n",
       "BYJU'S              4\n",
       "CoinSwitch Kuber    3\n",
       "Delhivery           3\n",
       "Slice               3\n",
       "                   ..\n",
       "MYFITNESS           1\n",
       "I am Love           1\n",
       "Gumlet              1\n",
       "Eloelo              1\n",
       "WeRize              1\n",
       "Name: count, Length: 1033, dtype: int64"
      ]
     },
     "execution_count": 340,
     "metadata": {},
     "output_type": "execute_result"
    }
   ],
   "source": [
    "# Check for the value counts\n",
    "data_2021['Company_Brand'].value_counts()"
   ]
  },
  {
   "cell_type": "code",
   "execution_count": 341,
   "metadata": {},
   "outputs": [
    {
     "data": {
      "text/plain": [
       "dtype('O')"
      ]
     },
     "execution_count": 341,
     "metadata": {},
     "output_type": "execute_result"
    }
   ],
   "source": [
    "# Check for the data type\n",
    "data_2021['Company_Brand'].dtype"
   ]
  },
  {
   "cell_type": "code",
   "execution_count": 342,
   "metadata": {},
   "outputs": [
    {
     "data": {
      "text/plain": [
       "count         1209\n",
       "unique        1033\n",
       "top       BharatPe\n",
       "freq             8\n",
       "Name: Company_Brand, dtype: object"
      ]
     },
     "execution_count": 342,
     "metadata": {},
     "output_type": "execute_result"
    }
   ],
   "source": [
    "# Check for the summary statistics\n",
    "data_2021['Company_Brand'].describe()"
   ]
  },
  {
   "cell_type": "code",
   "execution_count": 343,
   "metadata": {},
   "outputs": [
    {
     "data": {
      "text/plain": [
       "0"
      ]
     },
     "execution_count": 343,
     "metadata": {},
     "output_type": "execute_result"
    }
   ],
   "source": [
    "# Check for the null values\n",
    "data_2021['Company_Brand'].isna().sum()"
   ]
  },
  {
   "cell_type": "markdown",
   "metadata": {},
   "source": [
    "Chceck for the inconsistencies and clean HeadQuater column"
   ]
  },
  {
   "cell_type": "code",
   "execution_count": 344,
   "metadata": {},
   "outputs": [
    {
     "data": {
      "text/plain": [
       "array(['Bangalore', 'Mumbai', 'Gurugram', 'New Delhi', 'Hyderabad',\n",
       "       'Jaipur', 'Ahmadabad', 'Chennai', None,\n",
       "       'Small Towns, Andhra Pradesh', 'Goa', 'Rajsamand', 'Ranchi',\n",
       "       'Faridabad, Haryana', 'Gujarat', 'Pune', 'Thane', 'Computer Games',\n",
       "       'Cochin', 'Noida', 'Chandigarh', 'Gurgaon', 'Vadodara',\n",
       "       'Food & Beverages', 'Pharmaceuticals\\t#REF!', 'Gurugram\\t#REF!',\n",
       "       'Kolkata', 'Ahmedabad', 'Mohali', 'Haryana', 'Indore', 'Powai',\n",
       "       'Ghaziabad', 'Nagpur', 'West Bengal', 'Patna', 'Samsitpur',\n",
       "       'Lucknow', 'Telangana', 'Silvassa', 'Thiruvananthapuram',\n",
       "       'Faridabad', 'Roorkee', 'Ambernath', 'Panchkula', 'Surat',\n",
       "       'Coimbatore', 'Andheri', 'Mangalore', 'Telugana', 'Bhubaneswar',\n",
       "       'Kottayam', 'Beijing', 'Panaji', 'Satara', 'Orissia', 'Jodhpur',\n",
       "       'New York', 'Santra', 'Mountain View, CA', 'Trivandrum',\n",
       "       'Jharkhand', 'Kanpur', 'Bhilwara', 'Guwahati',\n",
       "       'Online Media\\t#REF!', 'Kochi', 'London',\n",
       "       'Information Technology & Services', 'The Nilgiris', 'Gandhinagar'],\n",
       "      dtype=object)"
      ]
     },
     "execution_count": 344,
     "metadata": {},
     "output_type": "execute_result"
    }
   ],
   "source": [
    "# Check for the unique values\n",
    "data_2021['HeadQuarter'].unique()"
   ]
  },
  {
   "cell_type": "code",
   "execution_count": 345,
   "metadata": {},
   "outputs": [
    {
     "name": "stdout",
     "output_type": "stream",
     "text": [
      "412\n"
     ]
    }
   ],
   "source": [
    "cities_in_india = indian_cities = ['Bangalore', 'Mumbai', 'Gurugram', 'New Delhi', 'Hyderabad',\n",
    "                                    'Jaipur', 'Ahmadabad', 'Chennai', 'Goa', 'Rajsamand', 'Ranchi',\n",
    "                                    'Faridabad', 'Pune', 'Thane', 'Cochin', 'Noida', 'Chandigarh',\n",
    "                                 'Gurgaon', 'Vadodara', 'Kolkata', 'Ahmedabad', 'Mohali',\n",
    "                                'Haryana', 'Indore', 'Powai', 'Ghaziabad', 'Nagpur', \n",
    "                                'Patna', 'Lucknow', 'Telangana', 'Silvassa',\n",
    "                                'Thiruvananthapuram', 'Faridabad', 'Roorkee', 'Ambernath',\n",
    "                                'Panchkula', 'Surat', 'Coimbatore', 'Andheri', \n",
    "                                 'Mangalore', 'Telugana', 'Bhubaneswar', 'Kottayam',\n",
    "                                 'Panaji', 'Satara', 'Jodhpur', 'Trivandrum', 'Kanpur',\n",
    "                                 'Bhilwara', 'Guwahati', 'Kochi', 'The Nilgiris', \n",
    "                                'Gandhinagar']\n",
    "# Test if the Indian Cities are present in the Headquater column by checking for the indices\n",
    "target_value = 'Patna'\n",
    "index_position = data_2021[data_2021['HeadQuarter'] == target_value].index.item()\n",
    "\n",
    "print(index_position)\n",
    "\n",
    "# Check if all the indian cities are in the Headquarter column \n",
    "cities_india_rows = data_2021['HeadQuarter'].isin(cities_in_india)\n",
    "\n",
    "# Filter out only non indian cities in the dataframe\n",
    "data_2021 = data_2021.loc[cities_india_rows]\n"
   ]
  },
  {
   "cell_type": "markdown",
   "metadata": {},
   "source": []
  },
  {
   "cell_type": "code",
   "execution_count": 346,
   "metadata": {},
   "outputs": [
    {
     "data": {
      "text/plain": [
       "array(['Bangalore', 'Mumbai', 'Gurugram', 'New Delhi', 'Hyderabad',\n",
       "       'Jaipur', 'Ahmadabad', 'Chennai', 'Goa', 'Rajsamand', 'Ranchi',\n",
       "       'Pune', 'Thane', 'Cochin', 'Noida', 'Chandigarh', 'Gurgaon',\n",
       "       'Vadodara', 'Kolkata', 'Ahmedabad', 'Mohali', 'Haryana', 'Indore',\n",
       "       'Powai', 'Ghaziabad', 'Nagpur', 'Patna', 'Lucknow', 'Telangana',\n",
       "       'Silvassa', 'Thiruvananthapuram', 'Faridabad', 'Roorkee',\n",
       "       'Ambernath', 'Panchkula', 'Surat', 'Coimbatore', 'Andheri',\n",
       "       'Mangalore', 'Telugana', 'Bhubaneswar', 'Kottayam', 'Panaji',\n",
       "       'Satara', 'Jodhpur', 'Trivandrum', 'Kanpur', 'Bhilwara',\n",
       "       'Guwahati', 'Kochi', 'The Nilgiris', 'Gandhinagar'], dtype=object)"
      ]
     },
     "execution_count": 346,
     "metadata": {},
     "output_type": "execute_result"
    }
   ],
   "source": [
    "# Check for the unique values of the cleaned Headquater column \n",
    "data_2021['HeadQuarter'].unique()"
   ]
  },
  {
   "cell_type": "code",
   "execution_count": 347,
   "metadata": {},
   "outputs": [
    {
     "data": {
      "text/plain": [
       "HeadQuarter\n",
       "Bangalore             426\n",
       "Mumbai                203\n",
       "Gurugram              155\n",
       "New Delhi             144\n",
       "Pune                   47\n",
       "Chennai                40\n",
       "Noida                  34\n",
       "Hyderabad              34\n",
       "Jaipur                 11\n",
       "Ahmedabad              11\n",
       "Gurgaon                 7\n",
       "Thane                   7\n",
       "Ahmadabad               6\n",
       "Chandigarh              5\n",
       "Kolkata                 5\n",
       "Haryana                 4\n",
       "Coimbatore              3\n",
       "Lucknow                 3\n",
       "Surat                   2\n",
       "Ghaziabad               2\n",
       "Indore                  2\n",
       "Cochin                  2\n",
       "Goa                     2\n",
       "Bhilwara                1\n",
       "Kanpur                  1\n",
       "The Nilgiris            1\n",
       "Trivandrum              1\n",
       "Kochi                   1\n",
       "Andheri                 1\n",
       "Jodhpur                 1\n",
       "Satara                  1\n",
       "Panaji                  1\n",
       "Kottayam                1\n",
       "Bhubaneswar             1\n",
       "Telugana                1\n",
       "Mangalore               1\n",
       "Guwahati                1\n",
       "Patna                   1\n",
       "Panchkula               1\n",
       "Ambernath               1\n",
       "Roorkee                 1\n",
       "Faridabad               1\n",
       "Thiruvananthapuram      1\n",
       "Silvassa                1\n",
       "Telangana               1\n",
       "Nagpur                  1\n",
       "Powai                   1\n",
       "Mohali                  1\n",
       "Vadodara                1\n",
       "Ranchi                  1\n",
       "Rajsamand               1\n",
       "Gandhinagar             1\n",
       "Name: count, dtype: int64"
      ]
     },
     "execution_count": 347,
     "metadata": {},
     "output_type": "execute_result"
    }
   ],
   "source": [
    "# Check for the value counts \n",
    "data_2021['HeadQuarter'].value_counts()"
   ]
  },
  {
   "cell_type": "code",
   "execution_count": 348,
   "metadata": {},
   "outputs": [
    {
     "data": {
      "text/plain": [
       "0"
      ]
     },
     "execution_count": 348,
     "metadata": {},
     "output_type": "execute_result"
    }
   ],
   "source": [
    "# Check for the null values in the Headquarter column\n",
    "data_2021['HeadQuarter'].isna().sum()"
   ]
  },
  {
   "cell_type": "code",
   "execution_count": 349,
   "metadata": {},
   "outputs": [
    {
     "data": {
      "text/plain": [
       "dtype('O')"
      ]
     },
     "execution_count": 349,
     "metadata": {},
     "output_type": "execute_result"
    }
   ],
   "source": [
    "# Check for the data type \n",
    "data_2021['HeadQuarter'].dtype"
   ]
  },
  {
   "cell_type": "code",
   "execution_count": 350,
   "metadata": {},
   "outputs": [
    {
     "data": {
      "text/plain": [
       "count          1184\n",
       "unique           52\n",
       "top       Bangalore\n",
       "freq            426\n",
       "Name: HeadQuarter, dtype: object"
      ]
     },
     "execution_count": 350,
     "metadata": {},
     "output_type": "execute_result"
    }
   ],
   "source": [
    "# Show the summary statistics\n",
    "data_2021['HeadQuarter'].describe()"
   ]
  },
  {
   "cell_type": "markdown",
   "metadata": {},
   "source": [
    " Cleaning and checking for the inconsistencies in Sector column"
   ]
  },
  {
   "cell_type": "code",
   "execution_count": 351,
   "metadata": {},
   "outputs": [
    {
     "data": {
      "text/plain": [
       "array(['AI startup', 'EdTech', 'B2B E-commerce', 'FinTech',\n",
       "       'Home services', 'HealthTech', 'Tech Startup', 'E-commerce',\n",
       "       'B2B service', 'Helathcare', 'Renewable Energy', 'Electronics',\n",
       "       'IT startup', 'Food & Beverages', 'Aeorspace', 'Deep Tech',\n",
       "       'Dating', 'Gaming', 'Robotics', 'Food', 'Oil and Energy',\n",
       "       'AgriTech', 'Telecommuncation', 'Milk startup', 'IT', 'Logistics',\n",
       "       'Hospitality', 'Fashion', 'Marketing', 'Transportation',\n",
       "       'LegalTech', 'Food delivery', 'Automotive', 'SaaS startup',\n",
       "       'Fantasy sports', 'Video communication', 'Social Media',\n",
       "       'Skill development', 'Retail', 'Rental', 'Recruitment',\n",
       "       'HealthCare', 'Sports', 'Computer Games', 'Consumer Goods',\n",
       "       'Information Technology', 'Apparel & Fashion',\n",
       "       'Logistics & Supply Chain', 'Healthtech', 'Healthcare',\n",
       "       'SportsTech', 'HRTech', 'Wine & Spirits',\n",
       "       'Mechanical & Industrial Engineering', 'Spiritual',\n",
       "       'Financial Services', 'Industrial Automation', 'Health',\n",
       "       'Lifestyle', 'IoT', 'Banking', 'Computer software', 'Tech startup',\n",
       "       'Digital mortgage', 'Information Technology & Services',\n",
       "       'Furniture', 'B2B marketplace', 'Healtcare', 'Location Analytics',\n",
       "       'Media', 'Consumer Electronics', 'Tobacco', 'Deeptech',\n",
       "       'Insuretech', 'MLOps platform', 'Venture Capital', 'Pet care',\n",
       "       'Drone', 'Wholesale', 'Construction', 'E-learning',\n",
       "       'Consumer Services', 'Venture Capital & Private Equity',\n",
       "       'Health, Wellness & Fitness', 'OTT', 'Education Management',\n",
       "       'Computer Software', 'Insurance', 'Software Startup',\n",
       "       'Computer & Network Security', 'Capital Markets', 'Social network',\n",
       "       'Hospital & Health Care', 'Music', 'Cosmetics', 'Mobility',\n",
       "       'Social media', 'Real Estate', 'Digital platform', 'B2B Ecommerce',\n",
       "       'Online Media', 'Social commerce', 'Mobile Games',\n",
       "       'Food Production', 'Podcast', 'HeathTech', 'Battery',\n",
       "       'Content publishing', 'Water purification', 'Content commerce',\n",
       "       'Innovation Management', 'Software company', 'Automation',\n",
       "       'Food Industry', 'Celebrity Engagement', 'Trading platform',\n",
       "       'Personal Care', 'Cannabis startup', 'Blogging', 'Consulting',\n",
       "       'BioTechnology', 'B2B Marketplace', 'Health care', 'Social audio',\n",
       "       'Fashion and lifestyle', 'Delivery service', 'B2B Manufacturing',\n",
       "       'Home Decor', 'Solar', 'TaaS startup', 'EV startup', 'HR Tech',\n",
       "       'Blockchain startup', 'Food and Beverages', 'Beverages',\n",
       "       'Manufacturing startup', 'Cryptocurrency',\n",
       "       'Vehicle repair startup', 'Advisory firm', 'Legaltech',\n",
       "       'Pollution control equiptment', 'Fashion & Lifestyle',\n",
       "       'Blockchain', 'Fitness', 'D2C', 'Automobile',\n",
       "       'Environmental Services', 'Merchandise', 'Facilities Services',\n",
       "       'Marketing & Advertising', 'Human Resources', 'Eyewear',\n",
       "       'D2C Business', 'Biotechnology', 'Farming', 'NFT Marketplace',\n",
       "       'Internet', 'SpaceTech', 'Consumer software', 'Social community',\n",
       "       'Fishery', 'Renewables & Environment', 'Online storytelling',\n",
       "       'Aviation', 'IT company', 'Environmental service',\n",
       "       'Job discovery platform', 'D2C Fashion', 'Heathcare', 'CRM',\n",
       "       'Software', 'Nutrition', 'D2C startup', 'Innovation management',\n",
       "       'Community platform', 'Venture capitalist', 'Networking',\n",
       "       'Commercial Real Estate', 'AR startup', 'Consumer service',\n",
       "       'Consumer goods', 'MarTech', 'Advertisement', 'Content creation',\n",
       "       'Augmented reality', 'Rental space', 'Bike Rental',\n",
       "       'Beauty products', 'Tourism', 'FemTech', 'Cultural', 'Co-working',\n",
       "       'InsureTech', 'Supply chain platform', 'Social platform',\n",
       "       'CleanTech', 'Real estate', 'AI company', 'Sports startup',\n",
       "       'Matrimony', 'Crypto', 'Clothing', 'Analytics', 'Finance',\n",
       "       'IoT platform', 'Commerce', 'Defense & Space', 'Entertainment',\n",
       "       'Business Supplies & Equipment', 'NFT', 'Oil & Energy', 'EV',\n",
       "       'Textiles', 'Professional Training & Coaching', 'Maritime',\n",
       "       'Housing Marketplace', 'Furniture Rental', 'Telecommunications',\n",
       "       'Equity Management', 'Cloud kitchen', 'Nanotechnology',\n",
       "       'Community', 'Higher Education', 'B2B',\n",
       "       'Mechanical Or Industrial Engineering', 'D2C jewellery',\n",
       "       'Sales and Distribution', 'SaaS', 'Information Services',\n",
       "       'Translation & Localization', 'Investment Banking', 'Femtech',\n",
       "       'sports', 'Foootwear', 'Legal Services', 'Veterinary',\n",
       "       'Arts & Crafts', 'Investment Management', 'Education',\n",
       "       'Management Consulting', 'B2B startup', 'Design', 'B2B Travel',\n",
       "       'Interior Design', 'Product studio', 'Aviation & Aerospace',\n",
       "       'Staffing & Recruiting'], dtype=object)"
      ]
     },
     "execution_count": 351,
     "metadata": {},
     "output_type": "execute_result"
    }
   ],
   "source": [
    "# Check for the unique values\n",
    "data_2021['Sector'].unique()"
   ]
  },
  {
   "cell_type": "code",
   "execution_count": 352,
   "metadata": {},
   "outputs": [
    {
     "data": {
      "text/plain": [
       "Sector\n",
       "FinTech                   120\n",
       "EdTech                    100\n",
       "Financial Services         60\n",
       "Food & Beverages           37\n",
       "E-commerce                 37\n",
       "                         ... \n",
       "Beverages                   1\n",
       "Manufacturing startup       1\n",
       "Cryptocurrency              1\n",
       "Vehicle repair startup      1\n",
       "Staffing & Recruiting       1\n",
       "Name: count, Length: 247, dtype: int64"
      ]
     },
     "execution_count": 352,
     "metadata": {},
     "output_type": "execute_result"
    }
   ],
   "source": [
    "# Check for the value counts\n",
    "data_2021['Sector'].value_counts()"
   ]
  },
  {
   "cell_type": "code",
   "execution_count": 353,
   "metadata": {},
   "outputs": [
    {
     "data": {
      "text/plain": [
       "count        1184\n",
       "unique        247\n",
       "top       FinTech\n",
       "freq          120\n",
       "Name: Sector, dtype: object"
      ]
     },
     "execution_count": 353,
     "metadata": {},
     "output_type": "execute_result"
    }
   ],
   "source": [
    "# Show the summary statistics\n",
    "data_2021['Sector'].describe()"
   ]
  },
  {
   "cell_type": "code",
   "execution_count": 354,
   "metadata": {},
   "outputs": [
    {
     "data": {
      "text/plain": [
       "0"
      ]
     },
     "execution_count": 354,
     "metadata": {},
     "output_type": "execute_result"
    }
   ],
   "source": [
    "# Check for the null values\n",
    "data_2021['Sector'].isna().sum()"
   ]
  },
  {
   "cell_type": "markdown",
   "metadata": {},
   "source": [
    "Checking for the inconsistencies and cleaning  'What_it_does' column"
   ]
  },
  {
   "cell_type": "code",
   "execution_count": 355,
   "metadata": {},
   "outputs": [
    {
     "data": {
      "text/plain": [
       "array(['Unbox Robotics builds on-demand AI-driven warehouse robotics solutions, which can be deployed using limited foot-print, time, and capital.',\n",
       "       'UpGrad is an online higher education platform.',\n",
       "       'LEAD School offers technology based school transformation system that assures excellent learning for every child.',\n",
       "       ..., 'International education loans for high potential students.',\n",
       "       'Collegedekho.com is Student’s Partner, Friend & Confidante, To Help Him Take a Decision and Move On to His Career Goals.',\n",
       "       'India’s first socially distributed full stack financial services platform for small town India'],\n",
       "      dtype=object)"
      ]
     },
     "execution_count": 355,
     "metadata": {},
     "output_type": "execute_result"
    }
   ],
   "source": [
    "# Check for the unique values\n",
    "data_2021['What_it_does'].unique()"
   ]
  },
  {
   "cell_type": "code",
   "execution_count": 356,
   "metadata": {},
   "outputs": [
    {
     "data": {
      "text/plain": [
       "What_it_does\n",
       "BharatPe develops a QR code-based payment app for offline retailers and businesses.                                                                    4\n",
       "BYJU'S is an educational technology company that develops personalized learning programs for K-12 students.                                            4\n",
       "Ruptok fintech Pvt. Ltd. is an online gold loan service provider , with attractive interests rate .                                                    3\n",
       "KreditBee is a digital lending platform developed to assist young professionals with their personal finances.                                          2\n",
       "Advantage Club is India's largest employee engagement platform, Provide end to end employee benefit management with state of the art products like:    2\n",
       "                                                                                                                                                      ..\n",
       "Pocket Aces is a digital entertainment company focused on mobile video.                                                                                1\n",
       "An online-first, global academy for extracurricular learning | Private & small group online classes for kids                                           1\n",
       "iMumz empowers pregnant mothers to deliver healthy, happy, and intelligent babies through a positive lifestyle.                                        1\n",
       "CropIn is a leading AI and Data-led agri-tech organization that provides SaaS solutions to agribusinesses globally using deep learning.                1\n",
       "India’s first socially distributed full stack financial services platform for small town India                                                         1\n",
       "Name: count, Length: 1121, dtype: int64"
      ]
     },
     "execution_count": 356,
     "metadata": {},
     "output_type": "execute_result"
    }
   ],
   "source": [
    "# Check for the value counts\n",
    "data_2021['What_it_does'].value_counts()"
   ]
  },
  {
   "cell_type": "code",
   "execution_count": 357,
   "metadata": {},
   "outputs": [
    {
     "data": {
      "text/plain": [
       "count                                                  1184\n",
       "unique                                                 1121\n",
       "top       BharatPe develops a QR code-based payment app ...\n",
       "freq                                                      4\n",
       "Name: What_it_does, dtype: object"
      ]
     },
     "execution_count": 357,
     "metadata": {},
     "output_type": "execute_result"
    }
   ],
   "source": [
    "# Check for the summary statistics\n",
    "data_2021['What_it_does'].describe()\n"
   ]
  },
  {
   "cell_type": "code",
   "execution_count": 358,
   "metadata": {},
   "outputs": [
    {
     "data": {
      "text/plain": [
       "0"
      ]
     },
     "execution_count": 358,
     "metadata": {},
     "output_type": "execute_result"
    }
   ],
   "source": [
    "# Check for the null values\n",
    "data_2021['What_it_does'].isna().sum()"
   ]
  },
  {
   "cell_type": "markdown",
   "metadata": {},
   "source": [
    "Cleaning and checking for the inconsistencies in 'Amount' column"
   ]
  },
  {
   "cell_type": "code",
   "execution_count": 359,
   "metadata": {},
   "outputs": [
    {
     "data": {
      "text/plain": [
       "array(['$1,200,000', '$120,000,000', '$30,000,000', '$51,000,000',\n",
       "       '$2,000,000', '$188,000,000', '$200,000', 'Undisclosed',\n",
       "       '$1,000,000', '$3,000,000', '$100,000', '$700,000', '$9,000,000',\n",
       "       '$40,000,000', '$49,000,000', '$400,000', '$300,000',\n",
       "       '$25,000,000', '$160,000,000', '$150,000', '$1,800,000',\n",
       "       '$5,000,000', '$850,000', '$53,000,000', '$1,100,000',\n",
       "       '$6,000,000', '$500,000', '$10,000,000', '$21,000,000',\n",
       "       '$26,000,000', '$7,400,000', '$1,500,000', '$600,000',\n",
       "       '$800,000,000', '$17,000,000', '$3,500,000', '$215,000,000',\n",
       "       '$2,500,000', '$350,000,000', '$5,500,000', '$83,000,000',\n",
       "       '$110,000,000', '$500,000,000', '$65,000,000', '$150,000,000,000',\n",
       "       '$300,000,000', '$2,200,000', '$35,000,000', '$140,000,000',\n",
       "       '$4,000,000', '$13,000,000', None, '$Undisclosed', '$2000000',\n",
       "       '$800000', '$6000000', '$2500000', '$9500000', '$13000000',\n",
       "       '$5000000', '$8000000', '$1000000', '$200000', '$12000000',\n",
       "       '$1500000', '$1700000', '$5500000', '$400000', '$150000000',\n",
       "       '$4000000', '$100000000', '$500000', '$15000000', '$10000000',\n",
       "       '$40000000', '$225000000', '$6700000', '$1300000', '$20000000',\n",
       "       '$250000', '$21000000', '$1200000', '$52000000', '$3800000',\n",
       "       '$17500000', '$42000000', '$2300000', '$7000000', '$30000000',\n",
       "       '$450000000', '$28000000', '$300000', '$3500000', '$8500000',\n",
       "       '$25000000', '$3000000', '$37000000', '$370000000', '$700000',\n",
       "       '$16000000', '$100000', '$44000000', '$770000', '$125000000',\n",
       "       '$35000000', '$50000000', '$4900000', '$145000000', '$22000000',\n",
       "       '$70000000', '$6600000', '$32000000', '$24000000', '$725000',\n",
       "       '$96000000', '$60000000', '$500000000', '$266000000', '$4500000',\n",
       "       '$325000000', '$6500000', '$1600000', '$150000', '$225000',\n",
       "       '$85000000', '$235000', '$260000', '$2900000', '$53000000',\n",
       "       '$1100000', '$86000000', '$130000', '$$100,00', '$111000000',\n",
       "       '$265000', '$76000000', '$100,000,000', '$75,000,000',\n",
       "       '$3,800,000', '$800,000', '$15,000,000', '$12,000,000',\n",
       "       '$1,600,000', '$260,000', '$1,000,000,000', '$18,000,000',\n",
       "       '$20,000,000', '$350,000', '$95,000,000', '$4,100,000',\n",
       "       '$5,200,000', '$8,000,000', '$1,400,000', '$2,600,000', '$900,000',\n",
       "       '$250,000', '$16,000,000', '$7,000,000', '$11,000,000',\n",
       "       '$280,000,000', '$50,000,000', '$14,300,000', '$81,000,000',\n",
       "       '$1,300,000', '$8,200,000', '$70,000,000', '$720,000', '$600000',\n",
       "       '$9000000', '$1800000', '$330000', '$undisclosed', '$200000000',\n",
       "       '$36000000', '$67000000', '$10200000', '$220000000', '$108000000',\n",
       "       '$75000000', '$450000', '$660000000', 'ah! Ventures', '$45000000',\n",
       "       '$3200000', '$370000', 'Pre-series A',\n",
       "       'ITO Angel Network, LetsVenture', '$48000000', '$3600000',\n",
       "       '$11000000', '$192000000', '$65000000', '$1400000', '$1900000',\n",
       "       '$41000000', '$144000000', '$5200000', '$270000000', '$140000',\n",
       "       '$250000000', '$320000', '$350000000', '$4800000', '$38000000',\n",
       "       '$125000', '$26000000', '$64000000', '$620000', '$900000',\n",
       "       'JITO Angel Network, LetsVenture', '$2600000', '$1,250,000',\n",
       "       '$400,000,000', '$1,700,000', '$27,000,000', '$234,000,000',\n",
       "       '$460,000,000', '$13,500,000', '$5,100,000', '$195,000,000',\n",
       "       '$125,000', '$45,000,000', '$7,300,000', '$6,300,000',\n",
       "       '$200,000,000', '$12,500,000', '$24,000,000', '$140,000',\n",
       "       '$16,500,000', '$340,000', '$43,000,000', '$150,000,000',\n",
       "       '$3300000', '$92000000', '$17000000', '$135000000', '$$1,55,000',\n",
       "       '$2100000', '$840000000', '$248000000', '$4300000', '$570000',\n",
       "       '$2200000', '$4700000', '$300000000', '$260000000', '$140000000',\n",
       "       '$175000000', '$19000000', '$810000', '$7500000', '$600000000',\n",
       "       '$90000000', '$5700000', '$6750000', '$78000000', '$5400000',\n",
       "       '$115000000', '$255000000', '$18000000', '$570000000', '$550000',\n",
       "       '$2700000', '$4200000', '$31000000', '$540000', '$14000000',\n",
       "       '$340000', '$', '$6200000', 'Seed', '$750000', '$6300000',\n",
       "       '$23000000', '$55000000'], dtype=object)"
      ]
     },
     "execution_count": 359,
     "metadata": {},
     "output_type": "execute_result"
    }
   ],
   "source": [
    "# Check for the unique values\n",
    "data_2021['Amount'].unique()"
   ]
  },
  {
   "cell_type": "code",
   "execution_count": 360,
   "metadata": {},
   "outputs": [],
   "source": [
    "\n",
    "data_2021['Amount'].replace(['$Undisclosed','$undisclosed','Undisclosed'],np.nan,inplace=True)"
   ]
  },
  {
   "cell_type": "code",
   "execution_count": 361,
   "metadata": {},
   "outputs": [
    {
     "data": {
      "text/plain": [
       "138"
      ]
     },
     "execution_count": 361,
     "metadata": {},
     "output_type": "execute_result"
    }
   ],
   "source": [
    "# Check for the null values\n",
    "data_2021['Amount'].isna().sum()"
   ]
  },
  {
   "cell_type": "code",
   "execution_count": 362,
   "metadata": {},
   "outputs": [],
   "source": [
    "\n",
    "\n",
    "# Drop the nan values\n",
    "data_2021.dropna(subset='Amount',inplace=True)\n",
    "\n",
    "\n",
    "\n"
   ]
  },
  {
   "cell_type": "code",
   "execution_count": 363,
   "metadata": {},
   "outputs": [],
   "source": [
    "# Replace $ sign with nan values\n",
    "data = data_2021.index[data_2021['Amount'] == '$']\n",
    "data_2021.loc[data,['Amount']] = pd.NA"
   ]
  },
  {
   "cell_type": "code",
   "execution_count": 364,
   "metadata": {},
   "outputs": [
    {
     "data": {
      "text/html": [
       "<div>\n",
       "<style scoped>\n",
       "    .dataframe tbody tr th:only-of-type {\n",
       "        vertical-align: middle;\n",
       "    }\n",
       "\n",
       "    .dataframe tbody tr th {\n",
       "        vertical-align: top;\n",
       "    }\n",
       "\n",
       "    .dataframe thead th {\n",
       "        text-align: right;\n",
       "    }\n",
       "</style>\n",
       "<table border=\"1\" class=\"dataframe\">\n",
       "  <thead>\n",
       "    <tr style=\"text-align: right;\">\n",
       "      <th></th>\n",
       "      <th>Company_Brand</th>\n",
       "      <th>Founded</th>\n",
       "      <th>HeadQuarter</th>\n",
       "      <th>Sector</th>\n",
       "      <th>What_it_does</th>\n",
       "      <th>Founders</th>\n",
       "      <th>Investor</th>\n",
       "      <th>Amount</th>\n",
       "      <th>Stage</th>\n",
       "    </tr>\n",
       "  </thead>\n",
       "  <tbody>\n",
       "    <tr>\n",
       "      <th>1137</th>\n",
       "      <td>EventBeep</td>\n",
       "      <td>2019.0</td>\n",
       "      <td>Pune</td>\n",
       "      <td>EdTech</td>\n",
       "      <td>An inclusive community where students are insp...</td>\n",
       "      <td>Saurabh Mangrulkar, Rakhi Pal, Venkatesh Prasad</td>\n",
       "      <td>SucSEED  Indovation Fund, Uincept, Palimala Ve...</td>\n",
       "      <td>&lt;NA&gt;</td>\n",
       "      <td>None</td>\n",
       "    </tr>\n",
       "    <tr>\n",
       "      <th>1146</th>\n",
       "      <td>MPL</td>\n",
       "      <td>2018.0</td>\n",
       "      <td>Bangalore</td>\n",
       "      <td>sports</td>\n",
       "      <td>Mobile Premier League (MPL), is India’s larges...</td>\n",
       "      <td>Sai Srinivas Kiran GV, Shubh Malhotra</td>\n",
       "      <td>Legatum Capital</td>\n",
       "      <td>&lt;NA&gt;</td>\n",
       "      <td>Series E</td>\n",
       "    </tr>\n",
       "  </tbody>\n",
       "</table>\n",
       "</div>"
      ],
      "text/plain": [
       "     Company_Brand  Founded HeadQuarter  Sector  \\\n",
       "1137     EventBeep   2019.0        Pune  EdTech   \n",
       "1146           MPL   2018.0   Bangalore  sports   \n",
       "\n",
       "                                           What_it_does  \\\n",
       "1137  An inclusive community where students are insp...   \n",
       "1146  Mobile Premier League (MPL), is India’s larges...   \n",
       "\n",
       "                                             Founders  \\\n",
       "1137  Saurabh Mangrulkar, Rakhi Pal, Venkatesh Prasad   \n",
       "1146            Sai Srinivas Kiran GV, Shubh Malhotra   \n",
       "\n",
       "                                               Investor Amount     Stage  \n",
       "1137  SucSEED  Indovation Fund, Uincept, Palimala Ve...   <NA>      None  \n",
       "1146                                    Legatum Capital   <NA>  Series E  "
      ]
     },
     "execution_count": 364,
     "metadata": {},
     "output_type": "execute_result"
    }
   ],
   "source": [
    "data_2021.loc[data]"
   ]
  },
  {
   "cell_type": "code",
   "execution_count": 365,
   "metadata": {},
   "outputs": [
    {
     "data": {
      "text/html": [
       "<div>\n",
       "<style scoped>\n",
       "    .dataframe tbody tr th:only-of-type {\n",
       "        vertical-align: middle;\n",
       "    }\n",
       "\n",
       "    .dataframe tbody tr th {\n",
       "        vertical-align: top;\n",
       "    }\n",
       "\n",
       "    .dataframe thead th {\n",
       "        text-align: right;\n",
       "    }\n",
       "</style>\n",
       "<table border=\"1\" class=\"dataframe\">\n",
       "  <thead>\n",
       "    <tr style=\"text-align: right;\">\n",
       "      <th></th>\n",
       "      <th>Company_Brand</th>\n",
       "      <th>Founded</th>\n",
       "      <th>HeadQuarter</th>\n",
       "      <th>Sector</th>\n",
       "      <th>What_it_does</th>\n",
       "      <th>Founders</th>\n",
       "      <th>Investor</th>\n",
       "      <th>Amount</th>\n",
       "      <th>Stage</th>\n",
       "    </tr>\n",
       "  </thead>\n",
       "  <tbody>\n",
       "    <tr>\n",
       "      <th>538</th>\n",
       "      <td>Little Leap</td>\n",
       "      <td>2020.0</td>\n",
       "      <td>New Delhi</td>\n",
       "      <td>EdTech</td>\n",
       "      <td>Soft Skills that make Smart Leaders</td>\n",
       "      <td>Holistic Development Programs for children in ...</td>\n",
       "      <td>Vishal Gupta</td>\n",
       "      <td>$300000</td>\n",
       "      <td>ah! Ventures</td>\n",
       "    </tr>\n",
       "    <tr>\n",
       "      <th>545</th>\n",
       "      <td>AdmitKard</td>\n",
       "      <td>2016.0</td>\n",
       "      <td>Noida</td>\n",
       "      <td>EdTech</td>\n",
       "      <td>A tech solution for end to end career advisory...</td>\n",
       "      <td>Vamsi Krishna, Pulkit Jain, Gaurav Munjal\\t#REF!</td>\n",
       "      <td>$1000000</td>\n",
       "      <td>None</td>\n",
       "      <td>Pre-series A</td>\n",
       "    </tr>\n",
       "    <tr>\n",
       "      <th>1148</th>\n",
       "      <td>Godamwale</td>\n",
       "      <td>2016.0</td>\n",
       "      <td>Mumbai</td>\n",
       "      <td>Logistics &amp; Supply Chain</td>\n",
       "      <td>Godamwale is tech enabled integrated logistics...</td>\n",
       "      <td>Basant Kumar, Vivek Tiwari, Ranbir Nandan</td>\n",
       "      <td>1000000\\t#REF!</td>\n",
       "      <td>None</td>\n",
       "      <td>Seed</td>\n",
       "    </tr>\n",
       "  </tbody>\n",
       "</table>\n",
       "</div>"
      ],
      "text/plain": [
       "     Company_Brand  Founded HeadQuarter                    Sector  \\\n",
       "538    Little Leap   2020.0   New Delhi                    EdTech   \n",
       "545      AdmitKard   2016.0       Noida                    EdTech   \n",
       "1148     Godamwale   2016.0      Mumbai  Logistics & Supply Chain   \n",
       "\n",
       "                                           What_it_does  \\\n",
       "538                 Soft Skills that make Smart Leaders   \n",
       "545   A tech solution for end to end career advisory...   \n",
       "1148  Godamwale is tech enabled integrated logistics...   \n",
       "\n",
       "                                               Founders        Investor  \\\n",
       "538   Holistic Development Programs for children in ...    Vishal Gupta   \n",
       "545    Vamsi Krishna, Pulkit Jain, Gaurav Munjal\\t#REF!        $1000000   \n",
       "1148          Basant Kumar, Vivek Tiwari, Ranbir Nandan  1000000\\t#REF!   \n",
       "\n",
       "       Amount         Stage  \n",
       "538   $300000  ah! Ventures  \n",
       "545      None  Pre-series A  \n",
       "1148     None          Seed  "
      ]
     },
     "execution_count": 365,
     "metadata": {},
     "output_type": "execute_result"
    }
   ],
   "source": [
    "amount_list=['Seed','LetsVenture','JITO Angel Network','LetsVenture','ITO Angel Network','Pre-series A','ah! Ventures']\n",
    "amount_index = data_2021.index[data_2021['Amount'].isin(amount_list)]\n",
    "stage_value = data_2021.loc[amount_index,['Amount']].values\n",
    "data_2021.loc[amount_index,['Amount']] = data_2021.loc[amount_index,['Stage']].values\n",
    "data_2021.loc[amount_index,['Stage']] = stage_value\n",
    "data_2021.loc[amount_index]"
   ]
  },
  {
   "cell_type": "code",
   "execution_count": 366,
   "metadata": {},
   "outputs": [
    {
     "data": {
      "text/html": [
       "<div>\n",
       "<style scoped>\n",
       "    .dataframe tbody tr th:only-of-type {\n",
       "        vertical-align: middle;\n",
       "    }\n",
       "\n",
       "    .dataframe tbody tr th {\n",
       "        vertical-align: top;\n",
       "    }\n",
       "\n",
       "    .dataframe thead th {\n",
       "        text-align: right;\n",
       "    }\n",
       "</style>\n",
       "<table border=\"1\" class=\"dataframe\">\n",
       "  <thead>\n",
       "    <tr style=\"text-align: right;\">\n",
       "      <th></th>\n",
       "      <th>Company_Brand</th>\n",
       "      <th>Founded</th>\n",
       "      <th>HeadQuarter</th>\n",
       "      <th>Sector</th>\n",
       "      <th>What_it_does</th>\n",
       "      <th>Founders</th>\n",
       "      <th>Investor</th>\n",
       "      <th>Amount</th>\n",
       "      <th>Stage</th>\n",
       "    </tr>\n",
       "  </thead>\n",
       "  <tbody>\n",
       "    <tr>\n",
       "      <th>0</th>\n",
       "      <td>Unbox Robotics</td>\n",
       "      <td>2019.0</td>\n",
       "      <td>Bangalore</td>\n",
       "      <td>AI startup</td>\n",
       "      <td>Unbox Robotics builds on-demand AI-driven ware...</td>\n",
       "      <td>Pramod Ghadge, Shahid Memon</td>\n",
       "      <td>BEENEXT, Entrepreneur First</td>\n",
       "      <td>$1,200,000</td>\n",
       "      <td>Pre-series A</td>\n",
       "    </tr>\n",
       "    <tr>\n",
       "      <th>1</th>\n",
       "      <td>upGrad</td>\n",
       "      <td>2015.0</td>\n",
       "      <td>Mumbai</td>\n",
       "      <td>EdTech</td>\n",
       "      <td>UpGrad is an online higher education platform.</td>\n",
       "      <td>Mayank Kumar, Phalgun Kompalli, Ravijot Chugh,...</td>\n",
       "      <td>Unilazer Ventures, IIFL Asset Management</td>\n",
       "      <td>$120,000,000</td>\n",
       "      <td>None</td>\n",
       "    </tr>\n",
       "    <tr>\n",
       "      <th>2</th>\n",
       "      <td>Lead School</td>\n",
       "      <td>2012.0</td>\n",
       "      <td>Mumbai</td>\n",
       "      <td>EdTech</td>\n",
       "      <td>LEAD School offers technology based school tra...</td>\n",
       "      <td>Smita Deorah, Sumeet Mehta</td>\n",
       "      <td>GSV Ventures, Westbridge Capital</td>\n",
       "      <td>$30,000,000</td>\n",
       "      <td>Series D</td>\n",
       "    </tr>\n",
       "    <tr>\n",
       "      <th>3</th>\n",
       "      <td>Bizongo</td>\n",
       "      <td>2015.0</td>\n",
       "      <td>Mumbai</td>\n",
       "      <td>B2B E-commerce</td>\n",
       "      <td>Bizongo is a business-to-business online marke...</td>\n",
       "      <td>Aniket Deb, Ankit Tomar, Sachin Agrawal</td>\n",
       "      <td>CDC Group, IDG Capital</td>\n",
       "      <td>$51,000,000</td>\n",
       "      <td>Series C</td>\n",
       "    </tr>\n",
       "    <tr>\n",
       "      <th>4</th>\n",
       "      <td>FypMoney</td>\n",
       "      <td>2021.0</td>\n",
       "      <td>Gurugram</td>\n",
       "      <td>FinTech</td>\n",
       "      <td>FypMoney is Digital NEO Bank for Teenagers, em...</td>\n",
       "      <td>Kapil Banwari</td>\n",
       "      <td>Liberatha Kallat, Mukesh Yadav, Dinesh Nagpal</td>\n",
       "      <td>$2,000,000</td>\n",
       "      <td>Seed</td>\n",
       "    </tr>\n",
       "  </tbody>\n",
       "</table>\n",
       "</div>"
      ],
      "text/plain": [
       "    Company_Brand  Founded HeadQuarter          Sector  \\\n",
       "0  Unbox Robotics   2019.0   Bangalore      AI startup   \n",
       "1          upGrad   2015.0      Mumbai          EdTech   \n",
       "2     Lead School   2012.0      Mumbai          EdTech   \n",
       "3         Bizongo   2015.0      Mumbai  B2B E-commerce   \n",
       "4        FypMoney   2021.0    Gurugram         FinTech   \n",
       "\n",
       "                                        What_it_does  \\\n",
       "0  Unbox Robotics builds on-demand AI-driven ware...   \n",
       "1     UpGrad is an online higher education platform.   \n",
       "2  LEAD School offers technology based school tra...   \n",
       "3  Bizongo is a business-to-business online marke...   \n",
       "4  FypMoney is Digital NEO Bank for Teenagers, em...   \n",
       "\n",
       "                                            Founders  \\\n",
       "0                        Pramod Ghadge, Shahid Memon   \n",
       "1  Mayank Kumar, Phalgun Kompalli, Ravijot Chugh,...   \n",
       "2                         Smita Deorah, Sumeet Mehta   \n",
       "3            Aniket Deb, Ankit Tomar, Sachin Agrawal   \n",
       "4                                      Kapil Banwari   \n",
       "\n",
       "                                        Investor        Amount         Stage  \n",
       "0                    BEENEXT, Entrepreneur First    $1,200,000  Pre-series A  \n",
       "1       Unilazer Ventures, IIFL Asset Management  $120,000,000          None  \n",
       "2               GSV Ventures, Westbridge Capital   $30,000,000      Series D  \n",
       "3                         CDC Group, IDG Capital   $51,000,000      Series C  \n",
       "4  Liberatha Kallat, Mukesh Yadav, Dinesh Nagpal    $2,000,000          Seed  "
      ]
     },
     "execution_count": 366,
     "metadata": {},
     "output_type": "execute_result"
    }
   ],
   "source": [
    "data_2021.head()"
   ]
  },
  {
   "cell_type": "markdown",
   "metadata": {},
   "source": [
    "Cleaning the Stage column\n"
   ]
  },
  {
   "cell_type": "code",
   "execution_count": 367,
   "metadata": {},
   "outputs": [
    {
     "data": {
      "text/plain": [
       "array(['Pre-series A', None, 'Series D', 'Series C', 'Seed', 'Series B',\n",
       "       'Series E', 'Pre-seed', 'Series A', 'Pre-series B', 'Debt',\n",
       "       'Bridge', 'Seed+', 'Series F2', 'Series A+', 'Series G',\n",
       "       'Series F', 'Series H', 'Series B3', 'PE', 'Series F1',\n",
       "       'Pre-series A1', 'ah! Ventures', '$300000', 'Series D1',\n",
       "       '$1000000', 'Seies A', 'Pre-series', 'Series A2', 'Series I'],\n",
       "      dtype=object)"
      ]
     },
     "execution_count": 367,
     "metadata": {},
     "output_type": "execute_result"
    }
   ],
   "source": [
    "# Check for the unique values\n",
    "data_2021['Stage'].unique()"
   ]
  },
  {
   "cell_type": "markdown",
   "metadata": {},
   "source": [
    "Since we 7 Start-up funding stages, the stage column will be grouped accordingly. "
   ]
  },
  {
   "cell_type": "code",
   "execution_count": 368,
   "metadata": {},
   "outputs": [],
   "source": [
    "# Clean the non categorical values from the Stage column\n",
    "\n",
    "data_2021['Stage'] = data_2021['Stage'].replace(to_replace=r'\\d', value='', regex=True)"
   ]
  },
  {
   "cell_type": "code",
   "execution_count": 369,
   "metadata": {},
   "outputs": [
    {
     "data": {
      "text/plain": [
       "array(['Pre-series A', None, 'Series D', 'Series C', 'Seed', 'Series B',\n",
       "       'Series E', 'Pre-seed', 'Series A', 'Pre-series B', 'Debt',\n",
       "       'Bridge', 'Seed+', 'Series F', 'Series A+', 'Series G', 'Series H',\n",
       "       'PE', 'ah! Ventures', '$', 'Seies A', 'Pre-series', 'Series I'],\n",
       "      dtype=object)"
      ]
     },
     "execution_count": 369,
     "metadata": {},
     "output_type": "execute_result"
    }
   ],
   "source": [
    "# Check for the unique values after cleaning it\n",
    "data_2021['Stage'].unique()"
   ]
  },
  {
   "cell_type": "code",
   "execution_count": 370,
   "metadata": {},
   "outputs": [],
   "source": [
    "# Strip $ sing and None from the Stage column\n",
    "value_to_remove = ['$',]\n",
    "data_2021['Stage'] = data_2021['Stage'][~data_2021['Stage'].isin(value_to_remove)]\n"
   ]
  },
  {
   "cell_type": "code",
   "execution_count": 371,
   "metadata": {},
   "outputs": [
    {
     "data": {
      "text/plain": [
       "array(['Pre-series A', None, 'Series D', 'Series C', 'Seed', 'Series B',\n",
       "       'Series E', 'Pre-seed', 'Series A', 'Pre-series B', 'Debt',\n",
       "       'Bridge', 'Seed+', 'Series F', 'Series A+', 'Series G', 'Series H',\n",
       "       'PE', 'ah! Ventures', nan, 'Seies A', 'Pre-series', 'Series I'],\n",
       "      dtype=object)"
      ]
     },
     "execution_count": 371,
     "metadata": {},
     "output_type": "execute_result"
    }
   ],
   "source": [
    "data_2021['Stage'].unique()"
   ]
  },
  {
   "cell_type": "code",
   "execution_count": 372,
   "metadata": {},
   "outputs": [],
   "source": [
    "# Group the stage column into stage category using map function\n",
    "category_mapping ={ 'Pre-seed':['Pre-seed','Pre-series B','Pre-series','Pre-series A'],\n",
    "                 'Seed':['Seed','Seed+','Early seed',],\n",
    "                 'Series A':['Series A','Series A+',],\n",
    "                 'Series B,C,D&E':['Series B','Series C','Series D','Series E',],\n",
    "                 'Others':['Series G', 'Series H','Debt','Bridge','Series F','PE','Series I']\n",
    "}\n",
    "\n",
    "def mapping_category(stage):\n",
    "    for category, stages in category_mapping.items():\n",
    "        if stage in stages:\n",
    "            return category\n",
    "    return 'unknown'\n",
    "# Create stage_category column\n",
    "data_2021['Stage_category'] = data_2021['Stage'].apply(mapping_category)"
   ]
  },
  {
   "cell_type": "code",
   "execution_count": 373,
   "metadata": {},
   "outputs": [],
   "source": [
    "# Fill NaN values with the most frequent category\n",
    "most_frequent_category = data_2021['Stage'].mode()[0]\n",
    "data_2021['Stage'] = data_2021['Stage'].fillna(most_frequent_category)\n"
   ]
  },
  {
   "cell_type": "code",
   "execution_count": 374,
   "metadata": {},
   "outputs": [
    {
     "data": {
      "text/plain": [
       "0"
      ]
     },
     "execution_count": 374,
     "metadata": {},
     "output_type": "execute_result"
    }
   ],
   "source": [
    "# Check for the nan values again \n",
    "data_2021['Stage'].isna().sum()"
   ]
  },
  {
   "cell_type": "code",
   "execution_count": 375,
   "metadata": {},
   "outputs": [],
   "source": [
    "data_2021['Funding_year'] = '2021'"
   ]
  },
  {
   "cell_type": "markdown",
   "metadata": {},
   "source": [
    "I will drop Founded, Founders and Investor columns because they are not significant to the business objectives of this analysis."
   ]
  },
  {
   "cell_type": "code",
   "execution_count": 376,
   "metadata": {},
   "outputs": [],
   "source": [
    "data_2021.drop(['Founded','Founders','Investor'], axis=1, inplace=True)"
   ]
  },
  {
   "cell_type": "code",
   "execution_count": 377,
   "metadata": {},
   "outputs": [
    {
     "data": {
      "text/html": [
       "<div>\n",
       "<style scoped>\n",
       "    .dataframe tbody tr th:only-of-type {\n",
       "        vertical-align: middle;\n",
       "    }\n",
       "\n",
       "    .dataframe tbody tr th {\n",
       "        vertical-align: top;\n",
       "    }\n",
       "\n",
       "    .dataframe thead th {\n",
       "        text-align: right;\n",
       "    }\n",
       "</style>\n",
       "<table border=\"1\" class=\"dataframe\">\n",
       "  <thead>\n",
       "    <tr style=\"text-align: right;\">\n",
       "      <th></th>\n",
       "      <th>Company_Brand</th>\n",
       "      <th>HeadQuarter</th>\n",
       "      <th>Sector</th>\n",
       "      <th>What_it_does</th>\n",
       "      <th>Amount</th>\n",
       "      <th>Stage</th>\n",
       "      <th>Stage_category</th>\n",
       "      <th>Funding_year</th>\n",
       "    </tr>\n",
       "  </thead>\n",
       "  <tbody>\n",
       "    <tr>\n",
       "      <th>0</th>\n",
       "      <td>Unbox Robotics</td>\n",
       "      <td>Bangalore</td>\n",
       "      <td>AI startup</td>\n",
       "      <td>Unbox Robotics builds on-demand AI-driven ware...</td>\n",
       "      <td>$1,200,000</td>\n",
       "      <td>Pre-series A</td>\n",
       "      <td>Pre-seed</td>\n",
       "      <td>2021</td>\n",
       "    </tr>\n",
       "    <tr>\n",
       "      <th>1</th>\n",
       "      <td>upGrad</td>\n",
       "      <td>Mumbai</td>\n",
       "      <td>EdTech</td>\n",
       "      <td>UpGrad is an online higher education platform.</td>\n",
       "      <td>$120,000,000</td>\n",
       "      <td>Seed</td>\n",
       "      <td>unknown</td>\n",
       "      <td>2021</td>\n",
       "    </tr>\n",
       "    <tr>\n",
       "      <th>2</th>\n",
       "      <td>Lead School</td>\n",
       "      <td>Mumbai</td>\n",
       "      <td>EdTech</td>\n",
       "      <td>LEAD School offers technology based school tra...</td>\n",
       "      <td>$30,000,000</td>\n",
       "      <td>Series D</td>\n",
       "      <td>Series B,C,D&amp;E</td>\n",
       "      <td>2021</td>\n",
       "    </tr>\n",
       "    <tr>\n",
       "      <th>3</th>\n",
       "      <td>Bizongo</td>\n",
       "      <td>Mumbai</td>\n",
       "      <td>B2B E-commerce</td>\n",
       "      <td>Bizongo is a business-to-business online marke...</td>\n",
       "      <td>$51,000,000</td>\n",
       "      <td>Series C</td>\n",
       "      <td>Series B,C,D&amp;E</td>\n",
       "      <td>2021</td>\n",
       "    </tr>\n",
       "    <tr>\n",
       "      <th>4</th>\n",
       "      <td>FypMoney</td>\n",
       "      <td>Gurugram</td>\n",
       "      <td>FinTech</td>\n",
       "      <td>FypMoney is Digital NEO Bank for Teenagers, em...</td>\n",
       "      <td>$2,000,000</td>\n",
       "      <td>Seed</td>\n",
       "      <td>Seed</td>\n",
       "      <td>2021</td>\n",
       "    </tr>\n",
       "  </tbody>\n",
       "</table>\n",
       "</div>"
      ],
      "text/plain": [
       "    Company_Brand HeadQuarter          Sector  \\\n",
       "0  Unbox Robotics   Bangalore      AI startup   \n",
       "1          upGrad      Mumbai          EdTech   \n",
       "2     Lead School      Mumbai          EdTech   \n",
       "3         Bizongo      Mumbai  B2B E-commerce   \n",
       "4        FypMoney    Gurugram         FinTech   \n",
       "\n",
       "                                        What_it_does        Amount  \\\n",
       "0  Unbox Robotics builds on-demand AI-driven ware...    $1,200,000   \n",
       "1     UpGrad is an online higher education platform.  $120,000,000   \n",
       "2  LEAD School offers technology based school tra...   $30,000,000   \n",
       "3  Bizongo is a business-to-business online marke...   $51,000,000   \n",
       "4  FypMoney is Digital NEO Bank for Teenagers, em...    $2,000,000   \n",
       "\n",
       "          Stage  Stage_category Funding_year  \n",
       "0  Pre-series A        Pre-seed         2021  \n",
       "1          Seed         unknown         2021  \n",
       "2      Series D  Series B,C,D&E         2021  \n",
       "3      Series C  Series B,C,D&E         2021  \n",
       "4          Seed            Seed         2021  "
      ]
     },
     "execution_count": 377,
     "metadata": {},
     "output_type": "execute_result"
    }
   ],
   "source": [
    "data_2021.head()"
   ]
  },
  {
   "cell_type": "code",
   "execution_count": 378,
   "metadata": {},
   "outputs": [
    {
     "data": {
      "text/plain": [
       "16"
      ]
     },
     "execution_count": 378,
     "metadata": {},
     "output_type": "execute_result"
    }
   ],
   "source": [
    "# Check for duplicates in data_2021\n",
    "data_2021.duplicated().sum()"
   ]
  },
  {
   "cell_type": "code",
   "execution_count": 379,
   "metadata": {},
   "outputs": [
    {
     "data": {
      "text/html": [
       "<div>\n",
       "<style scoped>\n",
       "    .dataframe tbody tr th:only-of-type {\n",
       "        vertical-align: middle;\n",
       "    }\n",
       "\n",
       "    .dataframe tbody tr th {\n",
       "        vertical-align: top;\n",
       "    }\n",
       "\n",
       "    .dataframe thead th {\n",
       "        text-align: right;\n",
       "    }\n",
       "</style>\n",
       "<table border=\"1\" class=\"dataframe\">\n",
       "  <thead>\n",
       "    <tr style=\"text-align: right;\">\n",
       "      <th></th>\n",
       "      <th>Company_Brand</th>\n",
       "      <th>HeadQuarter</th>\n",
       "      <th>Sector</th>\n",
       "      <th>What_it_does</th>\n",
       "      <th>Amount</th>\n",
       "      <th>Stage</th>\n",
       "      <th>Stage_category</th>\n",
       "      <th>Funding_year</th>\n",
       "    </tr>\n",
       "  </thead>\n",
       "  <tbody>\n",
       "    <tr>\n",
       "      <th>0</th>\n",
       "      <td>Unbox Robotics</td>\n",
       "      <td>Bangalore</td>\n",
       "      <td>AI startup</td>\n",
       "      <td>Unbox Robotics builds on-demand AI-driven ware...</td>\n",
       "      <td>$1,200,000</td>\n",
       "      <td>Pre-series A</td>\n",
       "      <td>Pre-seed</td>\n",
       "      <td>2021</td>\n",
       "    </tr>\n",
       "    <tr>\n",
       "      <th>1</th>\n",
       "      <td>upGrad</td>\n",
       "      <td>Mumbai</td>\n",
       "      <td>EdTech</td>\n",
       "      <td>UpGrad is an online higher education platform.</td>\n",
       "      <td>$120,000,000</td>\n",
       "      <td>Seed</td>\n",
       "      <td>unknown</td>\n",
       "      <td>2021</td>\n",
       "    </tr>\n",
       "    <tr>\n",
       "      <th>2</th>\n",
       "      <td>Lead School</td>\n",
       "      <td>Mumbai</td>\n",
       "      <td>EdTech</td>\n",
       "      <td>LEAD School offers technology based school tra...</td>\n",
       "      <td>$30,000,000</td>\n",
       "      <td>Series D</td>\n",
       "      <td>Series B,C,D&amp;E</td>\n",
       "      <td>2021</td>\n",
       "    </tr>\n",
       "    <tr>\n",
       "      <th>3</th>\n",
       "      <td>Bizongo</td>\n",
       "      <td>Mumbai</td>\n",
       "      <td>B2B E-commerce</td>\n",
       "      <td>Bizongo is a business-to-business online marke...</td>\n",
       "      <td>$51,000,000</td>\n",
       "      <td>Series C</td>\n",
       "      <td>Series B,C,D&amp;E</td>\n",
       "      <td>2021</td>\n",
       "    </tr>\n",
       "    <tr>\n",
       "      <th>4</th>\n",
       "      <td>FypMoney</td>\n",
       "      <td>Gurugram</td>\n",
       "      <td>FinTech</td>\n",
       "      <td>FypMoney is Digital NEO Bank for Teenagers, em...</td>\n",
       "      <td>$2,000,000</td>\n",
       "      <td>Seed</td>\n",
       "      <td>Seed</td>\n",
       "      <td>2021</td>\n",
       "    </tr>\n",
       "    <tr>\n",
       "      <th>...</th>\n",
       "      <td>...</td>\n",
       "      <td>...</td>\n",
       "      <td>...</td>\n",
       "      <td>...</td>\n",
       "      <td>...</td>\n",
       "      <td>...</td>\n",
       "      <td>...</td>\n",
       "      <td>...</td>\n",
       "    </tr>\n",
       "    <tr>\n",
       "      <th>1204</th>\n",
       "      <td>Gigforce</td>\n",
       "      <td>Gurugram</td>\n",
       "      <td>Staffing &amp; Recruiting</td>\n",
       "      <td>A gig/on-demand staffing company.</td>\n",
       "      <td>$3000000</td>\n",
       "      <td>Pre-series A</td>\n",
       "      <td>Pre-seed</td>\n",
       "      <td>2021</td>\n",
       "    </tr>\n",
       "    <tr>\n",
       "      <th>1205</th>\n",
       "      <td>Vahdam</td>\n",
       "      <td>New Delhi</td>\n",
       "      <td>Food &amp; Beverages</td>\n",
       "      <td>VAHDAM is among the world’s first vertically i...</td>\n",
       "      <td>$20000000</td>\n",
       "      <td>Series D</td>\n",
       "      <td>Series B,C,D&amp;E</td>\n",
       "      <td>2021</td>\n",
       "    </tr>\n",
       "    <tr>\n",
       "      <th>1206</th>\n",
       "      <td>Leap Finance</td>\n",
       "      <td>Bangalore</td>\n",
       "      <td>Financial Services</td>\n",
       "      <td>International education loans for high potenti...</td>\n",
       "      <td>$55000000</td>\n",
       "      <td>Series C</td>\n",
       "      <td>Series B,C,D&amp;E</td>\n",
       "      <td>2021</td>\n",
       "    </tr>\n",
       "    <tr>\n",
       "      <th>1207</th>\n",
       "      <td>CollegeDekho</td>\n",
       "      <td>Gurugram</td>\n",
       "      <td>EdTech</td>\n",
       "      <td>Collegedekho.com is Student’s Partner, Friend ...</td>\n",
       "      <td>$26000000</td>\n",
       "      <td>Series B</td>\n",
       "      <td>Series B,C,D&amp;E</td>\n",
       "      <td>2021</td>\n",
       "    </tr>\n",
       "    <tr>\n",
       "      <th>1208</th>\n",
       "      <td>WeRize</td>\n",
       "      <td>Bangalore</td>\n",
       "      <td>Financial Services</td>\n",
       "      <td>India’s first socially distributed full stack ...</td>\n",
       "      <td>$8000000</td>\n",
       "      <td>Series A</td>\n",
       "      <td>Series A</td>\n",
       "      <td>2021</td>\n",
       "    </tr>\n",
       "  </tbody>\n",
       "</table>\n",
       "<p>1030 rows × 8 columns</p>\n",
       "</div>"
      ],
      "text/plain": [
       "       Company_Brand HeadQuarter                 Sector  \\\n",
       "0     Unbox Robotics   Bangalore             AI startup   \n",
       "1             upGrad      Mumbai                 EdTech   \n",
       "2        Lead School      Mumbai                 EdTech   \n",
       "3            Bizongo      Mumbai         B2B E-commerce   \n",
       "4           FypMoney    Gurugram                FinTech   \n",
       "...              ...         ...                    ...   \n",
       "1204        Gigforce    Gurugram  Staffing & Recruiting   \n",
       "1205          Vahdam   New Delhi       Food & Beverages   \n",
       "1206    Leap Finance   Bangalore     Financial Services   \n",
       "1207    CollegeDekho    Gurugram                 EdTech   \n",
       "1208          WeRize   Bangalore     Financial Services   \n",
       "\n",
       "                                           What_it_does        Amount  \\\n",
       "0     Unbox Robotics builds on-demand AI-driven ware...    $1,200,000   \n",
       "1        UpGrad is an online higher education platform.  $120,000,000   \n",
       "2     LEAD School offers technology based school tra...   $30,000,000   \n",
       "3     Bizongo is a business-to-business online marke...   $51,000,000   \n",
       "4     FypMoney is Digital NEO Bank for Teenagers, em...    $2,000,000   \n",
       "...                                                 ...           ...   \n",
       "1204                  A gig/on-demand staffing company.      $3000000   \n",
       "1205  VAHDAM is among the world’s first vertically i...     $20000000   \n",
       "1206  International education loans for high potenti...     $55000000   \n",
       "1207  Collegedekho.com is Student’s Partner, Friend ...     $26000000   \n",
       "1208  India’s first socially distributed full stack ...      $8000000   \n",
       "\n",
       "             Stage  Stage_category Funding_year  \n",
       "0     Pre-series A        Pre-seed         2021  \n",
       "1             Seed         unknown         2021  \n",
       "2         Series D  Series B,C,D&E         2021  \n",
       "3         Series C  Series B,C,D&E         2021  \n",
       "4             Seed            Seed         2021  \n",
       "...            ...             ...          ...  \n",
       "1204  Pre-series A        Pre-seed         2021  \n",
       "1205      Series D  Series B,C,D&E         2021  \n",
       "1206      Series C  Series B,C,D&E         2021  \n",
       "1207      Series B  Series B,C,D&E         2021  \n",
       "1208      Series A        Series A         2021  \n",
       "\n",
       "[1030 rows x 8 columns]"
      ]
     },
     "execution_count": 379,
     "metadata": {},
     "output_type": "execute_result"
    }
   ],
   "source": [
    "# Drop the duplicated rows and print the cleaned data_2021 data set\n",
    "data_2021.drop_duplicates()"
   ]
  },
  {
   "cell_type": "markdown",
   "metadata": {},
   "source": []
  },
  {
   "cell_type": "markdown",
   "metadata": {},
   "source": [
    "Checking for the inconsistencies and cleaning data_2018 and data_2019"
   ]
  },
  {
   "cell_type": "code",
   "execution_count": 380,
   "metadata": {},
   "outputs": [
    {
     "data": {
      "text/html": [
       "<div>\n",
       "<style scoped>\n",
       "    .dataframe tbody tr th:only-of-type {\n",
       "        vertical-align: middle;\n",
       "    }\n",
       "\n",
       "    .dataframe tbody tr th {\n",
       "        vertical-align: top;\n",
       "    }\n",
       "\n",
       "    .dataframe thead th {\n",
       "        text-align: right;\n",
       "    }\n",
       "</style>\n",
       "<table border=\"1\" class=\"dataframe\">\n",
       "  <thead>\n",
       "    <tr style=\"text-align: right;\">\n",
       "      <th></th>\n",
       "      <th>Company Name</th>\n",
       "      <th>Industry</th>\n",
       "      <th>Round/Series</th>\n",
       "      <th>Amount</th>\n",
       "      <th>Location</th>\n",
       "      <th>About Company</th>\n",
       "    </tr>\n",
       "  </thead>\n",
       "  <tbody>\n",
       "    <tr>\n",
       "      <th>0</th>\n",
       "      <td>TheCollegeFever</td>\n",
       "      <td>Brand Marketing, Event Promotion, Marketing, S...</td>\n",
       "      <td>Seed</td>\n",
       "      <td>250000</td>\n",
       "      <td>Bangalore, Karnataka, India</td>\n",
       "      <td>TheCollegeFever is a hub for fun, fiesta and f...</td>\n",
       "    </tr>\n",
       "    <tr>\n",
       "      <th>1</th>\n",
       "      <td>Happy Cow Dairy</td>\n",
       "      <td>Agriculture, Farming</td>\n",
       "      <td>Seed</td>\n",
       "      <td>₹40,000,000</td>\n",
       "      <td>Mumbai, Maharashtra, India</td>\n",
       "      <td>A startup which aggregates milk from dairy far...</td>\n",
       "    </tr>\n",
       "  </tbody>\n",
       "</table>\n",
       "</div>"
      ],
      "text/plain": [
       "      Company Name                                           Industry  \\\n",
       "0  TheCollegeFever  Brand Marketing, Event Promotion, Marketing, S...   \n",
       "1  Happy Cow Dairy                               Agriculture, Farming   \n",
       "\n",
       "  Round/Series       Amount                     Location  \\\n",
       "0         Seed       250000  Bangalore, Karnataka, India   \n",
       "1         Seed  ₹40,000,000   Mumbai, Maharashtra, India   \n",
       "\n",
       "                                       About Company  \n",
       "0  TheCollegeFever is a hub for fun, fiesta and f...  \n",
       "1  A startup which aggregates milk from dairy far...  "
      ]
     },
     "execution_count": 380,
     "metadata": {},
     "output_type": "execute_result"
    }
   ],
   "source": [
    "data_2018.head(2)"
   ]
  },
  {
   "cell_type": "code",
   "execution_count": 381,
   "metadata": {},
   "outputs": [],
   "source": [
    "# Rename the columns\n",
    "data_2018.rename(columns={\n",
    "    'Company Name': 'Company_Brand',\n",
    "    'Industry': 'Sector',\n",
    "    'Location': 'HeadQuarter',\n",
    "    'About Company': 'What_it_does',\n",
    "    'Round/Series':'Stage'\n",
    "}, inplace=True)\n"
   ]
  },
  {
   "cell_type": "code",
   "execution_count": 382,
   "metadata": {},
   "outputs": [],
   "source": [
    "# Create funding_year column for 2018 data set\n",
    "data_2018['Funding_year'] = '2018'"
   ]
  },
  {
   "cell_type": "code",
   "execution_count": 383,
   "metadata": {},
   "outputs": [
    {
     "data": {
      "text/html": [
       "<div>\n",
       "<style scoped>\n",
       "    .dataframe tbody tr th:only-of-type {\n",
       "        vertical-align: middle;\n",
       "    }\n",
       "\n",
       "    .dataframe tbody tr th {\n",
       "        vertical-align: top;\n",
       "    }\n",
       "\n",
       "    .dataframe thead th {\n",
       "        text-align: right;\n",
       "    }\n",
       "</style>\n",
       "<table border=\"1\" class=\"dataframe\">\n",
       "  <thead>\n",
       "    <tr style=\"text-align: right;\">\n",
       "      <th></th>\n",
       "      <th>Company_Brand</th>\n",
       "      <th>Sector</th>\n",
       "      <th>Stage</th>\n",
       "      <th>Amount</th>\n",
       "      <th>HeadQuarter</th>\n",
       "      <th>What_it_does</th>\n",
       "      <th>Funding_year</th>\n",
       "    </tr>\n",
       "  </thead>\n",
       "  <tbody>\n",
       "    <tr>\n",
       "      <th>0</th>\n",
       "      <td>TheCollegeFever</td>\n",
       "      <td>Brand Marketing, Event Promotion, Marketing, S...</td>\n",
       "      <td>Seed</td>\n",
       "      <td>250000</td>\n",
       "      <td>Bangalore, Karnataka, India</td>\n",
       "      <td>TheCollegeFever is a hub for fun, fiesta and f...</td>\n",
       "      <td>2018</td>\n",
       "    </tr>\n",
       "    <tr>\n",
       "      <th>1</th>\n",
       "      <td>Happy Cow Dairy</td>\n",
       "      <td>Agriculture, Farming</td>\n",
       "      <td>Seed</td>\n",
       "      <td>₹40,000,000</td>\n",
       "      <td>Mumbai, Maharashtra, India</td>\n",
       "      <td>A startup which aggregates milk from dairy far...</td>\n",
       "      <td>2018</td>\n",
       "    </tr>\n",
       "    <tr>\n",
       "      <th>2</th>\n",
       "      <td>MyLoanCare</td>\n",
       "      <td>Credit, Financial Services, Lending, Marketplace</td>\n",
       "      <td>Series A</td>\n",
       "      <td>₹65,000,000</td>\n",
       "      <td>Gurgaon, Haryana, India</td>\n",
       "      <td>Leading Online Loans Marketplace in India</td>\n",
       "      <td>2018</td>\n",
       "    </tr>\n",
       "    <tr>\n",
       "      <th>3</th>\n",
       "      <td>PayMe India</td>\n",
       "      <td>Financial Services, FinTech</td>\n",
       "      <td>Angel</td>\n",
       "      <td>2000000</td>\n",
       "      <td>Noida, Uttar Pradesh, India</td>\n",
       "      <td>PayMe India is an innovative FinTech organizat...</td>\n",
       "      <td>2018</td>\n",
       "    </tr>\n",
       "    <tr>\n",
       "      <th>4</th>\n",
       "      <td>Eunimart</td>\n",
       "      <td>E-Commerce Platforms, Retail, SaaS</td>\n",
       "      <td>Seed</td>\n",
       "      <td>—</td>\n",
       "      <td>Hyderabad, Andhra Pradesh, India</td>\n",
       "      <td>Eunimart is a one stop solution for merchants ...</td>\n",
       "      <td>2018</td>\n",
       "    </tr>\n",
       "  </tbody>\n",
       "</table>\n",
       "</div>"
      ],
      "text/plain": [
       "     Company_Brand                                             Sector  \\\n",
       "0  TheCollegeFever  Brand Marketing, Event Promotion, Marketing, S...   \n",
       "1  Happy Cow Dairy                               Agriculture, Farming   \n",
       "2       MyLoanCare   Credit, Financial Services, Lending, Marketplace   \n",
       "3      PayMe India                        Financial Services, FinTech   \n",
       "4         Eunimart                 E-Commerce Platforms, Retail, SaaS   \n",
       "\n",
       "      Stage       Amount                       HeadQuarter  \\\n",
       "0      Seed       250000       Bangalore, Karnataka, India   \n",
       "1      Seed  ₹40,000,000        Mumbai, Maharashtra, India   \n",
       "2  Series A  ₹65,000,000           Gurgaon, Haryana, India   \n",
       "3     Angel      2000000       Noida, Uttar Pradesh, India   \n",
       "4      Seed            —  Hyderabad, Andhra Pradesh, India   \n",
       "\n",
       "                                        What_it_does Funding_year  \n",
       "0  TheCollegeFever is a hub for fun, fiesta and f...         2018  \n",
       "1  A startup which aggregates milk from dairy far...         2018  \n",
       "2          Leading Online Loans Marketplace in India         2018  \n",
       "3  PayMe India is an innovative FinTech organizat...         2018  \n",
       "4  Eunimart is a one stop solution for merchants ...         2018  "
      ]
     },
     "execution_count": 383,
     "metadata": {},
     "output_type": "execute_result"
    }
   ],
   "source": [
    "data_2018.head()"
   ]
  },
  {
   "cell_type": "code",
   "execution_count": 384,
   "metadata": {},
   "outputs": [
    {
     "data": {
      "text/html": [
       "<div>\n",
       "<style scoped>\n",
       "    .dataframe tbody tr th:only-of-type {\n",
       "        vertical-align: middle;\n",
       "    }\n",
       "\n",
       "    .dataframe tbody tr th {\n",
       "        vertical-align: top;\n",
       "    }\n",
       "\n",
       "    .dataframe thead th {\n",
       "        text-align: right;\n",
       "    }\n",
       "</style>\n",
       "<table border=\"1\" class=\"dataframe\">\n",
       "  <thead>\n",
       "    <tr style=\"text-align: right;\">\n",
       "      <th></th>\n",
       "      <th>Company/Brand</th>\n",
       "      <th>Founded</th>\n",
       "      <th>HeadQuarter</th>\n",
       "      <th>Sector</th>\n",
       "      <th>What it does</th>\n",
       "      <th>Founders</th>\n",
       "      <th>Investor</th>\n",
       "      <th>Amount($)</th>\n",
       "      <th>Stage</th>\n",
       "    </tr>\n",
       "  </thead>\n",
       "  <tbody>\n",
       "    <tr>\n",
       "      <th>0</th>\n",
       "      <td>Bombay Shaving</td>\n",
       "      <td>NaN</td>\n",
       "      <td>NaN</td>\n",
       "      <td>Ecommerce</td>\n",
       "      <td>Provides a range of male grooming products</td>\n",
       "      <td>Shantanu Deshpande</td>\n",
       "      <td>Sixth Sense Ventures</td>\n",
       "      <td>$6,300,000</td>\n",
       "      <td>NaN</td>\n",
       "    </tr>\n",
       "    <tr>\n",
       "      <th>1</th>\n",
       "      <td>Ruangguru</td>\n",
       "      <td>2014.0</td>\n",
       "      <td>Mumbai</td>\n",
       "      <td>Edtech</td>\n",
       "      <td>A learning platform that provides topic-based ...</td>\n",
       "      <td>Adamas Belva Syah Devara, Iman Usman.</td>\n",
       "      <td>General Atlantic</td>\n",
       "      <td>$150,000,000</td>\n",
       "      <td>Series C</td>\n",
       "    </tr>\n",
       "  </tbody>\n",
       "</table>\n",
       "</div>"
      ],
      "text/plain": [
       "    Company/Brand  Founded HeadQuarter     Sector  \\\n",
       "0  Bombay Shaving      NaN         NaN  Ecommerce   \n",
       "1       Ruangguru   2014.0      Mumbai     Edtech   \n",
       "\n",
       "                                        What it does  \\\n",
       "0         Provides a range of male grooming products   \n",
       "1  A learning platform that provides topic-based ...   \n",
       "\n",
       "                                Founders              Investor     Amount($)  \\\n",
       "0                     Shantanu Deshpande  Sixth Sense Ventures    $6,300,000   \n",
       "1  Adamas Belva Syah Devara, Iman Usman.      General Atlantic  $150,000,000   \n",
       "\n",
       "      Stage  \n",
       "0       NaN  \n",
       "1  Series C  "
      ]
     },
     "execution_count": 384,
     "metadata": {},
     "output_type": "execute_result"
    }
   ],
   "source": [
    "# Display data_2019\n",
    "data_2019.head(2)"
   ]
  },
  {
   "cell_type": "code",
   "execution_count": 385,
   "metadata": {},
   "outputs": [],
   "source": [
    "# Drop Founded, Founders, and Investor columns\n",
    "data_2019.drop(['Founded','Founders','Investor'], axis=1, inplace=True)"
   ]
  },
  {
   "cell_type": "code",
   "execution_count": 386,
   "metadata": {},
   "outputs": [],
   "source": [
    "# Create Funding_ year column for 2019 data set\n",
    "data_2019['Funding_year'] = '2019'"
   ]
  },
  {
   "cell_type": "code",
   "execution_count": 387,
   "metadata": {},
   "outputs": [
    {
     "data": {
      "text/html": [
       "<div>\n",
       "<style scoped>\n",
       "    .dataframe tbody tr th:only-of-type {\n",
       "        vertical-align: middle;\n",
       "    }\n",
       "\n",
       "    .dataframe tbody tr th {\n",
       "        vertical-align: top;\n",
       "    }\n",
       "\n",
       "    .dataframe thead th {\n",
       "        text-align: right;\n",
       "    }\n",
       "</style>\n",
       "<table border=\"1\" class=\"dataframe\">\n",
       "  <thead>\n",
       "    <tr style=\"text-align: right;\">\n",
       "      <th></th>\n",
       "      <th>Company/Brand</th>\n",
       "      <th>HeadQuarter</th>\n",
       "      <th>Sector</th>\n",
       "      <th>What it does</th>\n",
       "      <th>Amount($)</th>\n",
       "      <th>Stage</th>\n",
       "      <th>Funding_year</th>\n",
       "    </tr>\n",
       "  </thead>\n",
       "  <tbody>\n",
       "    <tr>\n",
       "      <th>0</th>\n",
       "      <td>Bombay Shaving</td>\n",
       "      <td>NaN</td>\n",
       "      <td>Ecommerce</td>\n",
       "      <td>Provides a range of male grooming products</td>\n",
       "      <td>$6,300,000</td>\n",
       "      <td>NaN</td>\n",
       "      <td>2019</td>\n",
       "    </tr>\n",
       "    <tr>\n",
       "      <th>1</th>\n",
       "      <td>Ruangguru</td>\n",
       "      <td>Mumbai</td>\n",
       "      <td>Edtech</td>\n",
       "      <td>A learning platform that provides topic-based ...</td>\n",
       "      <td>$150,000,000</td>\n",
       "      <td>Series C</td>\n",
       "      <td>2019</td>\n",
       "    </tr>\n",
       "    <tr>\n",
       "      <th>2</th>\n",
       "      <td>Eduisfun</td>\n",
       "      <td>Mumbai</td>\n",
       "      <td>Edtech</td>\n",
       "      <td>It aims to make learning fun via games.</td>\n",
       "      <td>$28,000,000</td>\n",
       "      <td>Fresh funding</td>\n",
       "      <td>2019</td>\n",
       "    </tr>\n",
       "    <tr>\n",
       "      <th>3</th>\n",
       "      <td>HomeLane</td>\n",
       "      <td>Chennai</td>\n",
       "      <td>Interior design</td>\n",
       "      <td>Provides interior designing solutions</td>\n",
       "      <td>$30,000,000</td>\n",
       "      <td>Series D</td>\n",
       "      <td>2019</td>\n",
       "    </tr>\n",
       "    <tr>\n",
       "      <th>4</th>\n",
       "      <td>Nu Genes</td>\n",
       "      <td>Telangana</td>\n",
       "      <td>AgriTech</td>\n",
       "      <td>It is a seed company engaged in production, pr...</td>\n",
       "      <td>$6,000,000</td>\n",
       "      <td>NaN</td>\n",
       "      <td>2019</td>\n",
       "    </tr>\n",
       "  </tbody>\n",
       "</table>\n",
       "</div>"
      ],
      "text/plain": [
       "    Company/Brand HeadQuarter           Sector  \\\n",
       "0  Bombay Shaving         NaN        Ecommerce   \n",
       "1       Ruangguru      Mumbai           Edtech   \n",
       "2        Eduisfun      Mumbai           Edtech   \n",
       "3        HomeLane     Chennai  Interior design   \n",
       "4        Nu Genes   Telangana         AgriTech   \n",
       "\n",
       "                                        What it does     Amount($)  \\\n",
       "0         Provides a range of male grooming products    $6,300,000   \n",
       "1  A learning platform that provides topic-based ...  $150,000,000   \n",
       "2            It aims to make learning fun via games.   $28,000,000   \n",
       "3              Provides interior designing solutions   $30,000,000   \n",
       "4  It is a seed company engaged in production, pr...    $6,000,000   \n",
       "\n",
       "           Stage Funding_year  \n",
       "0            NaN         2019  \n",
       "1       Series C         2019  \n",
       "2  Fresh funding         2019  \n",
       "3       Series D         2019  \n",
       "4            NaN         2019  "
      ]
     },
     "execution_count": 387,
     "metadata": {},
     "output_type": "execute_result"
    }
   ],
   "source": [
    "data_2019.head()"
   ]
  },
  {
   "cell_type": "code",
   "execution_count": 388,
   "metadata": {},
   "outputs": [],
   "source": [
    "# Rename the Company/Brand colummn\n",
    "data_2019.rename(columns={'Company/Brand':'Company_Brand',\n",
    "                          'What it does':'What_it_does',\n",
    "                          'Amount($)':'Amount'\n",
    "                          \n",
    "                          }, inplace=True)"
   ]
  },
  {
   "cell_type": "code",
   "execution_count": 389,
   "metadata": {},
   "outputs": [
    {
     "data": {
      "text/html": [
       "<div>\n",
       "<style scoped>\n",
       "    .dataframe tbody tr th:only-of-type {\n",
       "        vertical-align: middle;\n",
       "    }\n",
       "\n",
       "    .dataframe tbody tr th {\n",
       "        vertical-align: top;\n",
       "    }\n",
       "\n",
       "    .dataframe thead th {\n",
       "        text-align: right;\n",
       "    }\n",
       "</style>\n",
       "<table border=\"1\" class=\"dataframe\">\n",
       "  <thead>\n",
       "    <tr style=\"text-align: right;\">\n",
       "      <th></th>\n",
       "      <th>Company_Brand</th>\n",
       "      <th>HeadQuarter</th>\n",
       "      <th>Sector</th>\n",
       "      <th>What_it_does</th>\n",
       "      <th>Amount</th>\n",
       "      <th>Stage</th>\n",
       "      <th>Funding_year</th>\n",
       "    </tr>\n",
       "  </thead>\n",
       "  <tbody>\n",
       "    <tr>\n",
       "      <th>0</th>\n",
       "      <td>Bombay Shaving</td>\n",
       "      <td>NaN</td>\n",
       "      <td>Ecommerce</td>\n",
       "      <td>Provides a range of male grooming products</td>\n",
       "      <td>$6,300,000</td>\n",
       "      <td>NaN</td>\n",
       "      <td>2019</td>\n",
       "    </tr>\n",
       "    <tr>\n",
       "      <th>1</th>\n",
       "      <td>Ruangguru</td>\n",
       "      <td>Mumbai</td>\n",
       "      <td>Edtech</td>\n",
       "      <td>A learning platform that provides topic-based ...</td>\n",
       "      <td>$150,000,000</td>\n",
       "      <td>Series C</td>\n",
       "      <td>2019</td>\n",
       "    </tr>\n",
       "    <tr>\n",
       "      <th>2</th>\n",
       "      <td>Eduisfun</td>\n",
       "      <td>Mumbai</td>\n",
       "      <td>Edtech</td>\n",
       "      <td>It aims to make learning fun via games.</td>\n",
       "      <td>$28,000,000</td>\n",
       "      <td>Fresh funding</td>\n",
       "      <td>2019</td>\n",
       "    </tr>\n",
       "    <tr>\n",
       "      <th>3</th>\n",
       "      <td>HomeLane</td>\n",
       "      <td>Chennai</td>\n",
       "      <td>Interior design</td>\n",
       "      <td>Provides interior designing solutions</td>\n",
       "      <td>$30,000,000</td>\n",
       "      <td>Series D</td>\n",
       "      <td>2019</td>\n",
       "    </tr>\n",
       "    <tr>\n",
       "      <th>4</th>\n",
       "      <td>Nu Genes</td>\n",
       "      <td>Telangana</td>\n",
       "      <td>AgriTech</td>\n",
       "      <td>It is a seed company engaged in production, pr...</td>\n",
       "      <td>$6,000,000</td>\n",
       "      <td>NaN</td>\n",
       "      <td>2019</td>\n",
       "    </tr>\n",
       "  </tbody>\n",
       "</table>\n",
       "</div>"
      ],
      "text/plain": [
       "    Company_Brand HeadQuarter           Sector  \\\n",
       "0  Bombay Shaving         NaN        Ecommerce   \n",
       "1       Ruangguru      Mumbai           Edtech   \n",
       "2        Eduisfun      Mumbai           Edtech   \n",
       "3        HomeLane     Chennai  Interior design   \n",
       "4        Nu Genes   Telangana         AgriTech   \n",
       "\n",
       "                                        What_it_does        Amount  \\\n",
       "0         Provides a range of male grooming products    $6,300,000   \n",
       "1  A learning platform that provides topic-based ...  $150,000,000   \n",
       "2            It aims to make learning fun via games.   $28,000,000   \n",
       "3              Provides interior designing solutions   $30,000,000   \n",
       "4  It is a seed company engaged in production, pr...    $6,000,000   \n",
       "\n",
       "           Stage Funding_year  \n",
       "0            NaN         2019  \n",
       "1       Series C         2019  \n",
       "2  Fresh funding         2019  \n",
       "3       Series D         2019  \n",
       "4            NaN         2019  "
      ]
     },
     "execution_count": 389,
     "metadata": {},
     "output_type": "execute_result"
    }
   ],
   "source": [
    "# Display data_2019 and after renaming the column\n",
    "data_2019.head()"
   ]
  },
  {
   "cell_type": "markdown",
   "metadata": {},
   "source": [
    "Merge data_2018 and data_2019 and clean them together"
   ]
  },
  {
   "cell_type": "code",
   "execution_count": 390,
   "metadata": {},
   "outputs": [
    {
     "data": {
      "text/html": [
       "<div>\n",
       "<style scoped>\n",
       "    .dataframe tbody tr th:only-of-type {\n",
       "        vertical-align: middle;\n",
       "    }\n",
       "\n",
       "    .dataframe tbody tr th {\n",
       "        vertical-align: top;\n",
       "    }\n",
       "\n",
       "    .dataframe thead th {\n",
       "        text-align: right;\n",
       "    }\n",
       "</style>\n",
       "<table border=\"1\" class=\"dataframe\">\n",
       "  <thead>\n",
       "    <tr style=\"text-align: right;\">\n",
       "      <th></th>\n",
       "      <th>Company_Brand</th>\n",
       "      <th>Sector</th>\n",
       "      <th>Stage</th>\n",
       "      <th>Amount</th>\n",
       "      <th>HeadQuarter</th>\n",
       "      <th>What_it_does</th>\n",
       "      <th>Funding_year</th>\n",
       "    </tr>\n",
       "  </thead>\n",
       "  <tbody>\n",
       "    <tr>\n",
       "      <th>0</th>\n",
       "      <td>TheCollegeFever</td>\n",
       "      <td>Brand Marketing, Event Promotion, Marketing, S...</td>\n",
       "      <td>Seed</td>\n",
       "      <td>250000</td>\n",
       "      <td>Bangalore, Karnataka, India</td>\n",
       "      <td>TheCollegeFever is a hub for fun, fiesta and f...</td>\n",
       "      <td>2018</td>\n",
       "    </tr>\n",
       "    <tr>\n",
       "      <th>1</th>\n",
       "      <td>Happy Cow Dairy</td>\n",
       "      <td>Agriculture, Farming</td>\n",
       "      <td>Seed</td>\n",
       "      <td>₹40,000,000</td>\n",
       "      <td>Mumbai, Maharashtra, India</td>\n",
       "      <td>A startup which aggregates milk from dairy far...</td>\n",
       "      <td>2018</td>\n",
       "    </tr>\n",
       "    <tr>\n",
       "      <th>2</th>\n",
       "      <td>MyLoanCare</td>\n",
       "      <td>Credit, Financial Services, Lending, Marketplace</td>\n",
       "      <td>Series A</td>\n",
       "      <td>₹65,000,000</td>\n",
       "      <td>Gurgaon, Haryana, India</td>\n",
       "      <td>Leading Online Loans Marketplace in India</td>\n",
       "      <td>2018</td>\n",
       "    </tr>\n",
       "    <tr>\n",
       "      <th>3</th>\n",
       "      <td>PayMe India</td>\n",
       "      <td>Financial Services, FinTech</td>\n",
       "      <td>Angel</td>\n",
       "      <td>2000000</td>\n",
       "      <td>Noida, Uttar Pradesh, India</td>\n",
       "      <td>PayMe India is an innovative FinTech organizat...</td>\n",
       "      <td>2018</td>\n",
       "    </tr>\n",
       "    <tr>\n",
       "      <th>4</th>\n",
       "      <td>Eunimart</td>\n",
       "      <td>E-Commerce Platforms, Retail, SaaS</td>\n",
       "      <td>Seed</td>\n",
       "      <td>—</td>\n",
       "      <td>Hyderabad, Andhra Pradesh, India</td>\n",
       "      <td>Eunimart is a one stop solution for merchants ...</td>\n",
       "      <td>2018</td>\n",
       "    </tr>\n",
       "  </tbody>\n",
       "</table>\n",
       "</div>"
      ],
      "text/plain": [
       "     Company_Brand                                             Sector  \\\n",
       "0  TheCollegeFever  Brand Marketing, Event Promotion, Marketing, S...   \n",
       "1  Happy Cow Dairy                               Agriculture, Farming   \n",
       "2       MyLoanCare   Credit, Financial Services, Lending, Marketplace   \n",
       "3      PayMe India                        Financial Services, FinTech   \n",
       "4         Eunimart                 E-Commerce Platforms, Retail, SaaS   \n",
       "\n",
       "      Stage       Amount                       HeadQuarter  \\\n",
       "0      Seed       250000       Bangalore, Karnataka, India   \n",
       "1      Seed  ₹40,000,000        Mumbai, Maharashtra, India   \n",
       "2  Series A  ₹65,000,000           Gurgaon, Haryana, India   \n",
       "3     Angel      2000000       Noida, Uttar Pradesh, India   \n",
       "4      Seed            —  Hyderabad, Andhra Pradesh, India   \n",
       "\n",
       "                                        What_it_does Funding_year  \n",
       "0  TheCollegeFever is a hub for fun, fiesta and f...         2018  \n",
       "1  A startup which aggregates milk from dairy far...         2018  \n",
       "2          Leading Online Loans Marketplace in India         2018  \n",
       "3  PayMe India is an innovative FinTech organizat...         2018  \n",
       "4  Eunimart is a one stop solution for merchants ...         2018  "
      ]
     },
     "execution_count": 390,
     "metadata": {},
     "output_type": "execute_result"
    }
   ],
   "source": [
    "data_1819 = pd.concat([data_2018,data_2019], ignore_index=True)\n",
    "data_1819.head()"
   ]
  },
  {
   "cell_type": "markdown",
   "metadata": {},
   "source": [
    "Clean Company_Brand column and check for the inconsistencies"
   ]
  },
  {
   "cell_type": "code",
   "execution_count": 391,
   "metadata": {},
   "outputs": [
    {
     "data": {
      "text/plain": [
       "array(['TheCollegeFever', 'Happy Cow Dairy', 'MyLoanCare', 'PayMe India',\n",
       "       'Eunimart', 'Hasura', 'Tripshelf', 'Hyperdata.IO', 'Freightwalla',\n",
       "       'Microchip Payments', 'BizCrum Infotech Pvt. Ltd.', 'Emojifi',\n",
       "       'Flock', 'Freshboxx', 'Wide Mobility Mechatronics', 'Pitstop',\n",
       "       'Mihuru', 'Fyle', 'AppWharf', 'Antariksh Waste Ventures Pvt ltd',\n",
       "       'Cogoport', 'PaisaDukan', 'Sleepy Owl Coffee', 'BlueJack',\n",
       "       'PregBuddy', 'AgNext Technologies', 'Pando', 'Mintifi', 'Carcrew',\n",
       "       'NicheAI', 'Chariot Tech',\n",
       "       'Ideal Insurance Brokers/ 121Policy.com', 'Loanzen',\n",
       "       'Mojro Technologies', 'Elemential', 'Loadshare', 'Yumlane',\n",
       "       'Kriger Campus', 'Pipa+Bella', 'Kaleidofin', 'Chakr Innovation',\n",
       "       'IndigoLearn', 'UClean', 'Coutloot', 'Letstrack', 'Pooltoo',\n",
       "       'Finzy', 'Fitternity', 'Keito', 'Tolet for Students', 'Chai Kings',\n",
       "       'Dainik Jagran', 'Playtoome', 'ONGO Framework', 'Notesgen',\n",
       "       'Arogya MedTech', 'Propshop24', 'myUpchar',\n",
       "       'MissMalini Entertainment', 'Rooter', 'ZestMoney',\n",
       "       'alphaics Corporation', 'MyDentistChoice', 'Sattviko', 'Sensibull',\n",
       "       'Bombay Shaving Company', 'MedCords', 'University Living', '&ME',\n",
       "       'Enakshi', 'Ultraviolette Automotive', 'Inthree Access',\n",
       "       'BUGWORKS Research India', 'Guardian.in', 'PrestLoans', 'Wimoxez',\n",
       "       'India Accelerator', 'HappyEMI', 'Wishup', 'Hansel.io', 'Propelld',\n",
       "       'PivotRoots', 'ZiffyHomes', 'Carmesi', 'OckyPocky', 'Racetrack',\n",
       "       'WHR', 'Asteria Aerospace', 'FabAlley', 'Tranzmeo', 'SBI Life',\n",
       "       'Studds Accessories', 'Design Cafe',\n",
       "       'NoPaperForms Solutions Pvt. Ltd.', 'Rays Power Infra',\n",
       "       'AuthMetrik', 'Khidki', 'LetsTransport', 'Next Digital Solutions',\n",
       "       'Portea Medical', 'Aavas Financiers', 'Swiggy', 'Milkbasket',\n",
       "       'Nutrisattva (Proliva)', 'Toppr', 'Jagaran Microfin',\n",
       "       'Vivriti Capital', 'Be U Salons', 'Impact Guru', 'MobiKwik',\n",
       "       'Stones2Milestones', 'Generico', 'Adiuvo Diagnostics',\n",
       "       'DataTrained', 'OneAssist',\n",
       "       'Satin Creditcare Network Limited (SCNL)',\n",
       "       'APAC Financial Services', 'Moglix', 'SEDEMAC Mechatronics',\n",
       "       'MadGuy Labs', 'Dee Dee Labs', 'FLEECA', 'Shop101',\n",
       "       'FeedMyPockets', 'Housejoy', 'Ambee', 'FoodBuddy', 'Ninjacart',\n",
       "       'Olly Smart Credit Card', 'Zestl', 'BYJU’S', 'Wakefit',\n",
       "       'Hero Electric', 'Pentation Analytics', 'PerkFinance', 'Roposo',\n",
       "       'Plum Goodness', 'Drstore', 'Wow Venue', 'Chizel', 'OTO Capital',\n",
       "       'Boodmo', 'Khabri', 'MyNewCar.in', 'HalaPlay Technologies',\n",
       "       'PlanetSpark', 'WheelsEMI',\n",
       "       'Forum for Innovation Incubation Research and Entrepreneurship',\n",
       "       'OYO', 'Quikr', 'Tabono', 'LearnApp', 'Shopkirana', 'Fric Bergen',\n",
       "       'Articbot', 'BuildSupply', 'Fusion Microfinance',\n",
       "       'Any time Doctor', 'Go Payments', 'Guiddoo World', 'ION Energy',\n",
       "       'UnoTag', 'CivilCops', 'Rockmetric', 'Classworks India',\n",
       "       'Snapmint', 'artbandhu', 'Survaider', 'Credy', 'iChamp', 'Qandle',\n",
       "       'Avishkaar Box', 'Gegadyne Energy', 'HyperXchange', 'Deftouch',\n",
       "       'Doodhwala', 'DronaHQ', 'FastFox', 'BuyForexOnline', 'Colive.in',\n",
       "       'Agricxlab Private Limited', 'Corefactors', 'Fincash.com',\n",
       "       'Pandorum Technologies', 'Shirsa Labs', 'PetSutra', 'Awaaz De',\n",
       "       'PinkBlue', 'Eduvanz', 'Rupeek',\n",
       "       'Backpacker Panda Holidays Private Limited',\n",
       "       'Shape (School Health and Physical Education)', 'Placio',\n",
       "       'Aviom India Housing Finance', 'GenRobotic', 'HeyHolidays',\n",
       "       'Pratilipi', 'SectorQube', 'Food Memories', 'ZAMROO',\n",
       "       'Silversparro Technologies Pvt. Ltd', 'Creator’s Gurukul',\n",
       "       'Emflux Motors', 'Tricog Health Services Pvt Ltd', 'Scapic',\n",
       "       '6Degree', 'Chrysalis (EZ Vidya)', 'Ekincare', 'Streo', 'Groww',\n",
       "       'Cell Propulsion', 'Chezuba', 'Ontrack Technologies Pvt. Ltd',\n",
       "       'Wealthtrust', 'Faclon Labs', 'Awign Enterprises', 'CollPoll',\n",
       "       'Zyla Health', 'Hubhopper', 'Rubix108 Technologies', 'Workflexi',\n",
       "       'Streak', 'Kuants', 'NiYO Solutions', 'Hippo Video', 'Satvacart',\n",
       "       'Daaki', 'Simulanis', 'MY CHIRAAG CAB', 'WOTU', 'Flathalt',\n",
       "       'True Elements', 'Trendlyne Technologies', 'Planys Technologies',\n",
       "       'HealthPlix', 'dishq', 'Entropik Technology', 'myHQ', 'Trell',\n",
       "       'Kidovators (by GyanLab)', 'Log 9 Materials', 'VTION',\n",
       "       'HousingMan.com', 'Steradian Semiconductors', 'RupeeCircle',\n",
       "       'Wooden Street', 'The Ken', 'SaffronStays', 'Vebbler', 'Foyr',\n",
       "       'MEngage', 'Inner Being Wellness', 'Kobster', 'Wishberry',\n",
       "       'McXtra', 'Magic Crate', 'SmartVizX', 'MySEODoc',\n",
       "       'ENLYFT DIGITAL SOLUTIONS PRIVATE LIMITED', 'Scale Labs',\n",
       "       'HungerBox', 'Biryani By Kilo', 'Wholesome Habits (EAT Anytime)',\n",
       "       'GoBumpr', 'Fixpocket', 'edureka!',\n",
       "       'Hashtag Loyalty Private Limited', 'Wow Express', 'ZunRoof',\n",
       "       'Eggoz', 'Sqrrl Fintech', 'GalaxyCard', 'IndiQube', 'EGK Foods',\n",
       "       'NirogStreet', 'Pixr8', 'Nivesh.com', 'Theranosis Life Sciences',\n",
       "       'Poshmiles Online Solutions Private Limited', 'Reculta', 'Orbo.ai',\n",
       "       'Inntot Technologies', 'Zoctr Health', 'Hey Deedee',\n",
       "       'DigiConnectt Technologys', 'Locus.sh', 'Sports Flashes Pvt. Ltd',\n",
       "       'Inc42', 'Picxy', 'Huddle', 'Benepik', 'Cash Suvidha', 'Smartcoin',\n",
       "       'Carmel Organics', 'Roadcast', 'Printline Media(ThePrint)',\n",
       "       'Creditas Solutions', 'UrbanPiper', 'Doxper', 'i2ifunding',\n",
       "       'ShakeDeal', 'HelloVerify', 'Fasal', 'CoinGeto', 'Avail Finance',\n",
       "       'Tripeur', 'Wedeterna', 'Stumagz', 'Doubtnut', 'MCaffeine',\n",
       "       'TrustCheckr', 'HealthAssure', 'Picture TIme', '1Crowd',\n",
       "       'Aarav Unmanned Systems', 'Wellthy Therapeutics Pvt Ltd', 'Nua',\n",
       "       'Kuvera.in', 'Livehealth', 'Gramophone', 'Ora', 'Buddy4Study.com',\n",
       "       'Predible Health', 'Syncremedies Healthcare Pvt Ltd',\n",
       "       'Blueleaf Cyberspace Systems', 'Toffee', 'ORO Wealth',\n",
       "       'HealWell24', 'Acko General Insurance', 'arzooo.com',\n",
       "       'Bonphul Air Products', 'DheeYantra Research Labs', 'Edyoo',\n",
       "       'Chtrbox', 'Aashiyaan Housing and Development Finance',\n",
       "       'BetterPlace Safety Solutions Pvt. Ltd.', 'Cashkumar', 'Rocketium',\n",
       "       'FreightBazaar', 'OPEN', 'mfine', 'Earth Food', 'Charcoal Eats',\n",
       "       'Wishfie', 'The Social Hook', 'FreightBro', 'Finwego', 'Cricnwin',\n",
       "       'Wicked Ride Adventure Services Private Limited', 'Career Anna',\n",
       "       'ERUDITUS Executive Education', 'Gaia Smart Cities', 'Square Off',\n",
       "       'UrbanClap', 'Hospals', 'Kogta Financial India Limited',\n",
       "       'Perspectico', 'The Souled Store',\n",
       "       'Hush - Speak Up. Make Work Better', 'Drivezy', 'Freyr Energy',\n",
       "       'NIRAMAI Health Analytix', 'CloudSek', 'Lendbox', 'Verloop',\n",
       "       'Flickstree', 'Paymatrix', 'Idha Skin Clinic', 'InCred', 'Vedantu',\n",
       "       'Sportido', 'Stelis Biopharma', 'Magicpin', 'Try & Buy',\n",
       "       'Mech Mocha', 'Aye Finance', 'Aldopay', 'Detect Technologies',\n",
       "       'Signzy', 'CashRich', 'Cloudnine Hospitals', 'CropIn Technologies',\n",
       "       'Billdesk', 'Yaantra', 'TECHBOOZE', 'HealthifyMe', 'hoi foods',\n",
       "       'Perpule', 'Royal Sundaram General Insurance Co. Limited',\n",
       "       'CleanseCar', 'DRIVEU', 'Spinny',\n",
       "       'Asset Reconstruction Company (India) Ltd.', 'Med365 Healthcare',\n",
       "       'Dunzo', 'Mobile Premier League (MPL)', 'WalMart India', 'Cred',\n",
       "       'Meesho', 'BhaskarGuru', 'Gugu', 'FarmTaaza', 'Vizzbee',\n",
       "       'BIGPHI TECHNOLOGIES PVT. LTD.', 'Mobycy', 'Traveo Soft Pvt. Ltd.',\n",
       "       'Em Personal Care', 'Lucideus', 'Eupheus Learning', 'GamingMonk',\n",
       "       'Sukkhi Jewellery', 'INDwealth', 'Medikabazaar', 'NIRA',\n",
       "       'Duroflex Pvt. Ltd.', 'Clensta', 'Jetbrain Robotics', 'Medimetry',\n",
       "       'Healthkart', 'Indiabulls Ventures', 'Vistara', 'ClearTax',\n",
       "       'Shuttl', 'GuruQ', 'Azure Power', 'Cube', 'RAHI Care', 'Mynvax',\n",
       "       'Loans4SME', 'UpCyclersLab', 'Cellerite Systems', 'Taru Naturals',\n",
       "       'LetsMD', 'Twenty Two Motors', 'Truebil', 'FarmersFZ', 'Worxogo',\n",
       "       'Vivish Technologies (myGate)', 'Singularity Dynamics',\n",
       "       'Virtual MetalStreet(MetalStreet)', 'Veritas Finance',\n",
       "       'Manjushree Technopack', 'GoZefo', 'Zomato', 'Innov8 Coworking',\n",
       "       'RevFin', 'Lavelle Networks', 'Blackbuck', 'Cardekho',\n",
       "       'ElasticRun', 'Droom Technology Private Limited', 'Vogo Rentals',\n",
       "       'InnerChef', 'LivQuik', 'Disprz', '9stacks', 'Origo',\n",
       "       'YourOwnROOM', 'Vahdam Teas', 'Spoofin', 'Strom Motors',\n",
       "       'PharmEasy', 'Licious', 'Stanza Living', 'docturnal',\n",
       "       'Bounce (Metro Bikes)', 'Technology 9 Labs (T9L)', 'Goals101',\n",
       "       'Satya MicroCapital', 'Ummeed Housing Finance Private Limited',\n",
       "       'StockEdge', 'Sequretek', 'Avenues Payments India Pvt. Ltd.',\n",
       "       'Qbera', 'Urban Ladder',\n",
       "       'Planet11 eCommerce Solutions India (Avenue11)', 'DailyNinja',\n",
       "       'Iba Halal Care', 'Knocksense', 'Togedr', 'Parkwheels',\n",
       "       'ShareChat', 'Cyclops Medtech', 'Livspace', 'NewsBytes',\n",
       "       'Leena AI', 'Max Healthcare', 'GoBolt', 'GoGaga', 'Mate Labs',\n",
       "       'Furlenco', 'Ola', 'DocPrime', 'CLP India Pvt. Ltd.', 'Xplorabox',\n",
       "       'Myra', 'Vokal', 'Kissht', 'Upwards Fintech',\n",
       "       'Bon(Bonfleet Solutions)', 'Mamaearth', 'BabyChakra',\n",
       "       'Belstar Investment and Finance Private Limited', 'Naaptol',\n",
       "       'Moonshine Meadery', 'Verzeo', 'Haazri', 'Connect India',\n",
       "       'Flyrobe', 'Scholify', 'Dream11', 'srJna', 'Nykaa', 'Chaayos',\n",
       "       'Heelium', 'LT Foods', 'Multibashi', 'Cleardekho', 'Dailyhunt',\n",
       "       'SlicePay', 'Udaan', 'Happyeasygo Group', 'Mombay', 'Droni Tech',\n",
       "       'Netmeds', 'Bombay Shaving', 'Ruangguru', 'Eduisfun', 'HomeLane',\n",
       "       'Nu Genes', 'FlytBase', 'Finly', 'Kratikal', 'Quantiphi',\n",
       "       'Lenskart', 'Cub McPaws', 'Appnomic', 'JobSquare', 'Open Secret',\n",
       "       'LivFin', \"Byju's\", 'Zest Money', 'Witblox',\n",
       "       'Azah Personal Care Pvt. Ltd.', 'SalaryFits', 'Pristyn Care',\n",
       "       'Springboard', 'DROR Labs Pvt. Ltd', 'Medlife', 'Seekify',\n",
       "       'Toffee Insurance', 'Fireflies .ai', 'Bijak', 'truMe', 'Pumpkart',\n",
       "       'Rivigo', 'HappyEasyGo', 'Zetwerk', 'Observe.AI', 'Freshokartz',\n",
       "       'Lil’ Goodness and sCool meal', 'VMate', 'Bombay Shirt Company',\n",
       "       'Slintel', 'MyGameMate', 'Afinoz', 'Rein Games', 'Ecozen', 'Box8',\n",
       "       'Purplle', 'TapChief', 'eJOHRI', 'Binca Games', 'KredX', 'm.Paani',\n",
       "       'WishADish', 'Ecom Express', 'PiBeam', 'Euler Motors', 'Moms Co',\n",
       "       'Cubical Labs', 'Lawyered', 'Cuemath', 'Zebu', 'Smart Institute',\n",
       "       'CarDekho', 'Shadowfax', 'Credr', 'Phable', 'Sarva', 'IndyFint',\n",
       "       'Zolostays', 'Zoomcar', 'Froogal', 'Infra.Market', 'Oyo',\n",
       "       'GoMechanic', 'Ess Kay Fincorp'], dtype=object)"
      ]
     },
     "execution_count": 391,
     "metadata": {},
     "output_type": "execute_result"
    }
   ],
   "source": [
    "# Check for the unique values\n",
    "data_1819['Company_Brand'].unique()"
   ]
  },
  {
   "cell_type": "code",
   "execution_count": 392,
   "metadata": {},
   "outputs": [
    {
     "data": {
      "text/plain": [
       "Company_Brand\n",
       "Licious                           3\n",
       "TheCollegeFever                   2\n",
       "Awign Enterprises                 2\n",
       "Kaleidofin                        2\n",
       "Ola                               2\n",
       "                                 ..\n",
       "Creator’s Gurukul                 1\n",
       "Emflux Motors                     1\n",
       "Tricog Health Services Pvt Ltd    1\n",
       "Scapic                            1\n",
       "Ess Kay Fincorp                   1\n",
       "Name: count, Length: 598, dtype: int64"
      ]
     },
     "execution_count": 392,
     "metadata": {},
     "output_type": "execute_result"
    }
   ],
   "source": [
    "# Check for the value counts\n",
    "data_1819['Company_Brand'].value_counts()"
   ]
  },
  {
   "cell_type": "code",
   "execution_count": 393,
   "metadata": {},
   "outputs": [
    {
     "data": {
      "text/plain": [
       "0"
      ]
     },
     "execution_count": 393,
     "metadata": {},
     "output_type": "execute_result"
    }
   ],
   "source": [
    "# Check for the null values\n",
    "data_1819['Company_Brand'].isna().sum()"
   ]
  },
  {
   "cell_type": "code",
   "execution_count": 394,
   "metadata": {},
   "outputs": [
    {
     "data": {
      "text/plain": [
       "17"
      ]
     },
     "execution_count": 394,
     "metadata": {},
     "output_type": "execute_result"
    }
   ],
   "source": [
    "# Check for the duplicates\n",
    "data_1819['Company_Brand'].duplicated().sum()"
   ]
  },
  {
   "cell_type": "code",
   "execution_count": 395,
   "metadata": {},
   "outputs": [],
   "source": [
    "# Drop the duplicates\n",
    "data_1819['Company_Brand'].drop_duplicates(inplace=True)\n"
   ]
  },
  {
   "cell_type": "markdown",
   "metadata": {},
   "source": [
    "Clean the Amount column"
   ]
  },
  {
   "cell_type": "code",
   "execution_count": 396,
   "metadata": {},
   "outputs": [
    {
     "data": {
      "text/plain": [
       "array(['250000', '₹40,000,000', '₹65,000,000', '2000000', '—', '1600000',\n",
       "       '₹16,000,000', '₹50,000,000', '₹100,000,000', '150000', '1100000',\n",
       "       '₹500,000', '6000000', '650000', '₹35,000,000', '₹64,000,000',\n",
       "       '₹20,000,000', '1000000', '5000000', '4000000', '₹30,000,000',\n",
       "       '2800000', '1700000', '1300000', '₹5,000,000', '₹12,500,000',\n",
       "       '₹15,000,000', '500000', '₹104,000,000', '₹45,000,000', '13400000',\n",
       "       '₹25,000,000', '₹26,400,000', '₹8,000,000', '₹60,000', '9000000',\n",
       "       '100000', '20000', '120000', '₹34,000,000', '₹342,000,000',\n",
       "       '$143,145', '₹600,000,000', '$742,000,000', '₹1,000,000,000',\n",
       "       '₹2,000,000,000', '$3,980,000', '$10,000', '₹100,000',\n",
       "       '₹250,000,000', '$1,000,000,000', '$7,000,000', '$35,000,000',\n",
       "       '₹550,000,000', '$28,500,000', '$2,000,000', '₹240,000,000',\n",
       "       '₹120,000,000', '$2,400,000', '$30,000,000', '₹2,500,000,000',\n",
       "       '$23,000,000', '$150,000', '$11,000,000', '₹44,000,000',\n",
       "       '$3,240,000', '₹60,000,000', '$540,000,000', '₹650,000,000',\n",
       "       '₹1,600,000,000', '$900,000', '$10,000,000', '$1,500,000',\n",
       "       '₹70,000,000', '$1,000,000', '$5,000,000', '$14,000,000',\n",
       "       '₹102,500,000', '$100,000,000', '₹1,200,000', '₹5,200,000,000',\n",
       "       '$800,000', '$1,041,000', '$100,000', '$15,000', '1400000',\n",
       "       '1200000', '2200000', '1800000', '3600000', '₹9,500,000', '300000',\n",
       "       '6830000', '200000', '₹150,000,000', '4300000', '364846', '400000',\n",
       "       '1500000', '₹7,000,000', '₹1,400,000', '₹10,000,000',\n",
       "       '₹22,500,000', '13200000', '50000', '₹140,200,000', '3000000',\n",
       "       '1250000', '180000', '₹19,200,000', '₹103,000,000', '4200000',\n",
       "       '175000', '1450000', '₹200,000', '4500000', '600000',\n",
       "       '₹16,600,000', '₹12,000,000', '15000000', '₹33,000,000', '125000',\n",
       "       '130000', '₹34,900,000', '₹72,000,000', '17200000', '₹32,000,000',\n",
       "       '3500000', '₹135,000,000', '12000000', '$40,000,000', '$1,100,000',\n",
       "       '$50,000,000', '₹1,540,000,000', '$3,000,000', '$6,000,000',\n",
       "       '₹140,000,000', '$41,900,000', '₹1,410,000,000', '$3,530,000',\n",
       "       '$200,000', '$3,300,000', '₹580,000,000', '₹36,000,000',\n",
       "       '₹340,000,000', '$210,000,000', '$37,680,000', '$250,000',\n",
       "       '$20,000', '₹510,000,000', '₹2,200,000,000', '22000000', '70000',\n",
       "       '10000000', '₹15,392,000,000', '₹20,000,000,000', '₹4,000,000,000',\n",
       "       '185000000', '65000000', '₹165,000,000', '700000', '30000000',\n",
       "       '₹210,000,000', '210000000', '₹2,029,600,000', '75000000',\n",
       "       '₹80,000,000', '1760000', '2700000', '₹280,000,000',\n",
       "       '₹800,000,000', '750000', '2500000', '80000000', '25000000',\n",
       "       '₹730,000,000', '₹400,000,000', '3700000', '5600000',\n",
       "       '₹260,000,000', '99230000', '70000000', '40000', '550000',\n",
       "       '50000000', '365000000', '₹8,750,000', '₹78,000,000', '28000000',\n",
       "       '₹264,000,000', '100000000', '₹1,130,000,000', '₹810,000,000',\n",
       "       '₹1,400,000,000', '14900000', '225000000', '7500', '35000000',\n",
       "       '$6,300,000', '$150,000,000', '$28,000,000', 'Undisclosed',\n",
       "       '$20,000,000', '$275,000,000', '$22,000,000', '$140,500',\n",
       "       '$15,000,000', '$182,700', '$12,000,000', '$15,500,000',\n",
       "       '$5,500,000', '$2,500,000', '$140,000', '$230,000,000',\n",
       "       '$49,400,000', '$32,000,000', '$26,000,000', '$400,000',\n",
       "       '$8,000,000', '$120,000,000', '$4,000,000', '$6,800,000',\n",
       "       '$36,000,000', '$5,700,000', '$25,000,000', '$600,000',\n",
       "       '$70,000,000', '$60,000,000', '$220,000', '$2,800,000',\n",
       "       '$2,100,000', '$311,000,000', '$4,800,000', '$693,000,000',\n",
       "       '$33,000,000'], dtype=object)"
      ]
     },
     "execution_count": 396,
     "metadata": {},
     "output_type": "execute_result"
    }
   ],
   "source": [
    "# Check for the unique values\n",
    "data_1819['Amount'].unique()"
   ]
  },
  {
   "cell_type": "code",
   "execution_count": 397,
   "metadata": {},
   "outputs": [],
   "source": [
    "# Use a function to convert the currency \n",
    "def convert_to_usd(amount, exchange_rate):\n",
    "    if isinstance(amount, str) and '₹' in amount:\n",
    "        # Remove commas and extract the numerical value\n",
    "        amount_inr = amount[1:].replace(',', '')\n",
    "        try:\n",
    "            amount_inr = float(amount_inr)\n",
    "        except ValueError:\n",
    "            # Handle cases where the value cannot be converted to float\n",
    "            return amount\n",
    "\n",
    "        amount_usd = amount_inr / exchange_rate\n",
    "        return f'${amount_usd:.2f}'\n",
    "    elif isinstance(amount, str) and '$' not in amount:\n",
    "        # If no currency sign is present, assume it's in USD\n",
    "        amount_usd = amount.replace(',', '')\n",
    "        try:\n",
    "            amount_usd = float(amount_usd)\n",
    "        except ValueError:\n",
    "            # Handle cases where the value cannot be converted to float\n",
    "            return amount\n",
    "\n",
    "        return f'${amount_usd:.2f}'\n",
    "    else:\n",
    "        return amount\n",
    "\n",
    "# the average exchange rate between year 2018 to 2019\n",
    "exchange_rate_inr_to_usd = 69.88\n",
    "\n",
    "# Apply the conversion function to the 'Amount' column\n",
    "data_1819['Amount'] = data_1819['Amount'].apply(lambda x: convert_to_usd(x, exchange_rate_inr_to_usd))\n"
   ]
  },
  {
   "cell_type": "code",
   "execution_count": 398,
   "metadata": {},
   "outputs": [
    {
     "data": {
      "text/plain": [
       "Amount\n",
       "—               148\n",
       "$1000000.00      24\n",
       "$500000.00       13\n",
       "$2000000.00      12\n",
       "Undisclosed      12\n",
       "               ... \n",
       "$130000.00        1\n",
       "$499427.59        1\n",
       "$17200000.00      1\n",
       "$457927.88        1\n",
       "$33,000,000       1\n",
       "Name: count, Length: 235, dtype: int64"
      ]
     },
     "execution_count": 398,
     "metadata": {},
     "output_type": "execute_result"
    }
   ],
   "source": [
    "# Check for the value count\n",
    "data_1819['Amount'].value_counts()"
   ]
  },
  {
   "cell_type": "code",
   "execution_count": 399,
   "metadata": {},
   "outputs": [],
   "source": [
    "# Replace _ with nan in the Amount column\n",
    "data_1819['Amount'].replace('-',np.nan,inplace=True, regex=True)"
   ]
  },
  {
   "cell_type": "code",
   "execution_count": 400,
   "metadata": {},
   "outputs": [],
   "source": [
    "# Replace undisclosed with nan value\n",
    "data_1819['Amount'].replace('$Undisclosed',np.nan,inplace=True)\n",
    "\n"
   ]
  },
  {
   "cell_type": "code",
   "execution_count": 401,
   "metadata": {},
   "outputs": [],
   "source": [
    "# Remove - from the column\n",
    "data_1819 = data_1819[data_1819['Amount'] != '_']"
   ]
  },
  {
   "cell_type": "code",
   "execution_count": 402,
   "metadata": {},
   "outputs": [
    {
     "data": {
      "text/plain": [
       "0"
      ]
     },
     "execution_count": 402,
     "metadata": {},
     "output_type": "execute_result"
    }
   ],
   "source": [
    "# Check for the null values\n",
    "data_1819['Amount'].isna().sum()"
   ]
  },
  {
   "cell_type": "code",
   "execution_count": 403,
   "metadata": {},
   "outputs": [
    {
     "data": {
      "text/plain": [
       "(615, 7)"
      ]
     },
     "execution_count": 403,
     "metadata": {},
     "output_type": "execute_result"
    }
   ],
   "source": [
    "data_1819.shape"
   ]
  },
  {
   "cell_type": "code",
   "execution_count": 404,
   "metadata": {},
   "outputs": [],
   "source": [
    "\n",
    "data_1819['Amount'].fillna(0, inplace=True)"
   ]
  },
  {
   "cell_type": "code",
   "execution_count": 405,
   "metadata": {},
   "outputs": [
    {
     "data": {
      "text/plain": [
       "380"
      ]
     },
     "execution_count": 405,
     "metadata": {},
     "output_type": "execute_result"
    }
   ],
   "source": [
    "# Check for duplicates\n",
    "data_1819['Amount'].duplicated().sum()"
   ]
  },
  {
   "cell_type": "code",
   "execution_count": 406,
   "metadata": {},
   "outputs": [],
   "source": [
    "# Drop the duplicates\n",
    "data_1819['Amount'].drop_duplicates(inplace=True)"
   ]
  },
  {
   "cell_type": "markdown",
   "metadata": {},
   "source": [
    "Clean the HeadQuarter Column and check for the inconsistencies"
   ]
  },
  {
   "cell_type": "code",
   "execution_count": 407,
   "metadata": {},
   "outputs": [
    {
     "data": {
      "text/plain": [
       "array(['Bangalore, Karnataka, India', 'Mumbai, Maharashtra, India',\n",
       "       'Gurgaon, Haryana, India', 'Noida, Uttar Pradesh, India',\n",
       "       'Hyderabad, Andhra Pradesh, India', 'Bengaluru, Karnataka, India',\n",
       "       'Kalkaji, Delhi, India', 'Delhi, Delhi, India', 'India, Asia',\n",
       "       'Hubli, Karnataka, India', 'New Delhi, Delhi, India',\n",
       "       'Chennai, Tamil Nadu, India', 'Mohali, Punjab, India',\n",
       "       'Kolkata, West Bengal, India', 'Pune, Maharashtra, India',\n",
       "       'Jodhpur, Rajasthan, India', 'Kanpur, Uttar Pradesh, India',\n",
       "       'Ahmedabad, Gujarat, India', 'Azadpur, Delhi, India',\n",
       "       'Haryana, Haryana, India', 'Cochin, Kerala, India',\n",
       "       'Faridabad, Haryana, India', 'Jaipur, Rajasthan, India',\n",
       "       'Kota, Rajasthan, India', 'Anand, Gujarat, India',\n",
       "       'Bangalore City, Karnataka, India', 'Belgaum, Karnataka, India',\n",
       "       'Thane, Maharashtra, India', 'Margão, Goa, India',\n",
       "       'Indore, Madhya Pradesh, India', 'Alwar, Rajasthan, India',\n",
       "       'Kannur, Kerala, India', 'Trivandrum, Kerala, India',\n",
       "       'Ernakulam, Kerala, India', 'Kormangala, Karnataka, India',\n",
       "       'Uttar Pradesh, India, Asia', 'Andheri, Maharashtra, India',\n",
       "       'Mylapore, Tamil Nadu, India', 'Ghaziabad, Uttar Pradesh, India',\n",
       "       'Kochi, Kerala, India', 'Powai, Assam, India',\n",
       "       'Guntur, Andhra Pradesh, India', 'Kalpakkam, Tamil Nadu, India',\n",
       "       'Bhopal, Madhya Pradesh, India', 'Coimbatore, Tamil Nadu, India',\n",
       "       'Worli, Maharashtra, India', 'Alleppey, Kerala, India',\n",
       "       'Chandigarh, Chandigarh, India', 'Guindy, Tamil Nadu, India',\n",
       "       'Lucknow, Uttar Pradesh, India', nan, 'Mumbai', 'Chennai',\n",
       "       'Telangana', 'Pune', 'Bangalore', 'Noida', 'Delhi', 'Ahmedabad',\n",
       "       'Gurugram', 'Haryana', 'Chandigarh', 'Jaipur', 'New Delhi',\n",
       "       'Surat', 'Uttar pradesh', 'Hyderabad', 'Rajasthan'], dtype=object)"
      ]
     },
     "execution_count": 407,
     "metadata": {},
     "output_type": "execute_result"
    }
   ],
   "source": [
    "# Check for the unique values\n",
    "data_1819['HeadQuarter'].unique()"
   ]
  },
  {
   "cell_type": "code",
   "execution_count": 408,
   "metadata": {},
   "outputs": [
    {
     "data": {
      "text/plain": [
       "HeadQuarter\n",
       "Bangalore, Karnataka, India    102\n",
       "Mumbai, Maharashtra, India      94\n",
       "Bengaluru, Karnataka, India     55\n",
       "Gurgaon, Haryana, India         52\n",
       "New Delhi, Delhi, India         51\n",
       "                              ... \n",
       "Uttar Pradesh, India, Asia       1\n",
       "Andheri, Maharashtra, India      1\n",
       "Mylapore, Tamil Nadu, India      1\n",
       "Powai, Assam, India              1\n",
       "Rajasthan                        1\n",
       "Name: count, Length: 67, dtype: int64"
      ]
     },
     "execution_count": 408,
     "metadata": {},
     "output_type": "execute_result"
    }
   ],
   "source": [
    "# Check for the value counts\n",
    "data_1819['HeadQuarter'].value_counts()"
   ]
  },
  {
   "cell_type": "code",
   "execution_count": 409,
   "metadata": {},
   "outputs": [],
   "source": [
    "# Remove india from the Headquarter column\n",
    "data_1819['HeadQuarter'] = data_1819['HeadQuarter'].replace('India',np.nan)"
   ]
  },
  {
   "cell_type": "code",
   "execution_count": 410,
   "metadata": {},
   "outputs": [
    {
     "data": {
      "text/plain": [
       "19"
      ]
     },
     "execution_count": 410,
     "metadata": {},
     "output_type": "execute_result"
    }
   ],
   "source": [
    "# Check for the null values\n",
    "data_1819['HeadQuarter'].isna().sum()"
   ]
  },
  {
   "cell_type": "code",
   "execution_count": 411,
   "metadata": {},
   "outputs": [],
   "source": [
    "# Fill the nan values with the mode\n",
    "mode_value = data_1819['HeadQuarter'].mode()[0]\n",
    "data_1819['HeadQuarter'].fillna(value=mode_value,inplace=True)"
   ]
  },
  {
   "cell_type": "code",
   "execution_count": 412,
   "metadata": {},
   "outputs": [
    {
     "data": {
      "text/plain": [
       "548"
      ]
     },
     "execution_count": 412,
     "metadata": {},
     "output_type": "execute_result"
    }
   ],
   "source": [
    "# Check for the duplicates\n",
    "data_1819['HeadQuarter'].duplicated().sum()"
   ]
  },
  {
   "cell_type": "code",
   "execution_count": 413,
   "metadata": {},
   "outputs": [],
   "source": [
    "# Drop the duplicates\n",
    "data_1819['HeadQuarter'].drop_duplicates(inplace=True)"
   ]
  },
  {
   "cell_type": "markdown",
   "metadata": {},
   "source": [
    "Clean the Stage column and check for the inconsistencies"
   ]
  },
  {
   "cell_type": "code",
   "execution_count": 414,
   "metadata": {},
   "outputs": [
    {
     "data": {
      "text/plain": [
       "array(['Seed', 'Series A', 'Angel', 'Series B', 'Pre-Seed',\n",
       "       'Private Equity', 'Venture - Series Unknown', 'Grant',\n",
       "       'Debt Financing', 'Post-IPO Debt', 'Series H', 'Series C',\n",
       "       'Series E', 'Corporate Round', 'Undisclosed',\n",
       "       'https://docs.google.com/spreadsheets/d/1x9ziNeaz6auNChIHnMI8U6kS7knTr3byy_YBGfQaoUA/edit#gid=1861303593',\n",
       "       'Series D', 'Secondary Market', 'Post-IPO Equity',\n",
       "       'Non-equity Assistance', 'Funding Round', nan, 'Fresh funding',\n",
       "       'Pre series A', 'Series G', 'Post series A', 'Seed funding',\n",
       "       'Seed fund', 'Series F', 'Series B+', 'Seed round', 'Pre-series A'],\n",
       "      dtype=object)"
      ]
     },
     "execution_count": 414,
     "metadata": {},
     "output_type": "execute_result"
    }
   ],
   "source": [
    "# Check for the unique values\n",
    "data_1819['Stage'].unique()"
   ]
  },
  {
   "cell_type": "code",
   "execution_count": 415,
   "metadata": {},
   "outputs": [
    {
     "name": "stdout",
     "output_type": "stream",
     "text": [
      "        Stage  Stage_category\n",
      "0        Seed            Seed\n",
      "1        Seed            Seed\n",
      "2    Series A        Series A\n",
      "3       Angel          Others\n",
      "4        Seed            Seed\n",
      "..        ...             ...\n",
      "610  Series A        Series A\n",
      "611       NaN            None\n",
      "612  Series B  Series B,C,D&E\n",
      "613       NaN            None\n",
      "614       NaN            None\n",
      "\n",
      "[615 rows x 2 columns]\n"
     ]
    }
   ],
   "source": [
    "# Group the Stages into 5 groups(Pre-seed, Seed, Series A, Series B,C,D&E and Others) and name the column Stage_category\n",
    "stage_mappings = {'Pre-Seed':['Pre-Seed', 'Pre series A','Pre-series A'],\n",
    "                  'Seed':['Seed','Seed fund','Seed funding','Seed round'],\n",
    "                  'Series A':['Series A'],\n",
    "                  'Series B,C,D&E':['Series B', 'Series C','Series E','Series D'],\n",
    "                  'Others':['Angel','Private Equity','Venture - Series Unknown', 'Grant',\n",
    "                            'Debt Financing', 'Post-IPO Debt', 'Series H','Corporate Round',\n",
    "                             'Secondary Market', 'Post-IPO Equity', 'Non-equity Assistance', 'Funding Round',\n",
    "                             'Fresh funding',]\n",
    "                 \n",
    "                  \n",
    "\n",
    "}\n",
    "data_1819['Stage_category'] = data_1819['Stage'].map(lambda x:next((k for k, v in stage_mappings.items() if x in v), None))\n",
    "\n",
    "\n",
    "# Display the updated DataFrame\n",
    "print(data_1819[['Stage','Stage_category']])\n",
    "\n"
   ]
  },
  {
   "cell_type": "code",
   "execution_count": 416,
   "metadata": {},
   "outputs": [
    {
     "data": {
      "text/plain": [
       "Stage\n",
       "Seed                                                                                                       280\n",
       "Series A                                                                                                    83\n",
       "Angel                                                                                                       37\n",
       "Venture - Series Unknown                                                                                    37\n",
       "Series B                                                                                                    28\n",
       "Series C                                                                                                    19\n",
       "Debt Financing                                                                                              13\n",
       "Private Equity                                                                                              10\n",
       "Pre series A                                                                                                 8\n",
       "Corporate Round                                                                                              8\n",
       "Series D                                                                                                     7\n",
       "Series E                                                                                                     6\n",
       "Pre-Seed                                                                                                     6\n",
       "Grant                                                                                                        4\n",
       "Secondary Market                                                                                             3\n",
       "Post-IPO Equity                                                                                              3\n",
       "Undisclosed                                                                                                  2\n",
       "Post-IPO Debt                                                                                                2\n",
       "Post series A                                                                                                1\n",
       "Seed round                                                                                                   1\n",
       "Series B+                                                                                                    1\n",
       "Series F                                                                                                     1\n",
       "Seed fund                                                                                                    1\n",
       "Seed funding                                                                                                 1\n",
       "https://docs.google.com/spreadsheets/d/1x9ziNeaz6auNChIHnMI8U6kS7knTr3byy_YBGfQaoUA/edit#gid=1861303593      1\n",
       "Series G                                                                                                     1\n",
       "Fresh funding                                                                                                1\n",
       "Funding Round                                                                                                1\n",
       "Non-equity Assistance                                                                                        1\n",
       "Series H                                                                                                     1\n",
       "Pre-series A                                                                                                 1\n",
       "Name: count, dtype: int64"
      ]
     },
     "execution_count": 416,
     "metadata": {},
     "output_type": "execute_result"
    }
   ],
   "source": [
    "# Check for the null values\n",
    "data_1819['Stage'].value_counts()"
   ]
  },
  {
   "cell_type": "code",
   "execution_count": 417,
   "metadata": {},
   "outputs": [
    {
     "data": {
      "text/plain": [
       "46"
      ]
     },
     "execution_count": 417,
     "metadata": {},
     "output_type": "execute_result"
    }
   ],
   "source": [
    "# Check for the null values\n",
    "data_1819['Stage'].isna().sum()"
   ]
  },
  {
   "cell_type": "code",
   "execution_count": 418,
   "metadata": {},
   "outputs": [],
   "source": [
    "# # Fill the nan values with the mode value using SimpleImputer\n",
    "\n",
    "most_frequent_value = 'most_frequent'\n",
    "\n",
    "# Fill the nan values with the mode value using SimpleImputer\n",
    "imputer = SimpleImputer(strategy=most_frequent_value)\n",
    "data_1819['Stage'] = imputer.fit_transform(data_1819[['Stage']])[:,0]\n"
   ]
  },
  {
   "cell_type": "code",
   "execution_count": 419,
   "metadata": {},
   "outputs": [
    {
     "data": {
      "text/plain": [
       "584"
      ]
     },
     "execution_count": 419,
     "metadata": {},
     "output_type": "execute_result"
    }
   ],
   "source": [
    "# Check for the duplicates\n",
    "data_1819['Stage'].duplicated().sum()"
   ]
  },
  {
   "cell_type": "code",
   "execution_count": 420,
   "metadata": {},
   "outputs": [],
   "source": [
    "# Drop the duplicated rows\n",
    "data_1819['Stage'].drop_duplicates(inplace=True)"
   ]
  },
  {
   "cell_type": "markdown",
   "metadata": {},
   "source": [
    "Clean and check for the inconsistencies in the Sector column\n"
   ]
  },
  {
   "cell_type": "code",
   "execution_count": 421,
   "metadata": {},
   "outputs": [
    {
     "data": {
      "text/plain": [
       "array(['Brand Marketing, Event Promotion, Marketing, Sponsorship, Ticketing',\n",
       "       'Agriculture, Farming',\n",
       "       'Credit, Financial Services, Lending, Marketplace',\n",
       "       'Financial Services, FinTech',\n",
       "       'E-Commerce Platforms, Retail, SaaS',\n",
       "       'Cloud Infrastructure, PaaS, SaaS',\n",
       "       'Internet, Leisure, Marketplace', 'Market Research',\n",
       "       'Information Services, Information Technology', 'Mobile Payments',\n",
       "       'B2B, Shoes', 'Internet',\n",
       "       'Apps, Collaboration, Developer Platform, Enterprise Software, Messaging, Productivity Tools, Video Chat',\n",
       "       'Food Delivery', 'Industrial Automation',\n",
       "       'Automotive, Search Engine, Service Industry',\n",
       "       'Finance, Internet, Travel',\n",
       "       'Accounting, Business Information Systems, Business Travel, Finance, SaaS',\n",
       "       'Artificial Intelligence, Product Search, SaaS, Service Industry, Software',\n",
       "       'Internet of Things, Waste Management',\n",
       "       'Air Transportation, Freight Service, Logistics, Marine Transportation',\n",
       "       'Financial Services', 'Food and Beverage', 'Autonomous Vehicles',\n",
       "       'Enterprise Software, Health Care, Hospital, Parenting, Personal Health, SaaS',\n",
       "       'Agriculture, Analytics, Big Data, Farming',\n",
       "       'Logistics, Supply Chain Management',\n",
       "       'Financial Services, Lending',\n",
       "       'Automotive, Marketplace, Online Portals',\n",
       "       'Artificial Intelligence',\n",
       "       'Internet of Things, Telecommunications', 'Insurance',\n",
       "       'Information Technology, Logistics, Supply Chain Management',\n",
       "       'Blockchain, Developer Tools, Enterprise Software',\n",
       "       'Industrial Automation, Logistics, Supply Chain Management',\n",
       "       'Food and Beverage, Food Delivery, Snack Food', 'Education',\n",
       "       'E-Commerce, Fashion, Jewelry, Retail', 'Renewable Energy',\n",
       "       'E-Learning, Education',\n",
       "       'Clean Energy, CleanTech, Laundry and Dry-cleaning',\n",
       "       'E-Commerce, Fashion, Mobile',\n",
       "       'Apps, Messaging, Navigation, Public Safety', 'Transportation',\n",
       "       'Fitness, Health Care, Wellness',\n",
       "       'Artificial Intelligence, Machine Learning, SaaS, Virtual Assistant',\n",
       "       'Hospitality', 'Food and Beverage, Tea',\n",
       "       'Media and Entertainment, News, Outdoors',\n",
       "       'Broadcasting, Media and Entertainment, Music, Music Streaming, Video, Video Streaming',\n",
       "       'B2B, Information Services, Information Technology',\n",
       "       'EdTech, Education, Enterprise Software, Peer to Peer',\n",
       "       'Health Care, Medical', 'E-Commerce',\n",
       "       'Health Care, Hospital, Wellness', '—', 'Sports',\n",
       "       'Big Data, Consumer Lending, FinTech',\n",
       "       'Cloud Computing, Computer, Semiconductor',\n",
       "       'Health Care, Medical, Pharmaceutical', 'Food Processing, Retail',\n",
       "       'Trading Platform', \"Consumer Goods, Lifestyle, Men's\", 'Wellness',\n",
       "       'Food and Beverage, Food Processing, Nutrition', 'Fashion',\n",
       "       'Automotive, Electric Vehicle, Energy Storage',\n",
       "       'Consulting, Retail, Social',\n",
       "       'Biotechnology, Life Science, Pharmaceutical, Product Research',\n",
       "       'Health Care',\n",
       "       'Credit, Financial Services, FinTech, Personal Finance',\n",
       "       'Communities, Coworking, Incubators',\n",
       "       'Consumer, Financial Services, FinTech',\n",
       "       'Consumer Applications, Information Services, Location Based Services, Virtual Assistant',\n",
       "       'Mobile, Mobile Apps, Personalization, Test and Measurement, Web Apps',\n",
       "       'Education, Financial Services, FinTech',\n",
       "       'Advertising, Consulting, Digital Marketing',\n",
       "       'Marketplace, Real Estate, Rental Property',\n",
       "       'E-Learning, Internet, Video Games',\n",
       "       'Artificial Intelligence, Cloud Computing, Video',\n",
       "       'Health Care, Information Technology', 'Aerospace',\n",
       "       'E-Commerce, Fashion, Lifestyle',\n",
       "       'Artificial Intelligence, Business Intelligence, Industrial Automation, Machine Learning',\n",
       "       'Home Decor, Home Improvement, Home Renovation, Home Services, Interior Design, Smart Home',\n",
       "       'EdTech, Education, Information Services, SaaS', 'Energy, Solar',\n",
       "       'B2B, Biometrics, Cyber Security, Fraud Detection, SaaS, Security',\n",
       "       'Artificial Intelligence, Social',\n",
       "       'Logistics, Transportation, Travel',\n",
       "       'Digital Marketing, SEM, SEO, Web Development',\n",
       "       'Health Care, Hospital, Medical', 'Finance, Financial Services',\n",
       "       'Food Delivery, Food Processing, Internet',\n",
       "       'E-Commerce, Food and Beverage, Internet',\n",
       "       'Fitness, Food and Beverage, Health Care, Nutrition',\n",
       "       'EdTech, Education, Knowledge Management',\n",
       "       'Apps, Beauty, Consumer, Retail',\n",
       "       'Creative Agency, Crowdfunding, EdTech, Health Care, Internet, Medical, Non Profit, Personal Health',\n",
       "       'Consumer Lending, Financial Services, FinTech, Insurance, Lending, Mobile Payments, Payments, Wealth Management',\n",
       "       'E-Learning, Education, Higher Education', 'Health Diagnostics',\n",
       "       'EdTech, Education', 'Financial Services, SaaS, Security',\n",
       "       'Banking, Finance, Financial Services, Non Profit',\n",
       "       'B2B, E-Commerce, Mobile',\n",
       "       'Automotive, Electric Vehicle, Renewable Energy', 'E-Learning',\n",
       "       'Embedded Systems, Health Care, Medical, Product Research',\n",
       "       'Apps, E-Commerce, Internet',\n",
       "       'Advertising, Human Resources, Marketing',\n",
       "       'Beauty, Fitness, Home Services, Internet',\n",
       "       'Health Care, Medical Device, Public Safety',\n",
       "       'Food Delivery, Online Portals, Restaurants',\n",
       "       'AgTech, B2B, Supply Chain Management',\n",
       "       'Credit Cards, Finance, Mobile Apps, Mobile Payments, Payments',\n",
       "       'Software',\n",
       "       'EdTech, Education, Higher Education, Secondary Education',\n",
       "       'Manufacturing, Retail', 'Manufacturing',\n",
       "       'Information Services, Information Technology, InsurTech',\n",
       "       'Consumer Lending, FinTech', 'Internet, Social Network, TV',\n",
       "       'Beauty, Health Care', 'Hospital', 'Events',\n",
       "       '3D Printing, Manufacturing, Product Design', 'Automotive',\n",
       "       'Automotive, Retail', 'Apps, Audio', 'Automotive, E-Commerce',\n",
       "       'Digital Entertainment, Fantasy Sports, Sports',\n",
       "       'E-Learning, EdTech, Education',\n",
       "       'Funding Platform, Incubators, Non Profit',\n",
       "       'Hospitality, Hotel, Leisure, Travel',\n",
       "       'Classifieds, Internet, Marketplace, Rental Property',\n",
       "       'Banking, E-Learning, Trading Platform',\n",
       "       'E-Commerce, Mobile, Retail',\n",
       "       'Artificial Intelligence, Information Technology',\n",
       "       'Enterprise Resource Planning (ERP), Information Services, Information Technology, Real Estate',\n",
       "       'Banking, Finance, Financial Services',\n",
       "       'Audio, Mobile, Tourism, Travel',\n",
       "       'Energy, Energy Storage, Infrastructure',\n",
       "       'Government, Information Technology, Software',\n",
       "       'Information Technology',\n",
       "       'Education, Information Technology, Internet, Mobile, Software',\n",
       "       'Consumer Lending, Financial Services, Lending, Personal Finance',\n",
       "       'Digital Media, Internet, Media and Entertainment, Online Portals, Social Media',\n",
       "       'Business Intelligence, Customer Service, Market Research, SaaS',\n",
       "       'Credit, Financial Services, FinTech, Lending',\n",
       "       'Children, Education, Parenting',\n",
       "       'Automotive, Battery, Energy, Energy Storage',\n",
       "       'E-Commerce, Mobile, Sharing Economy',\n",
       "       'Food Delivery, Organic, Organic Food', 'Mobile', 'Rental',\n",
       "       'Travel', 'Consumer', 'B2B, Farming, Marketplace',\n",
       "       'Wealth Management', 'Biotechnology',\n",
       "       'Education, Gaming, Training', 'Veterinary',\n",
       "       'Internet, Mobile, Social Entrepreneurship, Telecommunications, Wireless',\n",
       "       'Health Care, Hospital, Supply Chain Management',\n",
       "       'Tourism, Travel', 'Hospitality, Real Estate', 'Finance',\n",
       "       'Digital Media, EBooks, Publishing, Reading Apps',\n",
       "       'Consumer Electronics, Embedded Systems, Hardware, Smart Building, Software',\n",
       "       'Food and Beverage, Food Processing',\n",
       "       'Internet, Marketplace, Shopping',\n",
       "       'Analytics, Computer Vision, Enterprise Software, Machine Learning, Natural Language Processing, Speech Recognition',\n",
       "       'Facilities Support Services',\n",
       "       'Automotive, Electric Vehicle, Energy',\n",
       "       'Health Care, Health Diagnostics, Predictive Analytics',\n",
       "       'Cloud Computing, Computer, SaaS, Software',\n",
       "       'Fashion, Lifestyle, Retail', 'Medical', 'Music Streaming',\n",
       "       'Finance, Impact Investing, Internet',\n",
       "       'Internet, Social Entrepreneurship', 'Retail',\n",
       "       'Finance, Impact Investing, Mobile Apps',\n",
       "       'Cloud Computing, Computer, Software',\n",
       "       'Business Development, Market Research, Outsourcing',\n",
       "       'Health Care, Hospitality', 'Internet, Social News, Sports',\n",
       "       'Human Resources', 'Finance, Financial Services, FinTech',\n",
       "       'Customer Service, Software, Video, Video Streaming',\n",
       "       'E-Commerce, Food Processing', 'Training',\n",
       "       'Dietary Supplements, Food and Beverage, Health Care, Organic Food, Snack Food',\n",
       "       'Manufacturing, Oil and Gas, Robotics',\n",
       "       'Artificial Intelligence, Computer, Machine Learning',\n",
       "       'Collaboration, Communities, Coworking, Sharing Economy',\n",
       "       'Big Data, EdTech, Machine Learning', 'Nanotechnology',\n",
       "       'Analytics, Audio, Digital Media, Innovation Management, Internet Radio, Media and Entertainment',\n",
       "       'Financial Services, Lending, Peer to Peer',\n",
       "       'E-Commerce, Furniture, Home Decor, Interior Design, Internet',\n",
       "       'Digital Media', 'File Sharing, Personalization, Social Media',\n",
       "       'Home Decor, Interior Design',\n",
       "       'Health Care, Medical Device, Mobile Apps',\n",
       "       'E-Commerce, Facilities Support Services, Procurement, Supply Chain Management',\n",
       "       'Crowdfunding, Finance, Financial Services',\n",
       "       'Finance, Financial Services, Insurance',\n",
       "       'Children, Education, Online Portals', 'Software, Virtual Reality',\n",
       "       'B2B, Food and Beverage, Food Delivery',\n",
       "       'Catering, Food and Beverage, Food Delivery, Food Processing',\n",
       "       'Food and Beverage, Snack Food', 'Automotive, E-Commerce, Mobile',\n",
       "       'Computer, Digital Marketing, Facilities Support Services, Graphic Design, Internet, Mobile Apps, Social Media Marketing, Web Development',\n",
       "       'Android, Big Data, Blockchain, Cloud Computing, EdTech, Education, Information Technology, iOS, Training, Web Development',\n",
       "       'Analytics, CRM, Loyalty Programs, Machine Learning, Marketing Automation, Retail Technology, SaaS, Small and Medium Businesses',\n",
       "       'Delivery, Information Technology, Mobile Apps',\n",
       "       'Environmental Consulting, Renewable Energy',\n",
       "       'Big Data, Business Intelligence, Financial Services, FinTech, Personal Finance',\n",
       "       'Commercial Real Estate, Coworking, Office Administration, Real Estate',\n",
       "       'Food and Beverage, Food Processing, Organic Food, Snack Food',\n",
       "       'Apps, Health Care, Internet, Mobile Apps, Personal Health',\n",
       "       'Digital Media, Incubators, Social Entrepreneurship',\n",
       "       'Finance, Financial Services, Marketing',\n",
       "       'Biotechnology, Health Care, Life Science, Medical Device',\n",
       "       'Education, Human Resources', 'Consumer Electronics',\n",
       "       'Apps, Health Care, Hospital, Mobile Apps',\n",
       "       'Delivery Service, Logistics, Service Industry',\n",
       "       'Big Data, Data Visualization, Logistics, Software',\n",
       "       'Basketball, Cricket, Cycling, eSports, Fitness, Golf, Health Care, Hockey, Sports, Swimming, Table Tennis, Volley Ball',\n",
       "       'Media and Entertainment, News, Publishing', 'Consulting',\n",
       "       'Big Data, Financial Services, Machine Learning, Predictive Analytics',\n",
       "       'Agriculture, AgTech, Manufacturing',\n",
       "       'Digital Media, News, Publishing', 'Health Care, Hospital',\n",
       "       'B2B, E-Commerce, Enterprise',\n",
       "       'Fraud Detection, Information Services, Security',\n",
       "       'Agriculture, AgTech, Artificial Intelligence, Internet of Things, Machine Learning',\n",
       "       'Cryptocurrency, Trading Platform',\n",
       "       'Finance, FinTech, Mobile Payments', 'Wedding',\n",
       "       'E-Learning, EdTech, Education, Image Recognition, Machine Learning, STEM Education',\n",
       "       'Consumer Goods', 'Digital Entertainment',\n",
       "       'Crowdsourcing, Financial Services, Funding Platform, Venture Capital',\n",
       "       'Delivery, Drones, Geospatial, Robotics',\n",
       "       'Health Care, Information Technology, Management Information Systems',\n",
       "       'Farming',\n",
       "       'Business Travel, Hospitality, Hotel, Marketplace, Tourism, Travel Accommodations',\n",
       "       'Career Planning, Education, Higher Education, Service Industry',\n",
       "       'Medical Device', 'Alternative Medicine, Health Care',\n",
       "       'Internet, Software',\n",
       "       'Dental, Elder Care, Health Care, Home Health Care, Personal Health',\n",
       "       'Financial Services, Insurance, Private Social Networking',\n",
       "       'Consumer Electronics, E-Commerce, E-Commerce Platforms, Electronics, Shipping, Shopping',\n",
       "       'CleanTech', 'Advertising, Internet, Marketing',\n",
       "       'Human Resources, Security, Training',\n",
       "       'Consumer Lending, Finance, FinTech',\n",
       "       'Marketing, Social Media, Video', 'Banking', 'Food Processing',\n",
       "       'Apps', 'Marketing',\n",
       "       'Apps, B2B, Freight Service, Logistics, SaaS, Shipping, Supply Chain Management, Transportation',\n",
       "       'Digital Entertainment, Fantasy Sports, Gaming, Sports',\n",
       "       'Automotive, Last Mile Transportation, Peer to Peer, Ride Sharing',\n",
       "       'Commercial, E-Learning, Education',\n",
       "       'Continuing Education, EdTech, Education, Skill Assessment',\n",
       "       'Smart Cities, Telecommunications', 'Internet of Things, Robotics',\n",
       "       'Apps, Home Services, Information Services, Information Technology',\n",
       "       'Medical, Tourism', 'Career Planning, Education, Internet',\n",
       "       'Fashion, Graphic Design, Wearables',\n",
       "       'Communities, Leisure, Mobile Apps, Software',\n",
       "       'Automotive, Rental, Sharing Economy',\n",
       "       'Energy, Environmental Consulting, Renewable Energy, Solar',\n",
       "       'Information Technology, SaaS, Security',\n",
       "       'Crowdfunding, Financial Services, Internet',\n",
       "       'Customer Service, Information Technology, Internet, Sales Automation',\n",
       "       'Advertising, Artificial Intelligence, Digital Media, iOS, Location Based Services, News, Video, Video on Demand, Video Streaming',\n",
       "       'Credit Cards, Payments, Property Insurance, Property Management, Rental Property',\n",
       "       'Beauty, Cosmetics, Health Care, Service Industry',\n",
       "       'EdTech, Education, Mobile, Tutoring', 'Social Media, Sports',\n",
       "       'Biopharma', 'E-Commerce, E-Commerce Platforms, Retail',\n",
       "       'E-Commerce, Fashion, Shopping',\n",
       "       'Digital Entertainment, Mobile, PC Games',\n",
       "       'Finance, Financial Services, Small and Medium Businesses',\n",
       "       'Artificial Intelligence, Energy, Oil and Gas',\n",
       "       'Computer, FinTech, Risk Management, Software',\n",
       "       'Apps, Financial Services, FinTech',\n",
       "       \"Child Care, Health Care, Hospital, Medical, Women's\",\n",
       "       'Agriculture, Mobile',\n",
       "       'Finance, FinTech, Payments, Property Development, Rental',\n",
       "       'Information Services, Information Technology, Mobile, Software',\n",
       "       'Apps, Fitness, Health Care, mHealth',\n",
       "       'Food and Beverage, Food Delivery', 'Apps, Payments, Retail',\n",
       "       'Health Insurance, Insurance, Life Insurance',\n",
       "       'Rental, Taxi Service, Travel',\n",
       "       'E-Commerce, E-Commerce Platforms, Internet, Retail',\n",
       "       'Financial Services, Professional Services',\n",
       "       'Customer Service, Messaging, Mobile Apps, Personalization',\n",
       "       'Gaming, iOS, Sports',\n",
       "       'E-Commerce, E-Commerce Platforms, Internet, Mobile Apps, Social Media',\n",
       "       'Search Engine',\n",
       "       'Battery, Electric Vehicle, Energy, Renewable Energy, Transportation',\n",
       "       'Agriculture, Farmers Market, Farming',\n",
       "       'Artificial Intelligence, Drones, Navigation, Packaging Services, Robotics',\n",
       "       'Fitness, GreenTech, Internet of Things, Mobile Apps, Ride Sharing, Transportation',\n",
       "       'Mobile, Software, Travel', 'Cosmetics',\n",
       "       'Consulting, Cyber Security, Network Security',\n",
       "       'eSports, Gaming, Video Games', 'Fashion, Jewelry',\n",
       "       'B2B, Medical Device', 'Consumer Goods, Manufacturing',\n",
       "       'Biotechnology, Health Care, Wellness',\n",
       "       'Health Care, Hospital, Medical, Robotics',\n",
       "       'E-Commerce, Fitness, Health Care',\n",
       "       'Financial Services, Venture Capital', 'Accounting, Apps, FinTech',\n",
       "       'Apps, Mobile, Transportation', 'Reading Apps',\n",
       "       'Energy, Renewable Energy, Solar',\n",
       "       'Banking, Financial Services, FinTech', 'Apps, Education, Retail',\n",
       "       'Electric Vehicle',\n",
       "       'Automotive, Battery, Electric Vehicle, Manufacturing, Mechanical Design',\n",
       "       'Automotive, E-Commerce, Marketplace', 'Agriculture',\n",
       "       'Apps, Information Services, Information Technology',\n",
       "       'B2B, Marketplace', 'Packaging Services',\n",
       "       'Computer, Furniture, Software',\n",
       "       'Food Delivery, Hospitality, Reservations, Restaurants, Search Engine',\n",
       "       'Collaboration, Communities, Coworking, Real Estate',\n",
       "       'Accounting, Banking, Finance',\n",
       "       'Cloud Computing, Enterprise Software, Network Hardware, Network Security, SaaS',\n",
       "       'Information Services, Internet, Logistics, Supply Chain Management, Transportation',\n",
       "       'Automotive, E-Commerce, Information Services',\n",
       "       'Delivery, Logistics, Transportation',\n",
       "       'Automotive, E-Commerce Platforms, Marketplace',\n",
       "       'Last Mile Transportation, Railroad, Transportation, Travel',\n",
       "       'Cooking, E-Commerce, Food and Beverage, Food Delivery, Online Portals',\n",
       "       'FinTech, Mobile, Mobile Payments, Payments, Retail Technology',\n",
       "       'Online Games, Software',\n",
       "       'Online Portals, Property Management, Rental',\n",
       "       'E-Commerce, Food and Beverage, Tea',\n",
       "       'Music, Social Network, Video',\n",
       "       'Health Care, Pharmaceutical, Wellness',\n",
       "       'Delivery Service, Food and Beverage, Food Delivery',\n",
       "       'Hospitality, Information Technology, Travel Accommodations',\n",
       "       'Biotechnology, Diabetes, Health Care',\n",
       "       'Autonomous Vehicles, Last Mile Transportation, Recreational Vehicles, Rental',\n",
       "       'Finance, Financial Exchanges, Financial Services, Micro Lending',\n",
       "       'Analytics, Apps, Market Research',\n",
       "       'E-Commerce, E-Commerce Platforms, Furniture, Home Decor, Internet',\n",
       "       'Apps, Mobile, Mobile Apps, Software',\n",
       "       'News, Publishing, Social Media',\n",
       "       'Industrial, Industrial Automation',\n",
       "       'Internet, Mobile Apps, Social Network',\n",
       "       'Health Care, Health Diagnostics, Internet of Things, Life Science, Machine Learning, Medical, Medical Device',\n",
       "       'E-Commerce, Furniture, Interior Design', 'Apps, Events, News',\n",
       "       'Artificial Intelligence, Human Resources, Information Services, Information Technology',\n",
       "       'Logistics, Railroad, Transportation',\n",
       "       'Dating, Private Social Networking',\n",
       "       'Artificial Intelligence, Machine Learning, PaaS',\n",
       "       'Consumer, Furniture, Home Decor, Home Improvement',\n",
       "       'Apps, E-Commerce, Internet, Mobile, Ride Sharing, Transportation',\n",
       "       'Health Care, Health Insurance', 'Energy, Natural Resources',\n",
       "       'E-Commerce, Education, Health Care',\n",
       "       'Apps, Health Care, Pharmaceutical',\n",
       "       'Internet, Knowledge Management',\n",
       "       'Credit, Finance, FinTech, Lending, Sales Automation',\n",
       "       'Banking, Financial Services, Internet',\n",
       "       'E-Commerce, Health Care, Retail',\n",
       "       'Child Care, Information Technology',\n",
       "       'Financial Services, Micro Lending',\n",
       "       'E-Commerce, Retail, Shopping',\n",
       "       'Food and Beverage, Snack Food, Tea',\n",
       "       'Delivery Service, E-Commerce, Logistics',\n",
       "       'Fashion, Lifestyle, Rental', 'Fantasy Sports, Mobile, Sports',\n",
       "       'Beauty, Fashion, Wellness', 'Food and Beverage, Restaurants, Tea',\n",
       "       'Fitness, Sporting Goods, Sports',\n",
       "       'Food and Beverage, Food Processing, Manufacturing',\n",
       "       'E-Learning, Internet', 'Eyewear, Internet',\n",
       "       'Information Technology, Mobile, News, Operating Systems, Social Media, Social News',\n",
       "       'FinTech, Internet, Payments, Service Industry',\n",
       "       'B2B, Business Development, Internet, Marketplace',\n",
       "       'Food and Beverage, Food Delivery, Internet',\n",
       "       'Biotechnology, Health Care, Pharmaceutical', 'Ecommerce',\n",
       "       'Edtech', 'Interior design', 'AgriTech', 'Technology', 'SaaS',\n",
       "       'AI & Tech', 'E-commerce', 'E-commerce & AR', 'Fintech', 'HR tech',\n",
       "       'Food tech', 'Health', 'Healthcare', 'Safety tech',\n",
       "       'Pharmaceutical', 'Insurance technology', 'AI', 'Foodtech', 'Food',\n",
       "       'IoT', 'E-marketplace', 'Robotics & AI', 'Logistics',\n",
       "       'Food & Nutrition', 'Social Media', nan, 'E-Sports', 'B2B',\n",
       "       'Jewellery', 'B2B Supply Chain', 'Games', 'Food & tech',\n",
       "       'Accomodation', 'Automotive tech', 'Legal tech', 'Mutual Funds',\n",
       "       'Cybersecurity', 'Automobile', 'Healthtech', 'Yoga & wellness',\n",
       "       'Virtual Banking', 'Transport & Rentals',\n",
       "       'Marketing & Customer loyalty', 'Infratech',\n",
       "       'Automobile & Technology'], dtype=object)"
      ]
     },
     "execution_count": 421,
     "metadata": {},
     "output_type": "execute_result"
    }
   ],
   "source": [
    "# Check for the unique values\n",
    "data_1819['Sector'].unique()"
   ]
  },
  {
   "cell_type": "code",
   "execution_count": 422,
   "metadata": {},
   "outputs": [
    {
     "data": {
      "text/plain": [
       "Sector\n",
       "—                                                                          30\n",
       "Financial Services                                                         15\n",
       "Education                                                                   8\n",
       "Information Technology                                                      7\n",
       "Edtech                                                                      7\n",
       "                                                                           ..\n",
       "Digital Media, EBooks, Publishing, Reading Apps                             1\n",
       "Hospitality, Real Estate                                                    1\n",
       "Internet, Mobile, Social Entrepreneurship, Telecommunications, Wireless     1\n",
       "Veterinary                                                                  1\n",
       "Automobile & Technology                                                     1\n",
       "Name: count, Length: 450, dtype: int64"
      ]
     },
     "execution_count": 422,
     "metadata": {},
     "output_type": "execute_result"
    }
   ],
   "source": [
    "# Check for the value count\n",
    "data_1819['Sector'].value_counts()"
   ]
  },
  {
   "cell_type": "code",
   "execution_count": 423,
   "metadata": {},
   "outputs": [
    {
     "data": {
      "text/plain": [
       "5"
      ]
     },
     "execution_count": 423,
     "metadata": {},
     "output_type": "execute_result"
    }
   ],
   "source": [
    "# Check for the nan values\n",
    "data_1819['Sector'].isna().sum()"
   ]
  },
  {
   "cell_type": "code",
   "execution_count": 424,
   "metadata": {},
   "outputs": [],
   "source": [
    "# Drop the nan values\n",
    "data_1819['Sector'].dropna(inplace=True)"
   ]
  },
  {
   "cell_type": "code",
   "execution_count": 425,
   "metadata": {},
   "outputs": [
    {
     "data": {
      "text/plain": [
       "584"
      ]
     },
     "execution_count": 425,
     "metadata": {},
     "output_type": "execute_result"
    }
   ],
   "source": [
    "# Check for the duplicates\n",
    "data_1819['Stage'].duplicated().sum()"
   ]
  },
  {
   "cell_type": "code",
   "execution_count": 426,
   "metadata": {},
   "outputs": [],
   "source": [
    "# Drop the duplicated rows\n",
    "data_1819['Sector'].drop_duplicates(inplace=True)\n"
   ]
  },
  {
   "cell_type": "markdown",
   "metadata": {},
   "source": [
    "Clean 'what_it_does' column and check for the inconsistencies"
   ]
  },
  {
   "cell_type": "code",
   "execution_count": 427,
   "metadata": {},
   "outputs": [
    {
     "data": {
      "text/plain": [
       "array(['TheCollegeFever is a hub for fun, fiesta and frolic of Colleges.',\n",
       "       'A startup which aggregates milk from dairy farmers in rural Maharashtra.',\n",
       "       'Leading Online Loans Marketplace in India',\n",
       "       'PayMe India is an innovative FinTech organization which offers short term financial suport to corporate employees.',\n",
       "       'Eunimart is a one stop solution for merchants to create a difference by selling globally.',\n",
       "       'Hasura is a platform that allows developers to build, deploy, and host cloud-native applications quickly.',\n",
       "       'Tripshelf is an online market place for holiday packages.',\n",
       "       'Hyperdata combines advanced machine learning with human intelligence.',\n",
       "       'Freightwalla is an international forwarder thats helps you manage supply chain by providing online tools including instant quotations.',\n",
       "       'Microchip payments is a mobile-based payment application and point-of-sale device',\n",
       "       'Building Transactionary B2B Marketplaces',\n",
       "       'Emojifi is an app that provides live emoji, stickers & GIFs suggestions based on the typed words across chat platforms.',\n",
       "       'Flock is a real-time messaging and collaboration app for teams that speeds up and simplifies communication and boosts productivity.',\n",
       "       'Freshboxx is incubated at Sandbox Startups, a unit of the Deshpande Foundation.',\n",
       "       'Wide Mobility Mechatronics is a Private Company limited by Shares',\n",
       "       'Pitstop offers general repair and maintenance services for cars through its doorstep service vehicles.',\n",
       "       'Mihuru is an online platform which gives micro loans for air travel .',\n",
       "       'Fyle is an intelligent expense management platform for enterprises.',\n",
       "       'Appwharf is an intelligent assistant that helps find you the best-fit SaaS for your business.',\n",
       "       'Waste Management for Smart Cities',\n",
       "       'Cogoport is a platform that provides freight buying industry with spot rates and bidding process for freight buyers.',\n",
       "       'A P2P lending marketplace platform',\n",
       "       \"Makers of a signature coffee that's exceptional in taste. It's super easy to brew, requires no equipment & ships to your door.\",\n",
       "       'Delhi-based online used vehicles marketplace.',\n",
       "       'PregBuddy is a smart connected care platform for expecting mothers.',\n",
       "       'AgNext is an agricultural sensing and solutions company focused on building data-driven solutions for agricultural stakeholders',\n",
       "       'A startup which digitizes logistics operations for Fortune 500 companies.',\n",
       "       'Online lending startup based in Mumbai.',\n",
       "       \"India's Online Auto Repair Marketplace\",\n",
       "       'Early stage Artificial Intelligence (AI) start up.',\n",
       "       'Chariot Tech is an Internet of Things (IoT) startup based in New Delhi.',\n",
       "       'Ideal Insurance Broking is one of the leaders in insurance broking domain.',\n",
       "       'Loanzen helps small businesses get unsecured working capital loans against their their pending invoices.',\n",
       "       \"Mojro envisions to be the world's largest technology-enabled logistics platform.\",\n",
       "       'Blockchain Development Platform To Design, Run & Scale Blockchain Networks.',\n",
       "       'LoadShare is India’s fastest growing logistics company',\n",
       "       'Food startup Yumlane operated by QwikPik Technology',\n",
       "       'A Education Start Up.',\n",
       "       'Pipa+Bella is an online store aimed at selling fashionable and affordable costume jewelry at par with international standards and trends',\n",
       "       'A fintech platform.',\n",
       "       'Chakr has developed the world’s first retro-fit emission control device for diesel generators.',\n",
       "       \"India's the premier education destination catering to the needs of aspiring students of the CA community.\",\n",
       "       'UClean is a tech enabled laundry service provider.',\n",
       "       'The Fashion Re-commerce platform.',\n",
       "       'Letstrack GPS tracking devices to track your kids, bike, car and other vehicles. GPS trackers for Vehicle Tracking System in India.',\n",
       "       'Pooltoo offers a premium ride sharing platform.',\n",
       "       'finzy is the premier peer to peer lending solution in India.',\n",
       "       \"India's largest online fitness platform that provides an integrated eco-system to help users start & sustain their fitness journey\",\n",
       "       'Building an Intelligent Digital Assistant.',\n",
       "       'Reserve your Room, Hostel or Paying Guest, while relocating for higher education.',\n",
       "       'Chai Kings is a tea retail chain',\n",
       "       'Dainik Jagran is a media and communications group.',\n",
       "       'Playtoome is a live entertainment destination',\n",
       "       'ONGO Framework is a B2B IT and digital solution provider.',\n",
       "       'A Global Peer-to-Peer and Peer-to-Group Learning Platform that helps students supplement their academic & competitive exam prep.',\n",
       "       'Arogya MedTech is a Research & Development organization in Bio-Medical industry.',\n",
       "       \"Propshop24, a one-stop shop for a handpicked selection of 'fun'tastic products from around the world.\",\n",
       "       'To bring health issues to people in their language.',\n",
       "       'MissMalini Entertainment is a multi-platform new media network dedicated to Entertaining, Connecting & Empowering young Indians.',\n",
       "       'Rooter is a mobile-based platform',\n",
       "       \"Zest is India's first completely automated consumer digital lending platform.\",\n",
       "       'Advancing AI compute',\n",
       "       'MyDentistChoice is a direct sales and distribution of dental equipment and accessories from top name manufacturers',\n",
       "       'Sattviko fosters wellness and shares Indianness through the Sattvik way of cooking that is wholesome and tasty!',\n",
       "       'Investment Management Platform',\n",
       "       \"Bombay Shaving Company is a Men's grooming startup\",\n",
       "       'Medcords is India’s first holistic healthcare ecosystem on a cloud platform that makes health management easier',\n",
       "       'University Living is an online global student housing marketplace.',\n",
       "       'Food and Beverage startup focussing on developing products using ayurveda with modern science for women empowerment and fitness.',\n",
       "       'Enakshi is an online apparel brand for women.',\n",
       "       'Ultraviolette is a startup working on electric two-wheelers and energy infrastructure.',\n",
       "       'Inthree Access is an impact venture that connects the most inaccessible rural markets with products that can transform lives in Rural India.',\n",
       "       'BUGWORKS is a drug discovery company.',\n",
       "       \"GNC is a leading global specialty retailer of health and wellness products that takes pride to be the world's largest company\",\n",
       "       'PrestLoans New age tech driven RBI regd NBFC helping businesses by providing easy, quick n hassle free loans.',\n",
       "       'Data Intelligence Publishing Platform, We bring the best resources to learn valuable technologies which will shape tomorrow.',\n",
       "       'India Accelerator runs mentorship-driven incubation and acceleration programs for start ups.',\n",
       "       'HappyEMI is a point of sale digital lending platform that helps consumers finance their purchases in-store and online',\n",
       "       'Premium Personal Assistance service',\n",
       "       'Hansel, a mobile app management platform, provides the infrastructure that companies need, in order to personalize product experiences.',\n",
       "       'Propelld is a student education financing platform.',\n",
       "       'Digital Marketing powered by Data & Technology; fueled by Design thinking',\n",
       "       'ZiffyHomes is a technology driven marketplace to find out home on rent.',\n",
       "       'Carmesi is a brand of high-end menstrual-hygiene products in India.',\n",
       "       'OckyPocky is a interactive and personalised language learning app for preschool kids.',\n",
       "       'Racetrack is a sales and support-focused AI-driven platform designed for education, real estate, and e-commerce sectors.',\n",
       "       'WHR is to make affordable healthcare a reality for all. Our vision is to make healthcare services easier, better and more accessible.',\n",
       "       'Asteria Aerospace is a robotics and artificial intelligence company.',\n",
       "       'FabAlley is the ultimate Indian fashion destination for fashion-forward, indie-chic girls. Founded in 2012, Tanvi Malik and Shivani Poddar',\n",
       "       'Tranzmeo Connect : is A Complete Comprehensive Anomaly forensic Solution with Actionable Insights.',\n",
       "       'SBI Life is one of the life insurance company that offers a range of life insurance plans and policies to protect you and your family.',\n",
       "       'Studds Accessories is a scooter accessories service provider in India',\n",
       "       'Design + Execution Organization that delivers beautiful & innovative designs for Home Interiors, in any budget.',\n",
       "       'NoPaperForms is a marketing automation, lead nurture and enrolment management platform for educational institutions',\n",
       "       'Rays Power Infra is a leading integrated Solar Power Company.',\n",
       "       'SaaS, B2B, Security, Stop account sharing, Fraud Detection',\n",
       "       'Vernacular Social Network Focused on Town Level Content and Interactions',\n",
       "       'Lets transport is a logistics solution provider.',\n",
       "       'Next Digital Solutions is website design & Digital Marketing development company.',\n",
       "       'Portea Medical is the largest and fastest growing provider of in-home medical care in India today with a 24-city network.',\n",
       "       'Aavas Financiers is engaged in the business of providing housing loans, primarily in the un-served, unreached and under-served market.',\n",
       "       'Swiggy is a food ordering and delivery company that provides food service solutions for restaurants.',\n",
       "       'Milkbasket delivers milk, bread, eggs, butter, juices and other daily need items, every morning, right at your doorstep, free of charge.',\n",
       "       'Nutrisattva is a protein innovation compan',\n",
       "       'Toppr.com is an online preparation platform for entrance exams in India.',\n",
       "       'Jagaran Microfin is a Microfinance institution which achieves a healthy amalgamation of social and financial',\n",
       "       'Vivriti Capital is an online platform for institutional debt in India.',\n",
       "       \"Be U is India's first subscription based Salon Chain.\",\n",
       "       \"We're a Harvard incubated crowdfunding platform for nonprofits, social enterprises, startups and individuals.\",\n",
       "       'MobiKwik is a payments backed fintech platform in India. MobiKwik App offers instant loans & investment products to the 500M masses of India',\n",
       "       'Stones2milestones is a Gurgaon Based Learning Company.',\n",
       "       'Generico is the fastest growing specialized pharmacy retail chain of Generic medicines.',\n",
       "       'Adiuvo Diagnostics is a medical diagnostic device company based in India.',\n",
       "       'DataTrained is a educational platform, which operates an ed-tech startup on data science',\n",
       "       'OneAssist is a protection & assistance services platform.',\n",
       "       'Satin is a non-banking finance company providing individual loans to urban shopkeepers.',\n",
       "       'APAC Financial Services is a financial services platform.',\n",
       "       'Moglix is a supplier of industrial tools like hand tools, power tools, electrical, and safety equipment.',\n",
       "       'SEDEMAC Mechatronics is technology company that distributes control-intensive products for automobiles.',\n",
       "       'MadGuy Labs is a Online Test-prep Platform.',\n",
       "       'Dee Dee Labs is design and development lab with a primary focus on the development of next generation of bionic prostheses.',\n",
       "       'FLEECA is a Tyre Care Provider company.',\n",
       "       '#1 Online Selling App. India’s leading social commerce platform. Setup free online store in 2 min. Sell own goods or resell Shop101 Supply.',\n",
       "       'On Demand Staffing Platform',\n",
       "       'Housejoy is a web-based platform that allows individuals to browse and book service providers for their homes.',\n",
       "       'Ambee is an Environment analytics startup.',\n",
       "       'FoodBuddy is a online food delivery portal, providing boundary breaking delivery.',\n",
       "       'Ninjacart is a B2B agri-marketing platform that connects vegetables and fruits farmers directly with businesses.',\n",
       "       \"Olly is a digital credit card for India's working masses and young people.\",\n",
       "       'No-Code Workflow Automation. Build enterprise applications in days with AI, Cognitive Automation, Collaboration and more built in.',\n",
       "       'BYJU’s is an edtech company that is reinventing how students learn through its learning app.',\n",
       "       'Wakefitkart is a mattress manufacturing company. We manufacture the best quality mattresses at affordable prices.',\n",
       "       'Hero Electric, a 100% subsidiary of the Hero Group, is a pioneer in the Indian Electric Vehicle Industry.',\n",
       "       'Pentation as an Insurtech enables insurers and intermediaries with our Insurance Analytics Suite- an Insurance specific AI/ML Software Suite',\n",
       "       'PerkFinance partners with employers to provide affordable loans to their employees at no cost to the company',\n",
       "       'Roposo - TV by the People is a unique social media platform where people express visually with homemade videos and photos.',\n",
       "       'Plum Haircare Is Silicone-Free & Sulphate-Free. Designed For Damaged & Dandruff-Free Hair',\n",
       "       'Drstore is a exclusive e- commerce platform.',\n",
       "       'Wow Venue is an online platform.',\n",
       "       'Chizel is a worlds most advanced cloud platform for on-demand manufacturing in 3D Printing and CNC Machining',\n",
       "       'OTO Capital is a platform that allows you to own a car faster than ever.',\n",
       "       'boodmo.com - large online marketplace for auto parts in India.',\n",
       "       'Khabri is a digital audio platform for content in vernacular.',\n",
       "       'MyNewCar.in offers new cars at best price with great deals. Book a new car online or request a doorstep test drive',\n",
       "       'A daily fantasy sports platform.',\n",
       "       'PlanetSpark is an after-school Maths and English learning program for pre teen kids between Grades 2nd to 7th.',\n",
       "       'WheelsEMI is the brand name of NBFC, WheelsEMI Pvt. Ltd.',\n",
       "       'FiiRE, a technology business incubator helps the startup process to move from the garage to the lab.',\n",
       "       'OYO is an Indian hospitality startup that operates a network of budget hotels.',\n",
       "       'Quikr is a free classifieds and online marketplace that helps users sell, buy, rent, or discover anything across India.',\n",
       "       'Tabono is a one stop environment for all your fitness solution.',\n",
       "       'Learnapp.co - Video courses & live classes in investing, trading, banking and finance.',\n",
       "       'Shopkirana connects brands and traditional retailers with the help of technology and supply chain innovation.',\n",
       "       'Fric Bergen is a leader in the specialty food industry.',\n",
       "       'Articbot is a conversational AI platform for automated customer support and lead generation',\n",
       "       'India’s most advanced ERP system for the real estate',\n",
       "       'Fusion Microfinance Pvt. Ltd. is an NBFC registered with RBI',\n",
       "       'Anytime Doctor is a Software company.',\n",
       "       'Go Payments was founded with the mission of assisting consumers with performing a whole host of financial services at their doorstep.',\n",
       "       'We build In-Destination Experiences!',\n",
       "       'A stealth startup building a layer of infrastructure for highly efficient energy storage systems.',\n",
       "       'SaaS to verify counterfeit', 'Gov-Tech',\n",
       "       'Smarter analytics to understand how each customer uses your product. Drive growth in conversion, retention and engagement.',\n",
       "       'Saas, Web App, Mobile App, School Education',\n",
       "       'Snapmint facilitates simplified, fairly-priced and hassle-free EMI options without a Credit Card.',\n",
       "       'Ai platform for Art and Creative Community',\n",
       "       'Stethoscope for customer feedback !',\n",
       "       'Credy is a fintech platform that connects borrowers seeking capital with lenders seeking market beating returns.',\n",
       "       'iChamp is an e education innovation product from RNM E-Services Pvt Ltd.',\n",
       "       'A cloud-based HR management and employee engagement platform.',\n",
       "       'Avishkaar Box is just not another box full of material rather it is a well researched, thought through solution',\n",
       "       'A Mumbai-based startup Electric Vehicle (EV) & Energy Storage company.',\n",
       "       \"hyperXchange is India's fastest growing O2O marketplace for premium refurb gadgets\",\n",
       "       'Deftouch is a mobile game development company that currently focuses on winning the Cricket gaming market with a social multiplayer game.',\n",
       "       \"Doodhwala is an online milk delivery startup that offers over 70 varieties of milk along with a plan based on clients' requirement.\",\n",
       "       'DronaHQ is an enterprise mobile engagement platform.',\n",
       "       'FastFox: Market Network for Home Rentals (India)',\n",
       "       \"BuyForexOnline.com is India's first completely online provider for buying Foreign Exchange.\",\n",
       "       'A technology powered network of Branded Serviced Homes conveniently located near educational institutions & workplaces.',\n",
       "       'Online marketplace where farmers and traders can sell their produce to B2B buyers',\n",
       "       'Corefactors is a leading campaign management, business communication and analytics company.',\n",
       "       'A startup in the personal finance space in India .',\n",
       "       'Bengaluru based biotech startup.',\n",
       "       'Shirsa Labs is a cognitive skill assessment and training portal that provides children with fun educational games.',\n",
       "       'Gurugram-based Online petcare platform.',\n",
       "       'Awwaz.De develops inclusive mobile solutions that enable organizations to achieve last-mile connectivity for social impact.',\n",
       "       'PinkBlue.in - Super-efficient supply-chain for clinical supplies',\n",
       "       'Eduvanz is new, innovative finance company, which is completely revolutionizing the student loan market.',\n",
       "       'Rupeek is an asset backed online lending platform currently operating in the space of Gold loans.',\n",
       "       'Backpacker Panda is creating an ecosystem for youth accommodation and travel.',\n",
       "       'Physical education start up',\n",
       "       'Placio is a student housing and a complete broker-free platform.',\n",
       "       'Delhi based housing finance company.', 'A Robotic Company.',\n",
       "       'HeyHolidays, a global player in online vacation rentals.',\n",
       "       \"Amazon's Kindle Direct Publishing for Indian Languages\",\n",
       "       'SectorQube develops smart kitchen devices that make food automatically.',\n",
       "       'Iconic Indian Delicacies from the most renowned vendors of India Delivered Globally.',\n",
       "       'Zamroo is a growing mobile marketplace that allows users to buy and sell locally.',\n",
       "       'Silversparro is a deep learning technology solution provider.',\n",
       "       'A coworking space provider.',\n",
       "       'Emflux Motors is committed to bring clean and sustainable energy into a state of universal acceptance through technological innovation.',\n",
       "       'Predictive Healthcare Analytics Company',\n",
       "       'Virtual/Augmented Reality Start Up .',\n",
       "       'A fashion enterprise that provides a launchpad to fashion talent and brands using a tech enabled platform',\n",
       "       'Chrysalis (EZ Vidya) is India’s leading educational research and innovation organization',\n",
       "       'EKincare empowers you to take charge of your health by enabling you to monitor critical medical info and make it available anywhere.',\n",
       "       'Live stream music from nightclubs, bars & festivals!',\n",
       "       'Groww offers a new way of investing money.',\n",
       "       'Cell Propulsion is an electric mobility startup that designs autonomous electric vehicles.',\n",
       "       'Chezuba is a web-based platform enabling skilled professionals to volunteer online with Non-profits worldwide',\n",
       "       'Ontrack provides affordable independent transport to those dependent on cabs and autos for commute by renting bikes on a monthly basis.',\n",
       "       'Wealthtrust offers a wealth manager application that enables its users to invest and manage their investments online.',\n",
       "       'Faclon is an IoT and data analytics based tech startup building products to make cities and villages smart.',\n",
       "       'Operations and manpower outsourcing startup',\n",
       "       'World-class Enterprise System for Education.',\n",
       "       'Zyla is transforming the way healthcare is delivered in India with specific focus on high-risk chronic patients.',\n",
       "       'Get your daily dose of interest as summaries from news and magazine stories .',\n",
       "       'Rubix Total App makes it effortless for Institutes to send home important information and updates about the day’s learning experiences.',\n",
       "       'Be Smart, Work on Contract,Be Smart, Hire on Contract',\n",
       "       'Algorithmic trading platform.',\n",
       "       'NiYO is a fintech company that helps salaried employees access company benefits and other financial services.',\n",
       "       'A video recording and sharing software.',\n",
       "       'Satvacart is a Gurgaon’s largest online supermarket',\n",
       "       'Sports Nutrition startup',\n",
       "       'A Delhi-based Augmented Reality and Virtual Reality technology development company.',\n",
       "       'MY CHIRAAG CAB SERVICES PVT LTD',\n",
       "       'It operates a business-to-business e-commerce portal for food and beverages.',\n",
       "       'FInd your Customized Home here.',\n",
       "       'True elements offers a range of high-quality snacks and supplements that are inspired by natural foods consumed by our ancestors.',\n",
       "       'Trendlyne Technologies is a stock market analytics platform and marketplace for retail investors.',\n",
       "       'Planys Technologies is India’s first and only manufacturer of compact ROVs providing underwater robotic inspection and survey solutions.',\n",
       "       'HealthPlix is a healthtech startup',\n",
       "       \"dishq leverages food science and machine learning (AI) to understand and predict people's tastes.\",\n",
       "       'The boundaries between Human and Machines are shrinking fast.',\n",
       "       'myHQ turns your everyday coffee space into a perfect work zone. Get an amazing work environment without paying any rent.',\n",
       "       'Trell is a location based network which helps you in exploring amazing experiences and annotating places around you.',\n",
       "       'Building future human capital through 21st Century Skills programs for K-12',\n",
       "       'Log 9 Materials is a nano-materials manufacturing and RnD startup',\n",
       "       'VTION is a media technology innovation firm aiming to solve key problems in the media based ecosystem.',\n",
       "       'New Apartments, Flats for Sale in Bangalore',\n",
       "       'It is a fabless semiconductor company focused on CMOS millimeter wave products for Radar.',\n",
       "       'RupeeCircle is a new age finance company.',\n",
       "       'Woodenstreet.com ensures to fulfill customer’s unique furniture requirements by crafting one-of-a-kind furniture pieces.',\n",
       "       'The Ken is India’s first subscriptions-only business news site',\n",
       "       \"SaffronStays connects travellers to India's Incredible hosts.\",\n",
       "       'A personal network for close people',\n",
       "       \"Foyr.com is India's first online, automated interior designer\",\n",
       "       'MEngage is a mass consumer engagement application for doctors on both android and IOS platforms.',\n",
       "       'Inner Being Wellness manufactures beauty, wellness, and nutrition products.',\n",
       "       'Kobster is a pioneer of B2B eProcurement and an eMarketplace providing Corporates an end-to-end solution for their procure-to-pay cycle.',\n",
       "       'Wishberry is a rewards-based crowdfunding platform that enables users to raise funds for their creative and innovative ideas.',\n",
       "       'McXtra is a digital insurance broking startup.',\n",
       "       'Magic Crate is a theme based stimulating, fun and learning activity box for 4-8 year olds that is mailed to your doorstep every month.',\n",
       "       'It is a Virtual Reality Solutions StartUp',\n",
       "       'SEO, PPC, Search Engine Marketing, Social Media Optimization, Content Marketing, Brand Reputation Management',\n",
       "       'Digital Marketing Agency',\n",
       "       'Scale Labs is a cross border e-commerce solutions provider that drives global trade for brands.',\n",
       "       'HungerBox is a full stack B2B F&B technology company delivering food solutions for the corporates in India.',\n",
       "       'BBK delivers both authentic taste of Hyderabadi and Lucknowi Biryani prepared in individual earthen Handis with the freshest ingredients.',\n",
       "       'Wholesome Habits (EAT Anytime) is a healthy snacks Company.',\n",
       "       'Car Service and Bike Service Mobile App',\n",
       "       'Fixpocket is a internet-based startup.',\n",
       "       'Edureka is the fastest growing online learning platform that offers live, instructor-led courses for professionals from various industries.',\n",
       "       'Hashtag Loyalty is a customer engagement and marketing automation tool for local businesses.',\n",
       "       'WOW, as customers react to his studiously taught, trained, polite and courteous nature.',\n",
       "       'ZunRoof is a rooftop focused solar startup.',\n",
       "       'Eggoz is a full-stack layer poultry business operator & service provider .',\n",
       "       'Personal Finance',\n",
       "       'GalaxyCard is a mobile based Instant credit card.',\n",
       "       'IndiQube is a provider of co-working spaces based in Bengaluru.',\n",
       "       'A food processing enterprise registered with StartUp India .',\n",
       "       'NirogStreet is an Ayurvedic doctor discovery and appointment booking platform where patients can easily find doctors and fix consultation.',\n",
       "       'Pixr8 is a global media platform dedicated to Start-ups and business organisations for promoting entrepreneurship work.',\n",
       "       'Nivesh.com is a mass market mutual funds investment platform.',\n",
       "       'A fully functioning cell culture facility and molecular biology setup.',\n",
       "       'Poshmiles aims to help point travellers to long weekend trips at popular and undiscovered destinations based on budget & interest.',\n",
       "       'A campus recruitment solution provider.',\n",
       "       'Orbo is a computer vision and deep facial technology company.',\n",
       "       'Inntot Technologies, is a technology driven company.',\n",
       "       'Zoctr Health Network is a first-of-its kind pan-India Home & Telehealth Company',\n",
       "       'Hey Deedee is a Mumbai-based company that provides solutions to parcel delivery problems.',\n",
       "       'A technology company focused on introducing products that will accelerate and enhance sales productivity and effectiveness .',\n",
       "       'Locus is an intelligent logistics automation platform.',\n",
       "       'Sports Flashes operates a sports content app that provides sports news, live scores, fantasy gaming, expert views, trivia, and more.',\n",
       "       'Inc42 is one of the leading tech media publications of India.',\n",
       "       'A stock photo startup based in Amravati, Andhra Pradesh.',\n",
       "       'A coworking incubator Company.', 'HR Technology start-up.',\n",
       "       'Cash Suvidha is an Digital Lending Platform that provide working capital finance to SMEs and MSMEs in India.',\n",
       "       'Providing financial access to the millions of mobile users in India using alternative credit assessment',\n",
       "       'Carmel Organics is an India-based herb company engaged in sourcing, processing, and distributing herbal tea ingredients.',\n",
       "       'Transforming the way businesses deliver. Work-force & fleet mobility tools.',\n",
       "       'A digital news platform.',\n",
       "       'Creditas was set-up in 2015 with an aim to help Financial Institutions find better ways to reach and interact with their customers.',\n",
       "       'UrbanPiper offers restaurants and chains with a suite of products to manage and analyze their online presence.',\n",
       "       'Doxper is Health tech startup which has created a digital pen and coded paper system for doctors to record patient information',\n",
       "       'i2ifunding is an online marketplace that connects borrowers looking for personal loans with investors looking for alternative investments.',\n",
       "       'Home of B2B Commerce',\n",
       "       'HelloVerify is an online background check platform.',\n",
       "       'Climate Smart Precision Agriculture Platform',\n",
       "       'CoinGeto is one of India’s most advanced digital assets exchange.',\n",
       "       'Avail is a mobile-first platform aiming to financially include the urban mass of India.',\n",
       "       'Radical Travel Automation - Cloud Based Corporate Travel & Expense Management Software',\n",
       "       'Wedeterna is a new-age, personalised and fresh approach to arranged marriages, DIY matrimonial community with only self created profiles.',\n",
       "       'Stumagz is about connecting with Stories Stumagz is about collaborating with people Stumagz is about creating a Cult.',\n",
       "       'Gurgaon based E-learning platform.',\n",
       "       \"MCaffeine is India's First Caffeine Infuse Personal Care Brand. It's an extension to the hyperactive lifestyle and individualistic identity.\",\n",
       "       'A Bengaluru-based fraud analytics solution provider .',\n",
       "       'HealthAssure provides access to Discounted & High Quality primary care medical network.',\n",
       "       'Operator of low-cost mobile cinema theatres in rural areas.',\n",
       "       'Equity crowd funding platform focused on connecting investors with a host of extremely promising Indian start-ups and early stage ventures',\n",
       "       'Professional Drones for Enterprise Applications',\n",
       "       'Wellthy is a digital therapeutics company focused on improving patient health through the intersection of technology, and clinical outcomes.',\n",
       "       'Nua is an e-commerce and feminine care brand platform focused on creating women care products.',\n",
       "       'An online platform for mutual fund investments.',\n",
       "       'Livehealth is an end-to-end collaborative report management solution. We help you get your medical reports instantly from various health',\n",
       "       'An agricultural inputs startup Company.',\n",
       "       'Ora is an online marketplace of unique accommodations. Awarded as among top 3000 startups in India by IIM Kolkata.',\n",
       "       'Buddy4Study is the best scholarship search engine for Indian students. It also helps organizations to set up their own scholarship schemes.',\n",
       "       'Healthcare devices for cancer detection',\n",
       "       'Syncremedies is an Integrated Medicine service that brings together Allopathy, Ayurveda and Homeopathy to treat chronic ailments.',\n",
       "       'Bluleaf Cyberspace is Cloud Based Software Company.',\n",
       "       'Toffee is a bite size, micro-event & contextual insurtech startup which aims to de-jargonise the insurance buying experience.',\n",
       "       'Online wealth management platform',\n",
       "       \"HealWell24 is India's emerging technology-empowered healthcare company, aiming to bring world-class quality healthcare services anywhere.\",\n",
       "       'Acko General Insurance is a digital insurance company in India that redefines insurance for the consumers.',\n",
       "       'E-commerce website promising the best price on any product a consumer buys anywhere on the internet.',\n",
       "       'A clean tech product Company',\n",
       "       'DheeYantra is building a cognitive conversational chatbot platform by name \"dhee.ai\" for vernacular languages',\n",
       "       'Edyoo.com is a technology platform that offers the most intuitive design, flexibility, and ease of use.',\n",
       "       'Chtrbox connects social media influencers with brands .',\n",
       "       'Provide housing finance to those in the informal sector enabling the hither to un-served to own a home of their own.',\n",
       "       'BetterPlace provides businesses with contractor workforce management, including onboarding, training, and background checks.',\n",
       "       'A P2P Lending Platform connecting millions of financially under-served & new to credit borrowers with investment savvy lenders in India',\n",
       "       'Easy video creation for social media.',\n",
       "       'FreightBazaar.com is an online platform that connects Truck suppliers with Truck users.',\n",
       "       'Open up to a new world of Banking',\n",
       "       'Hospital & Health Care Start up',\n",
       "       'Earth Food is a healthy Food Start Up.',\n",
       "       'Charcoal Eats aims to bring Dominos style standardisation.',\n",
       "       'A platform for people to express their opinions in form of short videos around any topic.',\n",
       "       'Fast growing Influencer Marketing platform in India.',\n",
       "       'Software for the new-age freight',\n",
       "       'Finwego partners with Small and Medium Businesses in India to offer convenient and responsible credit to their employees',\n",
       "       'Cricnwin is a Gurugram - based Fan Engagement Platform',\n",
       "       'Peer-to-Peer motor vehicles sharing',\n",
       "       \"India's Go to Career Commerce Portal\",\n",
       "       'Eruditus, promoted by Alumni of INSEAD and other top business schools, delivers high quality executive education programmes',\n",
       "       'Gaia Smart Cities is an early leader in the rapidly-emerging Internet of Things (IoT) marketplace.',\n",
       "       'Delivering Imagination',\n",
       "       \"UrbanClap is India's leading managed marketplace for home services.\",\n",
       "       'Hospals is a medical tourism company.',\n",
       "       'Kogta Financial (India) Ltd is a retail-focused non banking financial company .',\n",
       "       'An Education Management startup.',\n",
       "       'The Souled Store bring to you awesome t-shirts, framed prints, badges, notebooks, coasters.',\n",
       "       'Enabling diversity of opinions in organizations',\n",
       "       \"Drivezy is India's largest vehicle sharing platform which helps people turn their vehicles into earning members of their family.\",\n",
       "       'Freyr Energy is a company that provides full service solar provider based in Hyderabad, India.',\n",
       "       'NIRAMAI has developed a novel breast cancer screening solution that uses Thermalytix.',\n",
       "       'Cloudsek is an Infosec Risk assessment company which provides intelligence needed to tackle online threats.',\n",
       "       \"Lendbox is India's leading peer-to-peer lending online lending platform.\",\n",
       "       'Verloop is an automated customer support and engagement platform.',\n",
       "       'Flickstree is a smart video content aggregator, powered by Artificial Intelligence.',\n",
       "       \"India's Leading Property Rent management platform\",\n",
       "       'Idha skin clinic jayanagar is dedicated to restore health and natural beauty to your skin.',\n",
       "       'InCred Finance is a mumbai-based non-banking financial company',\n",
       "       'Vedantu provides personalized LIVE Online Tutoring. Vedantu aims to democratize teaching by creating a marketplace of Teachers',\n",
       "       'Sportido is a sports discovery app that helps you find people and places to play 700+ sports around you.',\n",
       "       'Stelis Biopharma is a vertically integrated biopharmaceutical company',\n",
       "       'Magicpin is a platform where users and merchants in a locality discover, interact, and transact.',\n",
       "       'Try & Buy',\n",
       "       'Mech Mocha is a mobile gaming startup based in Bangalore working towards ‘Making India Play’ .',\n",
       "       'Aye Finance provides financial services to micro and small businesses in Northern India.',\n",
       "       'Mobile Wallet Focusing on hassle free checkout via Finger Print & OTP.',\n",
       "       'Completely automated remote control system.',\n",
       "       \"Signzy are creating 'building blocks for a Digital Trust system.\",\n",
       "       'A Mumbai-based fin-tech startup',\n",
       "       'Cloudnine is an Indian chain of women and child care hospitals.',\n",
       "       'To discover, develop and deliver innovative solution in Agtech Space',\n",
       "       'BillDesk, a property of IndiaIdeas.com Ltd. was conceived in early 2000 to solve the frustrations of most of us when it comes to paying',\n",
       "       'Yaantra, India’s leading mobile phone repair, refurbished & Unboxed centre In India',\n",
       "       'Techbooze[1] \"AN OPEN FORUM\" is an educational enterprise, headquartered in India working across the country.',\n",
       "       'HealthifyMe is an application that allows its users to achieve their fitness and weight loss goals from their computers and smartphones.',\n",
       "       \"India's first hotel dedicated food brand which promises great in room dining experience in budget hotels\",\n",
       "       'Perpule is a self-checkout product for retail outlets to enhance the shopping experience of the customers.',\n",
       "       'Royal Sundaram provides comprehensive insurance plans and innovative insurance solutions to individuals, families and businesses.',\n",
       "       'CleanseCar is a company provides Washing and Repair Services.',\n",
       "       'DriveU is a convenient and a quick way of getting on demand drivers for consumers and businesses',\n",
       "       'Used cars marketplace in India. Ushering new era of transparency and convenience.',\n",
       "       'Asset Reconstruction Company (India) Ltd. operates as a asset reconstruction company.',\n",
       "       'Wellness, Specialised Testing, Healthcare at Home',\n",
       "       'Dunzo is an app that connects you with the nearest available delivery partner to pickup or deliver items for you.',\n",
       "       'Mobile Premier League(MPL) is a skill based E-Sports platform where you can play your favourite mobile games and win real cash always.',\n",
       "       'Wal-Mart India Private Limited is a wholly owned subsidiary of Walmart Stores Inc.,',\n",
       "       'Cred is a platform to celebrate and reward the most creditworthy people of India.',\n",
       "       'Meesho is an online reseller network of housewives and SMBs, who sell products within their network on social channels.',\n",
       "       'Bhaskarguru.com is your local search Engine',\n",
       "       \"Gugu designs & Sells all Electric Connected Two-wheeler's with Network of Open & Free Fast charging Stations across India.\",\n",
       "       'Farm Taaza provides expert advice to the farmers on improving the yield and improving the field operations of the farmer.',\n",
       "       'Autonomous Drone Solutions for last mile delivery as well as search and rescue',\n",
       "       \"BIGPHI technologies is the India's first technologically advanced apparel and wearable company.\",\n",
       "       \"India's 1st Dockless Bicycle Sharing App\",\n",
       "       'AI based Business Travel & Expense management',\n",
       "       'Em Personal Care is a Cosmetic products manufacturing Company.',\n",
       "       'Lucideus is a cybersecurity company that offers its customers with consultancy, training, and solutions to counteract cyber-attacks.',\n",
       "       'Eupheus Learning offers a seamless integrated learning solution for the K-12 market in India.',\n",
       "       'GamingMonk is an eSports gaming company based out of New Delhi, India.',\n",
       "       'Sukkhi Jewellery is a Contemporary fashion jewellery brand.',\n",
       "       'INDwealth is an Artificial Intelligence (AI) powered wealth management company',\n",
       "       \"India's largest medical and surgical supplies marketplace\",\n",
       "       'NIRA promotes financial inclusion by creating simple, transparent products that empower individuals to live a life of choice and freedom.',\n",
       "       'Duroflex Pvt. Ltd. operates as a dominant mattress player.',\n",
       "       'A biotechnology start-up was incorporated to improve the National Hygiene condition whilst addressing the aspect of water conservation.',\n",
       "       'Jetbrain Robotics is Hong Kong / Gurgaon based company, building advanced robotic transportation solutions for multi speciality hospitals.',\n",
       "       'MediMetry is an online platform where patients can consult specialists doctors online - from anywhere, at anytime.',\n",
       "       'The one stop shop for health, fitness & beauty.',\n",
       "       'Indiabulls Ventures Limited is one of India’s leading capital market companies providing securities and derivative broking services.',\n",
       "       'Vistara is a joint venture of Tata Sons Limited and Singapore Airlines Limited (SIA)',\n",
       "       'ClearTax India helps individuals prepare and e-file their Income Tax Return online.',\n",
       "       'Shuttl provides an app-based office shuttle service to make daily commute safe, reliable, affordable and dignified for everyone.',\n",
       "       'A one of its kind digital integrated platform connecting tutors and students.',\n",
       "       'Azure Power produces and distributes solar power to commercial, government, and utility customers in India.',\n",
       "       'Cube is consumer banking focused fintech company.',\n",
       "       'RAHI Care is a Health Care company.',\n",
       "       'Mynvax is a biotech Company.',\n",
       "       'Loans4SME is an alternative lending platform.',\n",
       "       'UpCyclersLab is a startup that makes sustainability-based learning tools for children above the age of five.',\n",
       "       'Cellerite Systems is a charging solutions provider for electric vehicles.',\n",
       "       'Taru Naturals is a network that connects farmer communities with clean technology and renewable energy.',\n",
       "       'LetsMD.com is a marketplace for elective surgeries',\n",
       "       'Twenty Two Motors aim of making cutting edge EV technology affordable for the current generation.',\n",
       "       'Truebil is a team of young, highly motivated professionals who strive to help you buy and sell used cars in the simplest way possible.',\n",
       "       'FarmersFZ is an online venture for fresh and safe vegetables and agri products.',\n",
       "       'worxogo’s is a pioneering persuasive technology products align employee behaviours .',\n",
       "       \"India's leading mobile based security management solution .\",\n",
       "       'Singularity Dynamics is a Chip-design testing startup.',\n",
       "       'Virtual MetalStreet(Metalstreet) is a B2B marketplace for steel trading in India',\n",
       "       'Veritas Finance has been promoted with a primary purpose of meeting the working capital and business credit requirements of the small bus.',\n",
       "       'Manjushree Technopack is a Rigid plastics packaging convertor in India and South Asia.',\n",
       "       'Startup working on a white space in the eCommerce industry.',\n",
       "       'Zomato is a search app offering detailed information for restaurants as well as online food delivery.',\n",
       "       'Innov8 is a Y- Combinator backed company that offers coworking and shared office spaces.',\n",
       "       'RevFin is a digital lending company.',\n",
       "       'Lavelle Networks provides Software Defined WAN (SD-WAN) Solutions to build end to end Enterprise Networking Platforms for tomorrow',\n",
       "       'Blackbuck is a logistics startup based in India.',\n",
       "       'Cardekho is a car search venture that helps users buy cars that are right for them.',\n",
       "       'ElasticRun develops an online system that improves the reception of orders from customers and the dispatch of delivery drivers in India.',\n",
       "       'Droom is a marketplace for automobiles and automobile services.',\n",
       "       'Vogo is a dockless scooter rental company in India which lets customers rent scooters for short one way trips.',\n",
       "       'InnerChef is an online food discovery and delivery experience that will make the foodie in you come alive.',\n",
       "       'LivQuik was incorporated with the vision to simplify payments for merchants and consumers in an increasingly digital world',\n",
       "       'Disprz is a one-of-its-kind “knowledge-tech” start-up that strives to make people knowledgeable, productive and smarter at what they do.',\n",
       "       'Online gaming startup.',\n",
       "       'Origo Commodities, a complete post-harvest management services for agricultural commodities, is the fastest growing company in its sector.',\n",
       "       'Good quality, strategically located homes closer to work for millennials',\n",
       "       'Vahdam Teas is a vertically integrated online-first tea brand that sources premium garden fresh teas direct from over 150+ tea plantations.',\n",
       "       'A social networking app that lets you create and view Spoofs of your favourite videos.',\n",
       "       'Strom Motors is a smart urban mobility Company.',\n",
       "       'PharmEasy - Indias largest healthcare delivery platform',\n",
       "       'Licious is an online meat and fish ordering startup that solves existing problem of finding safe, delectable, trustworthy fresh meat.',\n",
       "       'Stanza Living is a co-living platform created for students moving to a new place.',\n",
       "       'Docturnal, an online platform, enables individuals to find information and diagnostic services related to diabetes, cancer, and more.',\n",
       "       'Bounce (formerly Metro Bikes) is an urban mobility solution that makes daily commute stress-free, time-saving, reliable, and convenient.',\n",
       "       'Technology 9 Labs is an Information Technology and Services company.',\n",
       "       'Goals101 is a one of the fastest growing big-data platforms.',\n",
       "       'New Delhi-based non-banking financial company.',\n",
       "       'Ummeed Housing Finance Private Limited',\n",
       "       'StockEdge is a unique platform, which is 100% focused on research and analytics',\n",
       "       'Sequretek is a cyber security start-up.',\n",
       "       'Avenues Payments is an IT solutions provider for the remittance\\\\money transfer and forex industries.',\n",
       "       'Qbera is a managed marketplace for unsecured personal loans.',\n",
       "       'Urban Ladder is a Bangalore-based online furniture company.',\n",
       "       'Planet11 is backed by SK Planet, which is a part of the SK Group – one of the largest conglomerates in South Korea.',\n",
       "       'Daily Ninja, a mobile app that delivers daily needs on a subscription model',\n",
       "       'Iba Halal Care is a cosmetics brand company.',\n",
       "       'Knocksense is a fast growing lifestyle website.',\n",
       "       'Togedr is an activity discovery & booking platform.',\n",
       "       'Parkwheels aims at solving the big, bad & unsexy parking problems of India.',\n",
       "       'ShareChat is a social networking and regional content platform for the fast growing Internet users in India.',\n",
       "       'Medtech startup working on clinical and wearable diagnostic and rehab products for neuro vestibular disorders using eye tracking technology.',\n",
       "       'Livspace is the new online shopping destination where you can design, decorate and furnish your dream home.',\n",
       "       'NewsBytes provides your everyday news in a contextual timeline to reduce information overload.',\n",
       "       'Leena is smart AI powered HR companion dedicated towards engaging employees.',\n",
       "       'Max Healthcare is one of the leading chain of hospitals in India.',\n",
       "       'Delhi-based logistics technology.',\n",
       "       'GoGaga is a new age dating app that has removed the mindless swiping on strangers and connects users through their network and find matches.',\n",
       "       'Mate Labs is a machine learning solutions platform for beginners.',\n",
       "       'Furlenco is a Bangalore-based company that offers a home furniture subscription program.',\n",
       "       'Ola is a mobile app that brings together cab drivers and customers using technology to make transportation hassle-free in India.',\n",
       "       \"DocPrime offers a one-stop healthcare solution right at the comfort of patients' homes.\",\n",
       "       'CLP India Pvt. Ltd. is a foreign investor in the Indian power sector.',\n",
       "       'Xplorabox is as an educational activity box subscription startup aiming to revolutionize the early education industry.',\n",
       "       'Myra is a unique solution of technology and operations that makes buying medicines fast and efficient.',\n",
       "       \"India's Largest Peer-to-Peer Knowledge Sharing Platform in Indian Languages.\",\n",
       "       'Kissht is a financial technology platform that enables instant, seamless credit for consumers to make purchases at digital points of sales',\n",
       "       'Upwards Fintech financial company.',\n",
       "       'Bon, a Pune-based FinTech firm was created to bring financial services to the gig-economy workforce.',\n",
       "       'Mamaearth is an online retailer specializing in baby and toddler products.',\n",
       "       \"BabyChakra is India's largest & most loved platform to discover the right maternity and childcare.\",\n",
       "       'Belstar Investment and Finance Private Limited is a provider of scalable microfinance services to entrepreneurs.',\n",
       "       'Koku Gamer is an online platform that offers gaming related news, editorials, reviews, previews, and other content.',\n",
       "       'Moonshine Meadery is a first craft meadery.',\n",
       "       'Verzeo is anAI-focussed edtech startup.',\n",
       "       'Haazri is a tea and snack quick service restaurant startup',\n",
       "       'To create pervasive network where connections are simpler, more powerful, more affordable, more global and more available to all.',\n",
       "       'Flyrobe is an on-demand apparel rental platform that provides premium designer wear.',\n",
       "       'Edutech',\n",
       "       'Dream11 is India’s Biggest Sports Game with 30 million+ users playing Fantasy Cricket, Football, Kabaddi and NBA.',\n",
       "       'SRJNA is a brand of Elation Edtech Pvt. Ltd., which helps schools to integrate hands on, affordable and turnkey STEM.',\n",
       "       'Nykaa.com is a premier online beauty and wellness destination',\n",
       "       'Chaayos was born in November 2012 out of this premise - a contemporary interpretation of the chai adda.',\n",
       "       'Heelium is an athletic footwear and wearable startup with primary focus on sports safety and sustainability.',\n",
       "       'LT Foods believe that nature will continue to nurture us until we as a species continue to breathe and live.',\n",
       "       'Free language learning platform.',\n",
       "       'Uttar Pradesh based online eyewear marketplace.',\n",
       "       'NewsHunt is a Bangalore based eBooks company.',\n",
       "       'SlicePay is an AI based instant credit app for youngsters in India.',\n",
       "       'Udaan is a B2B trade platform, designed specifically for small and medium businesses in India.',\n",
       "       'HappyEasyGo is an online travel domain.',\n",
       "       'Mombay is a unique opportunity for housewives to start household food business and avail everyone with their homemade healthy dishes.',\n",
       "       'Droni Tech manufacture UAVs and develop software to service a range of industry requirements.',\n",
       "       \"Welcome to India's most convenient pharmacy!\",\n",
       "       'Provides a range of male grooming products',\n",
       "       'A learning platform that provides topic-based journey, animated videos, quizzes, infographic and mock tests to students',\n",
       "       'It aims to make learning fun via games.',\n",
       "       'Provides interior designing solutions',\n",
       "       'It is a seed company engaged in production, processing and marketing of seeds',\n",
       "       'A drone automation platform',\n",
       "       'It builds software products that makes work simpler, pleasant, and productive',\n",
       "       'It is a product-based cybersecurity solutions provider',\n",
       "       'It is an AI and big data services company providing business solutions.',\n",
       "       'It is a eyewear company',\n",
       "       'A B2C\\xa0\\xa0brand that focusses on premium and comfortable merchandise for Generation Alpha – kids',\n",
       "       'It is a self-healing enterprise, the IT operations software detects, predicts and prevents problems before they happen',\n",
       "       'Platform that provides complete financial solutions for excluded individuals and households',\n",
       "       'Technology-based platform that is connecting suitable applicants to the right recruiters',\n",
       "       'It produces and sells top quality snacks',\n",
       "       'Grants small business loans, supply chain finance and working capital loans to small and medium enterprises',\n",
       "       'Provides online learning classes',\n",
       "       'Uses AI to do risk profiling of e-commerce consumers who opt for EMI',\n",
       "       'Offers a range of robotics learning tools',\n",
       "       'Aims to solve some problems in the feminine hygiene sector',\n",
       "       'A platform that promotes financial well-being of employees at workplace',\n",
       "       'Delivers advanced medical care & clinical excellence aided by next-level technology',\n",
       "       'Offers online courses and extensive mentor-based learning',\n",
       "       'It uses technology to create a trust-based network of responsible citizens to ensure safety',\n",
       "       'It solves inadequacies in the healthcare delivery system through technology',\n",
       "       'Customer Experience (CX) Automation platform',\n",
       "       'Provides variety of insurance plans and policies',\n",
       "       'Developer of an artificial intelligence-powered assistant for businesses',\n",
       "       'Offers B2B tech platform to corporates, aimed at improving the operations of their cafeterias',\n",
       "       'B2B platform for agricultural commodities.', 'Online meat shop',\n",
       "       'A global platform for Identity and Access Management',\n",
       "       'B2B model for appliances and electrical products',\n",
       "       'Develops drones that are used by the military, paramilitary, police forces and in various industries.',\n",
       "       'It offers delivery services across India to retail, e-commerce, pharmaceutical, automobile and FMCG companies',\n",
       "       'Online flight booking',\n",
       "       'Provides facilities to get products manufactured.',\n",
       "       'Creates a voice AI platform',\n",
       "       'Online fruits and vegetables delivery company',\n",
       "       \"It empowers moms to provide the best of foods to their Lil' ones\",\n",
       "       'Blogging platform that enables people to create visual collections of their travel and local experiences',\n",
       "       'A short video platform', 'Online custom shirt brand',\n",
       "       'It helps sales and marketing teams understand purchase intent of buyers on buying patterns, usage and renewals',\n",
       "       'eSports platform where players can access various multiplayer mobile games to participate in online tournaments',\n",
       "       'Online financial marketplace for customized rate quotes on loans and investment products in India',\n",
       "       'It develops, publishes and distributes games across various platforms',\n",
       "       'It develops technology-enabled products to strengthen the farm-to-fork value chain of perishables.',\n",
       "       'Enables to order food online',\n",
       "       'It supplies workforce to the economy',\n",
       "       'Online makeup and beauty products retailer',\n",
       "       'Provides digital platform for businesses to plan and manage their international freight shipments online',\n",
       "       'It connects individuals in need of advice in a specific domain to individuals who have expertise in the same',\n",
       "       'Omnichannel marketplace for gems and jewellery',\n",
       "       'It connects producers of food directly to retailers, restuarants and service providers.',\n",
       "       'It offers games that are available across India and UK.',\n",
       "       'Invoice discounting platform',\n",
       "       'It digitizes and organises local retailers',\n",
       "       'It provides post-harvest management services for agricultural commodities',\n",
       "       'Provides management solution for restaurants',\n",
       "       'It is a technology enabled logistics solutions provider to the Indian e-commerce industry',\n",
       "       'Provides comfortable and secure accomodation for students',\n",
       "       'It is engaged in building sustainable and affordable micro-mobility electric vehicles',\n",
       "       'It is offering mobility as a service',\n",
       "       'It is into mother and baby care-focused consumer goods',\n",
       "       'Home automation solution provider',\n",
       "       'It helps to connect to legal advise online',\n",
       "       'It helps students to learn math online',\n",
       "       'The platform simplifies the process of investment',\n",
       "       'Platform uses encryption technology to allow businesses to safely store files, invoices, and schedules',\n",
       "       'A platform to learn online',\n",
       "       'Enables people to buy and sell new/old cars.',\n",
       "       'A platform for delivery services',\n",
       "       'A marketplace to buy and sell used bikes and scooters',\n",
       "       'It is a sports discovery app that helps to find people and places to play 700+ sports',\n",
       "       'It creates an engagement loop between doctors, hospitals, and patients via its app',\n",
       "       'It drives a cultural change in making yoga-based wellness a part of modern lifestyle',\n",
       "       'It helps lenders to directly provide short-term loans to merchants, employees, and students',\n",
       "       'It offers affordable housing apartments to young professionals and students',\n",
       "       'It enables one to book cab online',\n",
       "       'A car rental service platform',\n",
       "       'Provides cyber security solutions',\n",
       "       'A cloud based Customer Loyalty & Engagement Platform',\n",
       "       'It connects client requirements to their supply chain infrastructure for ease of ordering, tracking and manufacturing',\n",
       "       'Provides rooms for comfortable stay',\n",
       "       'Find automobile repair and maintenance service providers',\n",
       "       'Online car retailer', 'Organised Non-Banking Finance Company'],\n",
       "      dtype=object)"
      ]
     },
     "execution_count": 427,
     "metadata": {},
     "output_type": "execute_result"
    }
   ],
   "source": [
    "# Check for the unique values\n",
    "data_1819['What_it_does'].unique()"
   ]
  },
  {
   "cell_type": "code",
   "execution_count": 428,
   "metadata": {},
   "outputs": [
    {
     "data": {
      "text/plain": [
       "0"
      ]
     },
     "execution_count": 428,
     "metadata": {},
     "output_type": "execute_result"
    }
   ],
   "source": [
    "# Check for the null values\n",
    "data_1819['What_it_does'].isna().sum()"
   ]
  },
  {
   "cell_type": "code",
   "execution_count": 429,
   "metadata": {},
   "outputs": [
    {
     "data": {
      "text/plain": [
       "3"
      ]
     },
     "execution_count": 429,
     "metadata": {},
     "output_type": "execute_result"
    }
   ],
   "source": [
    "# Check for the duplicates\n",
    "data_1819['What_it_does'].duplicated().sum()"
   ]
  },
  {
   "cell_type": "code",
   "execution_count": 430,
   "metadata": {},
   "outputs": [],
   "source": [
    "# Drop the duplicates\n",
    "data_1819['What_it_does'].drop_duplicates(inplace=True)"
   ]
  },
  {
   "cell_type": "markdown",
   "metadata": {},
   "source": [
    "Print the cleaned data_1819 data set"
   ]
  },
  {
   "cell_type": "code",
   "execution_count": 431,
   "metadata": {},
   "outputs": [
    {
     "data": {
      "text/html": [
       "<div>\n",
       "<style scoped>\n",
       "    .dataframe tbody tr th:only-of-type {\n",
       "        vertical-align: middle;\n",
       "    }\n",
       "\n",
       "    .dataframe tbody tr th {\n",
       "        vertical-align: top;\n",
       "    }\n",
       "\n",
       "    .dataframe thead th {\n",
       "        text-align: right;\n",
       "    }\n",
       "</style>\n",
       "<table border=\"1\" class=\"dataframe\">\n",
       "  <thead>\n",
       "    <tr style=\"text-align: right;\">\n",
       "      <th></th>\n",
       "      <th>Company_Brand</th>\n",
       "      <th>Sector</th>\n",
       "      <th>Stage</th>\n",
       "      <th>Amount</th>\n",
       "      <th>HeadQuarter</th>\n",
       "      <th>What_it_does</th>\n",
       "      <th>Funding_year</th>\n",
       "      <th>Stage_category</th>\n",
       "    </tr>\n",
       "  </thead>\n",
       "  <tbody>\n",
       "    <tr>\n",
       "      <th>0</th>\n",
       "      <td>TheCollegeFever</td>\n",
       "      <td>Brand Marketing, Event Promotion, Marketing, S...</td>\n",
       "      <td>Seed</td>\n",
       "      <td>$250000.00</td>\n",
       "      <td>Bangalore, Karnataka, India</td>\n",
       "      <td>TheCollegeFever is a hub for fun, fiesta and f...</td>\n",
       "      <td>2018</td>\n",
       "      <td>Seed</td>\n",
       "    </tr>\n",
       "    <tr>\n",
       "      <th>1</th>\n",
       "      <td>Happy Cow Dairy</td>\n",
       "      <td>Agriculture, Farming</td>\n",
       "      <td>Seed</td>\n",
       "      <td>$572409.85</td>\n",
       "      <td>Mumbai, Maharashtra, India</td>\n",
       "      <td>A startup which aggregates milk from dairy far...</td>\n",
       "      <td>2018</td>\n",
       "      <td>Seed</td>\n",
       "    </tr>\n",
       "    <tr>\n",
       "      <th>2</th>\n",
       "      <td>MyLoanCare</td>\n",
       "      <td>Credit, Financial Services, Lending, Marketplace</td>\n",
       "      <td>Series A</td>\n",
       "      <td>$930166.00</td>\n",
       "      <td>Gurgaon, Haryana, India</td>\n",
       "      <td>Leading Online Loans Marketplace in India</td>\n",
       "      <td>2018</td>\n",
       "      <td>Series A</td>\n",
       "    </tr>\n",
       "    <tr>\n",
       "      <th>3</th>\n",
       "      <td>PayMe India</td>\n",
       "      <td>Financial Services, FinTech</td>\n",
       "      <td>Angel</td>\n",
       "      <td>$2000000.00</td>\n",
       "      <td>Noida, Uttar Pradesh, India</td>\n",
       "      <td>PayMe India is an innovative FinTech organizat...</td>\n",
       "      <td>2018</td>\n",
       "      <td>Others</td>\n",
       "    </tr>\n",
       "    <tr>\n",
       "      <th>4</th>\n",
       "      <td>Eunimart</td>\n",
       "      <td>E-Commerce Platforms, Retail, SaaS</td>\n",
       "      <td>Seed</td>\n",
       "      <td>—</td>\n",
       "      <td>Hyderabad, Andhra Pradesh, India</td>\n",
       "      <td>Eunimart is a one stop solution for merchants ...</td>\n",
       "      <td>2018</td>\n",
       "      <td>Seed</td>\n",
       "    </tr>\n",
       "  </tbody>\n",
       "</table>\n",
       "</div>"
      ],
      "text/plain": [
       "     Company_Brand                                             Sector  \\\n",
       "0  TheCollegeFever  Brand Marketing, Event Promotion, Marketing, S...   \n",
       "1  Happy Cow Dairy                               Agriculture, Farming   \n",
       "2       MyLoanCare   Credit, Financial Services, Lending, Marketplace   \n",
       "3      PayMe India                        Financial Services, FinTech   \n",
       "4         Eunimart                 E-Commerce Platforms, Retail, SaaS   \n",
       "\n",
       "      Stage       Amount                       HeadQuarter  \\\n",
       "0      Seed   $250000.00       Bangalore, Karnataka, India   \n",
       "1      Seed   $572409.85        Mumbai, Maharashtra, India   \n",
       "2  Series A   $930166.00           Gurgaon, Haryana, India   \n",
       "3     Angel  $2000000.00       Noida, Uttar Pradesh, India   \n",
       "4      Seed            —  Hyderabad, Andhra Pradesh, India   \n",
       "\n",
       "                                        What_it_does Funding_year  \\\n",
       "0  TheCollegeFever is a hub for fun, fiesta and f...         2018   \n",
       "1  A startup which aggregates milk from dairy far...         2018   \n",
       "2          Leading Online Loans Marketplace in India         2018   \n",
       "3  PayMe India is an innovative FinTech organizat...         2018   \n",
       "4  Eunimart is a one stop solution for merchants ...         2018   \n",
       "\n",
       "  Stage_category  \n",
       "0           Seed  \n",
       "1           Seed  \n",
       "2       Series A  \n",
       "3         Others  \n",
       "4           Seed  "
      ]
     },
     "execution_count": 431,
     "metadata": {},
     "output_type": "execute_result"
    }
   ],
   "source": [
    "data_1819.head()"
   ]
  },
  {
   "cell_type": "markdown",
   "metadata": {},
   "source": [
    "MERGE DATA_2020,DATA_2021 AND DATA_1819 DATA SET FOR THE ANALYSIS"
   ]
  },
  {
   "cell_type": "code",
   "execution_count": 432,
   "metadata": {},
   "outputs": [
    {
     "data": {
      "text/html": [
       "<div>\n",
       "<style scoped>\n",
       "    .dataframe tbody tr th:only-of-type {\n",
       "        vertical-align: middle;\n",
       "    }\n",
       "\n",
       "    .dataframe tbody tr th {\n",
       "        vertical-align: top;\n",
       "    }\n",
       "\n",
       "    .dataframe thead th {\n",
       "        text-align: right;\n",
       "    }\n",
       "</style>\n",
       "<table border=\"1\" class=\"dataframe\">\n",
       "  <thead>\n",
       "    <tr style=\"text-align: right;\">\n",
       "      <th></th>\n",
       "      <th>Company_Brand</th>\n",
       "      <th>HeadQuarter</th>\n",
       "      <th>Sector</th>\n",
       "      <th>What_it_does</th>\n",
       "      <th>Amount</th>\n",
       "      <th>Stage</th>\n",
       "      <th>Stage_category</th>\n",
       "      <th>Funding_year</th>\n",
       "    </tr>\n",
       "  </thead>\n",
       "  <tbody>\n",
       "    <tr>\n",
       "      <th>0</th>\n",
       "      <td>Aqgromalin</td>\n",
       "      <td>Chennai</td>\n",
       "      <td>AgriTech</td>\n",
       "      <td>Cultivating Ideas for Profit</td>\n",
       "      <td>200000.0</td>\n",
       "      <td>Undisclosed</td>\n",
       "      <td>Others</td>\n",
       "      <td>2020</td>\n",
       "    </tr>\n",
       "    <tr>\n",
       "      <th>1</th>\n",
       "      <td>Krayonnz</td>\n",
       "      <td>Bangalore</td>\n",
       "      <td>EdTech</td>\n",
       "      <td>An academy-guardian-scholar centric ecosystem ...</td>\n",
       "      <td>100000.0</td>\n",
       "      <td>Pre-seed</td>\n",
       "      <td>Pre-seed</td>\n",
       "      <td>2020</td>\n",
       "    </tr>\n",
       "    <tr>\n",
       "      <th>2</th>\n",
       "      <td>NCOME</td>\n",
       "      <td>New Delhi</td>\n",
       "      <td>Escrow</td>\n",
       "      <td>Escrow-as-a-service platform</td>\n",
       "      <td>400000.0</td>\n",
       "      <td>Undisclosed</td>\n",
       "      <td>Others</td>\n",
       "      <td>2020</td>\n",
       "    </tr>\n",
       "    <tr>\n",
       "      <th>3</th>\n",
       "      <td>Gramophone</td>\n",
       "      <td>Indore</td>\n",
       "      <td>AgriTech</td>\n",
       "      <td>Gramophone is an AgTech platform enabling acce...</td>\n",
       "      <td>340000.0</td>\n",
       "      <td>Seed</td>\n",
       "      <td>Seed</td>\n",
       "      <td>2020</td>\n",
       "    </tr>\n",
       "    <tr>\n",
       "      <th>4</th>\n",
       "      <td>qZense</td>\n",
       "      <td>Bangalore</td>\n",
       "      <td>AgriTech</td>\n",
       "      <td>qZense Labs is building the next-generation Io...</td>\n",
       "      <td>600000.0</td>\n",
       "      <td>Pre-series A</td>\n",
       "      <td>Pre-seed</td>\n",
       "      <td>2020</td>\n",
       "    </tr>\n",
       "    <tr>\n",
       "      <th>5</th>\n",
       "      <td>MyClassboard</td>\n",
       "      <td>Hyderabad</td>\n",
       "      <td>EdTech</td>\n",
       "      <td>MyClassboard is a full-fledged School / Colleg...</td>\n",
       "      <td>600000.0</td>\n",
       "      <td>Series C</td>\n",
       "      <td>Series B,C,D&amp;E</td>\n",
       "      <td>2020</td>\n",
       "    </tr>\n",
       "    <tr>\n",
       "      <th>6</th>\n",
       "      <td>Rupeek</td>\n",
       "      <td>Bangalore</td>\n",
       "      <td>FinTech</td>\n",
       "      <td>Rupeek is an online lending platform that spec...</td>\n",
       "      <td>45000000.0</td>\n",
       "      <td>Series A</td>\n",
       "      <td>Series A</td>\n",
       "      <td>2020</td>\n",
       "    </tr>\n",
       "    <tr>\n",
       "      <th>7</th>\n",
       "      <td>Gig India</td>\n",
       "      <td>Pune</td>\n",
       "      <td>Crowdsourcing</td>\n",
       "      <td>GigIndia is a marketplace that provides on-dem...</td>\n",
       "      <td>1000000.0</td>\n",
       "      <td>Undisclosed</td>\n",
       "      <td>Others</td>\n",
       "      <td>2020</td>\n",
       "    </tr>\n",
       "    <tr>\n",
       "      <th>8</th>\n",
       "      <td>Slurrp Farm</td>\n",
       "      <td>Gurgaon</td>\n",
       "      <td>Food &amp; Bevarages</td>\n",
       "      <td>Slurrp Farm is a children health food brand.</td>\n",
       "      <td>2000000.0</td>\n",
       "      <td>Undisclosed</td>\n",
       "      <td>Others</td>\n",
       "      <td>2020</td>\n",
       "    </tr>\n",
       "    <tr>\n",
       "      <th>9</th>\n",
       "      <td>Brila 91</td>\n",
       "      <td>New Delhi</td>\n",
       "      <td>Food &amp; Bevarages</td>\n",
       "      <td>Bira 91 is a craft beer company.</td>\n",
       "      <td>1200000.0</td>\n",
       "      <td>Undisclosed</td>\n",
       "      <td>Others</td>\n",
       "      <td>2020</td>\n",
       "    </tr>\n",
       "  </tbody>\n",
       "</table>\n",
       "</div>"
      ],
      "text/plain": [
       "  Company_Brand HeadQuarter            Sector  \\\n",
       "0    Aqgromalin     Chennai          AgriTech   \n",
       "1      Krayonnz   Bangalore            EdTech   \n",
       "2         NCOME   New Delhi            Escrow   \n",
       "3    Gramophone      Indore          AgriTech   \n",
       "4        qZense   Bangalore          AgriTech   \n",
       "5  MyClassboard   Hyderabad            EdTech   \n",
       "6        Rupeek   Bangalore           FinTech   \n",
       "7     Gig India        Pune     Crowdsourcing   \n",
       "8   Slurrp Farm     Gurgaon  Food & Bevarages   \n",
       "9      Brila 91   New Delhi  Food & Bevarages   \n",
       "\n",
       "                                        What_it_does      Amount  \\\n",
       "0                       Cultivating Ideas for Profit    200000.0   \n",
       "1  An academy-guardian-scholar centric ecosystem ...    100000.0   \n",
       "2                       Escrow-as-a-service platform    400000.0   \n",
       "3  Gramophone is an AgTech platform enabling acce...    340000.0   \n",
       "4  qZense Labs is building the next-generation Io...    600000.0   \n",
       "5  MyClassboard is a full-fledged School / Colleg...    600000.0   \n",
       "6  Rupeek is an online lending platform that spec...  45000000.0   \n",
       "7  GigIndia is a marketplace that provides on-dem...   1000000.0   \n",
       "8       Slurrp Farm is a children health food brand.   2000000.0   \n",
       "9                   Bira 91 is a craft beer company.   1200000.0   \n",
       "\n",
       "          Stage  Stage_category Funding_year  \n",
       "0   Undisclosed          Others         2020  \n",
       "1      Pre-seed        Pre-seed         2020  \n",
       "2   Undisclosed          Others         2020  \n",
       "3          Seed            Seed         2020  \n",
       "4  Pre-series A        Pre-seed         2020  \n",
       "5      Series C  Series B,C,D&E         2020  \n",
       "6      Series A        Series A         2020  \n",
       "7   Undisclosed          Others         2020  \n",
       "8   Undisclosed          Others         2020  \n",
       "9   Undisclosed          Others         2020  "
      ]
     },
     "execution_count": 432,
     "metadata": {},
     "output_type": "execute_result"
    }
   ],
   "source": [
    "df = pd.concat([data_2020,data_2021,data_1819],ignore_index=True)\n",
    "\n",
    "df.head(10)"
   ]
  },
  {
   "cell_type": "code",
   "execution_count": 433,
   "metadata": {},
   "outputs": [],
   "source": [
    "# Replace the non digit values in the Amount column with ''\n",
    "df['Amount'] = df['Amount'].replace('[^\\d]','',regex=True)"
   ]
  },
  {
   "cell_type": "code",
   "execution_count": 434,
   "metadata": {},
   "outputs": [],
   "source": [
    "# Convert the Amount column values to numeric and non numeric to nan \n",
    "df['Amount'] = pd.to_numeric(df['Amount'],errors='coerce')"
   ]
  },
  {
   "cell_type": "code",
   "execution_count": 435,
   "metadata": {},
   "outputs": [
    {
     "data": {
      "text/plain": [
       "166"
      ]
     },
     "execution_count": 435,
     "metadata": {},
     "output_type": "execute_result"
    }
   ],
   "source": [
    "# Check for the nan values \n",
    "df['Amount'].isna().sum()"
   ]
  },
  {
   "cell_type": "code",
   "execution_count": 436,
   "metadata": {},
   "outputs": [],
   "source": [
    "# Drop the nan values\n",
    "df = df.dropna(subset='Amount')"
   ]
  },
  {
   "cell_type": "markdown",
   "metadata": {},
   "source": [
    "GROUP THE SECTOR COLUMN UNDER THE GLOBAL INDUSTRY CLASSIFICATION STANDARD   \n",
    "This column is grouped into 11 classes and sectors that have controversial classifications are grouped under unknown."
   ]
  },
  {
   "cell_type": "code",
   "execution_count": 437,
   "metadata": {},
   "outputs": [
    {
     "data": {
      "text/plain": [
       "array(['AgriTech', 'EdTech', 'Escrow', 'FinTech', 'Crowdsourcing',\n",
       "       'Food & Bevarages', 'Food Delivery', 'Virtual auditing startup',\n",
       "       'E-commerce', 'Work fulfillment', 'AI startup',\n",
       "       'Telecommunication', 'Logistics', 'Tech Startup', 'Retail',\n",
       "       'Medtech', 'Cloud company', 'Software company', 'Renewable player',\n",
       "       'IoT startup', 'SaaS startup', 'HealthTech', 'Marketing company',\n",
       "       'Retail startup', 'Co-working Startup', 'Finance company',\n",
       "       'Video sharing platform', 'Gaming startup', 'Consumer appliances',\n",
       "       'Blockchain startup', 'Conversational AI platform', 'Real Estate',\n",
       "       'Venture capitalist', 'SaaS platform', 'AI platform', 'HR Tech',\n",
       "       'Gaming', 'Digital Media', 'Dairy startup', 'Content management',\n",
       "       'Transportation', 'Trading platform', 'AI Company', 'Tech company',\n",
       "       'Entertainment', 'Food and Beverages', 'Biotechnology company',\n",
       "       'CleanTech', 'Healthcare', 'PaaS startup', 'Beverages',\n",
       "       'Automobiles', 'EV startup', 'AR/VR startup',\n",
       "       'Recruitment startup', 'QSR startup', 'Hospitality', 'Edtech',\n",
       "       'Fertility tech', 'Cosmetics', 'FM', 'Nutrition sector',\n",
       "       'Tech platform', 'Video', 'Retail Tech', 'LegalTech', 'FoodTech',\n",
       "       'Bike marketplace', 'Agri tech', 'Fitness startup', 'AR platform',\n",
       "       'Food Industry', 'Content marketplace', 'Interior Design',\n",
       "       'Rental space', 'Soil-Tech', 'Ayurveda tech', 'Cleantech',\n",
       "       'Social Media', 'Sanitation solutions', 'HealthCare', 'InsureTech',\n",
       "       'Solar solution', 'Jewellery startup',\n",
       "       'Multinational conglomerate company', 'Deeptech startup', 'Tech',\n",
       "       'Food', 'Fashion', 'Finance', 'Venture capital', 'Food devlivery',\n",
       "       'Warehouse', 'Online financial service', 'Eyeglasses',\n",
       "       'Online credit management startup', 'Beverage', 'Car Service',\n",
       "       'Agriculture', 'Personal care startup', 'Customer service company',\n",
       "       'Marketing startup', 'Service industry', 'Social media', 'AI',\n",
       "       'Jewellery', 'AR startup', 'HR Tech startup', 'Automotive Startup',\n",
       "       'EdTech Startup', 'Car Trade', 'EdtTech', 'Manufacturing',\n",
       "       'Job portal', 'AI Platform', 'Home Design', 'Automation',\n",
       "       'Solar SaaS', 'WL & RAC protection', 'Social commerce',\n",
       "       'Home interior services', 'Agritech startup', 'API platform',\n",
       "       'Deep Tech', 'Electricity', 'FMCG', 'Insurance Tech',\n",
       "       'Biomaterial startup', 'Health', 'IT', 'Craft Beer', 'Healthtech',\n",
       "       'Education', 'Investment', 'Construction', 'Battery manufacturer',\n",
       "       'AI health', 'Dating app', 'Media', 'Fintech', 'Healthcare/Edtech',\n",
       "       'Social e-commerce', 'Food & Logistics', 'SpaceTech', 'HR',\n",
       "       'Agritech', 'Interior design', 'Foodtech', 'Appliance', 'HR tech',\n",
       "       'Food tech', 'Solar Solution', 'SaaS', 'Automobile',\n",
       "       'Fashion Tech', 'Nutrition tech', 'Cloud Kitchen', 'IoT',\n",
       "       'IoT/Automobile', 'Ecommerce', 'Eye Wear', 'Digital tech',\n",
       "       'Data Intelligence', 'Co-living', 'Food & Beverages', 'B2B',\n",
       "       'Defense tech', 'Marketplace', 'Construction tech', 'Coworking',\n",
       "       'Beauty', 'Logitech', 'Med Tech', 'Biotech', 'Blockchain',\n",
       "       'Mobility/Transport', 'Travel', 'Rental', 'SaaS/Edtech',\n",
       "       'Co-working', 'Cryptocurrency', 'Automotive tech',\n",
       "       'Supply chain, Agritech', 'Spacetech', 'Pharmaceutical',\n",
       "       'Data Analytics', 'Fitness', 'Financial Services', 'Biopharma',\n",
       "       'Beauty & wellness', 'Travel & SaaS', 'E store',\n",
       "       'Health and Fitness', 'Technology', 'Interior & decor',\n",
       "       'eMobility', 'Automation tech', 'Media & Networking', 'Proptech',\n",
       "       'AI & Data science', 'Automotive and Rentals', 'E-tail',\n",
       "       'Automotive', 'AI & Media', 'Deeptech', 'Content Marktplace',\n",
       "       'Hygiene', 'Insurtech', 'Transport', 'Social Commerce', 'Estore',\n",
       "       'Marketing', 'E-market', 'Accomodation', 'Ad-tech', 'Dairy',\n",
       "       'Transport & Rentals', 'Preschool Daycare', 'B2B Agritech',\n",
       "       'E-connect', 'Pharmacy', 'Deisgning', 'Taxation',\n",
       "       'Automobile Technology', 'B2B E-commerce', 'Home services',\n",
       "       'B2B service', 'Helathcare', 'Renewable Energy', 'Electronics',\n",
       "       'IT startup', 'Aeorspace', 'Dating', 'Robotics', 'Oil and Energy',\n",
       "       'Telecommuncation', 'Milk startup', 'Food delivery',\n",
       "       'Fantasy sports', 'Video communication', 'Skill development',\n",
       "       'Recruitment', 'Sports', 'Computer Games', 'Consumer Goods',\n",
       "       'Information Technology', 'Apparel & Fashion',\n",
       "       'Logistics & Supply Chain', 'SportsTech', 'HRTech',\n",
       "       'Wine & Spirits', 'Mechanical & Industrial Engineering',\n",
       "       'Spiritual', 'Industrial Automation', 'Lifestyle', 'Banking',\n",
       "       'Computer software', 'Tech startup', 'Digital mortgage',\n",
       "       'Information Technology & Services', 'Furniture',\n",
       "       'B2B marketplace', 'Healtcare', 'Location Analytics',\n",
       "       'Consumer Electronics', 'Tobacco', 'Insuretech', 'MLOps platform',\n",
       "       'Venture Capital', 'Pet care', 'Drone', 'Wholesale', 'E-learning',\n",
       "       'Consumer Services', 'Venture Capital & Private Equity',\n",
       "       'Health, Wellness & Fitness', 'OTT', 'Education Management',\n",
       "       'Computer Software', 'Insurance', 'Software Startup',\n",
       "       'Computer & Network Security', 'Capital Markets', 'Social network',\n",
       "       'Hospital & Health Care', 'Music', 'Mobility', 'Digital platform',\n",
       "       'B2B Ecommerce', 'Online Media', 'Mobile Games', 'Food Production',\n",
       "       'HeathTech', 'Content publishing', 'Water purification',\n",
       "       'Innovation Management', 'Celebrity Engagement', 'Personal Care',\n",
       "       'Cannabis startup', 'Blogging', 'BioTechnology', 'B2B Marketplace',\n",
       "       'Social audio', 'Fashion and lifestyle', 'Delivery service',\n",
       "       'B2B Manufacturing', 'Home Decor', 'Solar', 'TaaS startup',\n",
       "       'Health care', 'Manufacturing startup', 'Vehicle repair startup',\n",
       "       'Legaltech', 'Pollution control equiptment', 'Fashion & Lifestyle',\n",
       "       'Consulting', 'D2C', 'Environmental Services', 'Merchandise',\n",
       "       'Facilities Services', 'Marketing & Advertising', 'Eyewear',\n",
       "       'D2C Business', 'Biotechnology', 'Human Resources', 'Farming',\n",
       "       'Internet', 'Consumer software', 'Social community', 'Fishery',\n",
       "       'Online storytelling', 'Aviation', 'Job discovery platform',\n",
       "       'Heathcare', 'CRM', 'Software', 'Nutrition',\n",
       "       'Innovation management', 'Community platform', 'Networking',\n",
       "       'MarTech', 'Advertisement', 'D2C Fashion', 'Bike Rental',\n",
       "       'Beauty products', 'Tourism', 'FemTech', 'Cultural',\n",
       "       'Supply chain platform', 'Social platform', 'Real estate',\n",
       "       'Sports startup', 'AI company', 'Matrimony', 'Clothing',\n",
       "       'Analytics', 'IoT platform', 'Commerce',\n",
       "       'Renewables & Environment', 'Business Supplies & Equipment', 'NFT',\n",
       "       'Oil & Energy', 'EV', 'Textiles',\n",
       "       'Professional Training & Coaching', 'Maritime',\n",
       "       'Housing Marketplace', 'Furniture Rental', 'Telecommunications',\n",
       "       'Crypto', 'Equity Management', 'Cloud kitchen', 'Nanotechnology',\n",
       "       'Community', 'Higher Education',\n",
       "       'Mechanical Or Industrial Engineering', 'D2C jewellery',\n",
       "       'Sales and Distribution', 'Information Services',\n",
       "       'Translation & Localization', 'Investment Banking', 'Femtech',\n",
       "       'sports', 'Foootwear', 'Legal Services', 'Veterinary',\n",
       "       'Investment Management', 'Management Consulting', 'B2B startup',\n",
       "       'Design', 'B2B Travel', 'Product studio', 'Aviation & Aerospace',\n",
       "       'Staffing & Recruiting',\n",
       "       'Brand Marketing, Event Promotion, Marketing, Sponsorship, Ticketing',\n",
       "       'Agriculture, Farming',\n",
       "       'Credit, Financial Services, Lending, Marketplace',\n",
       "       'Financial Services, FinTech', 'Cloud Infrastructure, PaaS, SaaS',\n",
       "       'Internet, Leisure, Marketplace', 'Market Research',\n",
       "       'Automotive, Search Engine, Service Industry',\n",
       "       'Finance, Internet, Travel',\n",
       "       'Accounting, Business Information Systems, Business Travel, Finance, SaaS',\n",
       "       'Internet of Things, Waste Management',\n",
       "       'Air Transportation, Freight Service, Logistics, Marine Transportation',\n",
       "       'Food and Beverage', 'Autonomous Vehicles',\n",
       "       'Logistics, Supply Chain Management',\n",
       "       'Financial Services, Lending',\n",
       "       'Automotive, Marketplace, Online Portals',\n",
       "       'Internet of Things, Telecommunications',\n",
       "       'Information Technology, Logistics, Supply Chain Management',\n",
       "       'Blockchain, Developer Tools, Enterprise Software',\n",
       "       'Industrial Automation, Logistics, Supply Chain Management',\n",
       "       'Food and Beverage, Food Delivery, Snack Food',\n",
       "       'E-Commerce, Fashion, Jewelry, Retail', 'E-Learning, Education',\n",
       "       'Clean Energy, CleanTech, Laundry and Dry-cleaning',\n",
       "       'E-Commerce, Fashion, Mobile',\n",
       "       'Apps, Messaging, Navigation, Public Safety',\n",
       "       'Fitness, Health Care, Wellness', 'Food and Beverage, Tea',\n",
       "       'Media and Entertainment, News, Outdoors',\n",
       "       'Broadcasting, Media and Entertainment, Music, Music Streaming, Video, Video Streaming',\n",
       "       'B2B, Information Services, Information Technology',\n",
       "       'EdTech, Education, Enterprise Software, Peer to Peer',\n",
       "       'Health Care, Medical', 'E-Commerce',\n",
       "       'Health Care, Hospital, Wellness', '—',\n",
       "       'Big Data, Consumer Lending, FinTech',\n",
       "       'Health Care, Medical, Pharmaceutical', 'Trading Platform',\n",
       "       'Wellness', 'Automotive, Electric Vehicle, Energy Storage',\n",
       "       'Consulting, Retail, Social',\n",
       "       'Biotechnology, Life Science, Pharmaceutical, Product Research',\n",
       "       'Credit, Financial Services, FinTech, Personal Finance',\n",
       "       'Consumer, Financial Services, FinTech',\n",
       "       'Mobile, Mobile Apps, Personalization, Test and Measurement, Web Apps',\n",
       "       'Education, Financial Services, FinTech',\n",
       "       'Marketplace, Real Estate, Rental Property', 'Health Care',\n",
       "       'Artificial Intelligence, Cloud Computing, Video',\n",
       "       'Health Care, Information Technology',\n",
       "       'E-Commerce, Fashion, Lifestyle',\n",
       "       'Home Decor, Home Improvement, Home Renovation, Home Services, Interior Design, Smart Home',\n",
       "       'EdTech, Education, Information Services, SaaS', 'Energy, Solar',\n",
       "       'B2B, Biometrics, Cyber Security, Fraud Detection, SaaS, Security',\n",
       "       'Logistics, Transportation, Travel',\n",
       "       'Digital Marketing, SEM, SEO, Web Development',\n",
       "       'Health Care, Hospital, Medical', 'Finance, Financial Services',\n",
       "       'Food Delivery, Food Processing, Internet',\n",
       "       'E-Commerce, Food and Beverage, Internet',\n",
       "       'EdTech, Education, Knowledge Management',\n",
       "       'Apps, Beauty, Consumer, Retail',\n",
       "       'Creative Agency, Crowdfunding, EdTech, Health Care, Internet, Medical, Non Profit, Personal Health',\n",
       "       'Consumer Lending, Financial Services, FinTech, Insurance, Lending, Mobile Payments, Payments, Wealth Management',\n",
       "       'EdTech, Education', 'Financial Services, SaaS, Security',\n",
       "       'Banking, Finance, Financial Services, Non Profit',\n",
       "       'B2B, E-Commerce, Mobile', 'E-Learning',\n",
       "       'Apps, E-Commerce, Internet',\n",
       "       'Advertising, Human Resources, Marketing',\n",
       "       'Beauty, Fitness, Home Services, Internet',\n",
       "       'Food Delivery, Online Portals, Restaurants',\n",
       "       'AgTech, B2B, Supply Chain Management',\n",
       "       'EdTech, Education, Higher Education, Secondary Education',\n",
       "       'Manufacturing, Retail', 'Consumer Lending, FinTech',\n",
       "       'Internet, Social Network, TV', 'Events', 'Automotive, Retail',\n",
       "       'Automotive, E-Commerce',\n",
       "       'Digital Entertainment, Fantasy Sports, Sports',\n",
       "       'E-Learning, EdTech, Education',\n",
       "       'Funding Platform, Incubators, Non Profit',\n",
       "       'Hospitality, Hotel, Leisure, Travel',\n",
       "       'Classifieds, Internet, Marketplace, Rental Property',\n",
       "       'Banking, E-Learning, Trading Platform',\n",
       "       'E-Commerce, Mobile, Retail',\n",
       "       'Artificial Intelligence, Information Technology',\n",
       "       'Enterprise Resource Planning (ERP), Information Services, Information Technology, Real Estate',\n",
       "       'Banking, Finance, Financial Services',\n",
       "       'Audio, Mobile, Tourism, Travel',\n",
       "       'Energy, Energy Storage, Infrastructure',\n",
       "       'Artificial Intelligence',\n",
       "       'Government, Information Technology, Software',\n",
       "       'Education, Information Technology, Internet, Mobile, Software',\n",
       "       'Digital Media, Internet, Media and Entertainment, Online Portals, Social Media',\n",
       "       'Business Intelligence, Customer Service, Market Research, SaaS',\n",
       "       'Credit, Financial Services, FinTech, Lending',\n",
       "       'Children, Education, Parenting',\n",
       "       'E-Commerce, Mobile, Sharing Economy',\n",
       "       'Food Delivery, Organic, Organic Food', 'Mobile', 'Consumer',\n",
       "       'B2B, Farming, Marketplace', 'Wealth Management',\n",
       "       'Education, Gaming, Training',\n",
       "       'Health Care, Hospital, Supply Chain Management',\n",
       "       'Tourism, Travel', 'Hospitality, Real Estate',\n",
       "       'Digital Media, EBooks, Publishing, Reading Apps',\n",
       "       'Analytics, Computer Vision, Enterprise Software, Machine Learning, Natural Language Processing, Speech Recognition',\n",
       "       'Automotive, Electric Vehicle, Energy',\n",
       "       'Health Care, Health Diagnostics, Predictive Analytics',\n",
       "       'Cloud Computing, Computer, SaaS, Software',\n",
       "       'Fashion, Lifestyle, Retail', 'Medical',\n",
       "       'Finance, Impact Investing, Internet',\n",
       "       'Internet, Social Entrepreneurship',\n",
       "       'Finance, Impact Investing, Mobile Apps',\n",
       "       'Business Development, Market Research, Outsourcing',\n",
       "       'Internet, Social News, Sports',\n",
       "       'Finance, Financial Services, FinTech', 'Training',\n",
       "       'Dietary Supplements, Food and Beverage, Health Care, Organic Food, Snack Food',\n",
       "       'Manufacturing, Oil and Gas, Robotics',\n",
       "       'Artificial Intelligence, Computer, Machine Learning',\n",
       "       'Collaboration, Communities, Coworking, Sharing Economy',\n",
       "       'Big Data, EdTech, Machine Learning',\n",
       "       'Analytics, Audio, Digital Media, Innovation Management, Internet Radio, Media and Entertainment',\n",
       "       'Financial Services, Lending, Peer to Peer',\n",
       "       'E-Commerce, Furniture, Home Decor, Interior Design, Internet',\n",
       "       'Home Decor, Interior Design',\n",
       "       'Health Care, Medical Device, Mobile Apps',\n",
       "       'Crowdfunding, Finance, Financial Services',\n",
       "       'Finance, Financial Services, Insurance',\n",
       "       'Software, Virtual Reality',\n",
       "       'B2B, Food and Beverage, Food Delivery',\n",
       "       'Catering, Food and Beverage, Food Delivery, Food Processing',\n",
       "       'Food and Beverage, Snack Food', 'Automotive, E-Commerce, Mobile',\n",
       "       'Computer, Digital Marketing, Facilities Support Services, Graphic Design, Internet, Mobile Apps, Social Media Marketing, Web Development',\n",
       "       'Android, Big Data, Blockchain, Cloud Computing, EdTech, Education, Information Technology, iOS, Training, Web Development',\n",
       "       'Delivery, Information Technology, Mobile Apps',\n",
       "       'Environmental Consulting, Renewable Energy',\n",
       "       'Food and Beverage, Food Processing',\n",
       "       'Big Data, Business Intelligence, Financial Services, FinTech, Personal Finance',\n",
       "       'Commercial Real Estate, Coworking, Office Administration, Real Estate',\n",
       "       'Food and Beverage, Food Processing, Organic Food, Snack Food',\n",
       "       'Apps, Health Care, Internet, Mobile Apps, Personal Health',\n",
       "       'Digital Media, Incubators, Social Entrepreneurship',\n",
       "       'Finance, Financial Services, Marketing',\n",
       "       'Delivery Service, Logistics, Service Industry',\n",
       "       'Information Services, Information Technology',\n",
       "       'Big Data, Data Visualization, Logistics, Software',\n",
       "       'Basketball, Cricket, Cycling, eSports, Fitness, Golf, Health Care, Hockey, Sports, Swimming, Table Tennis, Volley Ball',\n",
       "       'Big Data, Financial Services, Machine Learning, Predictive Analytics',\n",
       "       'Digital Media, News, Publishing', 'Health Care, Hospital',\n",
       "       'Agriculture, AgTech, Artificial Intelligence, Internet of Things, Machine Learning',\n",
       "       'Cryptocurrency, Trading Platform',\n",
       "       'Finance, FinTech, Mobile Payments',\n",
       "       'E-Learning, EdTech, Education, Image Recognition, Machine Learning, STEM Education',\n",
       "       'Digital Entertainment',\n",
       "       'Crowdsourcing, Financial Services, Funding Platform, Venture Capital',\n",
       "       'Health Care, Information Technology, Management Information Systems',\n",
       "       'Career Planning, Education, Higher Education, Service Industry',\n",
       "       'Dental, Elder Care, Health Care, Home Health Care, Personal Health',\n",
       "       'Financial Services, Insurance, Private Social Networking',\n",
       "       'Consumer Electronics, E-Commerce, E-Commerce Platforms, Electronics, Shipping, Shopping',\n",
       "       'Advertising, Internet, Marketing',\n",
       "       'Human Resources, Security, Training',\n",
       "       'Consumer Lending, Finance, FinTech',\n",
       "       'Marketing, Social Media, Video', 'Food Processing',\n",
       "       'Automotive, Last Mile Transportation, Peer to Peer, Ride Sharing',\n",
       "       'Commercial, E-Learning, Education',\n",
       "       'Continuing Education, EdTech, Education, Skill Assessment',\n",
       "       'Internet of Things, Robotics',\n",
       "       'Apps, Home Services, Information Services, Information Technology',\n",
       "       'Medical, Tourism', 'Fashion, Graphic Design, Wearables',\n",
       "       'Communities, Leisure, Mobile Apps, Software',\n",
       "       'Automotive, Rental, Sharing Economy',\n",
       "       'Energy, Environmental Consulting, Renewable Energy, Solar',\n",
       "       'Information Technology, SaaS, Security',\n",
       "       'Crowdfunding, Financial Services, Internet',\n",
       "       'Customer Service, Information Technology, Internet, Sales Automation',\n",
       "       'Credit Cards, Payments, Property Insurance, Property Management, Rental Property',\n",
       "       'Beauty, Cosmetics, Health Care, Service Industry',\n",
       "       'EdTech, Education, Mobile, Tutoring',\n",
       "       'E-Commerce, E-Commerce Platforms, Retail',\n",
       "       'Digital Entertainment, Mobile, PC Games',\n",
       "       'Finance, Financial Services, Small and Medium Businesses',\n",
       "       'Mobile Payments', 'Artificial Intelligence, Energy, Oil and Gas',\n",
       "       'Computer, FinTech, Risk Management, Software',\n",
       "       'Apps, Financial Services, FinTech', 'Agriculture, Mobile',\n",
       "       'Information Services, Information Technology, Mobile, Software',\n",
       "       'Apps, Fitness, Health Care, mHealth',\n",
       "       'Food and Beverage, Food Delivery', 'Apps, Payments, Retail',\n",
       "       'Health Insurance, Insurance, Life Insurance',\n",
       "       'Rental, Taxi Service, Travel',\n",
       "       'E-Commerce, E-Commerce Platforms, Internet, Retail',\n",
       "       'Health Diagnostics',\n",
       "       'Customer Service, Messaging, Mobile Apps, Personalization',\n",
       "       'Gaming, iOS, Sports',\n",
       "       'E-Commerce, E-Commerce Platforms, Internet, Mobile Apps, Social Media',\n",
       "       'Search Engine',\n",
       "       'Battery, Electric Vehicle, Energy, Renewable Energy, Transportation',\n",
       "       'Artificial Intelligence, Drones, Navigation, Packaging Services, Robotics',\n",
       "       'Mobile, Software, Travel',\n",
       "       'Consulting, Cyber Security, Network Security',\n",
       "       'eSports, Gaming, Video Games', 'Fashion, Jewelry',\n",
       "       'B2B, Medical Device', 'Consumer Goods, Manufacturing',\n",
       "       'Health Care, Hospital, Medical, Robotics',\n",
       "       'E-Commerce, Fitness, Health Care',\n",
       "       'Financial Services, Venture Capital', 'Aerospace',\n",
       "       'Accounting, Apps, FinTech', 'Apps, Mobile, Transportation',\n",
       "       'Reading Apps', 'Energy, Renewable Energy, Solar',\n",
       "       'Banking, Financial Services, FinTech',\n",
       "       'Automotive, Battery, Electric Vehicle, Manufacturing, Mechanical Design',\n",
       "       'Automotive, E-Commerce, Marketplace',\n",
       "       'Apps, Information Services, Information Technology',\n",
       "       'B2B, Marketplace', 'Computer, Furniture, Software',\n",
       "       'Food Delivery, Hospitality, Reservations, Restaurants, Search Engine',\n",
       "       'Collaboration, Communities, Coworking, Real Estate',\n",
       "       'Cloud Computing, Enterprise Software, Network Hardware, Network Security, SaaS',\n",
       "       'Information Services, Internet, Logistics, Supply Chain Management, Transportation',\n",
       "       'Automotive, E-Commerce, Information Services',\n",
       "       'Delivery, Logistics, Transportation',\n",
       "       'Automotive, E-Commerce Platforms, Marketplace',\n",
       "       'Last Mile Transportation, Railroad, Transportation, Travel',\n",
       "       'Cooking, E-Commerce, Food and Beverage, Food Delivery, Online Portals',\n",
       "       'FinTech, Mobile, Mobile Payments, Payments, Retail Technology',\n",
       "       'Online Games, Software',\n",
       "       'Online Portals, Property Management, Rental',\n",
       "       'E-Commerce, Food and Beverage, Tea',\n",
       "       'Health Care, Pharmaceutical, Wellness',\n",
       "       'Delivery Service, Food and Beverage, Food Delivery',\n",
       "       'Hospitality, Information Technology, Travel Accommodations',\n",
       "       'Autonomous Vehicles, Last Mile Transportation, Recreational Vehicles, Rental',\n",
       "       'Finance, Financial Exchanges, Financial Services, Micro Lending',\n",
       "       'Analytics, Apps, Market Research',\n",
       "       'E-Commerce, E-Commerce Platforms, Furniture, Home Decor, Internet',\n",
       "       'Industrial, Industrial Automation',\n",
       "       'Internet, Mobile Apps, Social Network',\n",
       "       'Health Care, Health Diagnostics, Internet of Things, Life Science, Machine Learning, Medical, Medical Device',\n",
       "       'E-Commerce, Furniture, Interior Design', 'Apps, Events, News',\n",
       "       'Artificial Intelligence, Human Resources, Information Services, Information Technology',\n",
       "       'Logistics, Railroad, Transportation',\n",
       "       'Dating, Private Social Networking',\n",
       "       'Artificial Intelligence, Machine Learning, PaaS',\n",
       "       'Apps, E-Commerce, Internet, Mobile, Ride Sharing, Transportation',\n",
       "       'Health Care, Health Insurance', 'Energy, Natural Resources',\n",
       "       'Apps, Health Care, Pharmaceutical',\n",
       "       'Internet, Knowledge Management',\n",
       "       'Credit, Finance, FinTech, Lending, Sales Automation',\n",
       "       'Banking, Financial Services, Internet',\n",
       "       'E-Commerce, Health Care, Retail',\n",
       "       'Financial Services, Micro Lending',\n",
       "       'E-Commerce, Retail, Shopping',\n",
       "       'Food and Beverage, Snack Food, Tea', 'Fashion, Lifestyle, Rental',\n",
       "       'Fantasy Sports, Mobile, Sports', 'Beauty, Fashion, Wellness',\n",
       "       'Food and Beverage, Restaurants, Tea',\n",
       "       'Food and Beverage, Food Processing, Manufacturing',\n",
       "       'E-Learning, Internet',\n",
       "       'Information Technology, Mobile, News, Operating Systems, Social Media, Social News',\n",
       "       'FinTech, Internet, Payments, Service Industry',\n",
       "       'B2B, Business Development, Internet, Marketplace',\n",
       "       'Food and Beverage, Food Delivery, Internet',\n",
       "       'Biotechnology, Health Care, Pharmaceutical', 'AI & Tech',\n",
       "       'Insurance technology', 'Robotics & AI', 'E-marketplace',\n",
       "       'Food & Nutrition', nan, 'E-Sports', 'Food & tech', 'Legal tech',\n",
       "       'Mutual Funds', 'Cybersecurity', 'Yoga & wellness',\n",
       "       'Virtual Banking', 'Marketing & Customer loyalty', 'Infratech',\n",
       "       'Automobile & Technology'], dtype=object)"
      ]
     },
     "execution_count": 437,
     "metadata": {},
     "output_type": "execute_result"
    }
   ],
   "source": [
    "# Check for the unique values\n",
    "df['Sector'].unique()"
   ]
  },
  {
   "cell_type": "code",
   "execution_count": 438,
   "metadata": {},
   "outputs": [],
   "source": [
    "# Split the joined strings in the column and get the first data value\n",
    "df['Sector'] = df['Sector'].str.split(',').str.get(0)"
   ]
  },
  {
   "cell_type": "code",
   "execution_count": 439,
   "metadata": {},
   "outputs": [
    {
     "data": {
      "text/plain": [
       "5"
      ]
     },
     "execution_count": 439,
     "metadata": {},
     "output_type": "execute_result"
    }
   ],
   "source": [
    "# Check for the nan values\n",
    "df['Sector'].isna().sum()"
   ]
  },
  {
   "cell_type": "code",
   "execution_count": 440,
   "metadata": {},
   "outputs": [],
   "source": [
    "# Drop the nan values\n",
    "df['Sector'].dropna(inplace=True)"
   ]
  },
  {
   "cell_type": "code",
   "execution_count": 441,
   "metadata": {},
   "outputs": [
    {
     "data": {
      "text/html": [
       "<div>\n",
       "<style scoped>\n",
       "    .dataframe tbody tr th:only-of-type {\n",
       "        vertical-align: middle;\n",
       "    }\n",
       "\n",
       "    .dataframe tbody tr th {\n",
       "        vertical-align: top;\n",
       "    }\n",
       "\n",
       "    .dataframe thead th {\n",
       "        text-align: right;\n",
       "    }\n",
       "</style>\n",
       "<table border=\"1\" class=\"dataframe\">\n",
       "  <thead>\n",
       "    <tr style=\"text-align: right;\">\n",
       "      <th></th>\n",
       "      <th>Company_Brand</th>\n",
       "      <th>HeadQuarter</th>\n",
       "      <th>Sector</th>\n",
       "      <th>What_it_does</th>\n",
       "      <th>Amount</th>\n",
       "      <th>Stage</th>\n",
       "      <th>Stage_category</th>\n",
       "      <th>Funding_year</th>\n",
       "      <th>Sector_category</th>\n",
       "    </tr>\n",
       "  </thead>\n",
       "  <tbody>\n",
       "    <tr>\n",
       "      <th>0</th>\n",
       "      <td>Aqgromalin</td>\n",
       "      <td>Chennai</td>\n",
       "      <td>AgriTech</td>\n",
       "      <td>Cultivating Ideas for Profit</td>\n",
       "      <td>200000.0</td>\n",
       "      <td>Undisclosed</td>\n",
       "      <td>Others</td>\n",
       "      <td>2020</td>\n",
       "      <td>Information Technology</td>\n",
       "    </tr>\n",
       "    <tr>\n",
       "      <th>1</th>\n",
       "      <td>Krayonnz</td>\n",
       "      <td>Bangalore</td>\n",
       "      <td>EdTech</td>\n",
       "      <td>An academy-guardian-scholar centric ecosystem ...</td>\n",
       "      <td>100000.0</td>\n",
       "      <td>Pre-seed</td>\n",
       "      <td>Pre-seed</td>\n",
       "      <td>2020</td>\n",
       "      <td>Information Technology</td>\n",
       "    </tr>\n",
       "    <tr>\n",
       "      <th>2</th>\n",
       "      <td>NCOME</td>\n",
       "      <td>New Delhi</td>\n",
       "      <td>Escrow</td>\n",
       "      <td>Escrow-as-a-service platform</td>\n",
       "      <td>400000.0</td>\n",
       "      <td>Undisclosed</td>\n",
       "      <td>Others</td>\n",
       "      <td>2020</td>\n",
       "      <td>Financials</td>\n",
       "    </tr>\n",
       "    <tr>\n",
       "      <th>3</th>\n",
       "      <td>Gramophone</td>\n",
       "      <td>Indore</td>\n",
       "      <td>AgriTech</td>\n",
       "      <td>Gramophone is an AgTech platform enabling acce...</td>\n",
       "      <td>340000.0</td>\n",
       "      <td>Seed</td>\n",
       "      <td>Seed</td>\n",
       "      <td>2020</td>\n",
       "      <td>Information Technology</td>\n",
       "    </tr>\n",
       "    <tr>\n",
       "      <th>4</th>\n",
       "      <td>qZense</td>\n",
       "      <td>Bangalore</td>\n",
       "      <td>AgriTech</td>\n",
       "      <td>qZense Labs is building the next-generation Io...</td>\n",
       "      <td>600000.0</td>\n",
       "      <td>Pre-series A</td>\n",
       "      <td>Pre-seed</td>\n",
       "      <td>2020</td>\n",
       "      <td>Information Technology</td>\n",
       "    </tr>\n",
       "    <tr>\n",
       "      <th>5</th>\n",
       "      <td>MyClassboard</td>\n",
       "      <td>Hyderabad</td>\n",
       "      <td>EdTech</td>\n",
       "      <td>MyClassboard is a full-fledged School / Colleg...</td>\n",
       "      <td>600000.0</td>\n",
       "      <td>Series C</td>\n",
       "      <td>Series B,C,D&amp;E</td>\n",
       "      <td>2020</td>\n",
       "      <td>Information Technology</td>\n",
       "    </tr>\n",
       "    <tr>\n",
       "      <th>6</th>\n",
       "      <td>Rupeek</td>\n",
       "      <td>Bangalore</td>\n",
       "      <td>FinTech</td>\n",
       "      <td>Rupeek is an online lending platform that spec...</td>\n",
       "      <td>45000000.0</td>\n",
       "      <td>Series A</td>\n",
       "      <td>Series A</td>\n",
       "      <td>2020</td>\n",
       "      <td>Financials</td>\n",
       "    </tr>\n",
       "    <tr>\n",
       "      <th>7</th>\n",
       "      <td>Gig India</td>\n",
       "      <td>Pune</td>\n",
       "      <td>Crowdsourcing</td>\n",
       "      <td>GigIndia is a marketplace that provides on-dem...</td>\n",
       "      <td>1000000.0</td>\n",
       "      <td>Undisclosed</td>\n",
       "      <td>Others</td>\n",
       "      <td>2020</td>\n",
       "      <td>unknown</td>\n",
       "    </tr>\n",
       "    <tr>\n",
       "      <th>8</th>\n",
       "      <td>Slurrp Farm</td>\n",
       "      <td>Gurgaon</td>\n",
       "      <td>Food &amp; Bevarages</td>\n",
       "      <td>Slurrp Farm is a children health food brand.</td>\n",
       "      <td>2000000.0</td>\n",
       "      <td>Undisclosed</td>\n",
       "      <td>Others</td>\n",
       "      <td>2020</td>\n",
       "      <td>Consumer Discretionary</td>\n",
       "    </tr>\n",
       "    <tr>\n",
       "      <th>9</th>\n",
       "      <td>Brila 91</td>\n",
       "      <td>New Delhi</td>\n",
       "      <td>Food &amp; Bevarages</td>\n",
       "      <td>Bira 91 is a craft beer company.</td>\n",
       "      <td>1200000.0</td>\n",
       "      <td>Undisclosed</td>\n",
       "      <td>Others</td>\n",
       "      <td>2020</td>\n",
       "      <td>Consumer Discretionary</td>\n",
       "    </tr>\n",
       "    <tr>\n",
       "      <th>10</th>\n",
       "      <td>Zomato</td>\n",
       "      <td>Gurgaon</td>\n",
       "      <td>Food Delivery</td>\n",
       "      <td>Zomato is a food delivery and restaurant disco...</td>\n",
       "      <td>660000000.0</td>\n",
       "      <td>Undisclosed</td>\n",
       "      <td>Others</td>\n",
       "      <td>2020</td>\n",
       "      <td>Consumer Discretionary</td>\n",
       "    </tr>\n",
       "    <tr>\n",
       "      <th>11</th>\n",
       "      <td>OurEye.ai</td>\n",
       "      <td>Bangalore</td>\n",
       "      <td>Virtual auditing startup</td>\n",
       "      <td>Video intelligence solution for Enterprise Sta...</td>\n",
       "      <td>120000.0</td>\n",
       "      <td>Undisclosed</td>\n",
       "      <td>Others</td>\n",
       "      <td>2020</td>\n",
       "      <td>Consumer Discretionary</td>\n",
       "    </tr>\n",
       "    <tr>\n",
       "      <th>12</th>\n",
       "      <td>Shiprocket</td>\n",
       "      <td>New Delhi</td>\n",
       "      <td>E-commerce</td>\n",
       "      <td>Shiprocket helps online retailers simplify the...</td>\n",
       "      <td>7500000.0</td>\n",
       "      <td>Undisclosed</td>\n",
       "      <td>Others</td>\n",
       "      <td>2020</td>\n",
       "      <td>Consumer Discretionary</td>\n",
       "    </tr>\n",
       "    <tr>\n",
       "      <th>13</th>\n",
       "      <td>Moneyboxx Finance</td>\n",
       "      <td>New Delhi</td>\n",
       "      <td>FinTech</td>\n",
       "      <td>MONEYBOXX FINANCE LTD is committed to providin...</td>\n",
       "      <td>1000000.0</td>\n",
       "      <td>Undisclosed</td>\n",
       "      <td>Others</td>\n",
       "      <td>2020</td>\n",
       "      <td>Financials</td>\n",
       "    </tr>\n",
       "    <tr>\n",
       "      <th>14</th>\n",
       "      <td>SucSEED Indovation</td>\n",
       "      <td>Hyderabad</td>\n",
       "      <td>FinTech</td>\n",
       "      <td>SucSEED INDOVATION FACILITATES ACCESS TO CAPIT...</td>\n",
       "      <td>5000000.0</td>\n",
       "      <td>Series B</td>\n",
       "      <td>Series B,C,D&amp;E</td>\n",
       "      <td>2020</td>\n",
       "      <td>Financials</td>\n",
       "    </tr>\n",
       "    <tr>\n",
       "      <th>15</th>\n",
       "      <td>TaxBuddy.com</td>\n",
       "      <td>Mumbai</td>\n",
       "      <td>FinTech</td>\n",
       "      <td>TaxBuddy for any tax related issues.</td>\n",
       "      <td>1000000.0</td>\n",
       "      <td>Undisclosed</td>\n",
       "      <td>Others</td>\n",
       "      <td>2020</td>\n",
       "      <td>Financials</td>\n",
       "    </tr>\n",
       "    <tr>\n",
       "      <th>16</th>\n",
       "      <td>Awign Enterprises</td>\n",
       "      <td>Bangalore</td>\n",
       "      <td>Work fulfillment</td>\n",
       "      <td>Operations and manpower outsourcing startup</td>\n",
       "      <td>500000.0</td>\n",
       "      <td>Pre-series A</td>\n",
       "      <td>Pre-seed</td>\n",
       "      <td>2020</td>\n",
       "      <td>Consumer Discretionary</td>\n",
       "    </tr>\n",
       "    <tr>\n",
       "      <th>17</th>\n",
       "      <td>Circle of Angels</td>\n",
       "      <td>Gurgaon</td>\n",
       "      <td>FinTech</td>\n",
       "      <td>Circles of Angels aims to solve this issue thr...</td>\n",
       "      <td>3000000.0</td>\n",
       "      <td>Seed</td>\n",
       "      <td>Seed</td>\n",
       "      <td>2020</td>\n",
       "      <td>Financials</td>\n",
       "    </tr>\n",
       "    <tr>\n",
       "      <th>18</th>\n",
       "      <td>CoinDCX</td>\n",
       "      <td>Mumbai</td>\n",
       "      <td>FinTech</td>\n",
       "      <td>CoinDCX is a company that specializes in crypt...</td>\n",
       "      <td>10000000.0</td>\n",
       "      <td>Seed</td>\n",
       "      <td>Seed</td>\n",
       "      <td>2020</td>\n",
       "      <td>Financials</td>\n",
       "    </tr>\n",
       "    <tr>\n",
       "      <th>19</th>\n",
       "      <td>Glance</td>\n",
       "      <td>Bangalore</td>\n",
       "      <td>AI startup</td>\n",
       "      <td>Glance is a screen zero platform that consumer...</td>\n",
       "      <td>145000000.0</td>\n",
       "      <td>Seed</td>\n",
       "      <td>Seed</td>\n",
       "      <td>2020</td>\n",
       "      <td>Information Technology</td>\n",
       "    </tr>\n",
       "  </tbody>\n",
       "</table>\n",
       "</div>"
      ],
      "text/plain": [
       "         Company_Brand HeadQuarter                    Sector  \\\n",
       "0           Aqgromalin     Chennai                  AgriTech   \n",
       "1             Krayonnz   Bangalore                    EdTech   \n",
       "2                NCOME   New Delhi                    Escrow   \n",
       "3           Gramophone      Indore                  AgriTech   \n",
       "4               qZense   Bangalore                  AgriTech   \n",
       "5         MyClassboard   Hyderabad                    EdTech   \n",
       "6               Rupeek   Bangalore                   FinTech   \n",
       "7            Gig India        Pune             Crowdsourcing   \n",
       "8          Slurrp Farm     Gurgaon          Food & Bevarages   \n",
       "9             Brila 91   New Delhi          Food & Bevarages   \n",
       "10              Zomato     Gurgaon             Food Delivery   \n",
       "11           OurEye.ai   Bangalore  Virtual auditing startup   \n",
       "12          Shiprocket   New Delhi                E-commerce   \n",
       "13   Moneyboxx Finance   New Delhi                   FinTech   \n",
       "14  SucSEED Indovation   Hyderabad                   FinTech   \n",
       "15        TaxBuddy.com      Mumbai                   FinTech   \n",
       "16   Awign Enterprises   Bangalore          Work fulfillment   \n",
       "17    Circle of Angels     Gurgaon                   FinTech   \n",
       "18             CoinDCX      Mumbai                   FinTech   \n",
       "19              Glance   Bangalore                AI startup   \n",
       "\n",
       "                                         What_it_does       Amount  \\\n",
       "0                        Cultivating Ideas for Profit     200000.0   \n",
       "1   An academy-guardian-scholar centric ecosystem ...     100000.0   \n",
       "2                        Escrow-as-a-service platform     400000.0   \n",
       "3   Gramophone is an AgTech platform enabling acce...     340000.0   \n",
       "4   qZense Labs is building the next-generation Io...     600000.0   \n",
       "5   MyClassboard is a full-fledged School / Colleg...     600000.0   \n",
       "6   Rupeek is an online lending platform that spec...   45000000.0   \n",
       "7   GigIndia is a marketplace that provides on-dem...    1000000.0   \n",
       "8        Slurrp Farm is a children health food brand.    2000000.0   \n",
       "9                    Bira 91 is a craft beer company.    1200000.0   \n",
       "10  Zomato is a food delivery and restaurant disco...  660000000.0   \n",
       "11  Video intelligence solution for Enterprise Sta...     120000.0   \n",
       "12  Shiprocket helps online retailers simplify the...    7500000.0   \n",
       "13  MONEYBOXX FINANCE LTD is committed to providin...    1000000.0   \n",
       "14  SucSEED INDOVATION FACILITATES ACCESS TO CAPIT...    5000000.0   \n",
       "15               TaxBuddy for any tax related issues.    1000000.0   \n",
       "16        Operations and manpower outsourcing startup     500000.0   \n",
       "17  Circles of Angels aims to solve this issue thr...    3000000.0   \n",
       "18  CoinDCX is a company that specializes in crypt...   10000000.0   \n",
       "19  Glance is a screen zero platform that consumer...  145000000.0   \n",
       "\n",
       "           Stage  Stage_category Funding_year         Sector_category  \n",
       "0    Undisclosed          Others         2020  Information Technology  \n",
       "1       Pre-seed        Pre-seed         2020  Information Technology  \n",
       "2    Undisclosed          Others         2020              Financials  \n",
       "3           Seed            Seed         2020  Information Technology  \n",
       "4   Pre-series A        Pre-seed         2020  Information Technology  \n",
       "5       Series C  Series B,C,D&E         2020  Information Technology  \n",
       "6       Series A        Series A         2020              Financials  \n",
       "7    Undisclosed          Others         2020                 unknown  \n",
       "8    Undisclosed          Others         2020  Consumer Discretionary  \n",
       "9    Undisclosed          Others         2020  Consumer Discretionary  \n",
       "10   Undisclosed          Others         2020  Consumer Discretionary  \n",
       "11   Undisclosed          Others         2020  Consumer Discretionary  \n",
       "12   Undisclosed          Others         2020  Consumer Discretionary  \n",
       "13   Undisclosed          Others         2020              Financials  \n",
       "14      Series B  Series B,C,D&E         2020              Financials  \n",
       "15   Undisclosed          Others         2020              Financials  \n",
       "16  Pre-series A        Pre-seed         2020  Consumer Discretionary  \n",
       "17          Seed            Seed         2020              Financials  \n",
       "18          Seed            Seed         2020              Financials  \n",
       "19          Seed            Seed         2020  Information Technology  "
      ]
     },
     "execution_count": 441,
     "metadata": {},
     "output_type": "execute_result"
    }
   ],
   "source": [
    "# Create a sector category column\n",
    "def sector_group(dataframe,column_name='column'):\n",
    "    sector = []\n",
    "    for row in dataframe[column_name]:\n",
    "        if isinstance(row, str):\n",
    "            if re.search(r'Electricity|Solar Monitoring Company|Embedded Systems|Energy|Electricity|'\n",
    "                         r'Renewable Energy|Oil and Energy|Pollution control equipment', row):\n",
    "                sector.append('Energy')\n",
    "            elif re.search(r'Textiles|3D Printing|Tyre management', row):\n",
    "                sector.append('Material')\n",
    "            elif re.search(r'Environmental Consulting|Safety tech|Infratech|'\n",
    "                           r'Aviation & Aerospace|Staffing & Recruiting|Aviation|Professional Training & Coaching|Maritime|'\n",
    "                             r'Sales and Distribution|Mechanical Or Industrial Engineering|'\n",
    "                             r'Logistics & Supply Chain|Mechanical & Industrial Engineering|Industrial Automation|Manufacturing startup|'\n",
    "                             r'Vehicle repair startup|Logistics|Renewable player|Transportation|'\n",
    "                             r'Recruitment startup|Warehouse|Manufacturing', row):\n",
    "                            \n",
    "                sector.append('Industrial')\n",
    "            elif re.search(r'Dating|Crowdfunding| Catering| E-Marketplace| B2B Supply Chain| E-Commerce & AR|'\n",
    "                            r'E-Sports|E-Tail|E-Commerce Platforms|E-Commerce|B2B E-Commerce|Merchandise|Marketing & Advertising|Eyewear|'\n",
    "                            r'D2C Business|Cultural|Beauty products|Clothing|Sports startup|Tourism|Matrimony|'\n",
    "                            r'Arts & Crafts|Design|'\n",
    "                            r'Consumer|Wellness|Children|Consumer Applications|Digital Entertainment|'\n",
    "                            r'Fantasy sports|Video communication|Skill development|Food delivery|Consumer Goods|Apparel & Fashion|'\n",
    "                            r'SportsTech|Wine & Spirits|Lifestyle|Music|Mobility|OTT|Online Media|Mobile Games|Food Production|'\n",
    "                            r'Podcast|Battery|Content publishing|Content commerce|Celebrity Engagement|Personal Care|Cannabis startup|'\n",
    "                            r'Blogging|Consulting|B2B Marketplace|Social audio|Fashion and lifestyle|Delivery service|Fashion & Lifestyle|'\n",
    "                            r'D2C|Craft Beer|Education|Social Commerce|Social e-commerce|Fashion Tech|Ecommerce|Automobile|'\n",
    "                            r'Fashion & Wellness|Cloud Kitchen|IoT/Automobile|Eye Wear|Co-living|Food & Beverages|Marketplace|Coworking|'\n",
    "                            r'Beauty|Yoga & wellness|Life sciences|Mobility/Transport|Travel|Rental|'\n",
    "                            r'Nutrition|Co-working|Cryptocurrency|Legal|Fitness|EV|Supply chain|Foodtech & Logistics|'\n",
    "                            r'Housing|Interior & decor|eMobility|Media & Networking|E-market|'\n",
    "                            r'Housing & Rentals|Estore|Marketing|E tailor|Ad-tech|Neo-banking|Transport & Rentals|B2B marketplace|Preschool Daycare|E-connect|'\n",
    "                            r'Tech hub|Deisgning|Taxation|B2B E-commerce|Home services|B2B service|'\n",
    "                            r'Fashion startup|Food Delivery|Virtual auditing startup|E-commerce|Gaming|Work fulfillment|Sports|Retail|Fashion startup|'\n",
    "                            r'Consumer appliances|Real Estate|Entertainment|Cosmetics|Skincare startup|Food and Beverages|FoodTech|Fitness startup|Luxury car startup|'\n",
    "                            r'FM|Food|Nutrition sector|Video platform|Social Media|Fashion|Food devlivery|Eyeglasses|Beverage|TravelTech|Agriculture|'\n",
    "                            r'Personal care startup|Customer service company|Marketing startup|Service industry|Social media|Jewellery|Automotive company|FMCG', row):\n",
    "                sector.append('Consumer Discretionary')\n",
    "            elif re.search(r'Food and Beverages|Food & Nutrition|Food & Tech|Food Processing|Milk startup|Wholesale', row): \n",
    "                sector.append('Consumer Staple')\n",
    "            elif re.search(r'Medical|Medical Device| Alternative Medicine| DentalChild Care, Health Insurance|'\n",
    "                           r'Health Care|Wellness|Hospital|Dietary Supplements|Medical|'\n",
    "                           r'Biotechnology|CRM|FemTech|Veterinary|Femtech|Hospital & Health Care|'\n",
    "                           r'Biomaterial startup|Health|Healthtech|Healthcare/Edtech|Mental Health|Med Tech|Biopharma|Pharmaceutical|Health and Fitness|Helathcare|'\n",
    "                           r'Dairy startup|Healthcare|Biotechnology company|PaaS startup|HealthCare|Luxury car startup', row):\n",
    "                sector.append('Health Care')\n",
    "            elif re.search(r'Virtual auditing startup|Virtual Banking|Mutual Funds|'\n",
    "                           r'Credit|Consumer Lending|Credit Cards|Events|'\n",
    "                            r'Funding Platform|Wealth Management|Credit|Consumer Lending| Funding Platform|'\n",
    "                            r'Wealth Management|Equity Management|Investment Management|'\n",
    "                            r'Banking|Venture Capital|Venture Capital & Private Equity|Capital Markets|'\n",
    "                            r'Insurance Tech|Investment|Financial Services|'\n",
    "                            r'Escrow|Venture capitalist|Finance company|Online financial service|Online credit management startup|'\n",
    "                            r'Finance|Venture capital|FinTech', row):\n",
    "                sector.append('Financials')\n",
    "            elif re.search(r'AI startup|Computer|Android|Fraud Detection|Cybersecurity|E-Commerce Platforms|Cloud Infrastructure|'\n",
    "                           r'Mobile Payments|Apps|Artificial Intelligence|Internet of Things|'\n",
    "                            r'E-Commerce|E-Learning|Big Data|Cloud Computing|Enterprise Software|Trading Platform|'\n",
    "                            r'Digital Marketing|Consumer Applications|Mobile|Aerospace|Digital Entertainment|Business Intelligence|'\n",
    "                            r'Consumer software|Internet|IT company|Software|Innovation management|Networking|Information Services|'\n",
    "                            r'Investment Banking|Management Consulting|Product studio|'\n",
    "                            r'Online Games|Online Portals|Robotics & AI Games|, Search Engine|'\n",
    "                            r'AI company|Sports startup|Analytics|IoT platform|Commerce|Cloud kitchen|Telecommunications|'\n",
    "                            r'Electronics|IT startup|Aerospace|Robotics|Computer Games|Information Technology|Tech startup|'\n",
    "                            r'Digital platform|Computer Software|Software StartupComputer & Network Security|MLOps platform|'\n",
    "                            r'HealthTech|Innovation Management|BioTechnology|Environmental Services|'\n",
    "                            r'IT|Data Intelligence|Digital tech|AI & Data science|Machine Learning|'\n",
    "                            r'AgriTech|Networking platform|AI startup|Cloud company|Software company|IoT startup|SaaS startup|Aero company|'\n",
    "                            r'Marketing company|Tech company|Solar Monitoring Company|Video sharing platform|Gaming startup|Video streaming platform|Blockchain startup|'\n",
    "                            r'Conversational AI platform|Spacetech|AI Company|Photonics startup|AR/VR startup|Tech platform|Retail Tech|Car Service|Bike marketplace|'\n",
    "                            r'Agri tech|AR platform|Content marketplace|Interior Design|Soil-Tech|Ayurveda tech|Packaging solution startup|Cleantech|Sanitation solutions|'\n",
    "                            r'InsureTech|AI Startup|Solar solution|Deeptech startup|AI|AR startup|Automotive Startup|AI Platform|Automation|Solar SaaS|API platform|'\n",
    "                            r'Deep Tech|AgriTech|EdTech|Automotive company', row):\n",
    "                sector.append('Information Technology')\n",
    "            elif re.search(r'Telecommunication|Search Engine|Reading Apps|News|'\n",
    "                           r'Brand Marketing|Media and Entertainment|Broadcasting|Advertising|Music Streaming|'\n",
    "                           r'NFT Marketplace|Social networkOnline storytelling|Community platform|Social platform|Social community|'\n",
    "                           r'Video streaming platform|Social Network|Publication', row):\n",
    "                sector.append('Communication Services')\n",
    "            elif re.search(r'Water Purification|Clean Energy|Renewables & Environment|Environmental service|Nanotechnology', row):\n",
    "                sector.append('Utilities')\n",
    "            elif re.search(r'Real Estate|Communities|Enterprise Resource Planning (ERP)|File Sharing|'\n",
    "                           r'Commercial Real Estate|Housing Marketplace|Furniture Rental', row):\n",
    "                sector.append('Real Estate')\n",
    "            else:\n",
    "                sector.append('unknown')\n",
    "        else:\n",
    "            sector.append('unknown')\n",
    "    return sector\n",
    "\n",
    "df['Sector_category'] = sector_group(dataframe=df,column_name='Sector')\n",
    "\n",
    "df.head(20)\n",
    "\n",
    "        \n",
    "        \n",
    "        \n",
    "        \n",
    "\n",
    "\n",
    "\n",
    "\n"
   ]
  },
  {
   "cell_type": "code",
   "execution_count": 442,
   "metadata": {},
   "outputs": [
    {
     "data": {
      "text/html": [
       "<div>\n",
       "<style scoped>\n",
       "    .dataframe tbody tr th:only-of-type {\n",
       "        vertical-align: middle;\n",
       "    }\n",
       "\n",
       "    .dataframe tbody tr th {\n",
       "        vertical-align: top;\n",
       "    }\n",
       "\n",
       "    .dataframe thead th {\n",
       "        text-align: right;\n",
       "    }\n",
       "</style>\n",
       "<table border=\"1\" class=\"dataframe\">\n",
       "  <thead>\n",
       "    <tr style=\"text-align: right;\">\n",
       "      <th></th>\n",
       "      <th>Company_Brand</th>\n",
       "      <th>HeadQuarter</th>\n",
       "      <th>Sector</th>\n",
       "      <th>What_it_does</th>\n",
       "      <th>Amount</th>\n",
       "      <th>Stage</th>\n",
       "      <th>Stage_category</th>\n",
       "      <th>Funding_year</th>\n",
       "      <th>Sector_category</th>\n",
       "    </tr>\n",
       "  </thead>\n",
       "  <tbody>\n",
       "    <tr>\n",
       "      <th>0</th>\n",
       "      <td>Aqgromalin</td>\n",
       "      <td>Chennai</td>\n",
       "      <td>AgriTech</td>\n",
       "      <td>Cultivating Ideas for Profit</td>\n",
       "      <td>200000.0</td>\n",
       "      <td>Undisclosed</td>\n",
       "      <td>Others</td>\n",
       "      <td>2020</td>\n",
       "      <td>Information Technology</td>\n",
       "    </tr>\n",
       "    <tr>\n",
       "      <th>1</th>\n",
       "      <td>Krayonnz</td>\n",
       "      <td>Bangalore</td>\n",
       "      <td>EdTech</td>\n",
       "      <td>An academy-guardian-scholar centric ecosystem ...</td>\n",
       "      <td>100000.0</td>\n",
       "      <td>Pre-seed</td>\n",
       "      <td>Pre-seed</td>\n",
       "      <td>2020</td>\n",
       "      <td>Information Technology</td>\n",
       "    </tr>\n",
       "    <tr>\n",
       "      <th>2</th>\n",
       "      <td>NCOME</td>\n",
       "      <td>New Delhi</td>\n",
       "      <td>Escrow</td>\n",
       "      <td>Escrow-as-a-service platform</td>\n",
       "      <td>400000.0</td>\n",
       "      <td>Undisclosed</td>\n",
       "      <td>Others</td>\n",
       "      <td>2020</td>\n",
       "      <td>Financials</td>\n",
       "    </tr>\n",
       "    <tr>\n",
       "      <th>3</th>\n",
       "      <td>Gramophone</td>\n",
       "      <td>Indore</td>\n",
       "      <td>AgriTech</td>\n",
       "      <td>Gramophone is an AgTech platform enabling acce...</td>\n",
       "      <td>340000.0</td>\n",
       "      <td>Seed</td>\n",
       "      <td>Seed</td>\n",
       "      <td>2020</td>\n",
       "      <td>Information Technology</td>\n",
       "    </tr>\n",
       "    <tr>\n",
       "      <th>4</th>\n",
       "      <td>qZense</td>\n",
       "      <td>Bangalore</td>\n",
       "      <td>AgriTech</td>\n",
       "      <td>qZense Labs is building the next-generation Io...</td>\n",
       "      <td>600000.0</td>\n",
       "      <td>Pre-series A</td>\n",
       "      <td>Pre-seed</td>\n",
       "      <td>2020</td>\n",
       "      <td>Information Technology</td>\n",
       "    </tr>\n",
       "  </tbody>\n",
       "</table>\n",
       "</div>"
      ],
      "text/plain": [
       "  Company_Brand HeadQuarter    Sector  \\\n",
       "0    Aqgromalin     Chennai  AgriTech   \n",
       "1      Krayonnz   Bangalore    EdTech   \n",
       "2         NCOME   New Delhi    Escrow   \n",
       "3    Gramophone      Indore  AgriTech   \n",
       "4        qZense   Bangalore  AgriTech   \n",
       "\n",
       "                                        What_it_does    Amount         Stage  \\\n",
       "0                       Cultivating Ideas for Profit  200000.0   Undisclosed   \n",
       "1  An academy-guardian-scholar centric ecosystem ...  100000.0      Pre-seed   \n",
       "2                       Escrow-as-a-service platform  400000.0   Undisclosed   \n",
       "3  Gramophone is an AgTech platform enabling acce...  340000.0          Seed   \n",
       "4  qZense Labs is building the next-generation Io...  600000.0  Pre-series A   \n",
       "\n",
       "  Stage_category Funding_year         Sector_category  \n",
       "0         Others         2020  Information Technology  \n",
       "1       Pre-seed         2020  Information Technology  \n",
       "2         Others         2020              Financials  \n",
       "3           Seed         2020  Information Technology  \n",
       "4       Pre-seed         2020  Information Technology  "
      ]
     },
     "execution_count": 442,
     "metadata": {},
     "output_type": "execute_result"
    }
   ],
   "source": [
    "df.head()"
   ]
  },
  {
   "cell_type": "code",
   "execution_count": null,
   "metadata": {},
   "outputs": [],
   "source": []
  },
  {
   "cell_type": "markdown",
   "metadata": {},
   "source": [
    "Convert the concatenated data set to csv file"
   ]
  },
  {
   "cell_type": "code",
   "execution_count": 443,
   "metadata": {},
   "outputs": [],
   "source": [
    "df.to_csv('concatenated data.csv',index=False)"
   ]
  },
  {
   "cell_type": "markdown",
   "metadata": {},
   "source": [
    "EXPLORATORY DATA ANALYSIS"
   ]
  },
  {
   "cell_type": "markdown",
   "metadata": {},
   "source": [
    "HYPOTHESIS\n",
    "Null hypothesis: There is no significant relationship between funding amount and headquarter/location.\n",
    "\n",
    "Alternate hypothesis: There is a significant relationship between funding amount and headquarter/location.\n",
    " "
   ]
  },
  {
   "cell_type": "markdown",
   "metadata": {},
   "source": [
    "Test the Hypotesis using Pearson correlation test"
   ]
  },
  {
   "cell_type": "code",
   "execution_count": 444,
   "metadata": {},
   "outputs": [
    {
     "name": "stdout",
     "output_type": "stream",
     "text": [
      "Pearson correlation coefficient: 0.03891413835127183\n",
      "p_value: 0.07050964078974715\n",
      "Fail to reject the null hypothesis: There is no significant relationship between funding amount and headquarter/location.\n"
     ]
    }
   ],
   "source": [
    "# Extract the columns of the variables\n",
    "amount = df['Amount']\n",
    "headquarter = df['HeadQuarter']\n",
    "# Convert the categorical headquarter variables to numeric using labelencoding\n",
    "encoder = LabelEncoder()\n",
    "headquarter_encoded = encoder.fit_transform(headquarter)\n",
    "#perform pearson correlation test\n",
    "correlation_coefficient,p_value = pearsonr(amount,headquarter_encoded)\n",
    "print(f\"Pearson correlation coefficient: {correlation_coefficient}\")\n",
    "print(f\"p_value: {p_value}\")\n",
    "\n",
    "# Interprete the result\n",
    "alpha = 0.05\n",
    "if p_value < alpha:\n",
    "    print(\"Reject the null hypothesis: There is a significant relationship between funding amount and headquarter/location.\")\n",
    "else:\n",
    "    print(\"Fail to reject the null hypothesis: There is no significant relationship between funding amount and headquarter/location.\")\n"
   ]
  },
  {
   "cell_type": "markdown",
   "metadata": {},
   "source": [
    "To answer the reserch questions"
   ]
  },
  {
   "cell_type": "markdown",
   "metadata": {},
   "source": [
    "1. How many Company Brands received funding between 2018 and 2021?"
   ]
  },
  {
   "cell_type": "code",
   "execution_count": 445,
   "metadata": {},
   "outputs": [
    {
     "data": {
      "text/plain": [
       "1674"
      ]
     },
     "execution_count": 445,
     "metadata": {},
     "output_type": "execute_result"
    }
   ],
   "source": [
    "total_firms_established = len(df['Company_Brand'].unique())\n",
    "total_firms_established"
   ]
  },
  {
   "cell_type": "markdown",
   "metadata": {},
   "source": [
    "2088 Companies received funding between 2018 and 2021 in Indian Start-up ecosystem.  "
   ]
  },
  {
   "cell_type": "markdown",
   "metadata": {},
   "source": [
    "2. What is the total amount raised by startups from 2018 to 2021?"
   ]
  },
  {
   "cell_type": "code",
   "execution_count": 446,
   "metadata": {},
   "outputs": [
    {
     "data": {
      "text/plain": [
       "Company_Brand\n",
       "1Bridge               2500000.0\n",
       "1Crowd              350000000.0\n",
       "1K Kirana Bazaar      7000000.0\n",
       "1MG                   9900000.0\n",
       "21K School            5000000.0\n",
       "                       ...     \n",
       "myUpchar            500000000.0\n",
       "peAR                   300000.0\n",
       "qZense                 600000.0\n",
       "truMe                  140000.0\n",
       "upGrad              145000000.0\n",
       "Name: Amount, Length: 1674, dtype: float64"
      ]
     },
     "execution_count": 446,
     "metadata": {},
     "output_type": "execute_result"
    }
   ],
   "source": [
    "total_amount_raised = df.groupby('Company_Brand')['Amount'].sum()\n",
    "total_amount_raised "
   ]
  },
  {
   "cell_type": "code",
   "execution_count": 447,
   "metadata": {},
   "outputs": [
    {
     "data": {
      "image/png": "[encoded data removed]",
      "text/plain": [
       "<Figure size 1200x800 with 1 Axes>"
      ]
     },
     "metadata": {},
     "output_type": "display_data"
    }
   ],
   "source": [
    "total_amount_raised = df.groupby('Company_Brand')['Amount'].sum()\n",
    "total_amount_raised = total_amount_raised.reset_index()\n",
    "\n",
    "# Sort the data by total funding in descending order\n",
    "total_amount_raised = total_amount_raised.sort_values(by='Amount', ascending=False)\n",
    "\n",
    "# Select the top 10 companies to display\n",
    "top_n = 10  \n",
    "total_amount_raised_top_n = total_amount_raised.head(top_n)\n",
    "\n",
    "plt.figure(figsize=(12, 8))\n",
    "barplot = sns.barplot(x='Amount', y='Company_Brand', data=total_amount_raised_top_n, color='skyblue')\n",
    "\n",
    "# Annotate each bar with its corresponding amount value\n",
    "for index, value in enumerate(total_amount_raised_top_n['Amount']):\n",
    "    barplot.text(value, index, f'${value:,.2f}', va='center', fontsize=10, color='black')\n",
    "plt.xlabel('Total Amount Raised')\n",
    "plt.ylabel('Company Brand')\n",
    "plt.title(f'Top {top_n} Companies by Total Amount Raised')\n",
    "plt.tight_layout()\n",
    "plt.show()"
   ]
  },
  {
   "cell_type": "markdown",
   "metadata": {},
   "source": [
    "3. How many start-ups are there in the various Headquarter2?"
   ]
  },
  {
   "cell_type": "code",
   "execution_count": 448,
   "metadata": {},
   "outputs": [
    {
     "data": {
      "text/plain": [
       "<function matplotlib.pyplot.show(close=None, block=None)>"
      ]
     },
     "execution_count": 448,
     "metadata": {},
     "output_type": "execute_result"
    },
    {
     "data": {
      "image/png": "[encoded data removed]",
      "text/plain": [
       "<Figure size 1200x800 with 1 Axes>"
      ]
     },
     "metadata": {},
     "output_type": "display_data"
    }
   ],
   "source": [
    "start_up_counts = df.groupby('HeadQuarter')['Company_Brand'].nunique().reset_index()\n",
    "\n",
    "# sort the start_up_counts\n",
    "start_up_counts = start_up_counts.sort_values(by='Company_Brand', ascending=False)\n",
    "\n",
    "headquarter_to_show = start_up_counts['HeadQuarter'].iloc[::2]\n",
    "\n",
    "# Visualize using a bar chart\n",
    "plt.figure(figsize=(12,8))\n",
    "plt.bar(start_up_counts['HeadQuarter'], start_up_counts['Company_Brand'],color='skyblue', width=0.8)\n",
    "plt.xlabel('HeadQuarter')\n",
    "plt.ylabel('Company_Brand')\n",
    "plt.title('Number of Start-ups in various Headquarters')\n",
    "plt.xticks(headquarter_to_show,rotation=45, ha='right')\n",
    "plt.tight_layout()\n",
    "plt.gcf().subplots_adjust(bottom=0.2)\n",
    "plt.show\n",
    "\n"
   ]
  },
  {
   "cell_type": "markdown",
   "metadata": {},
   "source": [
    "4.  In which year did Startups raise the highest funds?\n"
   ]
  },
  {
   "cell_type": "code",
   "execution_count": 449,
   "metadata": {},
   "outputs": [
    {
     "name": "stdout",
     "output_type": "stream",
     "text": [
      "Funding_year\n",
      "2018    3.383843e+11\n",
      "2019    3.336433e+09\n",
      "2020    8.453271e+10\n",
      "2021    1.793865e+11\n",
      "Name: Amount, dtype: float64\n"
     ]
    }
   ],
   "source": [
    "total_funding_by_year = df.groupby('Funding_year')['Amount'].sum()\n",
    "print(total_funding_by_year)\n",
    "#Find the 'Funding_year' with the maximum total funding\n",
    "year_with_max_funding = total_funding_by_year.idxmax()\n"
   ]
  },
  {
   "cell_type": "code",
   "execution_count": 450,
   "metadata": {},
   "outputs": [
    {
     "data": {
      "image/png": "[encoded data removed]",
      "text/plain": [
       "<Figure size 800x500 with 1 Axes>"
      ]
     },
     "metadata": {},
     "output_type": "display_data"
    }
   ],
   "source": [
    "# Plotting the bar chart\n",
    "plt.figure(figsize=(8, 5))\n",
    "total_funding_by_year.plot(kind='bar', color='skyblue')\n",
    "plt.title('Total Funding Received by Year')\n",
    "plt.xlabel('Funding Year')\n",
    "plt.ylabel('Total Funding ($)')\n",
    "plt.xticks(rotation=0)\n",
    "plt.yticks(total_funding_by_year)\n",
    "plt.show()"
   ]
  },
  {
   "cell_type": "markdown",
   "metadata": {},
   "source": [
    "5. Which sector group received the highest funding?"
   ]
  },
  {
   "cell_type": "code",
   "execution_count": 451,
   "metadata": {},
   "outputs": [
    {
     "name": "stdout",
     "output_type": "stream",
     "text": [
      "Sector_category\n",
      "Communication Services    2.368958e+08\n",
      "Consumer Discretionary    1.477690e+11\n",
      "Consumer Staple           3.600000e+06\n",
      "Energy                    5.800243e+10\n",
      "Financials                2.189014e+11\n",
      "Health Care               2.590392e+10\n",
      "Industrial                9.643684e+09\n",
      "Information Technology    6.555468e+10\n",
      "Material                  2.570000e+06\n",
      "Real Estate               6.439611e+07\n",
      "Utilities                 5.193074e+07\n",
      "unknown                   7.950544e+10\n",
      "Name: Amount, dtype: float64\n"
     ]
    }
   ],
   "source": [
    "sector_category_with_highest_funding = df.groupby('Sector_category')['Amount'].sum()\n",
    "print(sector_category_with_highest_funding)\n",
    "max_sector_category = sector_category_with_highest_funding.idxmax()"
   ]
  },
  {
   "cell_type": "code",
   "execution_count": 452,
   "metadata": {},
   "outputs": [
    {
     "data": {
      "image/png": "[encoded data removed]",
      "text/plain": [
       "<Figure size 1400x800 with 1 Axes>"
      ]
     },
     "metadata": {},
     "output_type": "display_data"
    }
   ],
   "source": [
    "\n",
    "\n",
    "# Plot the bar chart\n",
    "plt.figure(figsize=(14, 8))\n",
    "\n",
    "# Plot the bars\n",
    "bar_chart = plt.bar(sector_category_with_highest_funding.index, sector_category_with_highest_funding.values, color='skyblue', label='Total Funding Amount')\n",
    "\n",
    "# Highlight the sector category with the highest funding\n",
    "plt.bar(max_sector_category, sector_category_with_highest_funding[max_sector_category], color='red', label=f'Highest Funding ({max_sector_category})')\n",
    "\n",
    "plt.xlabel('Sector Category')\n",
    "plt.ylabel('Total Funding Amount($)')\n",
    "plt.title('Total Funding Amount by Sector Categories')\n",
    "plt.xticks(rotation=45, ha='right')\n",
    "\n",
    "# Add data labels on top of each bar\n",
    "for i, rect in enumerate(bar_chart):\n",
    "    height = rect.get_height()\n",
    "    plt.text(rect.get_x() + rect.get_width() / 2, height, f'{height:.2f}', ha='center', va='bottom')\n",
    "\n",
    "plt.legend()\n",
    "plt.tight_layout()\n",
    "plt.show()\n"
   ]
  },
  {
   "cell_type": "code",
   "execution_count": null,
   "metadata": {},
   "outputs": [],
   "source": []
  },
  {
   "cell_type": "code",
   "execution_count": null,
   "metadata": {},
   "outputs": [],
   "source": []
  }
 ],
 "metadata": {
  "kernelspec": {
   "display_name": "venv",
   "language": "python",
   "name": "python3"
  },
  "language_info": {
   "codemirror_mode": {
    "name": "ipython",
    "version": 3
   },
   "file_extension": ".py",
   "mimetype": "text/x-python",
   "name": "python",
   "nbconvert_exporter": "python",
   "pygments_lexer": "ipython3",
   "version": "3.11.6"
  }
 },
 "nbformat": 4,
 "nbformat_minor": 2
}
